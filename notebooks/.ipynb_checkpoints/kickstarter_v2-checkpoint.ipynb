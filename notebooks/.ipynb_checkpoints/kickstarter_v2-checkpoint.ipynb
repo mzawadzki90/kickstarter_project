{
 "cells": [
  {
   "cell_type": "code",
   "execution_count": 9,
   "metadata": {
    "pycharm": {
     "name": "#%%\n"
    }
   },
   "outputs": [
    {
     "data": {
      "text/html": [
       "<div>\n",
       "<style scoped>\n",
       "    .dataframe tbody tr th:only-of-type {\n",
       "        vertical-align: middle;\n",
       "    }\n",
       "\n",
       "    .dataframe tbody tr th {\n",
       "        vertical-align: top;\n",
       "    }\n",
       "\n",
       "    .dataframe thead th {\n",
       "        text-align: right;\n",
       "    }\n",
       "</style>\n",
       "<table border=\"1\" class=\"dataframe\">\n",
       "  <thead>\n",
       "    <tr style=\"text-align: right;\">\n",
       "      <th></th>\n",
       "      <th>ID</th>\n",
       "      <th>name</th>\n",
       "      <th>category</th>\n",
       "      <th>main_category</th>\n",
       "      <th>currency</th>\n",
       "      <th>deadline</th>\n",
       "      <th>goal</th>\n",
       "      <th>launched</th>\n",
       "      <th>pledged</th>\n",
       "      <th>state</th>\n",
       "      <th>backers</th>\n",
       "      <th>country</th>\n",
       "      <th>usd pledged</th>\n",
       "      <th>usd_pledged_real</th>\n",
       "      <th>usd_goal_real</th>\n",
       "    </tr>\n",
       "  </thead>\n",
       "  <tbody>\n",
       "    <tr>\n",
       "      <th>338862</th>\n",
       "      <td>796196901</td>\n",
       "      <td>10G Christmas Tree</td>\n",
       "      <td>Art</td>\n",
       "      <td>Art</td>\n",
       "      <td>USD</td>\n",
       "      <td>2010-12-26</td>\n",
       "      <td>10526.0</td>\n",
       "      <td>2010-12-08 08:44:04</td>\n",
       "      <td>0.0</td>\n",
       "      <td>failed</td>\n",
       "      <td>0</td>\n",
       "      <td>US</td>\n",
       "      <td>0.0</td>\n",
       "      <td>0.0</td>\n",
       "      <td>10526.0</td>\n",
       "    </tr>\n",
       "    <tr>\n",
       "      <th>277871</th>\n",
       "      <td>483825010</td>\n",
       "      <td>Gliff</td>\n",
       "      <td>Gaming Hardware</td>\n",
       "      <td>Games</td>\n",
       "      <td>USD</td>\n",
       "      <td>2016-03-28</td>\n",
       "      <td>10000.0</td>\n",
       "      <td>2016-01-28 04:56:18</td>\n",
       "      <td>51.0</td>\n",
       "      <td>failed</td>\n",
       "      <td>5</td>\n",
       "      <td>US</td>\n",
       "      <td>51.0</td>\n",
       "      <td>51.0</td>\n",
       "      <td>10000.0</td>\n",
       "    </tr>\n",
       "    <tr>\n",
       "      <th>47000</th>\n",
       "      <td>123916947</td>\n",
       "      <td>STUFFED Food Truck</td>\n",
       "      <td>Food Trucks</td>\n",
       "      <td>Food</td>\n",
       "      <td>USD</td>\n",
       "      <td>2015-01-06</td>\n",
       "      <td>60000.0</td>\n",
       "      <td>2014-11-07 02:24:36</td>\n",
       "      <td>25.0</td>\n",
       "      <td>failed</td>\n",
       "      <td>1</td>\n",
       "      <td>US</td>\n",
       "      <td>25.0</td>\n",
       "      <td>25.0</td>\n",
       "      <td>60000.0</td>\n",
       "    </tr>\n",
       "    <tr>\n",
       "      <th>111338</th>\n",
       "      <td>1565733636</td>\n",
       "      <td>NeoExodus Adventure: Origin of Man for Pathfin...</td>\n",
       "      <td>Tabletop Games</td>\n",
       "      <td>Games</td>\n",
       "      <td>USD</td>\n",
       "      <td>2012-05-01</td>\n",
       "      <td>500.0</td>\n",
       "      <td>2012-03-15 01:16:10</td>\n",
       "      <td>585.0</td>\n",
       "      <td>successful</td>\n",
       "      <td>17</td>\n",
       "      <td>US</td>\n",
       "      <td>585.0</td>\n",
       "      <td>585.0</td>\n",
       "      <td>500.0</td>\n",
       "    </tr>\n",
       "    <tr>\n",
       "      <th>53743</th>\n",
       "      <td>1273544891</td>\n",
       "      <td>NAPOLEON IN NEW YORK! an original TV Series</td>\n",
       "      <td>Comedy</td>\n",
       "      <td>Film &amp; Video</td>\n",
       "      <td>USD</td>\n",
       "      <td>2016-07-26</td>\n",
       "      <td>25000.0</td>\n",
       "      <td>2016-05-27 00:07:25</td>\n",
       "      <td>25.0</td>\n",
       "      <td>failed</td>\n",
       "      <td>1</td>\n",
       "      <td>US</td>\n",
       "      <td>25.0</td>\n",
       "      <td>25.0</td>\n",
       "      <td>25000.0</td>\n",
       "    </tr>\n",
       "  </tbody>\n",
       "</table>\n",
       "</div>"
      ],
      "text/plain": [
       "                ID                                               name  \\\n",
       "338862   796196901                                 10G Christmas Tree   \n",
       "277871   483825010                                              Gliff   \n",
       "47000    123916947                                 STUFFED Food Truck   \n",
       "111338  1565733636  NeoExodus Adventure: Origin of Man for Pathfin...   \n",
       "53743   1273544891        NAPOLEON IN NEW YORK! an original TV Series   \n",
       "\n",
       "               category main_category currency    deadline     goal  \\\n",
       "338862              Art           Art      USD  2010-12-26  10526.0   \n",
       "277871  Gaming Hardware         Games      USD  2016-03-28  10000.0   \n",
       "47000       Food Trucks          Food      USD  2015-01-06  60000.0   \n",
       "111338   Tabletop Games         Games      USD  2012-05-01    500.0   \n",
       "53743            Comedy  Film & Video      USD  2016-07-26  25000.0   \n",
       "\n",
       "                   launched  pledged       state  backers country  \\\n",
       "338862  2010-12-08 08:44:04      0.0      failed        0      US   \n",
       "277871  2016-01-28 04:56:18     51.0      failed        5      US   \n",
       "47000   2014-11-07 02:24:36     25.0      failed        1      US   \n",
       "111338  2012-03-15 01:16:10    585.0  successful       17      US   \n",
       "53743   2016-05-27 00:07:25     25.0      failed        1      US   \n",
       "\n",
       "        usd pledged  usd_pledged_real  usd_goal_real  \n",
       "338862          0.0               0.0        10526.0  \n",
       "277871         51.0              51.0        10000.0  \n",
       "47000          25.0              25.0        60000.0  \n",
       "111338        585.0             585.0          500.0  \n",
       "53743          25.0              25.0        25000.0  "
      ]
     },
     "execution_count": 9,
     "metadata": {},
     "output_type": "execute_result"
    }
   ],
   "source": [
    "# modules we'll use\n",
    "import pandas as pd\n",
    "import numpy as np\n",
    "from sklearn.preprocessing import LabelEncoder\n",
    "\n",
    "# read in all our data\n",
    "ks_projects_orig  = pd.read_csv(\"../data/ks-projects-201801.csv\")\n",
    "\n",
    "# set seed for reproducibility\n",
    "np.random.seed(0) \n",
    "\n",
    "# look at a few rows of the ks_projects file\n",
    "ks_projects_orig.sample(5)\n"
   ]
  },
  {
   "cell_type": "code",
   "execution_count": 10,
   "metadata": {
    "pycharm": {
     "name": "#%%\n"
    }
   },
   "outputs": [
    {
     "name": "stdout",
     "output_type": "stream",
     "text": [
      "<class 'pandas.core.frame.DataFrame'>\n",
      "RangeIndex: 378661 entries, 0 to 378660\n",
      "Data columns (total 15 columns):\n",
      " #   Column            Non-Null Count   Dtype  \n",
      "---  ------            --------------   -----  \n",
      " 0   ID                378661 non-null  int64  \n",
      " 1   name              378657 non-null  object \n",
      " 2   category          378661 non-null  object \n",
      " 3   main_category     378661 non-null  object \n",
      " 4   currency          378661 non-null  object \n",
      " 5   deadline          378661 non-null  object \n",
      " 6   goal              378661 non-null  float64\n",
      " 7   launched          378661 non-null  object \n",
      " 8   pledged           378661 non-null  float64\n",
      " 9   state             378661 non-null  object \n",
      " 10  backers           378661 non-null  int64  \n",
      " 11  country           378661 non-null  object \n",
      " 12  usd pledged       374864 non-null  float64\n",
      " 13  usd_pledged_real  378661 non-null  float64\n",
      " 14  usd_goal_real     378661 non-null  float64\n",
      "dtypes: float64(5), int64(2), object(8)\n",
      "memory usage: 43.3+ MB\n"
     ]
    }
   ],
   "source": [
    "# get info about DataFrame columns\n",
    "ks_projects_orig.info()"
   ]
  },
  {
   "cell_type": "code",
   "execution_count": null,
   "metadata": {
    "pycharm": {
     "is_executing": true,
     "name": "#%%\n"
    }
   },
   "outputs": [],
   "source": [
    "# convert 'deadline' and 'launched' columns to datetime\n",
    "ks_projects_orig['deadline'] = pd.to_datetime(ks_projects_orig['deadline'])\n",
    "ks_projects_orig['launched'] = pd.to_datetime(ks_projects_orig['launched'])\n",
    "\n",
    "# get info about DataFrame columns\n",
    "ks_projects_orig.info()\n",
    "\n",
    "# look at a few rows of the ks_projects file\n",
    "ks_projects_orig.sample(5)"
   ]
  },
  {
   "cell_type": "code",
   "execution_count": null,
   "metadata": {
    "pycharm": {
     "is_executing": true,
     "name": "#%%\n"
    }
   },
   "outputs": [],
   "source": [
    "# convert non numeric to numeric\n",
    "le = LabelEncoder()\n",
    "ks_projects_orig['category'] = le.fit_transform(ks_projects_orig['category'])\n",
    "ks_projects_orig['main_category'] = le.fit_transform(ks_projects_orig['main_category'])\n",
    "ks_projects_orig['state'] = le.fit_transform(ks_projects_orig['state'])\n",
    "ks_projects_orig['country'] = le.fit_transform(ks_projects_orig['country'])\n",
    "\n",
    "# get info about DataFrame columns\n",
    "ks_projects_orig.info()\n",
    "\n",
    "# look at a few rows of the ks_projects file\n",
    "ks_projects_orig.sample(5)\n",
    "\n",
    "# Parsing Dates\n",
    "\n",
    "## print the first few rows of the date column\n",
    "print(ks_projects_orig['deadline'].head())\n",
    "\n",
    "# create a new column, deadline_parsed, with the parsed dates\n",
    "ks_projects_orig['deadline_parsed'] = pd.to_datetime(ks_projects_orig['deadline'], format = \"%Y-%m-%d\")\n",
    "\n",
    "# print the first few rows\n",
    "ks_projects_orig['deadline_parsed'].head()"
   ]
  },
  {
   "cell_type": "code",
   "execution_count": null,
   "metadata": {
    "pycharm": {
     "is_executing": true,
     "name": "#%%\n"
    }
   },
   "outputs": [],
   "source": [
    "# create a new column, launched_parsed, with the parsed dates\n",
    "ks_projects_orig['launched_parsed'] = pd.to_datetime(ks_projects_orig['launched'], format = \"%Y-%m-%d\")\n",
    "\n",
    "# print the first few rows\n",
    "ks_projects_orig['launched_parsed'].head()"
   ]
  },
  {
   "cell_type": "code",
   "execution_count": null,
   "metadata": {
    "pycharm": {
     "is_executing": true,
     "name": "#%%\n"
    }
   },
   "outputs": [],
   "source": [
    "# create a new column diff, as a difference between deadline and launched\n",
    "ks_projects_orig['duration'] = ks_projects_orig['deadline_parsed'] - ks_projects_orig['launched_parsed']\n",
    "ks_projects_orig['duration'] = ks_projects_orig['duration'].astype('timedelta64[D]')\n",
    "\n",
    "# print the first few rows\n",
    "ks_projects_orig['duration'].head()"
   ]
  },
  {
   "cell_type": "code",
   "execution_count": null,
   "metadata": {
    "pycharm": {
     "is_executing": true,
     "name": "#%%\n"
    }
   },
   "outputs": [],
   "source": [
    "# drop redundant columns\n",
    "ks_projects_reduced = ks_projects_orig.drop(['ID', 'name', 'currency', 'goal', 'pledged', 'usd pledged', 'deadline',\n",
    "                                             'deadline_parsed', 'launched', 'launched_parsed'], axis=1)\n",
    "\n",
    "# get info about DataFrame columns\n",
    "ks_projects_reduced.info()\n",
    "\n",
    "# look at a few rows of the ks_projects file\n",
    "ks_projects_reduced.sample(5)"
   ]
  },
  {
   "cell_type": "code",
   "execution_count": null,
   "metadata": {
    "pycharm": {
     "is_executing": true,
     "name": "#%%\n"
    }
   },
   "outputs": [],
   "source": [
    "# convert to numpy_array\n",
    "ks_projects_numpy = ks_projects_reduced.to_numpy()\n",
    "\n",
    "# print first 5 rows\n",
    "ks_projects_numpy[0:4, :]\n",
    "\n"
   ]
  }
 ],
 "metadata": {
  "kernelspec": {
   "display_name": "PyCharm (kickstarter)",
   "language": "python",
   "name": "pycharm-da890fd0"
  },
  "language_info": {
   "codemirror_mode": {
    "name": "ipython",
    "version": 3
   },
   "file_extension": ".py",
   "mimetype": "text/x-python",
   "name": "python",
   "nbconvert_exporter": "python",
   "pygments_lexer": "ipython3",
   "version": "3.7.9"
  }
 },
 "nbformat": 4,
 "nbformat_minor": 1
}
