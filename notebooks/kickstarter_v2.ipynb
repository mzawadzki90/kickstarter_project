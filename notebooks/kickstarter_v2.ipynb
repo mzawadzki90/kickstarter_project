{
 "cells": [
  {
   "cell_type": "code",
   "execution_count": 1,
   "metadata": {
    "pycharm": {
     "name": "#%%\n"
    }
   },
   "outputs": [],
   "source": [
    "# modules we'll use\n",
    "\n",
    "import matplotlib.pyplot as plt\n",
    "import numpy as np\n",
    "import pandas as pd\n",
    "import tensorflow as tf\n",
    "from tensorflow import keras\n",
    "from tensorflow.keras import layers\n",
    "\n",
    "#mount Google Drive\n",
    "#from google.colab import drive\n",
    "#drive.mount('/content/drive')\n",
    "\n",
    "# import sys\n",
    "# sys.path.append('/content/drive/MyDrive/Praca Inżynierska/kickstarter/code')\n",
    "\n",
    "from preprocessing.label_binarizer import DataFrameLabelBinarizer\n",
    "from preprocessing.ngram_counter import NGramCounter"
   ]
  },
  {
   "cell_type": "code",
   "execution_count": 2,
   "metadata": {
    "pycharm": {
     "name": "#%%\n"
    }
   },
   "outputs": [
    {
     "data": {
      "text/plain": "                ID                                               name  \\\n338862   796196901                                 10G Christmas Tree   \n277871   483825010                                              Gliff   \n47000    123916947                                 STUFFED Food Truck   \n111338  1565733636  NeoExodus Adventure: Origin of Man for Pathfin...   \n53743   1273544891        NAPOLEON IN NEW YORK! an original TV Series   \n\n               category main_category currency    deadline     goal  \\\n338862              Art           Art      USD  2010-12-26  10526.0   \n277871  Gaming Hardware         Games      USD  2016-03-28  10000.0   \n47000       Food Trucks          Food      USD  2015-01-06  60000.0   \n111338   Tabletop Games         Games      USD  2012-05-01    500.0   \n53743            Comedy  Film & Video      USD  2016-07-26  25000.0   \n\n                   launched  pledged       state  backers country  \\\n338862  2010-12-08 08:44:04      0.0      failed        0      US   \n277871  2016-01-28 04:56:18     51.0      failed        5      US   \n47000   2014-11-07 02:24:36     25.0      failed        1      US   \n111338  2012-03-15 01:16:10    585.0  successful       17      US   \n53743   2016-05-27 00:07:25     25.0      failed        1      US   \n\n        usd pledged  usd_pledged_real  usd_goal_real  \n338862          0.0               0.0        10526.0  \n277871         51.0              51.0        10000.0  \n47000          25.0              25.0        60000.0  \n111338        585.0             585.0          500.0  \n53743          25.0              25.0        25000.0  ",
      "text/html": "<div>\n<style scoped>\n    .dataframe tbody tr th:only-of-type {\n        vertical-align: middle;\n    }\n\n    .dataframe tbody tr th {\n        vertical-align: top;\n    }\n\n    .dataframe thead th {\n        text-align: right;\n    }\n</style>\n<table border=\"1\" class=\"dataframe\">\n  <thead>\n    <tr style=\"text-align: right;\">\n      <th></th>\n      <th>ID</th>\n      <th>name</th>\n      <th>category</th>\n      <th>main_category</th>\n      <th>currency</th>\n      <th>deadline</th>\n      <th>goal</th>\n      <th>launched</th>\n      <th>pledged</th>\n      <th>state</th>\n      <th>backers</th>\n      <th>country</th>\n      <th>usd pledged</th>\n      <th>usd_pledged_real</th>\n      <th>usd_goal_real</th>\n    </tr>\n  </thead>\n  <tbody>\n    <tr>\n      <th>338862</th>\n      <td>796196901</td>\n      <td>10G Christmas Tree</td>\n      <td>Art</td>\n      <td>Art</td>\n      <td>USD</td>\n      <td>2010-12-26</td>\n      <td>10526.0</td>\n      <td>2010-12-08 08:44:04</td>\n      <td>0.0</td>\n      <td>failed</td>\n      <td>0</td>\n      <td>US</td>\n      <td>0.0</td>\n      <td>0.0</td>\n      <td>10526.0</td>\n    </tr>\n    <tr>\n      <th>277871</th>\n      <td>483825010</td>\n      <td>Gliff</td>\n      <td>Gaming Hardware</td>\n      <td>Games</td>\n      <td>USD</td>\n      <td>2016-03-28</td>\n      <td>10000.0</td>\n      <td>2016-01-28 04:56:18</td>\n      <td>51.0</td>\n      <td>failed</td>\n      <td>5</td>\n      <td>US</td>\n      <td>51.0</td>\n      <td>51.0</td>\n      <td>10000.0</td>\n    </tr>\n    <tr>\n      <th>47000</th>\n      <td>123916947</td>\n      <td>STUFFED Food Truck</td>\n      <td>Food Trucks</td>\n      <td>Food</td>\n      <td>USD</td>\n      <td>2015-01-06</td>\n      <td>60000.0</td>\n      <td>2014-11-07 02:24:36</td>\n      <td>25.0</td>\n      <td>failed</td>\n      <td>1</td>\n      <td>US</td>\n      <td>25.0</td>\n      <td>25.0</td>\n      <td>60000.0</td>\n    </tr>\n    <tr>\n      <th>111338</th>\n      <td>1565733636</td>\n      <td>NeoExodus Adventure: Origin of Man for Pathfin...</td>\n      <td>Tabletop Games</td>\n      <td>Games</td>\n      <td>USD</td>\n      <td>2012-05-01</td>\n      <td>500.0</td>\n      <td>2012-03-15 01:16:10</td>\n      <td>585.0</td>\n      <td>successful</td>\n      <td>17</td>\n      <td>US</td>\n      <td>585.0</td>\n      <td>585.0</td>\n      <td>500.0</td>\n    </tr>\n    <tr>\n      <th>53743</th>\n      <td>1273544891</td>\n      <td>NAPOLEON IN NEW YORK! an original TV Series</td>\n      <td>Comedy</td>\n      <td>Film &amp; Video</td>\n      <td>USD</td>\n      <td>2016-07-26</td>\n      <td>25000.0</td>\n      <td>2016-05-27 00:07:25</td>\n      <td>25.0</td>\n      <td>failed</td>\n      <td>1</td>\n      <td>US</td>\n      <td>25.0</td>\n      <td>25.0</td>\n      <td>25000.0</td>\n    </tr>\n  </tbody>\n</table>\n</div>"
     },
     "execution_count": 2,
     "metadata": {},
     "output_type": "execute_result"
    }
   ],
   "source": [
    "# read in all our data\n",
    "\n",
    "# Google Drive's path: /content/drive/MyDrive/Praca Inżynierska/kickstarter/data/ks-projects-201801.csv\n",
    "ks_projects_orig  = pd.read_csv(\"../data/ks-projects-201801.csv\")\n",
    "\n",
    "# set seed for reproducibility\n",
    "np.random.seed(0) \n",
    "\n",
    "# look at a few rows of the ks_projects file\n",
    "ks_projects_orig.sample(5)\n"
   ]
  },
  {
   "cell_type": "code",
   "execution_count": 3,
   "metadata": {
    "pycharm": {
     "name": "#%%\n"
    }
   },
   "outputs": [
    {
     "name": "stdout",
     "output_type": "stream",
     "text": [
      "<class 'pandas.core.frame.DataFrame'>\n",
      "RangeIndex: 378661 entries, 0 to 378660\n",
      "Data columns (total 15 columns):\n",
      " #   Column            Non-Null Count   Dtype  \n",
      "---  ------            --------------   -----  \n",
      " 0   ID                378661 non-null  int64  \n",
      " 1   name              378657 non-null  object \n",
      " 2   category          378661 non-null  object \n",
      " 3   main_category     378661 non-null  object \n",
      " 4   currency          378661 non-null  object \n",
      " 5   deadline          378661 non-null  object \n",
      " 6   goal              378661 non-null  float64\n",
      " 7   launched          378661 non-null  object \n",
      " 8   pledged           378661 non-null  float64\n",
      " 9   state             378661 non-null  object \n",
      " 10  backers           378661 non-null  int64  \n",
      " 11  country           378661 non-null  object \n",
      " 12  usd pledged       374864 non-null  float64\n",
      " 13  usd_pledged_real  378661 non-null  float64\n",
      " 14  usd_goal_real     378661 non-null  float64\n",
      "dtypes: float64(5), int64(2), object(8)\n",
      "memory usage: 43.3+ MB\n"
     ]
    }
   ],
   "source": [
    "# get info about DataFrame columns\n",
    "ks_projects_orig.info()"
   ]
  },
  {
   "cell_type": "code",
   "execution_count": 4,
   "metadata": {
    "pycharm": {
     "name": "#%%\n"
    }
   },
   "outputs": [
    {
     "name": "stdout",
     "output_type": "stream",
     "text": [
      "<class 'pandas.core.frame.DataFrame'>\n",
      "RangeIndex: 378661 entries, 0 to 378660\n",
      "Data columns (total 15 columns):\n",
      " #   Column            Non-Null Count   Dtype  \n",
      "---  ------            --------------   -----  \n",
      " 0   ID                378661 non-null  int64  \n",
      " 1   name              378657 non-null  object \n",
      " 2   category          378661 non-null  object \n",
      " 3   main_category     378661 non-null  object \n",
      " 4   currency          378661 non-null  object \n",
      " 5   deadline          378661 non-null  object \n",
      " 6   goal              378661 non-null  float64\n",
      " 7   launched          378661 non-null  object \n",
      " 8   pledged           378661 non-null  float64\n",
      " 9   state             378661 non-null  object \n",
      " 10  backers           378661 non-null  int64  \n",
      " 11  country           378661 non-null  object \n",
      " 12  usd pledged       374864 non-null  float64\n",
      " 13  usd_pledged_real  378661 non-null  float64\n",
      " 14  usd_goal_real     378661 non-null  float64\n",
      "dtypes: float64(5), int64(2), object(8)\n",
      "memory usage: 43.3+ MB\n"
     ]
    },
    {
     "data": {
      "text/plain": "                ID                                     name     category  \\\n299667   595962034                      Button Poetry Live!  Mixed Media   \n181674  1924707671         C STREET 2012 : Tbilisi, Georgia  World Music   \n137583  1698707842                    Dérive's Next Project         Punk   \n296861   581269566  Photo Book - World Santa Claus Congress   Photobooks   \n66362   1337585114      Kickstart CLE Brewing to greatness!       Drinks   \n\n       main_category currency    deadline      goal             launched  \\\n299667           Art      USD  2015-09-18   10000.0  2015-08-19 19:34:20   \n181674         Music      USD  2012-06-07    5000.0  2012-05-08 18:22:59   \n137583         Music      USD  2014-07-06    1200.0  2014-06-08 17:58:37   \n296861   Photography      DKK  2017-04-14  110000.0  2017-03-14 23:45:35   \n66362           Food      USD  2017-08-19    6500.0  2017-07-20 21:22:43   \n\n         pledged       state  backers country  usd pledged  usd_pledged_real  \\\n299667  18216.27  successful      455      US     18216.27          18216.27   \n181674   7210.69  successful       82      US      7210.69           7210.69   \n137583   1255.66  successful       33      US      1255.66           1255.66   \n296861    462.00      failed        5      DK         0.00             66.46   \n66362     250.00      failed        5      US        75.00            250.00   \n\n        usd_goal_real  \n299667       10000.00  \n181674        5000.00  \n137583        1200.00  \n296861       15823.47  \n66362         6500.00  ",
      "text/html": "<div>\n<style scoped>\n    .dataframe tbody tr th:only-of-type {\n        vertical-align: middle;\n    }\n\n    .dataframe tbody tr th {\n        vertical-align: top;\n    }\n\n    .dataframe thead th {\n        text-align: right;\n    }\n</style>\n<table border=\"1\" class=\"dataframe\">\n  <thead>\n    <tr style=\"text-align: right;\">\n      <th></th>\n      <th>ID</th>\n      <th>name</th>\n      <th>category</th>\n      <th>main_category</th>\n      <th>currency</th>\n      <th>deadline</th>\n      <th>goal</th>\n      <th>launched</th>\n      <th>pledged</th>\n      <th>state</th>\n      <th>backers</th>\n      <th>country</th>\n      <th>usd pledged</th>\n      <th>usd_pledged_real</th>\n      <th>usd_goal_real</th>\n    </tr>\n  </thead>\n  <tbody>\n    <tr>\n      <th>299667</th>\n      <td>595962034</td>\n      <td>Button Poetry Live!</td>\n      <td>Mixed Media</td>\n      <td>Art</td>\n      <td>USD</td>\n      <td>2015-09-18</td>\n      <td>10000.0</td>\n      <td>2015-08-19 19:34:20</td>\n      <td>18216.27</td>\n      <td>successful</td>\n      <td>455</td>\n      <td>US</td>\n      <td>18216.27</td>\n      <td>18216.27</td>\n      <td>10000.00</td>\n    </tr>\n    <tr>\n      <th>181674</th>\n      <td>1924707671</td>\n      <td>C STREET 2012 : Tbilisi, Georgia</td>\n      <td>World Music</td>\n      <td>Music</td>\n      <td>USD</td>\n      <td>2012-06-07</td>\n      <td>5000.0</td>\n      <td>2012-05-08 18:22:59</td>\n      <td>7210.69</td>\n      <td>successful</td>\n      <td>82</td>\n      <td>US</td>\n      <td>7210.69</td>\n      <td>7210.69</td>\n      <td>5000.00</td>\n    </tr>\n    <tr>\n      <th>137583</th>\n      <td>1698707842</td>\n      <td>Dérive's Next Project</td>\n      <td>Punk</td>\n      <td>Music</td>\n      <td>USD</td>\n      <td>2014-07-06</td>\n      <td>1200.0</td>\n      <td>2014-06-08 17:58:37</td>\n      <td>1255.66</td>\n      <td>successful</td>\n      <td>33</td>\n      <td>US</td>\n      <td>1255.66</td>\n      <td>1255.66</td>\n      <td>1200.00</td>\n    </tr>\n    <tr>\n      <th>296861</th>\n      <td>581269566</td>\n      <td>Photo Book - World Santa Claus Congress</td>\n      <td>Photobooks</td>\n      <td>Photography</td>\n      <td>DKK</td>\n      <td>2017-04-14</td>\n      <td>110000.0</td>\n      <td>2017-03-14 23:45:35</td>\n      <td>462.00</td>\n      <td>failed</td>\n      <td>5</td>\n      <td>DK</td>\n      <td>0.00</td>\n      <td>66.46</td>\n      <td>15823.47</td>\n    </tr>\n    <tr>\n      <th>66362</th>\n      <td>1337585114</td>\n      <td>Kickstart CLE Brewing to greatness!</td>\n      <td>Drinks</td>\n      <td>Food</td>\n      <td>USD</td>\n      <td>2017-08-19</td>\n      <td>6500.0</td>\n      <td>2017-07-20 21:22:43</td>\n      <td>250.00</td>\n      <td>failed</td>\n      <td>5</td>\n      <td>US</td>\n      <td>75.00</td>\n      <td>250.00</td>\n      <td>6500.00</td>\n    </tr>\n  </tbody>\n</table>\n</div>"
     },
     "execution_count": 4,
     "metadata": {},
     "output_type": "execute_result"
    }
   ],
   "source": [
    "# get info about DataFrame columns\n",
    "ks_projects_orig.info()\n",
    "\n",
    "# look at a few rows of the ks_projects file\n",
    "ks_projects_orig.sample(5)"
   ]
  },
  {
   "cell_type": "code",
   "execution_count": 5,
   "metadata": {
    "pycharm": {
     "name": "#%%\n"
    }
   },
   "outputs": [
    {
     "data": {
      "text/plain": "                ID                                               name  \\\n284129   515317667                      Three Zombies in Philadelphia   \n187025  1952141049  Chroma Cafe and Bakery Hood and Expansion Project   \n231103    24476326                                        The L Train   \n117045  1594525425                              Slimo - Desktop Buddy   \n214293  2091909738                        TheBoutSheet.Com Mobile Aps   \n\n       currency    deadline     goal             launched  pledged  \\\n284129      USD  2013-05-29  20000.0  2013-03-30 19:36:04    29.99   \n187025      USD  2014-05-30   9750.0  2014-04-25 03:13:43  9900.00   \n231103      USD  2017-09-09   6000.0  2017-08-25 00:00:26  6065.00   \n117045      USD  2017-11-01    250.0  2017-10-02 20:10:09    22.00   \n214293      USD  2015-06-24  25000.0  2015-05-18 23:40:29     0.00   \n\n             state  backers  usd pledged  ...  13  14  15  16  17  18  19  20  \\\n284129      failed        4        29.99  ...   0   0   0   0   0   0   0   0   \n187025  successful      134      9900.00  ...   0   0   0   0   0   0   0   0   \n231103  successful       81       340.00  ...   0   0   0   0   0   0   0   0   \n117045      failed        3        10.00  ...   0   0   0   0   0   0   0   0   \n214293      failed        0         0.00  ...   0   0   0   0   0   0   0   0   \n\n        21  22  \n284129   0   1  \n187025   0   1  \n231103   0   1  \n117045   0   1  \n214293   0   1  \n\n[5 rows x 209 columns]",
      "text/html": "<div>\n<style scoped>\n    .dataframe tbody tr th:only-of-type {\n        vertical-align: middle;\n    }\n\n    .dataframe tbody tr th {\n        vertical-align: top;\n    }\n\n    .dataframe thead th {\n        text-align: right;\n    }\n</style>\n<table border=\"1\" class=\"dataframe\">\n  <thead>\n    <tr style=\"text-align: right;\">\n      <th></th>\n      <th>ID</th>\n      <th>name</th>\n      <th>currency</th>\n      <th>deadline</th>\n      <th>goal</th>\n      <th>launched</th>\n      <th>pledged</th>\n      <th>state</th>\n      <th>backers</th>\n      <th>usd pledged</th>\n      <th>...</th>\n      <th>13</th>\n      <th>14</th>\n      <th>15</th>\n      <th>16</th>\n      <th>17</th>\n      <th>18</th>\n      <th>19</th>\n      <th>20</th>\n      <th>21</th>\n      <th>22</th>\n    </tr>\n  </thead>\n  <tbody>\n    <tr>\n      <th>284129</th>\n      <td>515317667</td>\n      <td>Three Zombies in Philadelphia</td>\n      <td>USD</td>\n      <td>2013-05-29</td>\n      <td>20000.0</td>\n      <td>2013-03-30 19:36:04</td>\n      <td>29.99</td>\n      <td>failed</td>\n      <td>4</td>\n      <td>29.99</td>\n      <td>...</td>\n      <td>0</td>\n      <td>0</td>\n      <td>0</td>\n      <td>0</td>\n      <td>0</td>\n      <td>0</td>\n      <td>0</td>\n      <td>0</td>\n      <td>0</td>\n      <td>1</td>\n    </tr>\n    <tr>\n      <th>187025</th>\n      <td>1952141049</td>\n      <td>Chroma Cafe and Bakery Hood and Expansion Project</td>\n      <td>USD</td>\n      <td>2014-05-30</td>\n      <td>9750.0</td>\n      <td>2014-04-25 03:13:43</td>\n      <td>9900.00</td>\n      <td>successful</td>\n      <td>134</td>\n      <td>9900.00</td>\n      <td>...</td>\n      <td>0</td>\n      <td>0</td>\n      <td>0</td>\n      <td>0</td>\n      <td>0</td>\n      <td>0</td>\n      <td>0</td>\n      <td>0</td>\n      <td>0</td>\n      <td>1</td>\n    </tr>\n    <tr>\n      <th>231103</th>\n      <td>24476326</td>\n      <td>The L Train</td>\n      <td>USD</td>\n      <td>2017-09-09</td>\n      <td>6000.0</td>\n      <td>2017-08-25 00:00:26</td>\n      <td>6065.00</td>\n      <td>successful</td>\n      <td>81</td>\n      <td>340.00</td>\n      <td>...</td>\n      <td>0</td>\n      <td>0</td>\n      <td>0</td>\n      <td>0</td>\n      <td>0</td>\n      <td>0</td>\n      <td>0</td>\n      <td>0</td>\n      <td>0</td>\n      <td>1</td>\n    </tr>\n    <tr>\n      <th>117045</th>\n      <td>1594525425</td>\n      <td>Slimo - Desktop Buddy</td>\n      <td>USD</td>\n      <td>2017-11-01</td>\n      <td>250.0</td>\n      <td>2017-10-02 20:10:09</td>\n      <td>22.00</td>\n      <td>failed</td>\n      <td>3</td>\n      <td>10.00</td>\n      <td>...</td>\n      <td>0</td>\n      <td>0</td>\n      <td>0</td>\n      <td>0</td>\n      <td>0</td>\n      <td>0</td>\n      <td>0</td>\n      <td>0</td>\n      <td>0</td>\n      <td>1</td>\n    </tr>\n    <tr>\n      <th>214293</th>\n      <td>2091909738</td>\n      <td>TheBoutSheet.Com Mobile Aps</td>\n      <td>USD</td>\n      <td>2015-06-24</td>\n      <td>25000.0</td>\n      <td>2015-05-18 23:40:29</td>\n      <td>0.00</td>\n      <td>failed</td>\n      <td>0</td>\n      <td>0.00</td>\n      <td>...</td>\n      <td>0</td>\n      <td>0</td>\n      <td>0</td>\n      <td>0</td>\n      <td>0</td>\n      <td>0</td>\n      <td>0</td>\n      <td>0</td>\n      <td>0</td>\n      <td>1</td>\n    </tr>\n  </tbody>\n</table>\n<p>5 rows × 209 columns</p>\n</div>"
     },
     "execution_count": 5,
     "metadata": {},
     "output_type": "execute_result"
    }
   ],
   "source": [
    "# convert categorical data to one-hot-encoded\n",
    "lb_category = DataFrameLabelBinarizer(data_frame=ks_projects_orig, column_to_encode='category')\n",
    "ks_projects_orig = lb_category.encode()\n",
    "\n",
    "lb_main_category = DataFrameLabelBinarizer(data_frame=ks_projects_orig, column_to_encode='main_category')\n",
    "ks_projects_orig = lb_main_category.encode()\n",
    "\n",
    "lb_country = DataFrameLabelBinarizer(data_frame=ks_projects_orig, column_to_encode='country')\n",
    "ks_projects_orig = lb_country.encode()\n",
    "\n",
    "# get info about DataFrame columns\n",
    "# ks_projects_orig.info()\n",
    "\n",
    "# look at a few rows of the ks_projects file\n",
    "ks_projects_orig.sample(5)"
   ]
  },
  {
   "cell_type": "code",
   "execution_count": 6,
   "metadata": {
    "pycharm": {
     "name": "#%%\n"
    }
   },
   "outputs": [
    {
     "name": "stdout",
     "output_type": "stream",
     "text": [
      "0   2015-10-09\n",
      "1   2017-11-01\n",
      "2   2013-02-26\n",
      "3   2012-04-16\n",
      "4   2015-08-29\n",
      "Name: deadline, dtype: datetime64[ns]\n"
     ]
    },
    {
     "data": {
      "text/plain": "0    58.0\n1    59.0\n2    44.0\n3    29.0\n4    55.0\nName: duration, dtype: float64"
     },
     "execution_count": 6,
     "metadata": {},
     "output_type": "execute_result"
    }
   ],
   "source": [
    "# Parsing Dates\n",
    "\n",
    "# convert 'deadline' and 'launched' columns to datetime\n",
    "ks_projects_orig['deadline'] = pd.to_datetime(ks_projects_orig['deadline'])\n",
    "ks_projects_orig['launched'] = pd.to_datetime(ks_projects_orig['launched'])\n",
    "\n",
    "## print the first few rows of the date column\n",
    "print(ks_projects_orig['deadline'].head())\n",
    "\n",
    "# create a new column, 'deadline_parsed', with the parsed dates\n",
    "ks_projects_orig['deadline_parsed'] = pd.to_datetime(ks_projects_orig['deadline'], format = \"%Y-%m-%d\")\n",
    "\n",
    "# print the first few rows\n",
    "ks_projects_orig['deadline_parsed'].head()\n",
    "\n",
    "\n",
    "# create a new column, 'launched_parsed', with the parsed dates\n",
    "ks_projects_orig['launched_parsed'] = pd.to_datetime(ks_projects_orig['launched'], format = \"%Y-%m-%d\")\n",
    "\n",
    "# print the first few rows\n",
    "ks_projects_orig['launched_parsed'].head()\n",
    "\n",
    "# create a new column 'duration', as a difference between deadline and launched\n",
    "ks_projects_orig['duration'] = ks_projects_orig['deadline_parsed'] - ks_projects_orig['launched_parsed']\n",
    "ks_projects_orig['duration'] = ks_projects_orig['duration'].astype('timedelta64[D]')\n",
    "\n",
    "# print the first few rows\n",
    "ks_projects_orig['duration'].head()"
   ]
  },
  {
   "cell_type": "code",
   "execution_count": 7,
   "outputs": [
    {
     "ename": "MemoryError",
     "evalue": "Unable to allocate 414. GiB for an array with shape (378661, 146920) and data type int64",
     "output_type": "error",
     "traceback": [
      "\u001B[1;31m---------------------------------------------------------------------------\u001B[0m",
      "\u001B[1;31mMemoryError\u001B[0m                               Traceback (most recent call last)",
      "\u001B[1;32m<ipython-input-7-21eac4244f3c>\u001B[0m in \u001B[0;36m<module>\u001B[1;34m\u001B[0m\n\u001B[0;32m      1\u001B[0m \u001B[1;31m# convert 'name' to ngram count one-hot-encoding matrix\u001B[0m\u001B[1;33m\u001B[0m\u001B[1;33m\u001B[0m\u001B[1;33m\u001B[0m\u001B[0m\n\u001B[0;32m      2\u001B[0m \u001B[0mngram_counter\u001B[0m \u001B[1;33m=\u001B[0m \u001B[0mNGramCounter\u001B[0m\u001B[1;33m(\u001B[0m\u001B[0mdata_frame\u001B[0m\u001B[1;33m=\u001B[0m\u001B[0mks_projects_orig\u001B[0m\u001B[1;33m,\u001B[0m \u001B[0mcolumn_to_encode\u001B[0m\u001B[1;33m=\u001B[0m\u001B[1;34m'name'\u001B[0m\u001B[1;33m)\u001B[0m\u001B[1;33m\u001B[0m\u001B[1;33m\u001B[0m\u001B[0m\n\u001B[1;32m----> 3\u001B[1;33m \u001B[0mks_projects_orig\u001B[0m \u001B[1;33m=\u001B[0m \u001B[0mngram_counter\u001B[0m\u001B[1;33m.\u001B[0m\u001B[0mencode\u001B[0m\u001B[1;33m(\u001B[0m\u001B[1;33m)\u001B[0m\u001B[1;33m\u001B[0m\u001B[1;33m\u001B[0m\u001B[0m\n\u001B[0m\u001B[0;32m      4\u001B[0m \u001B[1;33m\u001B[0m\u001B[0m\n",
      "\u001B[1;32m~\\Praca inżynierska PJATK\\kickstarter\\preprocessing\\ngram_counter.py\u001B[0m in \u001B[0;36mencode\u001B[1;34m(self)\u001B[0m\n\u001B[0;32m     16\u001B[0m         \u001B[0mself\u001B[0m\u001B[1;33m.\u001B[0m\u001B[0mdata_frame\u001B[0m\u001B[1;33m[\u001B[0m\u001B[0mself\u001B[0m\u001B[1;33m.\u001B[0m\u001B[0mcolumn_to_encode\u001B[0m\u001B[1;33m]\u001B[0m \u001B[1;33m=\u001B[0m \u001B[0mself\u001B[0m\u001B[1;33m.\u001B[0m\u001B[0mdata_frame\u001B[0m\u001B[1;33m[\u001B[0m\u001B[0mself\u001B[0m\u001B[1;33m.\u001B[0m\u001B[0mcolumn_to_encode\u001B[0m\u001B[1;33m]\u001B[0m\u001B[1;33m.\u001B[0m\u001B[0mfillna\u001B[0m\u001B[1;33m(\u001B[0m\u001B[1;34m'unknown'\u001B[0m\u001B[1;33m)\u001B[0m\u001B[1;33m\u001B[0m\u001B[1;33m\u001B[0m\u001B[0m\n\u001B[0;32m     17\u001B[0m         \u001B[0mtransformed\u001B[0m \u001B[1;33m=\u001B[0m \u001B[0mencoder\u001B[0m\u001B[1;33m.\u001B[0m\u001B[0mfit_transform\u001B[0m\u001B[1;33m(\u001B[0m\u001B[0mself\u001B[0m\u001B[1;33m.\u001B[0m\u001B[0mdata_frame\u001B[0m\u001B[1;33m[\u001B[0m\u001B[0mself\u001B[0m\u001B[1;33m.\u001B[0m\u001B[0mcolumn_to_encode\u001B[0m\u001B[1;33m]\u001B[0m\u001B[1;33m.\u001B[0m\u001B[0mapply\u001B[0m\u001B[1;33m(\u001B[0m\u001B[1;32mlambda\u001B[0m \u001B[0mx\u001B[0m\u001B[1;33m:\u001B[0m \u001B[0mnp\u001B[0m\u001B[1;33m.\u001B[0m\u001B[0mstr_\u001B[0m\u001B[1;33m(\u001B[0m\u001B[0mx\u001B[0m\u001B[1;33m)\u001B[0m\u001B[1;33m)\u001B[0m\u001B[1;33m)\u001B[0m\u001B[1;33m\u001B[0m\u001B[1;33m\u001B[0m\u001B[0m\n\u001B[1;32m---> 18\u001B[1;33m         \u001B[0mohe_df\u001B[0m \u001B[1;33m=\u001B[0m \u001B[0mpd\u001B[0m\u001B[1;33m.\u001B[0m\u001B[0mDataFrame\u001B[0m\u001B[1;33m(\u001B[0m\u001B[0mtransformed\u001B[0m\u001B[1;33m.\u001B[0m\u001B[0mtodense\u001B[0m\u001B[1;33m(\u001B[0m\u001B[1;33m)\u001B[0m\u001B[1;33m,\u001B[0m \u001B[0mcolumns\u001B[0m\u001B[1;33m=\u001B[0m\u001B[0mencoder\u001B[0m\u001B[1;33m.\u001B[0m\u001B[0mget_feature_names\u001B[0m\u001B[1;33m(\u001B[0m\u001B[1;33m)\u001B[0m\u001B[1;33m)\u001B[0m\u001B[1;33m\u001B[0m\u001B[1;33m\u001B[0m\u001B[0m\n\u001B[0m\u001B[0;32m     19\u001B[0m         \u001B[1;32mreturn\u001B[0m \u001B[0mpd\u001B[0m\u001B[1;33m.\u001B[0m\u001B[0mconcat\u001B[0m\u001B[1;33m(\u001B[0m\u001B[1;33m[\u001B[0m\u001B[0mself\u001B[0m\u001B[1;33m.\u001B[0m\u001B[0mdata_frame\u001B[0m\u001B[1;33m,\u001B[0m \u001B[0mohe_df\u001B[0m\u001B[1;33m]\u001B[0m\u001B[1;33m,\u001B[0m \u001B[0maxis\u001B[0m\u001B[1;33m=\u001B[0m\u001B[1;36m1\u001B[0m\u001B[1;33m)\u001B[0m\u001B[1;33m.\u001B[0m\u001B[0mdrop\u001B[0m\u001B[1;33m(\u001B[0m\u001B[1;33m[\u001B[0m\u001B[0mself\u001B[0m\u001B[1;33m.\u001B[0m\u001B[0mcolumn_to_encode\u001B[0m\u001B[1;33m]\u001B[0m\u001B[1;33m,\u001B[0m \u001B[0maxis\u001B[0m\u001B[1;33m=\u001B[0m\u001B[1;36m1\u001B[0m\u001B[1;33m)\u001B[0m\u001B[1;33m\u001B[0m\u001B[1;33m\u001B[0m\u001B[0m\n",
      "\u001B[1;32m~\\Anaconda3\\envs\\kickstarter\\lib\\site-packages\\scipy\\sparse\\base.py\u001B[0m in \u001B[0;36mtodense\u001B[1;34m(self, order, out)\u001B[0m\n\u001B[0;32m    845\u001B[0m             \u001B[0;31m`\u001B[0m\u001B[0mnumpy\u001B[0m\u001B[1;33m.\u001B[0m\u001B[0mmatrix\u001B[0m\u001B[0;31m`\u001B[0m \u001B[0mobject\u001B[0m \u001B[0mthat\u001B[0m \u001B[0mshares\u001B[0m \u001B[0mthe\u001B[0m \u001B[0msame\u001B[0m \u001B[0mmemory\u001B[0m\u001B[1;33m.\u001B[0m\u001B[1;33m\u001B[0m\u001B[1;33m\u001B[0m\u001B[0m\n\u001B[0;32m    846\u001B[0m         \"\"\"\n\u001B[1;32m--> 847\u001B[1;33m         \u001B[1;32mreturn\u001B[0m \u001B[0masmatrix\u001B[0m\u001B[1;33m(\u001B[0m\u001B[0mself\u001B[0m\u001B[1;33m.\u001B[0m\u001B[0mtoarray\u001B[0m\u001B[1;33m(\u001B[0m\u001B[0morder\u001B[0m\u001B[1;33m=\u001B[0m\u001B[0morder\u001B[0m\u001B[1;33m,\u001B[0m \u001B[0mout\u001B[0m\u001B[1;33m=\u001B[0m\u001B[0mout\u001B[0m\u001B[1;33m)\u001B[0m\u001B[1;33m)\u001B[0m\u001B[1;33m\u001B[0m\u001B[1;33m\u001B[0m\u001B[0m\n\u001B[0m\u001B[0;32m    848\u001B[0m \u001B[1;33m\u001B[0m\u001B[0m\n\u001B[0;32m    849\u001B[0m     \u001B[1;32mdef\u001B[0m \u001B[0mtoarray\u001B[0m\u001B[1;33m(\u001B[0m\u001B[0mself\u001B[0m\u001B[1;33m,\u001B[0m \u001B[0morder\u001B[0m\u001B[1;33m=\u001B[0m\u001B[1;32mNone\u001B[0m\u001B[1;33m,\u001B[0m \u001B[0mout\u001B[0m\u001B[1;33m=\u001B[0m\u001B[1;32mNone\u001B[0m\u001B[1;33m)\u001B[0m\u001B[1;33m:\u001B[0m\u001B[1;33m\u001B[0m\u001B[1;33m\u001B[0m\u001B[0m\n",
      "\u001B[1;32m~\\Anaconda3\\envs\\kickstarter\\lib\\site-packages\\scipy\\sparse\\compressed.py\u001B[0m in \u001B[0;36mtoarray\u001B[1;34m(self, order, out)\u001B[0m\n\u001B[0;32m   1023\u001B[0m         \u001B[1;32mif\u001B[0m \u001B[0mout\u001B[0m \u001B[1;32mis\u001B[0m \u001B[1;32mNone\u001B[0m \u001B[1;32mand\u001B[0m \u001B[0morder\u001B[0m \u001B[1;32mis\u001B[0m \u001B[1;32mNone\u001B[0m\u001B[1;33m:\u001B[0m\u001B[1;33m\u001B[0m\u001B[1;33m\u001B[0m\u001B[0m\n\u001B[0;32m   1024\u001B[0m             \u001B[0morder\u001B[0m \u001B[1;33m=\u001B[0m \u001B[0mself\u001B[0m\u001B[1;33m.\u001B[0m\u001B[0m_swap\u001B[0m\u001B[1;33m(\u001B[0m\u001B[1;34m'cf'\u001B[0m\u001B[1;33m)\u001B[0m\u001B[1;33m[\u001B[0m\u001B[1;36m0\u001B[0m\u001B[1;33m]\u001B[0m\u001B[1;33m\u001B[0m\u001B[1;33m\u001B[0m\u001B[0m\n\u001B[1;32m-> 1025\u001B[1;33m         \u001B[0mout\u001B[0m \u001B[1;33m=\u001B[0m \u001B[0mself\u001B[0m\u001B[1;33m.\u001B[0m\u001B[0m_process_toarray_args\u001B[0m\u001B[1;33m(\u001B[0m\u001B[0morder\u001B[0m\u001B[1;33m,\u001B[0m \u001B[0mout\u001B[0m\u001B[1;33m)\u001B[0m\u001B[1;33m\u001B[0m\u001B[1;33m\u001B[0m\u001B[0m\n\u001B[0m\u001B[0;32m   1026\u001B[0m         \u001B[1;32mif\u001B[0m \u001B[1;32mnot\u001B[0m \u001B[1;33m(\u001B[0m\u001B[0mout\u001B[0m\u001B[1;33m.\u001B[0m\u001B[0mflags\u001B[0m\u001B[1;33m.\u001B[0m\u001B[0mc_contiguous\u001B[0m \u001B[1;32mor\u001B[0m \u001B[0mout\u001B[0m\u001B[1;33m.\u001B[0m\u001B[0mflags\u001B[0m\u001B[1;33m.\u001B[0m\u001B[0mf_contiguous\u001B[0m\u001B[1;33m)\u001B[0m\u001B[1;33m:\u001B[0m\u001B[1;33m\u001B[0m\u001B[1;33m\u001B[0m\u001B[0m\n\u001B[0;32m   1027\u001B[0m             \u001B[1;32mraise\u001B[0m \u001B[0mValueError\u001B[0m\u001B[1;33m(\u001B[0m\u001B[1;34m'Output array must be C or F contiguous'\u001B[0m\u001B[1;33m)\u001B[0m\u001B[1;33m\u001B[0m\u001B[1;33m\u001B[0m\u001B[0m\n",
      "\u001B[1;32m~\\Anaconda3\\envs\\kickstarter\\lib\\site-packages\\scipy\\sparse\\base.py\u001B[0m in \u001B[0;36m_process_toarray_args\u001B[1;34m(self, order, out)\u001B[0m\n\u001B[0;32m   1183\u001B[0m             \u001B[1;32mreturn\u001B[0m \u001B[0mout\u001B[0m\u001B[1;33m\u001B[0m\u001B[1;33m\u001B[0m\u001B[0m\n\u001B[0;32m   1184\u001B[0m         \u001B[1;32melse\u001B[0m\u001B[1;33m:\u001B[0m\u001B[1;33m\u001B[0m\u001B[1;33m\u001B[0m\u001B[0m\n\u001B[1;32m-> 1185\u001B[1;33m             \u001B[1;32mreturn\u001B[0m \u001B[0mnp\u001B[0m\u001B[1;33m.\u001B[0m\u001B[0mzeros\u001B[0m\u001B[1;33m(\u001B[0m\u001B[0mself\u001B[0m\u001B[1;33m.\u001B[0m\u001B[0mshape\u001B[0m\u001B[1;33m,\u001B[0m \u001B[0mdtype\u001B[0m\u001B[1;33m=\u001B[0m\u001B[0mself\u001B[0m\u001B[1;33m.\u001B[0m\u001B[0mdtype\u001B[0m\u001B[1;33m,\u001B[0m \u001B[0morder\u001B[0m\u001B[1;33m=\u001B[0m\u001B[0morder\u001B[0m\u001B[1;33m)\u001B[0m\u001B[1;33m\u001B[0m\u001B[1;33m\u001B[0m\u001B[0m\n\u001B[0m\u001B[0;32m   1186\u001B[0m \u001B[1;33m\u001B[0m\u001B[0m\n\u001B[0;32m   1187\u001B[0m \u001B[1;33m\u001B[0m\u001B[0m\n",
      "\u001B[1;31mMemoryError\u001B[0m: Unable to allocate 414. GiB for an array with shape (378661, 146920) and data type int64"
     ]
    }
   ],
   "source": [
    "# convert 'name' to char count matrix\n",
    "ngram_counter = NGramCounter(data_frame=ks_projects_orig, column_to_encode='name', ngram_length=1)\n",
    "ks_projects_orig = ngram_counter.encode()"
   ],
   "metadata": {
    "collapsed": false,
    "pycharm": {
     "name": "#%%\n"
    }
   }
  },
  {
   "cell_type": "code",
   "execution_count": null,
   "outputs": [],
   "source": [
    "# look at a few rows of the ks_projects file\n",
    "ks_projects_orig.sample(5)"
   ],
   "metadata": {
    "collapsed": false,
    "pycharm": {
     "name": "#%%\n"
    }
   }
  },
  {
   "cell_type": "code",
   "execution_count": null,
   "metadata": {
    "pycharm": {
     "name": "#%%\n"
    }
   },
   "outputs": [],
   "source": [
    "# convert 'status' to numeric value applying function:\n",
    "# 'success' -> 1\n",
    "# 'other' -> sigmoid(ks_projects_orig['usd_pledged_real'] / ks_projects_orig['usd_goal_real'])\n",
    "# where 0.2 is an arbitrary penalty for failure\n",
    "ks_projects_orig['state_converted'] = np.where(ks_projects_orig['state'] == 'successful', 1,\n",
    "                                               ks_projects_orig['usd_pledged_real'] / ks_projects_orig['usd_goal_real'])\n",
    "ks_projects_orig['state_converted'] = ks_projects_orig['state_converted'].apply(lambda x: 1 if x > 1 else x)\n",
    "ks_projects_orig['state_converted'] = np.where(ks_projects_orig['state'] != 'successful', ks_projects_orig['state_converted'] - 0.2, ks_projects_orig['state_converted'])\n",
    "ks_projects_orig['state_converted'] = ks_projects_orig['state_converted'].apply(lambda x: 0 if x < 0 else x)\n",
    "\n",
    "# print the first few rows\n",
    "ks_projects_orig['state_converted'].head()"
   ]
  },
  {
   "cell_type": "code",
   "execution_count": null,
   "metadata": {
    "pycharm": {
     "name": "#%%\n"
    }
   },
   "outputs": [],
   "source": [
    "# drop redundant columns\n",
    "ks_projects_reduced = ks_projects_orig.drop(['ID', 'currency', 'goal', 'pledged', 'usd pledged', 'usd_pledged_real', 'deadline',\n",
    "                                             'deadline_parsed', 'launched', 'launched_parsed', 'state'], axis=1)"
   ]
  },
  {
   "cell_type": "code",
   "execution_count": null,
   "outputs": [],
   "source": [
    "# get info about DataFrame columns\n",
    "ks_projects_reduced.info()"
   ],
   "metadata": {
    "collapsed": false,
    "pycharm": {
     "name": "#%%\n"
    }
   }
  },
  {
   "cell_type": "code",
   "execution_count": null,
   "outputs": [],
   "source": [
    "# look at a few rows of the ks_projects file\n",
    "ks_projects_reduced.sample(5)"
   ],
   "metadata": {
    "collapsed": false,
    "pycharm": {
     "name": "#%%\n"
    }
   }
  },
  {
   "cell_type": "code",
   "execution_count": null,
   "metadata": {
    "pycharm": {
     "name": "#%%\n"
    }
   },
   "outputs": [],
   "source": [
    "# convert to numpy_array\n",
    "ks_projects_numpy = ks_projects_reduced.to_numpy()"
   ]
  },
  {
   "cell_type": "code",
   "execution_count": null,
   "metadata": {
    "pycharm": {
     "name": "#%%\n"
    }
   },
   "outputs": [],
   "source": [
    "# split numpy array into train and test datasets\n",
    "\n",
    "train_indices = np.random.rand(len(ks_projects_numpy)) < 0.8\n",
    "\n",
    "ks_projects_numpy_col_no = ks_projects_numpy.shape[1]\n",
    "\n",
    "train_set = ks_projects_numpy[train_indices]\n",
    "X_train, y_train = train_set[:, range(ks_projects_numpy_col_no - 1)], train_set[:, ks_projects_numpy_col_no - 1]\n",
    "\n",
    "test_set = ks_projects_numpy[~train_indices]\n",
    "X_test, y_test = test_set[:, range(ks_projects_numpy_col_no - 1)], test_set[:, ks_projects_numpy_col_no - 1]"
   ]
  },
  {
   "cell_type": "code",
   "execution_count": null,
   "metadata": {
    "pycharm": {
     "name": "#%%\n"
    }
   },
   "outputs": [],
   "source": [
    "# create first simple model using Keras Sequential\n",
    "\n",
    "n_inputs = train_set.shape[1] - 1\n",
    "n_hidden1 = 800\n",
    "n_hidden2 = 400\n",
    "drop_rate = 0.5\n",
    "momentum = 0.99\n",
    "learning_rate = 0.1\n",
    "\n",
    "he_init = keras.initializers.he_normal()\n",
    "elu = keras.activations.elu\n",
    "batch_normalization = layers.BatchNormalization\n",
    "dropout = layers.Dropout\n",
    "\n",
    "model = keras.Sequential(\n",
    "    [\n",
    "        keras.Input(shape=(n_inputs,)),\n",
    "        layers.Dense(n_hidden1, kernel_initializer= he_init , bias_initializer=he_init, activation=elu, name=\"hidden1\"),\n",
    "        batch_normalization(momentum=momentum),\n",
    "        dropout(rate=drop_rate),\n",
    "        layers.Dense(n_hidden2, kernel_initializer=he_init, bias_initializer=he_init, activation=elu, name=\"hidden2\"),\n",
    "        batch_normalization(momentum=momentum),\n",
    "        dropout(rate=drop_rate),\n",
    "        layers.Dense(1, activation=keras.activations.linear, name=\"outputs\"),\n",
    "        batch_normalization(momentum=momentum)\n",
    "    ]\n",
    ")\n",
    "\n",
    "#print model details\n",
    "model.summary()"
   ]
  },
  {
   "cell_type": "code",
   "execution_count": null,
   "outputs": [],
   "source": [
    "# train model\n",
    "optimizer = tf.compat.v1.train.MomentumOptimizer(learning_rate=learning_rate, momentum=momentum, use_nesterov=True)\n",
    "model.compile(optimizer=optimizer, loss=keras.losses.mse, metrics=['mse', 'mae'])\n",
    "history=model.fit(X_train, y_train, epochs=30, batch_size=150, verbose=1, validation_split=0.2)\n",
    "\n",
    "#%\n",
    "\n",
    "# print model loss\n",
    "print(history.history.keys())"
   ],
   "metadata": {
    "collapsed": false,
    "pycharm": {
     "name": "#%%\n"
    }
   }
  },
  {
   "cell_type": "code",
   "execution_count": null,
   "outputs": [],
   "source": [
    "# \"Loss\"\n",
    "plt.plot(history.history['loss'])\n",
    "plt.plot(history.history['val_loss'])\n",
    "plt.title('model loss')\n",
    "plt.ylabel('loss')\n",
    "plt.xlabel('epoch')\n",
    "plt.legend(['train', 'validation'], loc='upper left')\n",
    "plt.show()"
   ],
   "metadata": {
    "collapsed": false,
    "pycharm": {
     "name": "#%%\n"
    }
   }
  }
 ],
 "metadata": {
  "kernelspec": {
   "display_name": "PyCharm (kickstarter)",
   "language": "python",
   "name": "pycharm-da890fd0"
  },
  "language_info": {
   "codemirror_mode": {
    "name": "ipython",
    "version": 3
   },
   "file_extension": ".py",
   "mimetype": "text/x-python",
   "name": "python",
   "nbconvert_exporter": "python",
   "pygments_lexer": "ipython3",
   "version": "3.7.9"
  }
 },
 "nbformat": 4,
 "nbformat_minor": 1
}