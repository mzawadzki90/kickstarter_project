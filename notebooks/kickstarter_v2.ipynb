{
 "cells": [
  {
   "cell_type": "code",
   "execution_count": 16,
   "outputs": [
    {
     "data": {
      "text/plain": "                ID                                               name  \\\n338862   796196901                                 10G Christmas Tree   \n277871   483825010                                              Gliff   \n47000    123916947                                 STUFFED Food Truck   \n111338  1565733636  NeoExodus Adventure: Origin of Man for Pathfin...   \n53743   1273544891        NAPOLEON IN NEW YORK! an original TV Series   \n\n               category main_category currency    deadline     goal  \\\n338862              Art           Art      USD  2010-12-26  10526.0   \n277871  Gaming Hardware         Games      USD  2016-03-28  10000.0   \n47000       Food Trucks          Food      USD  2015-01-06  60000.0   \n111338   Tabletop Games         Games      USD  2012-05-01    500.0   \n53743            Comedy  Film & Video      USD  2016-07-26  25000.0   \n\n                   launched  pledged       state  backers country  \\\n338862  2010-12-08 08:44:04      0.0      failed        0      US   \n277871  2016-01-28 04:56:18     51.0      failed        5      US   \n47000   2014-11-07 02:24:36     25.0      failed        1      US   \n111338  2012-03-15 01:16:10    585.0  successful       17      US   \n53743   2016-05-27 00:07:25     25.0      failed        1      US   \n\n        usd pledged  usd_pledged_real  usd_goal_real  \n338862          0.0               0.0        10526.0  \n277871         51.0              51.0        10000.0  \n47000          25.0              25.0        60000.0  \n111338        585.0             585.0          500.0  \n53743          25.0              25.0        25000.0  ",
      "text/html": "<div>\n<style scoped>\n    .dataframe tbody tr th:only-of-type {\n        vertical-align: middle;\n    }\n\n    .dataframe tbody tr th {\n        vertical-align: top;\n    }\n\n    .dataframe thead th {\n        text-align: right;\n    }\n</style>\n<table border=\"1\" class=\"dataframe\">\n  <thead>\n    <tr style=\"text-align: right;\">\n      <th></th>\n      <th>ID</th>\n      <th>name</th>\n      <th>category</th>\n      <th>main_category</th>\n      <th>currency</th>\n      <th>deadline</th>\n      <th>goal</th>\n      <th>launched</th>\n      <th>pledged</th>\n      <th>state</th>\n      <th>backers</th>\n      <th>country</th>\n      <th>usd pledged</th>\n      <th>usd_pledged_real</th>\n      <th>usd_goal_real</th>\n    </tr>\n  </thead>\n  <tbody>\n    <tr>\n      <th>338862</th>\n      <td>796196901</td>\n      <td>10G Christmas Tree</td>\n      <td>Art</td>\n      <td>Art</td>\n      <td>USD</td>\n      <td>2010-12-26</td>\n      <td>10526.0</td>\n      <td>2010-12-08 08:44:04</td>\n      <td>0.0</td>\n      <td>failed</td>\n      <td>0</td>\n      <td>US</td>\n      <td>0.0</td>\n      <td>0.0</td>\n      <td>10526.0</td>\n    </tr>\n    <tr>\n      <th>277871</th>\n      <td>483825010</td>\n      <td>Gliff</td>\n      <td>Gaming Hardware</td>\n      <td>Games</td>\n      <td>USD</td>\n      <td>2016-03-28</td>\n      <td>10000.0</td>\n      <td>2016-01-28 04:56:18</td>\n      <td>51.0</td>\n      <td>failed</td>\n      <td>5</td>\n      <td>US</td>\n      <td>51.0</td>\n      <td>51.0</td>\n      <td>10000.0</td>\n    </tr>\n    <tr>\n      <th>47000</th>\n      <td>123916947</td>\n      <td>STUFFED Food Truck</td>\n      <td>Food Trucks</td>\n      <td>Food</td>\n      <td>USD</td>\n      <td>2015-01-06</td>\n      <td>60000.0</td>\n      <td>2014-11-07 02:24:36</td>\n      <td>25.0</td>\n      <td>failed</td>\n      <td>1</td>\n      <td>US</td>\n      <td>25.0</td>\n      <td>25.0</td>\n      <td>60000.0</td>\n    </tr>\n    <tr>\n      <th>111338</th>\n      <td>1565733636</td>\n      <td>NeoExodus Adventure: Origin of Man for Pathfin...</td>\n      <td>Tabletop Games</td>\n      <td>Games</td>\n      <td>USD</td>\n      <td>2012-05-01</td>\n      <td>500.0</td>\n      <td>2012-03-15 01:16:10</td>\n      <td>585.0</td>\n      <td>successful</td>\n      <td>17</td>\n      <td>US</td>\n      <td>585.0</td>\n      <td>585.0</td>\n      <td>500.0</td>\n    </tr>\n    <tr>\n      <th>53743</th>\n      <td>1273544891</td>\n      <td>NAPOLEON IN NEW YORK! an original TV Series</td>\n      <td>Comedy</td>\n      <td>Film &amp; Video</td>\n      <td>USD</td>\n      <td>2016-07-26</td>\n      <td>25000.0</td>\n      <td>2016-05-27 00:07:25</td>\n      <td>25.0</td>\n      <td>failed</td>\n      <td>1</td>\n      <td>US</td>\n      <td>25.0</td>\n      <td>25.0</td>\n      <td>25000.0</td>\n    </tr>\n  </tbody>\n</table>\n</div>"
     },
     "metadata": {},
     "output_type": "execute_result",
     "execution_count": 16
    }
   ],
   "source": [
    "# modules we'll use\n",
    "import pandas as pd\n",
    "import numpy as np\n",
    "from sklearn.preprocessing import LabelEncoder\n",
    "\n",
    "# read in all our data\n",
    "ks_projects_orig  = pd.read_csv(\"../src/ks-projects-201801.csv\")\n",
    "\n",
    "# set seed for reproducibility\n",
    "np.random.seed(0) \n",
    "\n",
    "# look at a few rows of the ks_projects file\n",
    "ks_projects_orig.sample(5)\n"
   ],
   "metadata": {
    "collapsed": false,
    "pycharm": {
     "name": "#%%\n",
     "is_executing": false
    }
   }
  },
  {
   "cell_type": "code",
   "execution_count": 17,
   "outputs": [
    {
     "name": "stdout",
     "text": [
      "<class 'pandas.core.frame.DataFrame'>\n",
      "RangeIndex: 378661 entries, 0 to 378660\n",
      "Data columns (total 15 columns):\n",
      " #   Column            Non-Null Count   Dtype  \n",
      "---  ------            --------------   -----  \n",
      " 0   ID                378661 non-null  int64  \n",
      " 1   name              378657 non-null  object \n",
      " 2   category          378661 non-null  object \n",
      " 3   main_category     378661 non-null  object \n",
      " 4   currency          378661 non-null  object \n",
      " 5   deadline          378661 non-null  object \n",
      " 6   goal              378661 non-null  float64\n",
      " 7   launched          378661 non-null  object \n",
      " 8   pledged           378661 non-null  float64\n",
      " 9   state             378661 non-null  object \n",
      " 10  backers           378661 non-null  int64  \n",
      " 11  country           378661 non-null  object \n",
      " 12  usd pledged       374864 non-null  float64\n",
      " 13  usd_pledged_real  378661 non-null  float64\n",
      " 14  usd_goal_real     378661 non-null  float64\n",
      "dtypes: float64(5), int64(2), object(8)\n",
      "memory usage: 43.3+ MB\n"
     ],
     "output_type": "stream"
    }
   ],
   "source": [
    "# get info about DataFrame columns\n",
    "ks_projects_orig.info()"
   ],
   "metadata": {
    "collapsed": false,
    "pycharm": {
     "name": "#%%\n",
     "is_executing": false
    }
   }
  },
  {
   "cell_type": "code",
   "execution_count": 18,
   "outputs": [
    {
     "name": "stdout",
     "text": [
      "<class 'pandas.core.frame.DataFrame'>\n",
      "RangeIndex: 378661 entries, 0 to 378660\n",
      "Data columns (total 15 columns):\n",
      " #   Column            Non-Null Count   Dtype         \n",
      "---  ------            --------------   -----         \n",
      " 0   ID                378661 non-null  int64         \n",
      " 1   name              378657 non-null  object        \n",
      " 2   category          378661 non-null  object        \n",
      " 3   main_category     378661 non-null  object        \n",
      " 4   currency          378661 non-null  object        \n",
      " 5   deadline          378661 non-null  datetime64[ns]\n",
      " 6   goal              378661 non-null  float64       \n",
      " 7   launched          378661 non-null  datetime64[ns]\n",
      " 8   pledged           378661 non-null  float64       \n",
      " 9   state             378661 non-null  object        \n",
      " 10  backers           378661 non-null  int64         \n",
      " 11  country           378661 non-null  object        \n",
      " 12  usd pledged       374864 non-null  float64       \n",
      " 13  usd_pledged_real  378661 non-null  float64       \n",
      " 14  usd_goal_real     378661 non-null  float64       \n",
      "dtypes: datetime64[ns](2), float64(5), int64(2), object(6)\n",
      "memory usage: 43.3+ MB\n"
     ],
     "output_type": "stream"
    },
    {
     "data": {
      "text/plain": "                ID                                     name     category  \\\n299667   595962034                      Button Poetry Live!  Mixed Media   \n181674  1924707671         C STREET 2012 : Tbilisi, Georgia  World Music   \n137583  1698707842                    Dérive's Next Project         Punk   \n296861   581269566  Photo Book - World Santa Claus Congress   Photobooks   \n66362   1337585114      Kickstart CLE Brewing to greatness!       Drinks   \n\n       main_category currency   deadline      goal            launched  \\\n299667           Art      USD 2015-09-18   10000.0 2015-08-19 19:34:20   \n181674         Music      USD 2012-06-07    5000.0 2012-05-08 18:22:59   \n137583         Music      USD 2014-07-06    1200.0 2014-06-08 17:58:37   \n296861   Photography      DKK 2017-04-14  110000.0 2017-03-14 23:45:35   \n66362           Food      USD 2017-08-19    6500.0 2017-07-20 21:22:43   \n\n         pledged       state  backers country  usd pledged  usd_pledged_real  \\\n299667  18216.27  successful      455      US     18216.27          18216.27   \n181674   7210.69  successful       82      US      7210.69           7210.69   \n137583   1255.66  successful       33      US      1255.66           1255.66   \n296861    462.00      failed        5      DK         0.00             66.46   \n66362     250.00      failed        5      US        75.00            250.00   \n\n        usd_goal_real  \n299667       10000.00  \n181674        5000.00  \n137583        1200.00  \n296861       15823.47  \n66362         6500.00  ",
      "text/html": "<div>\n<style scoped>\n    .dataframe tbody tr th:only-of-type {\n        vertical-align: middle;\n    }\n\n    .dataframe tbody tr th {\n        vertical-align: top;\n    }\n\n    .dataframe thead th {\n        text-align: right;\n    }\n</style>\n<table border=\"1\" class=\"dataframe\">\n  <thead>\n    <tr style=\"text-align: right;\">\n      <th></th>\n      <th>ID</th>\n      <th>name</th>\n      <th>category</th>\n      <th>main_category</th>\n      <th>currency</th>\n      <th>deadline</th>\n      <th>goal</th>\n      <th>launched</th>\n      <th>pledged</th>\n      <th>state</th>\n      <th>backers</th>\n      <th>country</th>\n      <th>usd pledged</th>\n      <th>usd_pledged_real</th>\n      <th>usd_goal_real</th>\n    </tr>\n  </thead>\n  <tbody>\n    <tr>\n      <th>299667</th>\n      <td>595962034</td>\n      <td>Button Poetry Live!</td>\n      <td>Mixed Media</td>\n      <td>Art</td>\n      <td>USD</td>\n      <td>2015-09-18</td>\n      <td>10000.0</td>\n      <td>2015-08-19 19:34:20</td>\n      <td>18216.27</td>\n      <td>successful</td>\n      <td>455</td>\n      <td>US</td>\n      <td>18216.27</td>\n      <td>18216.27</td>\n      <td>10000.00</td>\n    </tr>\n    <tr>\n      <th>181674</th>\n      <td>1924707671</td>\n      <td>C STREET 2012 : Tbilisi, Georgia</td>\n      <td>World Music</td>\n      <td>Music</td>\n      <td>USD</td>\n      <td>2012-06-07</td>\n      <td>5000.0</td>\n      <td>2012-05-08 18:22:59</td>\n      <td>7210.69</td>\n      <td>successful</td>\n      <td>82</td>\n      <td>US</td>\n      <td>7210.69</td>\n      <td>7210.69</td>\n      <td>5000.00</td>\n    </tr>\n    <tr>\n      <th>137583</th>\n      <td>1698707842</td>\n      <td>Dérive's Next Project</td>\n      <td>Punk</td>\n      <td>Music</td>\n      <td>USD</td>\n      <td>2014-07-06</td>\n      <td>1200.0</td>\n      <td>2014-06-08 17:58:37</td>\n      <td>1255.66</td>\n      <td>successful</td>\n      <td>33</td>\n      <td>US</td>\n      <td>1255.66</td>\n      <td>1255.66</td>\n      <td>1200.00</td>\n    </tr>\n    <tr>\n      <th>296861</th>\n      <td>581269566</td>\n      <td>Photo Book - World Santa Claus Congress</td>\n      <td>Photobooks</td>\n      <td>Photography</td>\n      <td>DKK</td>\n      <td>2017-04-14</td>\n      <td>110000.0</td>\n      <td>2017-03-14 23:45:35</td>\n      <td>462.00</td>\n      <td>failed</td>\n      <td>5</td>\n      <td>DK</td>\n      <td>0.00</td>\n      <td>66.46</td>\n      <td>15823.47</td>\n    </tr>\n    <tr>\n      <th>66362</th>\n      <td>1337585114</td>\n      <td>Kickstart CLE Brewing to greatness!</td>\n      <td>Drinks</td>\n      <td>Food</td>\n      <td>USD</td>\n      <td>2017-08-19</td>\n      <td>6500.0</td>\n      <td>2017-07-20 21:22:43</td>\n      <td>250.00</td>\n      <td>failed</td>\n      <td>5</td>\n      <td>US</td>\n      <td>75.00</td>\n      <td>250.00</td>\n      <td>6500.00</td>\n    </tr>\n  </tbody>\n</table>\n</div>"
     },
     "metadata": {},
     "output_type": "execute_result",
     "execution_count": 18
    }
   ],
   "source": [
    "# convert 'deadline' and 'launched' columns to datetime\n",
    "ks_projects_orig['deadline'] = pd.to_datetime(ks_projects_orig['deadline'])\n",
    "ks_projects_orig['launched'] = pd.to_datetime(ks_projects_orig['launched'])\n",
    "\n",
    "# get info about DataFrame columns\n",
    "ks_projects_orig.info()\n",
    "\n",
    "# look at a few rows of the ks_projects file\n",
    "ks_projects_orig.sample(5)"
   ],
   "metadata": {
    "collapsed": false,
    "pycharm": {
     "name": "#%%\n",
     "is_executing": false
    }
   }
  },
  {
   "cell_type": "code",
   "execution_count": 19,
   "outputs": [
    {
     "name": "stdout",
     "text": [
      "<class 'pandas.core.frame.DataFrame'>\n",
      "RangeIndex: 378661 entries, 0 to 378660\n",
      "Data columns (total 15 columns):\n",
      " #   Column            Non-Null Count   Dtype         \n",
      "---  ------            --------------   -----         \n",
      " 0   ID                378661 non-null  int64         \n",
      " 1   name              378657 non-null  object        \n",
      " 2   category          378661 non-null  int32         \n",
      " 3   main_category     378661 non-null  int32         \n",
      " 4   currency          378661 non-null  object        \n",
      " 5   deadline          378661 non-null  datetime64[ns]\n",
      " 6   goal              378661 non-null  float64       \n",
      " 7   launched          378661 non-null  datetime64[ns]\n",
      " 8   pledged           378661 non-null  float64       \n",
      " 9   state             378661 non-null  int32         \n",
      " 10  backers           378661 non-null  int64         \n",
      " 11  country           378661 non-null  int32         \n",
      " 12  usd pledged       374864 non-null  float64       \n",
      " 13  usd_pledged_real  378661 non-null  float64       \n",
      " 14  usd_goal_real     378661 non-null  float64       \n",
      "dtypes: datetime64[ns](2), float64(5), int32(4), int64(2), object(2)\n",
      "memory usage: 37.6+ MB\n"
     ],
     "output_type": "stream"
    },
    {
     "data": {
      "text/plain": "                ID                                               name  \\\n284129   515317667                      Three Zombies in Philadelphia   \n187025  1952141049  Chroma Cafe and Bakery Hood and Expansion Project   \n231103    24476326                                        The L Train   \n117045  1594525425                              Slimo - Desktop Buddy   \n214293  2091909738                        TheBoutSheet.Com Mobile Aps   \n\n        category  main_category currency   deadline     goal  \\\n284129        55              6      USD 2013-05-29  20000.0   \n187025       123              7      USD 2014-05-30   9750.0   \n231103        24              6      USD 2017-09-09   6000.0   \n117045       131             13      USD 2017-11-01    250.0   \n214293       151             13      USD 2015-06-24  25000.0   \n\n                  launched  pledged  state  backers  country  usd pledged  \\\n284129 2013-03-30 19:36:04    29.99      1        4       22        29.99   \n187025 2014-04-25 03:13:43  9900.00      3      134       22      9900.00   \n231103 2017-08-25 00:00:26  6065.00      3       81       22       340.00   \n117045 2017-10-02 20:10:09    22.00      1        3       22        10.00   \n214293 2015-05-18 23:40:29     0.00      1        0       22         0.00   \n\n        usd_pledged_real  usd_goal_real  \n284129             29.99        20000.0  \n187025           9900.00         9750.0  \n231103           6065.00         6000.0  \n117045             22.00          250.0  \n214293              0.00        25000.0  ",
      "text/html": "<div>\n<style scoped>\n    .dataframe tbody tr th:only-of-type {\n        vertical-align: middle;\n    }\n\n    .dataframe tbody tr th {\n        vertical-align: top;\n    }\n\n    .dataframe thead th {\n        text-align: right;\n    }\n</style>\n<table border=\"1\" class=\"dataframe\">\n  <thead>\n    <tr style=\"text-align: right;\">\n      <th></th>\n      <th>ID</th>\n      <th>name</th>\n      <th>category</th>\n      <th>main_category</th>\n      <th>currency</th>\n      <th>deadline</th>\n      <th>goal</th>\n      <th>launched</th>\n      <th>pledged</th>\n      <th>state</th>\n      <th>backers</th>\n      <th>country</th>\n      <th>usd pledged</th>\n      <th>usd_pledged_real</th>\n      <th>usd_goal_real</th>\n    </tr>\n  </thead>\n  <tbody>\n    <tr>\n      <th>284129</th>\n      <td>515317667</td>\n      <td>Three Zombies in Philadelphia</td>\n      <td>55</td>\n      <td>6</td>\n      <td>USD</td>\n      <td>2013-05-29</td>\n      <td>20000.0</td>\n      <td>2013-03-30 19:36:04</td>\n      <td>29.99</td>\n      <td>1</td>\n      <td>4</td>\n      <td>22</td>\n      <td>29.99</td>\n      <td>29.99</td>\n      <td>20000.0</td>\n    </tr>\n    <tr>\n      <th>187025</th>\n      <td>1952141049</td>\n      <td>Chroma Cafe and Bakery Hood and Expansion Project</td>\n      <td>123</td>\n      <td>7</td>\n      <td>USD</td>\n      <td>2014-05-30</td>\n      <td>9750.0</td>\n      <td>2014-04-25 03:13:43</td>\n      <td>9900.00</td>\n      <td>3</td>\n      <td>134</td>\n      <td>22</td>\n      <td>9900.00</td>\n      <td>9900.00</td>\n      <td>9750.0</td>\n    </tr>\n    <tr>\n      <th>231103</th>\n      <td>24476326</td>\n      <td>The L Train</td>\n      <td>24</td>\n      <td>6</td>\n      <td>USD</td>\n      <td>2017-09-09</td>\n      <td>6000.0</td>\n      <td>2017-08-25 00:00:26</td>\n      <td>6065.00</td>\n      <td>3</td>\n      <td>81</td>\n      <td>22</td>\n      <td>340.00</td>\n      <td>6065.00</td>\n      <td>6000.0</td>\n    </tr>\n    <tr>\n      <th>117045</th>\n      <td>1594525425</td>\n      <td>Slimo - Desktop Buddy</td>\n      <td>131</td>\n      <td>13</td>\n      <td>USD</td>\n      <td>2017-11-01</td>\n      <td>250.0</td>\n      <td>2017-10-02 20:10:09</td>\n      <td>22.00</td>\n      <td>1</td>\n      <td>3</td>\n      <td>22</td>\n      <td>10.00</td>\n      <td>22.00</td>\n      <td>250.0</td>\n    </tr>\n    <tr>\n      <th>214293</th>\n      <td>2091909738</td>\n      <td>TheBoutSheet.Com Mobile Aps</td>\n      <td>151</td>\n      <td>13</td>\n      <td>USD</td>\n      <td>2015-06-24</td>\n      <td>25000.0</td>\n      <td>2015-05-18 23:40:29</td>\n      <td>0.00</td>\n      <td>1</td>\n      <td>0</td>\n      <td>22</td>\n      <td>0.00</td>\n      <td>0.00</td>\n      <td>25000.0</td>\n    </tr>\n  </tbody>\n</table>\n</div>"
     },
     "metadata": {},
     "output_type": "execute_result",
     "execution_count": 19
    }
   ],
   "source": [
    "# convert non numeric to numeric\n",
    "le = LabelEncoder()\n",
    "ks_projects_orig['category'] = le.fit_transform(ks_projects_orig['category'])\n",
    "ks_projects_orig['main_category'] = le.fit_transform(ks_projects_orig['main_category'])\n",
    "ks_projects_orig['state'] = le.fit_transform(ks_projects_orig['state'])\n",
    "ks_projects_orig['country'] = le.fit_transform(ks_projects_orig['country'])\n",
    "\n",
    "# get info about DataFrame columns\n",
    "ks_projects_orig.info()\n",
    "\n",
    "# look at a few rows of the ks_projects file\n",
    "ks_projects_orig.sample(5)"
   ],
   "metadata": {
    "collapsed": false,
    "pycharm": {
     "name": "#%%\n",
     "is_executing": false
    }
   }
  },
  {
   "cell_type": "code",
   "execution_count": 22,
   "outputs": [
    {
     "name": "stdout",
     "text": [
      "<class 'pandas.core.frame.DataFrame'>\n",
      "RangeIndex: 378661 entries, 0 to 378660\n",
      "Data columns (total 9 columns):\n",
      " #   Column            Non-Null Count   Dtype         \n",
      "---  ------            --------------   -----         \n",
      " 0   category          378661 non-null  int32         \n",
      " 1   main_category     378661 non-null  int32         \n",
      " 2   deadline          378661 non-null  datetime64[ns]\n",
      " 3   launched          378661 non-null  datetime64[ns]\n",
      " 4   state             378661 non-null  int32         \n",
      " 5   backers           378661 non-null  int64         \n",
      " 6   country           378661 non-null  int32         \n",
      " 7   usd_pledged_real  378661 non-null  float64       \n",
      " 8   usd_goal_real     378661 non-null  float64       \n",
      "dtypes: datetime64[ns](2), float64(2), int32(4), int64(1)\n",
      "memory usage: 20.2 MB\n"
     ],
     "output_type": "stream"
    },
    {
     "data": {
      "text/plain": "        category  main_category   deadline            launched  state  \\\n146996        53              6 2017-12-28 2017-11-28 05:57:28      3   \n263453        10              0 2015-05-08 2015-04-08 00:28:05      3   \n315751        93              6 2011-05-26 2011-04-26 18:50:25      3   \n109139         2              5 2017-08-20 2017-07-21 17:00:44      1   \n275234        38              0 2016-06-09 2016-05-25 13:42:35      3   \n\n        backers  country  usd_pledged_real  usd_goal_real  \n146996       34       22           9209.00        7000.00  \n263453       49        9           2042.29        1849.63  \n315751      888       22          82468.55       80000.00  \n109139       13       22            258.00         406.00  \n275234        9       22            256.00         200.00  ",
      "text/html": "<div>\n<style scoped>\n    .dataframe tbody tr th:only-of-type {\n        vertical-align: middle;\n    }\n\n    .dataframe tbody tr th {\n        vertical-align: top;\n    }\n\n    .dataframe thead th {\n        text-align: right;\n    }\n</style>\n<table border=\"1\" class=\"dataframe\">\n  <thead>\n    <tr style=\"text-align: right;\">\n      <th></th>\n      <th>category</th>\n      <th>main_category</th>\n      <th>deadline</th>\n      <th>launched</th>\n      <th>state</th>\n      <th>backers</th>\n      <th>country</th>\n      <th>usd_pledged_real</th>\n      <th>usd_goal_real</th>\n    </tr>\n  </thead>\n  <tbody>\n    <tr>\n      <th>146996</th>\n      <td>53</td>\n      <td>6</td>\n      <td>2017-12-28</td>\n      <td>2017-11-28 05:57:28</td>\n      <td>3</td>\n      <td>34</td>\n      <td>22</td>\n      <td>9209.00</td>\n      <td>7000.00</td>\n    </tr>\n    <tr>\n      <th>263453</th>\n      <td>10</td>\n      <td>0</td>\n      <td>2015-05-08</td>\n      <td>2015-04-08 00:28:05</td>\n      <td>3</td>\n      <td>49</td>\n      <td>9</td>\n      <td>2042.29</td>\n      <td>1849.63</td>\n    </tr>\n    <tr>\n      <th>315751</th>\n      <td>93</td>\n      <td>6</td>\n      <td>2011-05-26</td>\n      <td>2011-04-26 18:50:25</td>\n      <td>3</td>\n      <td>888</td>\n      <td>22</td>\n      <td>82468.55</td>\n      <td>80000.00</td>\n    </tr>\n    <tr>\n      <th>109139</th>\n      <td>2</td>\n      <td>5</td>\n      <td>2017-08-20</td>\n      <td>2017-07-21 17:00:44</td>\n      <td>1</td>\n      <td>13</td>\n      <td>22</td>\n      <td>258.00</td>\n      <td>406.00</td>\n    </tr>\n    <tr>\n      <th>275234</th>\n      <td>38</td>\n      <td>0</td>\n      <td>2016-06-09</td>\n      <td>2016-05-25 13:42:35</td>\n      <td>3</td>\n      <td>9</td>\n      <td>22</td>\n      <td>256.00</td>\n      <td>200.00</td>\n    </tr>\n  </tbody>\n</table>\n</div>"
     },
     "metadata": {},
     "output_type": "execute_result",
     "execution_count": 22
    }
   ],
   "source": [
    "# drop redundant columns\n",
    "ks_projects_reduced = ks_projects_orig.drop(['ID', 'name', 'currency', 'goal', 'pledged', 'usd pledged'], axis=1)\n",
    "\n",
    "# get info about DataFrame columns\n",
    "ks_projects_reduced.info()\n",
    "\n",
    "# look at a few rows of the ks_projects file\n",
    "ks_projects_reduced.sample(5)"
   ],
   "metadata": {
    "collapsed": false,
    "pycharm": {
     "name": "#%%\n",
     "is_executing": false
    }
   }
  },
  {
   "cell_type": "code",
   "execution_count": 23,
   "outputs": [
    {
     "data": {
      "text/plain": "array([[108, 12, Timestamp('2015-10-09 00:00:00'),\n        Timestamp('2015-08-11 12:12:28'), 1, 0, 9, 0.0, 1533.95],\n       [93, 6, Timestamp('2017-11-01 00:00:00'),\n        Timestamp('2017-09-02 04:43:57'), 1, 15, 22, 2421.0, 30000.0],\n       [93, 6, Timestamp('2013-02-26 00:00:00'),\n        Timestamp('2013-01-12 00:20:50'), 1, 3, 22, 220.0, 45000.0],\n       [90, 10, Timestamp('2012-04-16 00:00:00'),\n        Timestamp('2012-03-17 03:24:11'), 1, 1, 22, 1.0, 5000.0]],\n      dtype=object)"
     },
     "metadata": {},
     "output_type": "execute_result",
     "execution_count": 23
    }
   ],
   "source": [
    "# convert to numpy_array\n",
    "ks_projects_numpy = ks_projects_reduced.to_numpy()\n",
    "\n",
    "# print first 5 rows\n",
    "ks_projects_numpy[0:4, :]\n",
    "\n"
   ],
   "metadata": {
    "collapsed": false,
    "pycharm": {
     "name": "#%%\n",
     "is_executing": false
    }
   }
  }
 ],
 "metadata": {
  "kernelspec": {
   "name": "pycharm-da890fd0",
   "language": "python",
   "display_name": "PyCharm (kickstarter)"
  },
  "language_info": {
   "codemirror_mode": {
    "name": "ipython",
    "version": 2
   },
   "file_extension": ".py",
   "mimetype": "text/x-python",
   "name": "python",
   "nbconvert_exporter": "python",
   "pygments_lexer": "ipython2",
   "version": "2.7.6"
  },
  "pycharm": {
   "stem_cell": {
    "cell_type": "raw",
    "source": [],
    "metadata": {
     "collapsed": false
    }
   }
  }
 },
 "nbformat": 4,
 "nbformat_minor": 0
}