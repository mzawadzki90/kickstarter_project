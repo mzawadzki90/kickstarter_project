{
 "cells": [
  {
   "cell_type": "code",
   "execution_count": 165,
   "outputs": [
    {
     "data": {
      "text/plain": "                ID                                               name  \\\n338862   796196901                                 10G Christmas Tree   \n277871   483825010                                              Gliff   \n47000    123916947                                 STUFFED Food Truck   \n111338  1565733636  NeoExodus Adventure: Origin of Man for Pathfin...   \n53743   1273544891        NAPOLEON IN NEW YORK! an original TV Series   \n\n               category main_category currency    deadline     goal  \\\n338862              Art           Art      USD  2010-12-26  10526.0   \n277871  Gaming Hardware         Games      USD  2016-03-28  10000.0   \n47000       Food Trucks          Food      USD  2015-01-06  60000.0   \n111338   Tabletop Games         Games      USD  2012-05-01    500.0   \n53743            Comedy  Film & Video      USD  2016-07-26  25000.0   \n\n                   launched  pledged       state  backers country  \\\n338862  2010-12-08 08:44:04      0.0      failed        0      US   \n277871  2016-01-28 04:56:18     51.0      failed        5      US   \n47000   2014-11-07 02:24:36     25.0      failed        1      US   \n111338  2012-03-15 01:16:10    585.0  successful       17      US   \n53743   2016-05-27 00:07:25     25.0      failed        1      US   \n\n        usd pledged  usd_pledged_real  usd_goal_real  \n338862          0.0               0.0        10526.0  \n277871         51.0              51.0        10000.0  \n47000          25.0              25.0        60000.0  \n111338        585.0             585.0          500.0  \n53743          25.0              25.0        25000.0  ",
      "text/html": "<div>\n<style scoped>\n    .dataframe tbody tr th:only-of-type {\n        vertical-align: middle;\n    }\n\n    .dataframe tbody tr th {\n        vertical-align: top;\n    }\n\n    .dataframe thead th {\n        text-align: right;\n    }\n</style>\n<table border=\"1\" class=\"dataframe\">\n  <thead>\n    <tr style=\"text-align: right;\">\n      <th></th>\n      <th>ID</th>\n      <th>name</th>\n      <th>category</th>\n      <th>main_category</th>\n      <th>currency</th>\n      <th>deadline</th>\n      <th>goal</th>\n      <th>launched</th>\n      <th>pledged</th>\n      <th>state</th>\n      <th>backers</th>\n      <th>country</th>\n      <th>usd pledged</th>\n      <th>usd_pledged_real</th>\n      <th>usd_goal_real</th>\n    </tr>\n  </thead>\n  <tbody>\n    <tr>\n      <th>338862</th>\n      <td>796196901</td>\n      <td>10G Christmas Tree</td>\n      <td>Art</td>\n      <td>Art</td>\n      <td>USD</td>\n      <td>2010-12-26</td>\n      <td>10526.0</td>\n      <td>2010-12-08 08:44:04</td>\n      <td>0.0</td>\n      <td>failed</td>\n      <td>0</td>\n      <td>US</td>\n      <td>0.0</td>\n      <td>0.0</td>\n      <td>10526.0</td>\n    </tr>\n    <tr>\n      <th>277871</th>\n      <td>483825010</td>\n      <td>Gliff</td>\n      <td>Gaming Hardware</td>\n      <td>Games</td>\n      <td>USD</td>\n      <td>2016-03-28</td>\n      <td>10000.0</td>\n      <td>2016-01-28 04:56:18</td>\n      <td>51.0</td>\n      <td>failed</td>\n      <td>5</td>\n      <td>US</td>\n      <td>51.0</td>\n      <td>51.0</td>\n      <td>10000.0</td>\n    </tr>\n    <tr>\n      <th>47000</th>\n      <td>123916947</td>\n      <td>STUFFED Food Truck</td>\n      <td>Food Trucks</td>\n      <td>Food</td>\n      <td>USD</td>\n      <td>2015-01-06</td>\n      <td>60000.0</td>\n      <td>2014-11-07 02:24:36</td>\n      <td>25.0</td>\n      <td>failed</td>\n      <td>1</td>\n      <td>US</td>\n      <td>25.0</td>\n      <td>25.0</td>\n      <td>60000.0</td>\n    </tr>\n    <tr>\n      <th>111338</th>\n      <td>1565733636</td>\n      <td>NeoExodus Adventure: Origin of Man for Pathfin...</td>\n      <td>Tabletop Games</td>\n      <td>Games</td>\n      <td>USD</td>\n      <td>2012-05-01</td>\n      <td>500.0</td>\n      <td>2012-03-15 01:16:10</td>\n      <td>585.0</td>\n      <td>successful</td>\n      <td>17</td>\n      <td>US</td>\n      <td>585.0</td>\n      <td>585.0</td>\n      <td>500.0</td>\n    </tr>\n    <tr>\n      <th>53743</th>\n      <td>1273544891</td>\n      <td>NAPOLEON IN NEW YORK! an original TV Series</td>\n      <td>Comedy</td>\n      <td>Film &amp; Video</td>\n      <td>USD</td>\n      <td>2016-07-26</td>\n      <td>25000.0</td>\n      <td>2016-05-27 00:07:25</td>\n      <td>25.0</td>\n      <td>failed</td>\n      <td>1</td>\n      <td>US</td>\n      <td>25.0</td>\n      <td>25.0</td>\n      <td>25000.0</td>\n    </tr>\n  </tbody>\n</table>\n</div>"
     },
     "execution_count": 165,
     "metadata": {},
     "output_type": "execute_result"
    }
   ],
   "source": [
    "# modules we'll use\n",
    "import pandas as pd\n",
    "import numpy as np\n",
    "from sklearn.preprocessing import LabelEncoder\n",
    "\n",
    "# read in all our data\n",
    "ks_projects_orig  = pd.read_csv(\"../data/ks-projects-201801.csv\")\n",
    "\n",
    "# set seed for reproducibility\n",
    "np.random.seed(0) \n",
    "\n",
    "# look at a few rows of the ks_projects file\n",
    "ks_projects_orig.sample(5)\n"
   ],
   "metadata": {
    "collapsed": false,
    "pycharm": {
     "name": "#%%\n"
    }
   }
  },
  {
   "cell_type": "code",
   "execution_count": 166,
   "outputs": [
    {
     "name": "stdout",
     "output_type": "stream",
     "text": [
      "<class 'pandas.core.frame.DataFrame'>\n",
      "RangeIndex: 378661 entries, 0 to 378660\n",
      "Data columns (total 15 columns):\n",
      " #   Column            Non-Null Count   Dtype  \n",
      "---  ------            --------------   -----  \n",
      " 0   ID                378661 non-null  int64  \n",
      " 1   name              378657 non-null  object \n",
      " 2   category          378661 non-null  object \n",
      " 3   main_category     378661 non-null  object \n",
      " 4   currency          378661 non-null  object \n",
      " 5   deadline          378661 non-null  object \n",
      " 6   goal              378661 non-null  float64\n",
      " 7   launched          378661 non-null  object \n",
      " 8   pledged           378661 non-null  float64\n",
      " 9   state             378661 non-null  object \n",
      " 10  backers           378661 non-null  int64  \n",
      " 11  country           378661 non-null  object \n",
      " 12  usd pledged       374864 non-null  float64\n",
      " 13  usd_pledged_real  378661 non-null  float64\n",
      " 14  usd_goal_real     378661 non-null  float64\n",
      "dtypes: float64(5), int64(2), object(8)\n",
      "memory usage: 43.3+ MB\n"
     ]
    }
   ],
   "source": [
    "# get info about DataFrame columns\n",
    "ks_projects_orig.info()"
   ],
   "metadata": {
    "collapsed": false,
    "pycharm": {
     "name": "#%%\n"
    }
   }
  },
  {
   "cell_type": "code",
   "execution_count": 167,
   "outputs": [
    {
     "name": "stdout",
     "output_type": "stream",
     "text": [
      "<class 'pandas.core.frame.DataFrame'>\n",
      "RangeIndex: 378661 entries, 0 to 378660\n",
      "Data columns (total 15 columns):\n",
      " #   Column            Non-Null Count   Dtype         \n",
      "---  ------            --------------   -----         \n",
      " 0   ID                378661 non-null  int64         \n",
      " 1   name              378657 non-null  object        \n",
      " 2   category          378661 non-null  object        \n",
      " 3   main_category     378661 non-null  object        \n",
      " 4   currency          378661 non-null  object        \n",
      " 5   deadline          378661 non-null  datetime64[ns]\n",
      " 6   goal              378661 non-null  float64       \n",
      " 7   launched          378661 non-null  datetime64[ns]\n",
      " 8   pledged           378661 non-null  float64       \n",
      " 9   state             378661 non-null  object        \n",
      " 10  backers           378661 non-null  int64         \n",
      " 11  country           378661 non-null  object        \n",
      " 12  usd pledged       374864 non-null  float64       \n",
      " 13  usd_pledged_real  378661 non-null  float64       \n",
      " 14  usd_goal_real     378661 non-null  float64       \n",
      "dtypes: datetime64[ns](2), float64(5), int64(2), object(6)\n",
      "memory usage: 43.3+ MB\n"
     ]
    },
    {
     "data": {
      "text/plain": "                ID                                     name     category  \\\n299667   595962034                      Button Poetry Live!  Mixed Media   \n181674  1924707671         C STREET 2012 : Tbilisi, Georgia  World Music   \n137583  1698707842                    Dérive's Next Project         Punk   \n296861   581269566  Photo Book - World Santa Claus Congress   Photobooks   \n66362   1337585114      Kickstart CLE Brewing to greatness!       Drinks   \n\n       main_category currency   deadline      goal            launched  \\\n299667           Art      USD 2015-09-18   10000.0 2015-08-19 19:34:20   \n181674         Music      USD 2012-06-07    5000.0 2012-05-08 18:22:59   \n137583         Music      USD 2014-07-06    1200.0 2014-06-08 17:58:37   \n296861   Photography      DKK 2017-04-14  110000.0 2017-03-14 23:45:35   \n66362           Food      USD 2017-08-19    6500.0 2017-07-20 21:22:43   \n\n         pledged       state  backers country  usd pledged  usd_pledged_real  \\\n299667  18216.27  successful      455      US     18216.27          18216.27   \n181674   7210.69  successful       82      US      7210.69           7210.69   \n137583   1255.66  successful       33      US      1255.66           1255.66   \n296861    462.00      failed        5      DK         0.00             66.46   \n66362     250.00      failed        5      US        75.00            250.00   \n\n        usd_goal_real  \n299667       10000.00  \n181674        5000.00  \n137583        1200.00  \n296861       15823.47  \n66362         6500.00  ",
      "text/html": "<div>\n<style scoped>\n    .dataframe tbody tr th:only-of-type {\n        vertical-align: middle;\n    }\n\n    .dataframe tbody tr th {\n        vertical-align: top;\n    }\n\n    .dataframe thead th {\n        text-align: right;\n    }\n</style>\n<table border=\"1\" class=\"dataframe\">\n  <thead>\n    <tr style=\"text-align: right;\">\n      <th></th>\n      <th>ID</th>\n      <th>name</th>\n      <th>category</th>\n      <th>main_category</th>\n      <th>currency</th>\n      <th>deadline</th>\n      <th>goal</th>\n      <th>launched</th>\n      <th>pledged</th>\n      <th>state</th>\n      <th>backers</th>\n      <th>country</th>\n      <th>usd pledged</th>\n      <th>usd_pledged_real</th>\n      <th>usd_goal_real</th>\n    </tr>\n  </thead>\n  <tbody>\n    <tr>\n      <th>299667</th>\n      <td>595962034</td>\n      <td>Button Poetry Live!</td>\n      <td>Mixed Media</td>\n      <td>Art</td>\n      <td>USD</td>\n      <td>2015-09-18</td>\n      <td>10000.0</td>\n      <td>2015-08-19 19:34:20</td>\n      <td>18216.27</td>\n      <td>successful</td>\n      <td>455</td>\n      <td>US</td>\n      <td>18216.27</td>\n      <td>18216.27</td>\n      <td>10000.00</td>\n    </tr>\n    <tr>\n      <th>181674</th>\n      <td>1924707671</td>\n      <td>C STREET 2012 : Tbilisi, Georgia</td>\n      <td>World Music</td>\n      <td>Music</td>\n      <td>USD</td>\n      <td>2012-06-07</td>\n      <td>5000.0</td>\n      <td>2012-05-08 18:22:59</td>\n      <td>7210.69</td>\n      <td>successful</td>\n      <td>82</td>\n      <td>US</td>\n      <td>7210.69</td>\n      <td>7210.69</td>\n      <td>5000.00</td>\n    </tr>\n    <tr>\n      <th>137583</th>\n      <td>1698707842</td>\n      <td>Dérive's Next Project</td>\n      <td>Punk</td>\n      <td>Music</td>\n      <td>USD</td>\n      <td>2014-07-06</td>\n      <td>1200.0</td>\n      <td>2014-06-08 17:58:37</td>\n      <td>1255.66</td>\n      <td>successful</td>\n      <td>33</td>\n      <td>US</td>\n      <td>1255.66</td>\n      <td>1255.66</td>\n      <td>1200.00</td>\n    </tr>\n    <tr>\n      <th>296861</th>\n      <td>581269566</td>\n      <td>Photo Book - World Santa Claus Congress</td>\n      <td>Photobooks</td>\n      <td>Photography</td>\n      <td>DKK</td>\n      <td>2017-04-14</td>\n      <td>110000.0</td>\n      <td>2017-03-14 23:45:35</td>\n      <td>462.00</td>\n      <td>failed</td>\n      <td>5</td>\n      <td>DK</td>\n      <td>0.00</td>\n      <td>66.46</td>\n      <td>15823.47</td>\n    </tr>\n    <tr>\n      <th>66362</th>\n      <td>1337585114</td>\n      <td>Kickstart CLE Brewing to greatness!</td>\n      <td>Drinks</td>\n      <td>Food</td>\n      <td>USD</td>\n      <td>2017-08-19</td>\n      <td>6500.0</td>\n      <td>2017-07-20 21:22:43</td>\n      <td>250.00</td>\n      <td>failed</td>\n      <td>5</td>\n      <td>US</td>\n      <td>75.00</td>\n      <td>250.00</td>\n      <td>6500.00</td>\n    </tr>\n  </tbody>\n</table>\n</div>"
     },
     "execution_count": 167,
     "metadata": {},
     "output_type": "execute_result"
    }
   ],
   "source": [
    "# convert 'deadline' and 'launched' columns to datetime\n",
    "ks_projects_orig['deadline'] = pd.to_datetime(ks_projects_orig['deadline'])\n",
    "ks_projects_orig['launched'] = pd.to_datetime(ks_projects_orig['launched'])\n",
    "\n",
    "# get info about DataFrame columns\n",
    "ks_projects_orig.info()\n",
    "\n",
    "# look at a few rows of the ks_projects file\n",
    "ks_projects_orig.sample(5)"
   ],
   "metadata": {
    "collapsed": false,
    "pycharm": {
     "name": "#%%\n"
    }
   }
  },
  {
   "cell_type": "code",
   "execution_count": 168,
   "outputs": [
    {
     "name": "stdout",
     "output_type": "stream",
     "text": [
      "<class 'pandas.core.frame.DataFrame'>\n",
      "RangeIndex: 378661 entries, 0 to 378660\n",
      "Data columns (total 15 columns):\n",
      " #   Column            Non-Null Count   Dtype         \n",
      "---  ------            --------------   -----         \n",
      " 0   ID                378661 non-null  int64         \n",
      " 1   name              378657 non-null  object        \n",
      " 2   category          378661 non-null  int32         \n",
      " 3   main_category     378661 non-null  int32         \n",
      " 4   currency          378661 non-null  object        \n",
      " 5   deadline          378661 non-null  datetime64[ns]\n",
      " 6   goal              378661 non-null  float64       \n",
      " 7   launched          378661 non-null  datetime64[ns]\n",
      " 8   pledged           378661 non-null  float64       \n",
      " 9   state             378661 non-null  object        \n",
      " 10  backers           378661 non-null  int64         \n",
      " 11  country           378661 non-null  int32         \n",
      " 12  usd pledged       374864 non-null  float64       \n",
      " 13  usd_pledged_real  378661 non-null  float64       \n",
      " 14  usd_goal_real     378661 non-null  float64       \n",
      "dtypes: datetime64[ns](2), float64(5), int32(3), int64(2), object(3)\n",
      "memory usage: 39.0+ MB\n",
      "0   2015-10-09\n",
      "1   2017-11-01\n",
      "2   2013-02-26\n",
      "3   2012-04-16\n",
      "4   2015-08-29\n",
      "Name: deadline, dtype: datetime64[ns]\n"
     ]
    },
    {
     "data": {
      "text/plain": "0   2015-10-09\n1   2017-11-01\n2   2013-02-26\n3   2012-04-16\n4   2015-08-29\nName: deadline_parsed, dtype: datetime64[ns]"
     },
     "execution_count": 168,
     "metadata": {},
     "output_type": "execute_result"
    }
   ],
   "source": [
    "# convert non numeric to numeric\n",
    "le = LabelEncoder()\n",
    "ks_projects_orig['category'] = le.fit_transform(ks_projects_orig['category'])\n",
    "ks_projects_orig['main_category'] = le.fit_transform(ks_projects_orig['main_category'])\n",
    "ks_projects_orig['country'] = le.fit_transform(ks_projects_orig['country'])\n",
    "\n",
    "# get info about DataFrame columns\n",
    "ks_projects_orig.info()\n",
    "\n",
    "# look at a few rows of the ks_projects file\n",
    "ks_projects_orig.sample(5)\n",
    "\n",
    "# Parsing Dates\n",
    "\n",
    "## print the first few rows of the date column\n",
    "print(ks_projects_orig['deadline'].head())\n",
    "\n",
    "# create a new column, deadline_parsed, with the parsed dates\n",
    "ks_projects_orig['deadline_parsed'] = pd.to_datetime(ks_projects_orig['deadline'], format = \"%Y-%m-%d\")\n",
    "\n",
    "# print the first few rows\n",
    "ks_projects_orig['deadline_parsed'].head()"
   ],
   "metadata": {
    "collapsed": false,
    "pycharm": {
     "name": "#%%\n"
    }
   }
  },
  {
   "cell_type": "code",
   "execution_count": 169,
   "outputs": [
    {
     "data": {
      "text/plain": "0   2015-08-11 12:12:28\n1   2017-09-02 04:43:57\n2   2013-01-12 00:20:50\n3   2012-03-17 03:24:11\n4   2015-07-04 08:35:03\nName: launched_parsed, dtype: datetime64[ns]"
     },
     "execution_count": 169,
     "metadata": {},
     "output_type": "execute_result"
    }
   ],
   "source": [
    "# create a new column, launched_parsed, with the parsed dates\n",
    "ks_projects_orig['launched_parsed'] = pd.to_datetime(ks_projects_orig['launched'], format = \"%Y-%m-%d\")\n",
    "\n",
    "# print the first few rows\n",
    "ks_projects_orig['launched_parsed'].head()"
   ],
   "metadata": {
    "collapsed": false,
    "pycharm": {
     "name": "#%%\n"
    }
   }
  },
  {
   "cell_type": "code",
   "execution_count": 170,
   "outputs": [
    {
     "data": {
      "text/plain": "0    58.0\n1    59.0\n2    44.0\n3    29.0\n4    55.0\nName: duration, dtype: float64"
     },
     "execution_count": 170,
     "metadata": {},
     "output_type": "execute_result"
    }
   ],
   "source": [
    "# create a new column diff, as a difference between deadline and launched\n",
    "ks_projects_orig['duration'] = ks_projects_orig['deadline_parsed'] - ks_projects_orig['launched_parsed']\n",
    "ks_projects_orig['duration'] = ks_projects_orig['duration'].astype('timedelta64[D]')\n",
    "\n",
    "# print the first few rows\n",
    "ks_projects_orig['duration'].head()"
   ],
   "metadata": {
    "collapsed": false,
    "pycharm": {
     "name": "#%%\n"
    }
   }
  },
  {
   "cell_type": "code",
   "execution_count": 171,
   "outputs": [
    {
     "data": {
      "text/plain": "0    0.0\n1    0.0\n2    0.0\n3    0.0\n4    0.0\nName: state_converted, dtype: float64"
     },
     "execution_count": 171,
     "metadata": {},
     "output_type": "execute_result"
    }
   ],
   "source": [
    "# convert status to numeric value applying function:\n",
    "# 'success' -> 1\n",
    "# 'other' -> sigmoid(ks_projects_orig['usd_pledged_real'] / ks_projects_orig['usd_goal_real'])\n",
    "# where 0.2 is an arbitrary penalty for failure\n",
    "ks_projects_orig['state_converted'] = np.where(ks_projects_orig['state'] == 'successful', 1,\n",
    "                                               ks_projects_orig['usd_pledged_real'] / ks_projects_orig['usd_goal_real'])\n",
    "ks_projects_orig['state_converted'] = ks_projects_orig['state_converted'].apply(lambda x: 1 if x > 1 else x)\n",
    "ks_projects_orig['state_converted'] = np.where(ks_projects_orig['state'] != 'successful', ks_projects_orig['state_converted'] - 0.2, ks_projects_orig['state_converted'])\n",
    "ks_projects_orig['state_converted'] = ks_projects_orig['state_converted'].apply(lambda x: 0 if x < 0 else x)\n",
    "\n",
    "# print the first few rows\n",
    "ks_projects_orig['state_converted'].head()"
   ],
   "metadata": {
    "collapsed": false,
    "pycharm": {
     "name": "#%%\n"
    }
   }
  },
  {
   "cell_type": "code",
   "execution_count": 172,
   "outputs": [
    {
     "name": "stdout",
     "output_type": "stream",
     "text": [
      "<class 'pandas.core.frame.DataFrame'>\n",
      "RangeIndex: 378661 entries, 0 to 378660\n",
      "Data columns (total 8 columns):\n",
      " #   Column            Non-Null Count   Dtype  \n",
      "---  ------            --------------   -----  \n",
      " 0   category          378661 non-null  int32  \n",
      " 1   main_category     378661 non-null  int32  \n",
      " 2   backers           378661 non-null  int64  \n",
      " 3   country           378661 non-null  int32  \n",
      " 4   usd_pledged_real  378661 non-null  float64\n",
      " 5   usd_goal_real     378661 non-null  float64\n",
      " 6   duration          378661 non-null  float64\n",
      " 7   state_converted   378661 non-null  float64\n",
      "dtypes: float64(4), int32(3), int64(1)\n",
      "memory usage: 18.8 MB\n"
     ]
    },
    {
     "data": {
      "text/plain": "        category  main_category  backers  country  usd_pledged_real  \\\n210467        24              6        4       22             91.00   \n227681       113              4        9       22          20973.00   \n262382        32              2       24       22            131.00   \n272105        58              7        7       22             87.99   \n246321        72             10       47       22           2000.00   \n125981       112              2       30       22            660.00   \n298178       136              8       23        9           6842.15   \n110407        27              7       56       22           5507.77   \n18374          7              5      662       22          55411.00   \n186882        58              7        1       17             30.11   \n364183       138             13        0       22              0.00   \n46072          2              5       75       22           3608.00   \n187432        93              6       91       22          19492.00   \n327436         5              6       12       22            377.00   \n267943        37              4        0       22              0.00   \n47170         23             10      150       22           6555.00   \n288314       129              6       72       22           7051.00   \n218875       148              8        5       22            101.00   \n284309       136              8       15       22            735.00   \n158333        85             13        9       22            435.00   \n159427        62              8       48       22           1833.00   \n100293       120             12      125       22          15076.00   \n224339       131             13        3        9             51.09   \n113089        35             13     1574       22         100745.00   \n28058        115             12        0       22              0.00   \n13973         88              8       14       22            595.00   \n265676       113              4       50       22           2263.00   \n331364        10              0        0        5              0.00   \n284094        26              1       25       22            898.00   \n286727        52              5        3       22             40.00   \n\n        usd_goal_real  duration  state_converted  \n210467       23000.00      29.0         0.000000  \n227681       19999.00      30.0         0.800000  \n262382           5.00      29.0         1.000000  \n272105        5000.00      59.0         0.000000  \n246321        2000.00      29.0         1.000000  \n125981        1700.00      28.0         0.188235  \n298178        7629.51      29.0         0.696801  \n110407        5227.00      29.0         1.000000  \n18374        10000.00      22.0         1.000000  \n186882       60214.85      29.0         0.000000  \n364183       50000.00      59.0         0.000000  \n46072        25000.00      29.0         0.000000  \n187432       50000.00      32.0         0.189840  \n327436       21000.00      29.0         0.000000  \n267943       15000.00      29.0         0.000000  \n47170         6500.00      56.0         1.000000  \n288314        5858.00      31.0         1.000000  \n218875         800.00      29.0         0.000000  \n284309           1.00       9.0         1.000000  \n158333       15000.00      29.0         0.000000  \n159427       20000.00      29.0         0.000000  \n100293      100000.00      29.0         0.000000  \n224339        7477.29      29.0         0.000000  \n113089       10000.00      24.0         1.000000  \n28058           15.00      29.0         0.000000  \n13973        30000.00      29.0         0.000000  \n265676       10000.00      59.0         0.026300  \n331364         105.80      29.0         0.000000  \n284094        7500.00      29.0         0.000000  \n286727        5000.00      29.0         0.000000  ",
      "text/html": "<div>\n<style scoped>\n    .dataframe tbody tr th:only-of-type {\n        vertical-align: middle;\n    }\n\n    .dataframe tbody tr th {\n        vertical-align: top;\n    }\n\n    .dataframe thead th {\n        text-align: right;\n    }\n</style>\n<table border=\"1\" class=\"dataframe\">\n  <thead>\n    <tr style=\"text-align: right;\">\n      <th></th>\n      <th>category</th>\n      <th>main_category</th>\n      <th>backers</th>\n      <th>country</th>\n      <th>usd_pledged_real</th>\n      <th>usd_goal_real</th>\n      <th>duration</th>\n      <th>state_converted</th>\n    </tr>\n  </thead>\n  <tbody>\n    <tr>\n      <th>210467</th>\n      <td>24</td>\n      <td>6</td>\n      <td>4</td>\n      <td>22</td>\n      <td>91.00</td>\n      <td>23000.00</td>\n      <td>29.0</td>\n      <td>0.000000</td>\n    </tr>\n    <tr>\n      <th>227681</th>\n      <td>113</td>\n      <td>4</td>\n      <td>9</td>\n      <td>22</td>\n      <td>20973.00</td>\n      <td>19999.00</td>\n      <td>30.0</td>\n      <td>0.800000</td>\n    </tr>\n    <tr>\n      <th>262382</th>\n      <td>32</td>\n      <td>2</td>\n      <td>24</td>\n      <td>22</td>\n      <td>131.00</td>\n      <td>5.00</td>\n      <td>29.0</td>\n      <td>1.000000</td>\n    </tr>\n    <tr>\n      <th>272105</th>\n      <td>58</td>\n      <td>7</td>\n      <td>7</td>\n      <td>22</td>\n      <td>87.99</td>\n      <td>5000.00</td>\n      <td>59.0</td>\n      <td>0.000000</td>\n    </tr>\n    <tr>\n      <th>246321</th>\n      <td>72</td>\n      <td>10</td>\n      <td>47</td>\n      <td>22</td>\n      <td>2000.00</td>\n      <td>2000.00</td>\n      <td>29.0</td>\n      <td>1.000000</td>\n    </tr>\n    <tr>\n      <th>125981</th>\n      <td>112</td>\n      <td>2</td>\n      <td>30</td>\n      <td>22</td>\n      <td>660.00</td>\n      <td>1700.00</td>\n      <td>28.0</td>\n      <td>0.188235</td>\n    </tr>\n    <tr>\n      <th>298178</th>\n      <td>136</td>\n      <td>8</td>\n      <td>23</td>\n      <td>9</td>\n      <td>6842.15</td>\n      <td>7629.51</td>\n      <td>29.0</td>\n      <td>0.696801</td>\n    </tr>\n    <tr>\n      <th>110407</th>\n      <td>27</td>\n      <td>7</td>\n      <td>56</td>\n      <td>22</td>\n      <td>5507.77</td>\n      <td>5227.00</td>\n      <td>29.0</td>\n      <td>1.000000</td>\n    </tr>\n    <tr>\n      <th>18374</th>\n      <td>7</td>\n      <td>5</td>\n      <td>662</td>\n      <td>22</td>\n      <td>55411.00</td>\n      <td>10000.00</td>\n      <td>22.0</td>\n      <td>1.000000</td>\n    </tr>\n    <tr>\n      <th>186882</th>\n      <td>58</td>\n      <td>7</td>\n      <td>1</td>\n      <td>17</td>\n      <td>30.11</td>\n      <td>60214.85</td>\n      <td>29.0</td>\n      <td>0.000000</td>\n    </tr>\n    <tr>\n      <th>364183</th>\n      <td>138</td>\n      <td>13</td>\n      <td>0</td>\n      <td>22</td>\n      <td>0.00</td>\n      <td>50000.00</td>\n      <td>59.0</td>\n      <td>0.000000</td>\n    </tr>\n    <tr>\n      <th>46072</th>\n      <td>2</td>\n      <td>5</td>\n      <td>75</td>\n      <td>22</td>\n      <td>3608.00</td>\n      <td>25000.00</td>\n      <td>29.0</td>\n      <td>0.000000</td>\n    </tr>\n    <tr>\n      <th>187432</th>\n      <td>93</td>\n      <td>6</td>\n      <td>91</td>\n      <td>22</td>\n      <td>19492.00</td>\n      <td>50000.00</td>\n      <td>32.0</td>\n      <td>0.189840</td>\n    </tr>\n    <tr>\n      <th>327436</th>\n      <td>5</td>\n      <td>6</td>\n      <td>12</td>\n      <td>22</td>\n      <td>377.00</td>\n      <td>21000.00</td>\n      <td>29.0</td>\n      <td>0.000000</td>\n    </tr>\n    <tr>\n      <th>267943</th>\n      <td>37</td>\n      <td>4</td>\n      <td>0</td>\n      <td>22</td>\n      <td>0.00</td>\n      <td>15000.00</td>\n      <td>29.0</td>\n      <td>0.000000</td>\n    </tr>\n    <tr>\n      <th>47170</th>\n      <td>23</td>\n      <td>10</td>\n      <td>150</td>\n      <td>22</td>\n      <td>6555.00</td>\n      <td>6500.00</td>\n      <td>56.0</td>\n      <td>1.000000</td>\n    </tr>\n    <tr>\n      <th>288314</th>\n      <td>129</td>\n      <td>6</td>\n      <td>72</td>\n      <td>22</td>\n      <td>7051.00</td>\n      <td>5858.00</td>\n      <td>31.0</td>\n      <td>1.000000</td>\n    </tr>\n    <tr>\n      <th>218875</th>\n      <td>148</td>\n      <td>8</td>\n      <td>5</td>\n      <td>22</td>\n      <td>101.00</td>\n      <td>800.00</td>\n      <td>29.0</td>\n      <td>0.000000</td>\n    </tr>\n    <tr>\n      <th>284309</th>\n      <td>136</td>\n      <td>8</td>\n      <td>15</td>\n      <td>22</td>\n      <td>735.00</td>\n      <td>1.00</td>\n      <td>9.0</td>\n      <td>1.000000</td>\n    </tr>\n    <tr>\n      <th>158333</th>\n      <td>85</td>\n      <td>13</td>\n      <td>9</td>\n      <td>22</td>\n      <td>435.00</td>\n      <td>15000.00</td>\n      <td>29.0</td>\n      <td>0.000000</td>\n    </tr>\n    <tr>\n      <th>159427</th>\n      <td>62</td>\n      <td>8</td>\n      <td>48</td>\n      <td>22</td>\n      <td>1833.00</td>\n      <td>20000.00</td>\n      <td>29.0</td>\n      <td>0.000000</td>\n    </tr>\n    <tr>\n      <th>100293</th>\n      <td>120</td>\n      <td>12</td>\n      <td>125</td>\n      <td>22</td>\n      <td>15076.00</td>\n      <td>100000.00</td>\n      <td>29.0</td>\n      <td>0.000000</td>\n    </tr>\n    <tr>\n      <th>224339</th>\n      <td>131</td>\n      <td>13</td>\n      <td>3</td>\n      <td>9</td>\n      <td>51.09</td>\n      <td>7477.29</td>\n      <td>29.0</td>\n      <td>0.000000</td>\n    </tr>\n    <tr>\n      <th>113089</th>\n      <td>35</td>\n      <td>13</td>\n      <td>1574</td>\n      <td>22</td>\n      <td>100745.00</td>\n      <td>10000.00</td>\n      <td>24.0</td>\n      <td>1.000000</td>\n    </tr>\n    <tr>\n      <th>28058</th>\n      <td>115</td>\n      <td>12</td>\n      <td>0</td>\n      <td>22</td>\n      <td>0.00</td>\n      <td>15.00</td>\n      <td>29.0</td>\n      <td>0.000000</td>\n    </tr>\n    <tr>\n      <th>13973</th>\n      <td>88</td>\n      <td>8</td>\n      <td>14</td>\n      <td>22</td>\n      <td>595.00</td>\n      <td>30000.00</td>\n      <td>29.0</td>\n      <td>0.000000</td>\n    </tr>\n    <tr>\n      <th>265676</th>\n      <td>113</td>\n      <td>4</td>\n      <td>50</td>\n      <td>22</td>\n      <td>2263.00</td>\n      <td>10000.00</td>\n      <td>59.0</td>\n      <td>0.026300</td>\n    </tr>\n    <tr>\n      <th>331364</th>\n      <td>10</td>\n      <td>0</td>\n      <td>0</td>\n      <td>5</td>\n      <td>0.00</td>\n      <td>105.80</td>\n      <td>29.0</td>\n      <td>0.000000</td>\n    </tr>\n    <tr>\n      <th>284094</th>\n      <td>26</td>\n      <td>1</td>\n      <td>25</td>\n      <td>22</td>\n      <td>898.00</td>\n      <td>7500.00</td>\n      <td>29.0</td>\n      <td>0.000000</td>\n    </tr>\n    <tr>\n      <th>286727</th>\n      <td>52</td>\n      <td>5</td>\n      <td>3</td>\n      <td>22</td>\n      <td>40.00</td>\n      <td>5000.00</td>\n      <td>29.0</td>\n      <td>0.000000</td>\n    </tr>\n  </tbody>\n</table>\n</div>"
     },
     "execution_count": 172,
     "metadata": {},
     "output_type": "execute_result"
    }
   ],
   "source": [
    "# drop redundant columns\n",
    "ks_projects_reduced = ks_projects_orig.drop(['ID', 'name', 'currency', 'goal', 'pledged', 'usd pledged', 'deadline',\n",
    "                                             'deadline_parsed', 'launched', 'launched_parsed', 'state'], axis=1)\n",
    "\n",
    "# get info about DataFrame columns\n",
    "ks_projects_reduced.info()\n",
    "\n",
    "# look at a few rows of the ks_projects file\n",
    "ks_projects_reduced.sample(30)"
   ],
   "metadata": {
    "collapsed": false,
    "pycharm": {
     "name": "#%%\n"
    }
   }
  },
  {
   "cell_type": "code",
   "execution_count": 173,
   "outputs": [
    {
     "data": {
      "text/plain": "array([[1.08000e+02, 1.20000e+01, 0.00000e+00, 9.00000e+00, 0.00000e+00,\n        1.53395e+03, 5.80000e+01, 0.00000e+00],\n       [9.30000e+01, 6.00000e+00, 1.50000e+01, 2.20000e+01, 2.42100e+03,\n        3.00000e+04, 5.90000e+01, 0.00000e+00],\n       [9.30000e+01, 6.00000e+00, 3.00000e+00, 2.20000e+01, 2.20000e+02,\n        4.50000e+04, 4.40000e+01, 0.00000e+00],\n       [9.00000e+01, 1.00000e+01, 1.00000e+00, 2.20000e+01, 1.00000e+00,\n        5.00000e+03, 2.90000e+01, 0.00000e+00]])"
     },
     "execution_count": 173,
     "metadata": {},
     "output_type": "execute_result"
    }
   ],
   "source": [
    "# convert to numpy_array\n",
    "ks_projects_numpy = ks_projects_reduced.to_numpy()\n",
    "\n",
    "# print first 5 rows\n",
    "ks_projects_numpy[0:4, :]\n",
    "\n"
   ],
   "metadata": {
    "collapsed": false,
    "pycharm": {
     "name": "#%%\n"
    }
   }
  }
 ],
 "metadata": {
  "kernelspec": {
   "name": "pycharm-da890fd0",
   "language": "python",
   "display_name": "PyCharm (kickstarter)"
  },
  "language_info": {
   "codemirror_mode": {
    "name": "ipython",
    "version": 2
   },
   "file_extension": ".py",
   "mimetype": "text/x-python",
   "name": "python",
   "nbconvert_exporter": "python",
   "pygments_lexer": "ipython2",
   "version": "2.7.6"
  }
 },
 "nbformat": 4,
 "nbformat_minor": 0
}