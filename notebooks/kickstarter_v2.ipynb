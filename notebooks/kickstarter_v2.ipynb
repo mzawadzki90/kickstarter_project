{
 "cells": [
  {
   "cell_type": "code",
   "execution_count": 1,
   "metadata": {
    "pycharm": {
     "name": "#%%\n"
    }
   },
   "outputs": [],
   "source": [
    "# modules we'll use\n",
    "\n",
    "import matplotlib.pyplot as plt\n",
    "import numpy as np\n",
    "import pandas as pd\n",
    "import tensorflow as tf\n",
    "from tensorflow import keras\n",
    "from tensorflow.keras import layers\n",
    "\n",
    "#mount Google Drive\n",
    "#from google.colab import drive\n",
    "#drive.mount('/content/drive')\n",
    "\n",
    "from preprocessing.label_binarizer import DataFrameLabelBinarizer\n",
    "from preprocessing.ngram_counter import NGramCounter"
   ]
  },
  {
   "cell_type": "code",
   "execution_count": 2,
   "metadata": {
    "pycharm": {
     "name": "#%%\n"
    }
   },
   "outputs": [
    {
     "data": {
      "text/plain": "                ID                                               name  \\\n338862   796196901                                 10G Christmas Tree   \n277871   483825010                                              Gliff   \n47000    123916947                                 STUFFED Food Truck   \n111338  1565733636  NeoExodus Adventure: Origin of Man for Pathfin...   \n53743   1273544891        NAPOLEON IN NEW YORK! an original TV Series   \n\n               category main_category currency    deadline     goal  \\\n338862              Art           Art      USD  2010-12-26  10526.0   \n277871  Gaming Hardware         Games      USD  2016-03-28  10000.0   \n47000       Food Trucks          Food      USD  2015-01-06  60000.0   \n111338   Tabletop Games         Games      USD  2012-05-01    500.0   \n53743            Comedy  Film & Video      USD  2016-07-26  25000.0   \n\n                   launched  pledged       state  backers country  \\\n338862  2010-12-08 08:44:04      0.0      failed        0      US   \n277871  2016-01-28 04:56:18     51.0      failed        5      US   \n47000   2014-11-07 02:24:36     25.0      failed        1      US   \n111338  2012-03-15 01:16:10    585.0  successful       17      US   \n53743   2016-05-27 00:07:25     25.0      failed        1      US   \n\n        usd pledged  usd_pledged_real  usd_goal_real  \n338862          0.0               0.0        10526.0  \n277871         51.0              51.0        10000.0  \n47000          25.0              25.0        60000.0  \n111338        585.0             585.0          500.0  \n53743          25.0              25.0        25000.0  ",
      "text/html": "<div>\n<style scoped>\n    .dataframe tbody tr th:only-of-type {\n        vertical-align: middle;\n    }\n\n    .dataframe tbody tr th {\n        vertical-align: top;\n    }\n\n    .dataframe thead th {\n        text-align: right;\n    }\n</style>\n<table border=\"1\" class=\"dataframe\">\n  <thead>\n    <tr style=\"text-align: right;\">\n      <th></th>\n      <th>ID</th>\n      <th>name</th>\n      <th>category</th>\n      <th>main_category</th>\n      <th>currency</th>\n      <th>deadline</th>\n      <th>goal</th>\n      <th>launched</th>\n      <th>pledged</th>\n      <th>state</th>\n      <th>backers</th>\n      <th>country</th>\n      <th>usd pledged</th>\n      <th>usd_pledged_real</th>\n      <th>usd_goal_real</th>\n    </tr>\n  </thead>\n  <tbody>\n    <tr>\n      <th>338862</th>\n      <td>796196901</td>\n      <td>10G Christmas Tree</td>\n      <td>Art</td>\n      <td>Art</td>\n      <td>USD</td>\n      <td>2010-12-26</td>\n      <td>10526.0</td>\n      <td>2010-12-08 08:44:04</td>\n      <td>0.0</td>\n      <td>failed</td>\n      <td>0</td>\n      <td>US</td>\n      <td>0.0</td>\n      <td>0.0</td>\n      <td>10526.0</td>\n    </tr>\n    <tr>\n      <th>277871</th>\n      <td>483825010</td>\n      <td>Gliff</td>\n      <td>Gaming Hardware</td>\n      <td>Games</td>\n      <td>USD</td>\n      <td>2016-03-28</td>\n      <td>10000.0</td>\n      <td>2016-01-28 04:56:18</td>\n      <td>51.0</td>\n      <td>failed</td>\n      <td>5</td>\n      <td>US</td>\n      <td>51.0</td>\n      <td>51.0</td>\n      <td>10000.0</td>\n    </tr>\n    <tr>\n      <th>47000</th>\n      <td>123916947</td>\n      <td>STUFFED Food Truck</td>\n      <td>Food Trucks</td>\n      <td>Food</td>\n      <td>USD</td>\n      <td>2015-01-06</td>\n      <td>60000.0</td>\n      <td>2014-11-07 02:24:36</td>\n      <td>25.0</td>\n      <td>failed</td>\n      <td>1</td>\n      <td>US</td>\n      <td>25.0</td>\n      <td>25.0</td>\n      <td>60000.0</td>\n    </tr>\n    <tr>\n      <th>111338</th>\n      <td>1565733636</td>\n      <td>NeoExodus Adventure: Origin of Man for Pathfin...</td>\n      <td>Tabletop Games</td>\n      <td>Games</td>\n      <td>USD</td>\n      <td>2012-05-01</td>\n      <td>500.0</td>\n      <td>2012-03-15 01:16:10</td>\n      <td>585.0</td>\n      <td>successful</td>\n      <td>17</td>\n      <td>US</td>\n      <td>585.0</td>\n      <td>585.0</td>\n      <td>500.0</td>\n    </tr>\n    <tr>\n      <th>53743</th>\n      <td>1273544891</td>\n      <td>NAPOLEON IN NEW YORK! an original TV Series</td>\n      <td>Comedy</td>\n      <td>Film &amp; Video</td>\n      <td>USD</td>\n      <td>2016-07-26</td>\n      <td>25000.0</td>\n      <td>2016-05-27 00:07:25</td>\n      <td>25.0</td>\n      <td>failed</td>\n      <td>1</td>\n      <td>US</td>\n      <td>25.0</td>\n      <td>25.0</td>\n      <td>25000.0</td>\n    </tr>\n  </tbody>\n</table>\n</div>"
     },
     "execution_count": 2,
     "metadata": {},
     "output_type": "execute_result"
    }
   ],
   "source": [
    "# read in all our data\n",
    "\n",
    "# Google Drive's path: /content/drive/MyDrive/Praca Inżynierska/kickstarter/data/ks-projects-201801.csv\n",
    "ks_projects_orig  = pd.read_csv(\"../data/ks-projects-201801.csv\")\n",
    "\n",
    "# set seed for reproducibility\n",
    "np.random.seed(0) \n",
    "\n",
    "# look at a few rows of the ks_projects file\n",
    "ks_projects_orig.sample(5)"
   ]
  },
  {
   "cell_type": "code",
   "execution_count": null,
   "outputs": [],
   "source": [
    "# read in all our data\n",
    "\n",
    "# Google Drive's path: /content/drive/MyDrive/Praca Inżynierska/kickstarter/data/ks-projects-201801.csv\n",
    "ks_projects_orig  = pd.read_csv(\"../data/ks-projects-201801.csv\")\n",
    "\n",
    "# set seed for reproducibility\n",
    "np.random.seed(0)"
   ],
   "metadata": {
    "collapsed": false,
    "pycharm": {
     "name": "#%%\n"
    }
   }
  },
  {
   "cell_type": "code",
   "execution_count": null,
   "outputs": [],
   "source": [
    "# look at a few rows of the ks_projects file\n",
    "ks_projects_orig.sample(5)"
   ],
   "metadata": {
    "collapsed": false,
    "pycharm": {
     "name": "#%%\n"
    }
   }
  },
  {
   "cell_type": "code",
   "execution_count": null,
   "outputs": [],
   "source": [
    "# get info about DataFrame columns\n",
    "ks_projects_orig.info()"
   ],
   "metadata": {
    "collapsed": false,
    "pycharm": {
     "name": "#%%\n"
    }
   }
  },
  {
   "cell_type": "code",
   "execution_count": 5,
   "metadata": {
    "pycharm": {
     "name": "#%%\n"
    }
   },
   "outputs": [
    {
     "data": {
      "text/plain": "                ID                                               name  \\\n284129   515317667                      Three Zombies in Philadelphia   \n187025  1952141049  Chroma Cafe and Bakery Hood and Expansion Project   \n231103    24476326                                        The L Train   \n117045  1594525425                              Slimo - Desktop Buddy   \n214293  2091909738                        TheBoutSheet.Com Mobile Aps   \n\n       currency    deadline     goal             launched  pledged  \\\n284129      USD  2013-05-29  20000.0  2013-03-30 19:36:04    29.99   \n187025      USD  2014-05-30   9750.0  2014-04-25 03:13:43  9900.00   \n231103      USD  2017-09-09   6000.0  2017-08-25 00:00:26  6065.00   \n117045      USD  2017-11-01    250.0  2017-10-02 20:10:09    22.00   \n214293      USD  2015-06-24  25000.0  2015-05-18 23:40:29     0.00   \n\n             state  backers  usd pledged  ...  13  14  15  16  17  18  19  20  \\\n284129      failed        4        29.99  ...   0   0   0   0   0   0   0   0   \n187025  successful      134      9900.00  ...   0   0   0   0   0   0   0   0   \n231103  successful       81       340.00  ...   0   0   0   0   0   0   0   0   \n117045      failed        3        10.00  ...   0   0   0   0   0   0   0   0   \n214293      failed        0         0.00  ...   0   0   0   0   0   0   0   0   \n\n        21  22  \n284129   0   1  \n187025   0   1  \n231103   0   1  \n117045   0   1  \n214293   0   1  \n\n[5 rows x 209 columns]",
      "text/html": "<div>\n<style scoped>\n    .dataframe tbody tr th:only-of-type {\n        vertical-align: middle;\n    }\n\n    .dataframe tbody tr th {\n        vertical-align: top;\n    }\n\n    .dataframe thead th {\n        text-align: right;\n    }\n</style>\n<table border=\"1\" class=\"dataframe\">\n  <thead>\n    <tr style=\"text-align: right;\">\n      <th></th>\n      <th>ID</th>\n      <th>name</th>\n      <th>currency</th>\n      <th>deadline</th>\n      <th>goal</th>\n      <th>launched</th>\n      <th>pledged</th>\n      <th>state</th>\n      <th>backers</th>\n      <th>usd pledged</th>\n      <th>...</th>\n      <th>13</th>\n      <th>14</th>\n      <th>15</th>\n      <th>16</th>\n      <th>17</th>\n      <th>18</th>\n      <th>19</th>\n      <th>20</th>\n      <th>21</th>\n      <th>22</th>\n    </tr>\n  </thead>\n  <tbody>\n    <tr>\n      <th>284129</th>\n      <td>515317667</td>\n      <td>Three Zombies in Philadelphia</td>\n      <td>USD</td>\n      <td>2013-05-29</td>\n      <td>20000.0</td>\n      <td>2013-03-30 19:36:04</td>\n      <td>29.99</td>\n      <td>failed</td>\n      <td>4</td>\n      <td>29.99</td>\n      <td>...</td>\n      <td>0</td>\n      <td>0</td>\n      <td>0</td>\n      <td>0</td>\n      <td>0</td>\n      <td>0</td>\n      <td>0</td>\n      <td>0</td>\n      <td>0</td>\n      <td>1</td>\n    </tr>\n    <tr>\n      <th>187025</th>\n      <td>1952141049</td>\n      <td>Chroma Cafe and Bakery Hood and Expansion Project</td>\n      <td>USD</td>\n      <td>2014-05-30</td>\n      <td>9750.0</td>\n      <td>2014-04-25 03:13:43</td>\n      <td>9900.00</td>\n      <td>successful</td>\n      <td>134</td>\n      <td>9900.00</td>\n      <td>...</td>\n      <td>0</td>\n      <td>0</td>\n      <td>0</td>\n      <td>0</td>\n      <td>0</td>\n      <td>0</td>\n      <td>0</td>\n      <td>0</td>\n      <td>0</td>\n      <td>1</td>\n    </tr>\n    <tr>\n      <th>231103</th>\n      <td>24476326</td>\n      <td>The L Train</td>\n      <td>USD</td>\n      <td>2017-09-09</td>\n      <td>6000.0</td>\n      <td>2017-08-25 00:00:26</td>\n      <td>6065.00</td>\n      <td>successful</td>\n      <td>81</td>\n      <td>340.00</td>\n      <td>...</td>\n      <td>0</td>\n      <td>0</td>\n      <td>0</td>\n      <td>0</td>\n      <td>0</td>\n      <td>0</td>\n      <td>0</td>\n      <td>0</td>\n      <td>0</td>\n      <td>1</td>\n    </tr>\n    <tr>\n      <th>117045</th>\n      <td>1594525425</td>\n      <td>Slimo - Desktop Buddy</td>\n      <td>USD</td>\n      <td>2017-11-01</td>\n      <td>250.0</td>\n      <td>2017-10-02 20:10:09</td>\n      <td>22.00</td>\n      <td>failed</td>\n      <td>3</td>\n      <td>10.00</td>\n      <td>...</td>\n      <td>0</td>\n      <td>0</td>\n      <td>0</td>\n      <td>0</td>\n      <td>0</td>\n      <td>0</td>\n      <td>0</td>\n      <td>0</td>\n      <td>0</td>\n      <td>1</td>\n    </tr>\n    <tr>\n      <th>214293</th>\n      <td>2091909738</td>\n      <td>TheBoutSheet.Com Mobile Aps</td>\n      <td>USD</td>\n      <td>2015-06-24</td>\n      <td>25000.0</td>\n      <td>2015-05-18 23:40:29</td>\n      <td>0.00</td>\n      <td>failed</td>\n      <td>0</td>\n      <td>0.00</td>\n      <td>...</td>\n      <td>0</td>\n      <td>0</td>\n      <td>0</td>\n      <td>0</td>\n      <td>0</td>\n      <td>0</td>\n      <td>0</td>\n      <td>0</td>\n      <td>0</td>\n      <td>1</td>\n    </tr>\n  </tbody>\n</table>\n<p>5 rows × 209 columns</p>\n</div>"
     },
     "execution_count": 5,
     "metadata": {},
     "output_type": "execute_result"
    }
   ],
   "source": [
    "# convert categorical data to one-hot-encoded\n",
    "lb_category = DataFrameLabelBinarizer(data_frame=ks_projects_orig, column_to_encode='category')\n",
    "ks_projects_orig = lb_category.encode()\n",
    "\n",
    "lb_main_category = DataFrameLabelBinarizer(data_frame=ks_projects_orig, column_to_encode='main_category')\n",
    "ks_projects_orig = lb_main_category.encode()\n",
    "\n",
    "lb_country = DataFrameLabelBinarizer(data_frame=ks_projects_orig, column_to_encode='country')\n",
    "ks_projects_orig = lb_country.encode()\n",
    "\n",
    "# look at a few rows of the ks_projects file\n",
    "ks_projects_orig.sample(5)"
   ]
  },
  {
   "cell_type": "code",
   "execution_count": 6,
   "metadata": {
    "pycharm": {
     "name": "#%%\n"
    }
   },
   "outputs": [
    {
     "name": "stdout",
     "output_type": "stream",
     "text": [
      "0   2015-10-09\n",
      "1   2017-11-01\n",
      "2   2013-02-26\n",
      "3   2012-04-16\n",
      "4   2015-08-29\n",
      "Name: deadline, dtype: datetime64[ns]\n"
     ]
    },
    {
     "data": {
      "text/plain": "0    58.0\n1    59.0\n2    44.0\n3    29.0\n4    55.0\nName: duration, dtype: float64"
     },
     "execution_count": 6,
     "metadata": {},
     "output_type": "execute_result"
    }
   ],
   "source": [
    "# Parsing Dates\n",
    "\n",
    "# convert 'deadline' and 'launched' columns to datetime\n",
    "ks_projects_orig['deadline'] = pd.to_datetime(ks_projects_orig['deadline'])\n",
    "ks_projects_orig['launched'] = pd.to_datetime(ks_projects_orig['launched'])\n",
    "\n",
    "## print the first few rows of the date column\n",
    "print(ks_projects_orig['deadline'].head())\n",
    "\n",
    "# create a new column, 'deadline_parsed', with the parsed dates\n",
    "ks_projects_orig['deadline_parsed'] = pd.to_datetime(ks_projects_orig['deadline'], format = \"%Y-%m-%d\")\n",
    "\n",
    "# print the first few rows\n",
    "ks_projects_orig['deadline_parsed'].head()\n",
    "\n",
    "\n",
    "# create a new column, 'launched_parsed', with the parsed dates\n",
    "ks_projects_orig['launched_parsed'] = pd.to_datetime(ks_projects_orig['launched'], format = \"%Y-%m-%d\")\n",
    "\n",
    "# print the first few rows\n",
    "ks_projects_orig['launched_parsed'].head()\n",
    "\n",
    "# create a new column 'duration', as a difference between deadline and launched\n",
    "ks_projects_orig['duration'] = ks_projects_orig['deadline_parsed'] - ks_projects_orig['launched_parsed']\n",
    "ks_projects_orig['duration'] = ks_projects_orig['duration'].astype('timedelta64[D]')\n",
    "\n",
    "# print the first few rows\n",
    "ks_projects_orig['duration'].head()"
   ]
  },
  {
   "cell_type": "code",
   "execution_count": null,
   "outputs": [],
   "source": [
    "# look at a few rows of the ks_projects file\n",
    "ks_projects_orig.sample(5)"
   ],
   "metadata": {
    "collapsed": false,
    "pycharm": {
     "name": "#%%\n"
    }
   }
  },
  {
   "cell_type": "code",
   "execution_count": null,
   "metadata": {
    "pycharm": {
     "name": "#%%\n"
    }
   },
   "outputs": [],
   "source": [
    "# convert 'status' to numeric value applying function:\n",
    "# 'success' -> 1\n",
    "# 'other' -> 0\n",
    "ks_projects_orig['state_converted'] = np.where(ks_projects_orig['state'] == 'successful', 1, 0)\n",
    "\n",
    "# print the first few rows\n",
    "ks_projects_orig['state_converted'].head()"
   ]
  },
  {
   "cell_type": "code",
   "execution_count": null,
   "metadata": {
    "pycharm": {
     "name": "#%%\n"
    }
   },
   "outputs": [],
   "source": [
    "# drop redundant columns\n",
    "ks_projects_reduced = ks_projects_orig.drop(['ID', 'name' 'backers', 'currency', 'goal', 'pledged', 'usd pledged', 'usd_pledged_real', 'deadline',\n",
    "                                             'deadline_parsed', 'launched', 'launched_parsed', 'state'], axis=1)"
   ]
  },
  {
   "cell_type": "code",
   "execution_count": null,
   "outputs": [],
   "source": [
    "# get info about DataFrame columns\n",
    "ks_projects_reduced.info()"
   ],
   "metadata": {
    "collapsed": false,
    "pycharm": {
     "name": "#%%\n"
    }
   }
  },
  {
   "cell_type": "code",
   "execution_count": null,
   "outputs": [],
   "source": [
    "# look at a few rows of the ks_projects file\n",
    "ks_projects_reduced.sample(5)"
   ],
   "metadata": {
    "collapsed": false,
    "pycharm": {
     "name": "#%%\n"
    }
   }
  },
  {
   "cell_type": "code",
   "execution_count": null,
   "metadata": {
    "pycharm": {
     "name": "#%%\n"
    }
   },
   "outputs": [],
   "source": [
    "# convert to numpy_array\n",
    "ks_projects_numpy = ks_projects_reduced.to_numpy()"
   ]
  },
  {
   "cell_type": "code",
   "execution_count": null,
   "metadata": {
    "pycharm": {
     "name": "#%%\n"
    }
   },
   "outputs": [],
   "source": [
    "# split numpy array into train and test datasets\n",
    "\n",
    "train_indices = np.random.rand(len(ks_projects_numpy)) < 0.8\n",
    "\n",
    "ks_projects_numpy_col_no = ks_projects_numpy.shape[1]\n",
    "\n",
    "train_set = ks_projects_numpy[train_indices]\n",
    "X_train, y_train = train_set[:, range(ks_projects_numpy_col_no - 1)], train_set[:, ks_projects_numpy_col_no - 1]\n",
    "\n",
    "test_set = ks_projects_numpy[~train_indices]\n",
    "X_test, y_test = test_set[:, range(ks_projects_numpy_col_no - 1)], test_set[:, ks_projects_numpy_col_no - 1]"
   ]
  },
  {
   "cell_type": "code",
   "execution_count": null,
   "metadata": {
    "pycharm": {
     "name": "#%%\n"
    }
   },
   "outputs": [],
   "source": [
    "# create first simple self using Keras Sequential\n",
    "\n",
    "n_inputs = train_set.shape[1] - 1\n",
    "n_hidden1 = 400\n",
    "n_hidden2 = 200\n",
    "n_hidden3 = 100\n",
    "n_hidden4 = 50\n",
    "drop_rate = 0.5\n",
    "momentum = 0.99\n",
    "learning_rate = 0.05\n",
    "\n",
    "he_init = keras.initializers.he_normal()\n",
    "elu = keras.activations.elu\n",
    "batch_normalization = layers.BatchNormalization\n",
    "dropout = layers.Dropout\n",
    "\n",
    "self = keras.Sequential(\n",
    "    [\n",
    "        keras.Input(shape=(n_inputs,)),\n",
    "        layers.Dense(n_hidden1, kernel_initializer= he_init , bias_initializer=he_init, activation=elu, name=\"hidden1\"),\n",
    "        batch_normalization(momentum=momentum),\n",
    "        dropout(rate=drop_rate),\n",
    "        layers.Dense(n_hidden2, kernel_initializer=he_init, bias_initializer=he_init, activation=elu, name=\"hidden2\"),\n",
    "        batch_normalization(momentum=momentum),\n",
    "        dropout(rate=drop_rate),\n",
    "        layers.Dense(n_hidden3, kernel_initializer=he_init, bias_initializer=he_init, activation=elu, name=\"hidden3\"),\n",
    "        batch_normalization(momentum=momentum),\n",
    "        dropout(rate=drop_rate),\n",
    "        layers.Dense(n_hidden4, kernel_initializer=he_init, bias_initializer=he_init, activation=elu, name=\"hidden4\"),\n",
    "        batch_normalization(momentum=momentum),\n",
    "        dropout(rate=drop_rate),\n",
    "        layers.Dense(1, activation=keras.activations.sigmoid, name=\"outputs\"),\n",
    "        batch_normalization(momentum=momentum)\n",
    "    ]\n",
    ")\n",
    "\n",
    "#print self details\n",
    "self.summary()"
   ]
  },
  {
   "cell_type": "code",
   "execution_count": null,
   "outputs": [],
   "source": [
    "# train self\n",
    "optimizer = tf.compat.v1.train.MomentumOptimizer(learning_rate=learning_rate, momentum=momentum, use_nesterov=True)\n",
    "self.compile(optimizer=optimizer, loss=keras.losses.binary_crossentropy, metrics=[keras.metrics.binary_accuracy])\n",
    "history=self.fit(X_train, y_train, epochs=30, batch_size=150, verbose=1, validation_split=0.2)\n",
    "\n",
    "#%\n",
    "\n",
    "# print self loss\n",
    "print(history.history.keys())"
   ],
   "metadata": {
    "collapsed": false,
    "pycharm": {
     "name": "#%%\n"
    }
   }
  },
  {
   "cell_type": "code",
   "execution_count": null,
   "outputs": [],
   "source": [
    "# \"Loss\"\n",
    "plt.plot(history.history['loss'])\n",
    "plt.plot(history.history['val_loss'])\n",
    "plt.title('self loss')\n",
    "plt.ylabel('loss')\n",
    "plt.xlabel('epoch')\n",
    "plt.legend(['train', 'validation'], loc='upper left')\n",
    "plt.show()"
   ],
   "metadata": {
    "collapsed": false,
    "pycharm": {
     "name": "#%%\n"
    }
   }
  }
 ],
 "metadata": {
  "kernelspec": {
   "display_name": "PyCharm (kickstarter)",
   "language": "python",
   "name": "pycharm-da890fd0"
  },
  "language_info": {
   "codemirror_mode": {
    "name": "ipython",
    "version": 3
   },
   "file_extension": ".py",
   "mimetype": "text/x-python",
   "name": "python",
   "nbconvert_exporter": "python",
   "pygments_lexer": "ipython3",
   "version": "3.7.9"
  }
 },
 "nbformat": 4,
 "nbformat_minor": 1
}