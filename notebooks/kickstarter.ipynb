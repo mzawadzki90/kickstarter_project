{
 "cells": [
  {
   "cell_type": "code",
   "execution_count": 44,
   "outputs": [
    {
     "data": {
      "text/plain": "                ID                                               name  \\\n338862   796196901                                 10G Christmas Tree   \n277871   483825010                                              Gliff   \n47000    123916947                                 STUFFED Food Truck   \n111338  1565733636  NeoExodus Adventure: Origin of Man for Pathfin...   \n53743   1273544891        NAPOLEON IN NEW YORK! an original TV Series   \n\n               category main_category currency    deadline     goal  \\\n338862              Art           Art      USD  2010-12-26  10526.0   \n277871  Gaming Hardware         Games      USD  2016-03-28  10000.0   \n47000       Food Trucks          Food      USD  2015-01-06  60000.0   \n111338   Tabletop Games         Games      USD  2012-05-01    500.0   \n53743            Comedy  Film & Video      USD  2016-07-26  25000.0   \n\n                   launched  pledged       state  backers country  \\\n338862  2010-12-08 08:44:04      0.0      failed        0      US   \n277871  2016-01-28 04:56:18     51.0      failed        5      US   \n47000   2014-11-07 02:24:36     25.0      failed        1      US   \n111338  2012-03-15 01:16:10    585.0  successful       17      US   \n53743   2016-05-27 00:07:25     25.0      failed        1      US   \n\n        usd pledged  usd_pledged_real  usd_goal_real  \n338862          0.0               0.0        10526.0  \n277871         51.0              51.0        10000.0  \n47000          25.0              25.0        60000.0  \n111338        585.0             585.0          500.0  \n53743          25.0              25.0        25000.0  ",
      "text/html": "<div>\n<style scoped>\n    .dataframe tbody tr th:only-of-type {\n        vertical-align: middle;\n    }\n\n    .dataframe tbody tr th {\n        vertical-align: top;\n    }\n\n    .dataframe thead th {\n        text-align: right;\n    }\n</style>\n<table border=\"1\" class=\"dataframe\">\n  <thead>\n    <tr style=\"text-align: right;\">\n      <th></th>\n      <th>ID</th>\n      <th>name</th>\n      <th>category</th>\n      <th>main_category</th>\n      <th>currency</th>\n      <th>deadline</th>\n      <th>goal</th>\n      <th>launched</th>\n      <th>pledged</th>\n      <th>state</th>\n      <th>backers</th>\n      <th>country</th>\n      <th>usd pledged</th>\n      <th>usd_pledged_real</th>\n      <th>usd_goal_real</th>\n    </tr>\n  </thead>\n  <tbody>\n    <tr>\n      <th>338862</th>\n      <td>796196901</td>\n      <td>10G Christmas Tree</td>\n      <td>Art</td>\n      <td>Art</td>\n      <td>USD</td>\n      <td>2010-12-26</td>\n      <td>10526.0</td>\n      <td>2010-12-08 08:44:04</td>\n      <td>0.0</td>\n      <td>failed</td>\n      <td>0</td>\n      <td>US</td>\n      <td>0.0</td>\n      <td>0.0</td>\n      <td>10526.0</td>\n    </tr>\n    <tr>\n      <th>277871</th>\n      <td>483825010</td>\n      <td>Gliff</td>\n      <td>Gaming Hardware</td>\n      <td>Games</td>\n      <td>USD</td>\n      <td>2016-03-28</td>\n      <td>10000.0</td>\n      <td>2016-01-28 04:56:18</td>\n      <td>51.0</td>\n      <td>failed</td>\n      <td>5</td>\n      <td>US</td>\n      <td>51.0</td>\n      <td>51.0</td>\n      <td>10000.0</td>\n    </tr>\n    <tr>\n      <th>47000</th>\n      <td>123916947</td>\n      <td>STUFFED Food Truck</td>\n      <td>Food Trucks</td>\n      <td>Food</td>\n      <td>USD</td>\n      <td>2015-01-06</td>\n      <td>60000.0</td>\n      <td>2014-11-07 02:24:36</td>\n      <td>25.0</td>\n      <td>failed</td>\n      <td>1</td>\n      <td>US</td>\n      <td>25.0</td>\n      <td>25.0</td>\n      <td>60000.0</td>\n    </tr>\n    <tr>\n      <th>111338</th>\n      <td>1565733636</td>\n      <td>NeoExodus Adventure: Origin of Man for Pathfin...</td>\n      <td>Tabletop Games</td>\n      <td>Games</td>\n      <td>USD</td>\n      <td>2012-05-01</td>\n      <td>500.0</td>\n      <td>2012-03-15 01:16:10</td>\n      <td>585.0</td>\n      <td>successful</td>\n      <td>17</td>\n      <td>US</td>\n      <td>585.0</td>\n      <td>585.0</td>\n      <td>500.0</td>\n    </tr>\n    <tr>\n      <th>53743</th>\n      <td>1273544891</td>\n      <td>NAPOLEON IN NEW YORK! an original TV Series</td>\n      <td>Comedy</td>\n      <td>Film &amp; Video</td>\n      <td>USD</td>\n      <td>2016-07-26</td>\n      <td>25000.0</td>\n      <td>2016-05-27 00:07:25</td>\n      <td>25.0</td>\n      <td>failed</td>\n      <td>1</td>\n      <td>US</td>\n      <td>25.0</td>\n      <td>25.0</td>\n      <td>25000.0</td>\n    </tr>\n  </tbody>\n</table>\n</div>"
     },
     "metadata": {},
     "output_type": "execute_result",
     "execution_count": 44
    }
   ],
   "source": [
    "# Handling missing data\n",
    "\n",
    "# modules we'll use\n",
    "import pandas as pd\n",
    "import numpy as np\n",
    "\n",
    "# for Box-Cox Transformation\n",
    "from scipy import stats\n",
    "\n",
    "# for min_max scaling\n",
    "from mlxtend.preprocessing import minmax_scaling\n",
    "\n",
    "# plotting modules\n",
    "import seaborn as sns\n",
    "import matplotlib.pyplot as plt\n",
    "\n",
    "# read in all our data\n",
    "ks_projects_orig  = pd.read_csv(\"../src/ks-projects-201801.csv\")\n",
    "\n",
    "# set seed for reproducibility\n",
    "np.random.seed(0) \n",
    "\n",
    "# look at a few rows of the ks_projects file. I can see a handful of missing data already!\n",
    "ks_projects_orig.sample(5)"
   ],
   "metadata": {
    "collapsed": false,
    "pycharm": {
     "name": "#%%\n",
     "is_executing": false
    }
   }
  },
  {
   "cell_type": "code",
   "execution_count": 45,
   "outputs": [
    {
     "data": {
      "text/plain": "ID                     0\nname                   4\ncategory               0\nmain_category          0\ncurrency               0\ndeadline               0\ngoal                   0\nlaunched               0\npledged                0\nstate                  0\nbackers                0\ncountry                0\nusd pledged         3797\nusd_pledged_real       0\nusd_goal_real          0\ndtype: int64"
     },
     "metadata": {},
     "output_type": "execute_result",
     "execution_count": 45
    }
   ],
   "source": [
    "# get the number of missing data points per column\n",
    "missing_values_count = ks_projects_orig.isnull().sum()\n",
    "# look at the # of missing points in the first ten columns\n",
    "missing_values_count[0:15]"
   ],
   "metadata": {
    "collapsed": false,
    "pycharm": {
     "name": "#%%\n",
     "is_executing": false
    }
   }
  },
  {
   "cell_type": "code",
   "execution_count": 46,
   "outputs": [
    {
     "data": {
      "text/plain": "0.06692001552840139"
     },
     "metadata": {},
     "output_type": "execute_result",
     "execution_count": 46
    }
   ],
   "source": [
    "# how many total missing values do we have?\n",
    "total_cells = np.product(ks_projects_orig.shape)\n",
    "total_missing = missing_values_count.sum()\n",
    "\n",
    "# percent of data that is missing\n",
    "(total_missing/total_cells) * 100"
   ],
   "metadata": {
    "collapsed": false,
    "pycharm": {
     "name": "#%%\n",
     "is_executing": false
    }
   }
  },
  {
   "cell_type": "code",
   "execution_count": 47,
   "outputs": [
    {
     "data": {
      "text/plain": "           ID        category main_category currency    deadline     goal  \\\n0  1000002330          Poetry    Publishing      GBP  2015-10-09   1000.0   \n1  1000003930  Narrative Film  Film & Video      USD  2017-11-01  30000.0   \n2  1000004038  Narrative Film  Film & Video      USD  2013-02-26  45000.0   \n3  1000007540           Music         Music      USD  2012-04-16   5000.0   \n4  1000011046    Film & Video  Film & Video      USD  2015-08-29  19500.0   \n\n              launched  pledged     state  backers country  usd_pledged_real  \\\n0  2015-08-11 12:12:28      0.0    failed        0      GB               0.0   \n1  2017-09-02 04:43:57   2421.0    failed       15      US            2421.0   \n2  2013-01-12 00:20:50    220.0    failed        3      US             220.0   \n3  2012-03-17 03:24:11      1.0    failed        1      US               1.0   \n4  2015-07-04 08:35:03   1283.0  canceled       14      US            1283.0   \n\n   usd_goal_real  \n0        1533.95  \n1       30000.00  \n2       45000.00  \n3        5000.00  \n4       19500.00  ",
      "text/html": "<div>\n<style scoped>\n    .dataframe tbody tr th:only-of-type {\n        vertical-align: middle;\n    }\n\n    .dataframe tbody tr th {\n        vertical-align: top;\n    }\n\n    .dataframe thead th {\n        text-align: right;\n    }\n</style>\n<table border=\"1\" class=\"dataframe\">\n  <thead>\n    <tr style=\"text-align: right;\">\n      <th></th>\n      <th>ID</th>\n      <th>category</th>\n      <th>main_category</th>\n      <th>currency</th>\n      <th>deadline</th>\n      <th>goal</th>\n      <th>launched</th>\n      <th>pledged</th>\n      <th>state</th>\n      <th>backers</th>\n      <th>country</th>\n      <th>usd_pledged_real</th>\n      <th>usd_goal_real</th>\n    </tr>\n  </thead>\n  <tbody>\n    <tr>\n      <th>0</th>\n      <td>1000002330</td>\n      <td>Poetry</td>\n      <td>Publishing</td>\n      <td>GBP</td>\n      <td>2015-10-09</td>\n      <td>1000.0</td>\n      <td>2015-08-11 12:12:28</td>\n      <td>0.0</td>\n      <td>failed</td>\n      <td>0</td>\n      <td>GB</td>\n      <td>0.0</td>\n      <td>1533.95</td>\n    </tr>\n    <tr>\n      <th>1</th>\n      <td>1000003930</td>\n      <td>Narrative Film</td>\n      <td>Film &amp; Video</td>\n      <td>USD</td>\n      <td>2017-11-01</td>\n      <td>30000.0</td>\n      <td>2017-09-02 04:43:57</td>\n      <td>2421.0</td>\n      <td>failed</td>\n      <td>15</td>\n      <td>US</td>\n      <td>2421.0</td>\n      <td>30000.00</td>\n    </tr>\n    <tr>\n      <th>2</th>\n      <td>1000004038</td>\n      <td>Narrative Film</td>\n      <td>Film &amp; Video</td>\n      <td>USD</td>\n      <td>2013-02-26</td>\n      <td>45000.0</td>\n      <td>2013-01-12 00:20:50</td>\n      <td>220.0</td>\n      <td>failed</td>\n      <td>3</td>\n      <td>US</td>\n      <td>220.0</td>\n      <td>45000.00</td>\n    </tr>\n    <tr>\n      <th>3</th>\n      <td>1000007540</td>\n      <td>Music</td>\n      <td>Music</td>\n      <td>USD</td>\n      <td>2012-04-16</td>\n      <td>5000.0</td>\n      <td>2012-03-17 03:24:11</td>\n      <td>1.0</td>\n      <td>failed</td>\n      <td>1</td>\n      <td>US</td>\n      <td>1.0</td>\n      <td>5000.00</td>\n    </tr>\n    <tr>\n      <th>4</th>\n      <td>1000011046</td>\n      <td>Film &amp; Video</td>\n      <td>Film &amp; Video</td>\n      <td>USD</td>\n      <td>2015-08-29</td>\n      <td>19500.0</td>\n      <td>2015-07-04 08:35:03</td>\n      <td>1283.0</td>\n      <td>canceled</td>\n      <td>14</td>\n      <td>US</td>\n      <td>1283.0</td>\n      <td>19500.00</td>\n    </tr>\n  </tbody>\n</table>\n</div>"
     },
     "metadata": {},
     "output_type": "execute_result",
     "execution_count": 47
    }
   ],
   "source": [
    "# remove all columns with at least one missing value\n",
    "ks_projects_cleaned = ks_projects_orig.dropna(axis=1)\n",
    "ks_projects_cleaned.head()"
   ],
   "metadata": {
    "collapsed": false,
    "pycharm": {
     "name": "#%%\n",
     "is_executing": false
    }
   }
  },
  {
   "cell_type": "code",
   "execution_count": 48,
   "outputs": [
    {
     "name": "stdout",
     "text": [
      "Columns in original dataset: 15 \n",
      "\n",
      "Columns with na's dropped: 13\n"
     ],
     "output_type": "stream"
    }
   ],
   "source": [
    "# just how much data did we lose?\n",
    "print(\"Columns in original dataset: %d \\n\" % ks_projects_orig.shape[1])\n",
    "print(\"Columns with na's dropped: %d\" % ks_projects_cleaned.shape[1])"
   ],
   "metadata": {
    "collapsed": false,
    "pycharm": {
     "name": "#%%\n",
     "is_executing": false
    }
   }
  },
  {
   "cell_type": "code",
   "execution_count": 49,
   "outputs": [
    {
     "name": "stderr",
     "text": [
      "C:\\Users\\micha\\Anaconda3\\envs\\kickstarter\\lib\\site-packages\\mlxtend\\preprocessing\\scaling.py:40: FutureWarning: Support for multi-dimensional indexing (e.g. `obj[:, None]`) is deprecated and will be removed in a future version.  Convert to a numpy array before indexing instead.\n",
      "  ary_new = ary_new[:, np.newaxis]\n"
     ],
     "output_type": "stream"
    },
    {
     "data": {
      "text/plain": "Text(0.5, 1.0, 'Scaled data')"
     },
     "metadata": {},
     "output_type": "execute_result",
     "execution_count": 49
    },
    {
     "data": {
      "text/plain": "<Figure size 432x288 with 2 Axes>",
      "image/png": "[encoded data removed]"
     },
     "metadata": {
      "needs_background": "light"
     },
     "output_type": "display_data"
    }
   ],
   "source": [
    "#Scale and Normalize Data\n",
    "# select the usd_pledged_real column\n",
    "usd_pledged = ks_projects_cleaned.usd_pledged_real\n",
    "\n",
    "# scale the pledges from 0 to 1\n",
    "scaled_pledge_data = minmax_scaling(usd_pledged, columns = [0])\n",
    "\n",
    "# plot the original & scaled data together to compare\n",
    "fig, ax=plt.subplots(1,2)\n",
    "sns.distplot(ks_projects_cleaned.usd_pledged_real, ax=ax[0])\n",
    "ax[0].set_title(\"Original Data\")\n",
    "sns.distplot(scaled_pledge_data, ax=ax[1])\n",
    "ax[1].set_title(\"Scaled data\")\n"
   ],
   "metadata": {
    "collapsed": false,
    "pycharm": {
     "name": "#%%\n",
     "is_executing": false
    }
   }
  },
  {
   "cell_type": "code",
   "execution_count": 50,
   "outputs": [
    {
     "name": "stderr",
     "text": [
      "C:\\Users\\micha\\Anaconda3\\envs\\kickstarter\\lib\\site-packages\\mlxtend\\preprocessing\\scaling.py:40: FutureWarning: Support for multi-dimensional indexing (e.g. `obj[:, None]`) is deprecated and will be removed in a future version.  Convert to a numpy array before indexing instead.\n",
      "  ary_new = ary_new[:, np.newaxis]\n"
     ],
     "output_type": "stream"
    },
    {
     "data": {
      "text/plain": "Text(0.5, 1.0, 'Scaled data')"
     },
     "metadata": {},
     "output_type": "execute_result",
     "execution_count": 50
    },
    {
     "data": {
      "text/plain": "<Figure size 432x288 with 2 Axes>",
      "image/png": "[encoded data removed]"
     },
     "metadata": {
      "needs_background": "light"
     },
     "output_type": "display_data"
    }
   ],
   "source": [
    "# select the usd_goal_real column\n",
    "usd_goal = ks_projects_cleaned.usd_goal_real\n",
    "\n",
    "# scale the goals from 0 to 1\n",
    "scaled_goal_data = minmax_scaling(usd_goal, columns = [0])\n",
    "\n",
    "# plot the original & scaled data together to compare\n",
    "fig, ax=plt.subplots(1,2)\n",
    "sns.distplot(ks_projects_cleaned.usd_goal_real, ax=ax[0])\n",
    "ax[0].set_title(\"Original Data\")\n",
    "sns.distplot(scaled_goal_data, ax=ax[1])\n",
    "ax[1].set_title(\"Scaled data\")"
   ],
   "metadata": {
    "collapsed": false,
    "pycharm": {
     "name": "#%%\n",
     "is_executing": false
    }
   }
  },
  {
   "cell_type": "code",
   "execution_count": 51,
   "outputs": [
    {
     "data": {
      "text/plain": "Text(0.5, 1.0, 'Normalized data')"
     },
     "metadata": {},
     "output_type": "execute_result",
     "execution_count": 51
    },
    {
     "data": {
      "text/plain": "<Figure size 432x288 with 2 Axes>",
      "image/png": "[encoded data removed]"
     },
     "metadata": {
      "needs_background": "light"
     },
     "output_type": "display_data"
    }
   ],
   "source": [
    "# get the index of all positive pledges (Box-Cox only takes positive values)\n",
    "index_of_positive_pledges = ks_projects_cleaned.usd_pledged_real > 0\n",
    "\n",
    "# get only positive pledges (using their indexes)\n",
    "positive_pledges = ks_projects_cleaned.usd_pledged_real.loc[index_of_positive_pledges]\n",
    "\n",
    "# normalize the pledges (w/ Box-Cox)\n",
    "normalized_pledges = stats.boxcox(positive_pledges)[0]\n",
    "\n",
    "# plot both together to compare\n",
    "fig, ax=plt.subplots(1,2)\n",
    "sns.distplot(positive_pledges, ax=ax[0])\n",
    "ax[0].set_title(\"Original Data\")\n",
    "sns.distplot(normalized_pledges, ax=ax[1])\n",
    "ax[1].set_title(\"Normalized data\")"
   ],
   "metadata": {
    "collapsed": false,
    "pycharm": {
     "name": "#%%\n",
     "is_executing": false
    }
   }
  }
 ],
 "metadata": {
  "kernelspec": {
   "name": "pycharm-da890fd0",
   "language": "python",
   "display_name": "PyCharm (kickstarter)"
  },
  "language_info": {
   "codemirror_mode": {
    "name": "ipython",
    "version": 2
   },
   "file_extension": ".py",
   "mimetype": "text/x-python",
   "name": "python",
   "nbconvert_exporter": "python",
   "pygments_lexer": "ipython2",
   "version": "2.7.6"
  },
  "pycharm": {
   "stem_cell": {
    "cell_type": "raw",
    "source": [],
    "metadata": {
     "collapsed": false
    }
   }
  }
 },
 "nbformat": 4,
 "nbformat_minor": 0
}