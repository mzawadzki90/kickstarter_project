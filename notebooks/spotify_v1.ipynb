{
 "cells": [
  {
   "cell_type": "code",
   "execution_count": 1,
   "metadata": {
    "collapsed": true
   },
   "outputs": [
    {
     "name": "stderr",
     "output_type": "stream",
     "text": [
      "C:\\Users\\micha\\Anaconda3\\envs\\kickstarter\\lib\\site-packages\\gensim\\utils.py:1197: UserWarning: detected Windows; aliasing chunkize to chunkize_serial\n",
      "  warnings.warn(\"detected Windows; aliasing chunkize to chunkize_serial\")\n"
     ]
    }
   ],
   "source": [
    "# modules we'll use\n",
    "\n",
    "import numpy as np\n",
    "import pandas as pd\n",
    "import gensim\n",
    "\n",
    "#mount Google Drive\n",
    "#from google.colab import drive\n",
    "#drive.mount('/content/drive')\n",
    "\n",
    "from preprocessing.label_binarizer import DataFrameLabelBinarizer\n",
    "from preprocessing.mean_embedding_vector import MeanEmbeddingVectorizer"
   ]
  },
  {
   "cell_type": "code",
   "execution_count": 2,
   "outputs": [],
   "source": [
    "# read in all our data\n",
    "# Google Drive's path: /content/drive/MyDrive/Praca Inżynierska/kickstarter/data/spotify.csv\n",
    "spotify_orig  = pd.read_csv(\"../data/spotify.csv\")\n",
    "# set seed for reproducibility\n",
    "np.random.seed(0)"
   ],
   "metadata": {
    "collapsed": false,
    "pycharm": {
     "name": "#%%\n"
    }
   }
  },
  {
   "cell_type": "code",
   "execution_count": 3,
   "outputs": [
    {
     "data": {
      "text/plain": "        valence  year  acousticness  \\\n107349    0.817  2013      0.015800   \n16271     0.548  2003      0.006610   \n90972     0.732  2014      0.047700   \n84553     0.475  1981      0.000473   \n75895     0.550  1930      0.994000   \n\n                                                artists  danceability  \\\n107349                                     ['Parmalee']         0.551   \n16271                                         ['JAY-Z']         0.494   \n90972                                      ['Sam Hunt']         0.590   \n84553                                   ['Iron Maiden']         0.340   \n75895   ['Markos Vamvakaris', 'Apostolos Xatzixristos']         0.410   \n\n        duration_ms  energy  explicit                      id  \\\n107349       214933   0.863         0  3Bdqlr7jQLNhITAgcBGQBG   \n16271        234627   0.887         1  7sLpSWxQazJzDVG6YGzlVs   \n90972        235507   0.940         0  3BuPop8SzLG2Q88TJcFAjp   \n84553        288947   0.974         0  7EvjTEzuv7TWaIaWY63sWV   \n75895        197653   0.169         0  38PozVGXXoeO8dTEVzy74Y   \n\n        instrumentalness  key  liveness  loudness  mode  \\\n107349            0.0000   11    0.0843    -3.506     1   \n16271             0.0000    6    0.1030    -4.297     0   \n90972             0.0000    9    0.3790    -4.124     1   \n84553             0.0928    0    0.3730    -5.114     1   \n75895             0.9010    2    0.1130   -18.862     1   \n\n                           name  popularity release_date  speechiness    tempo  \n107349          Close Your Eyes          50   2013-12-10       0.0322  143.952  \n16271               99 Problems          61   2003-11-14       0.3980   89.554  \n90972              Raised On It          54   2014-10-27       0.0409   94.020  \n84553   Drifter - 2015 Remaster          29   1981-02-02       0.1060  101.276  \n75895        Soultana maurofora           0   1930-01-01       0.0391   93.890  ",
      "text/html": "<div>\n<style scoped>\n    .dataframe tbody tr th:only-of-type {\n        vertical-align: middle;\n    }\n\n    .dataframe tbody tr th {\n        vertical-align: top;\n    }\n\n    .dataframe thead th {\n        text-align: right;\n    }\n</style>\n<table border=\"1\" class=\"dataframe\">\n  <thead>\n    <tr style=\"text-align: right;\">\n      <th></th>\n      <th>valence</th>\n      <th>year</th>\n      <th>acousticness</th>\n      <th>artists</th>\n      <th>danceability</th>\n      <th>duration_ms</th>\n      <th>energy</th>\n      <th>explicit</th>\n      <th>id</th>\n      <th>instrumentalness</th>\n      <th>key</th>\n      <th>liveness</th>\n      <th>loudness</th>\n      <th>mode</th>\n      <th>name</th>\n      <th>popularity</th>\n      <th>release_date</th>\n      <th>speechiness</th>\n      <th>tempo</th>\n    </tr>\n  </thead>\n  <tbody>\n    <tr>\n      <th>107349</th>\n      <td>0.817</td>\n      <td>2013</td>\n      <td>0.015800</td>\n      <td>['Parmalee']</td>\n      <td>0.551</td>\n      <td>214933</td>\n      <td>0.863</td>\n      <td>0</td>\n      <td>3Bdqlr7jQLNhITAgcBGQBG</td>\n      <td>0.0000</td>\n      <td>11</td>\n      <td>0.0843</td>\n      <td>-3.506</td>\n      <td>1</td>\n      <td>Close Your Eyes</td>\n      <td>50</td>\n      <td>2013-12-10</td>\n      <td>0.0322</td>\n      <td>143.952</td>\n    </tr>\n    <tr>\n      <th>16271</th>\n      <td>0.548</td>\n      <td>2003</td>\n      <td>0.006610</td>\n      <td>['JAY-Z']</td>\n      <td>0.494</td>\n      <td>234627</td>\n      <td>0.887</td>\n      <td>1</td>\n      <td>7sLpSWxQazJzDVG6YGzlVs</td>\n      <td>0.0000</td>\n      <td>6</td>\n      <td>0.1030</td>\n      <td>-4.297</td>\n      <td>0</td>\n      <td>99 Problems</td>\n      <td>61</td>\n      <td>2003-11-14</td>\n      <td>0.3980</td>\n      <td>89.554</td>\n    </tr>\n    <tr>\n      <th>90972</th>\n      <td>0.732</td>\n      <td>2014</td>\n      <td>0.047700</td>\n      <td>['Sam Hunt']</td>\n      <td>0.590</td>\n      <td>235507</td>\n      <td>0.940</td>\n      <td>0</td>\n      <td>3BuPop8SzLG2Q88TJcFAjp</td>\n      <td>0.0000</td>\n      <td>9</td>\n      <td>0.3790</td>\n      <td>-4.124</td>\n      <td>1</td>\n      <td>Raised On It</td>\n      <td>54</td>\n      <td>2014-10-27</td>\n      <td>0.0409</td>\n      <td>94.020</td>\n    </tr>\n    <tr>\n      <th>84553</th>\n      <td>0.475</td>\n      <td>1981</td>\n      <td>0.000473</td>\n      <td>['Iron Maiden']</td>\n      <td>0.340</td>\n      <td>288947</td>\n      <td>0.974</td>\n      <td>0</td>\n      <td>7EvjTEzuv7TWaIaWY63sWV</td>\n      <td>0.0928</td>\n      <td>0</td>\n      <td>0.3730</td>\n      <td>-5.114</td>\n      <td>1</td>\n      <td>Drifter - 2015 Remaster</td>\n      <td>29</td>\n      <td>1981-02-02</td>\n      <td>0.1060</td>\n      <td>101.276</td>\n    </tr>\n    <tr>\n      <th>75895</th>\n      <td>0.550</td>\n      <td>1930</td>\n      <td>0.994000</td>\n      <td>['Markos Vamvakaris', 'Apostolos Xatzixristos']</td>\n      <td>0.410</td>\n      <td>197653</td>\n      <td>0.169</td>\n      <td>0</td>\n      <td>38PozVGXXoeO8dTEVzy74Y</td>\n      <td>0.9010</td>\n      <td>2</td>\n      <td>0.1130</td>\n      <td>-18.862</td>\n      <td>1</td>\n      <td>Soultana maurofora</td>\n      <td>0</td>\n      <td>1930-01-01</td>\n      <td>0.0391</td>\n      <td>93.890</td>\n    </tr>\n  </tbody>\n</table>\n</div>"
     },
     "execution_count": 3,
     "metadata": {},
     "output_type": "execute_result"
    }
   ],
   "source": [
    "# look at a few rows of the spotify dataset file\n",
    "spotify_orig.sample(5)"
   ],
   "metadata": {
    "collapsed": false,
    "pycharm": {
     "name": "#%%\n"
    }
   }
  },
  {
   "cell_type": "code",
   "execution_count": 4,
   "outputs": [
    {
     "name": "stdout",
     "output_type": "stream",
     "text": [
      "<class 'pandas.core.frame.DataFrame'>\n",
      "RangeIndex: 170653 entries, 0 to 170652\n",
      "Data columns (total 19 columns):\n",
      " #   Column            Non-Null Count   Dtype  \n",
      "---  ------            --------------   -----  \n",
      " 0   valence           170653 non-null  float64\n",
      " 1   year              170653 non-null  int64  \n",
      " 2   acousticness      170653 non-null  float64\n",
      " 3   artists           170653 non-null  object \n",
      " 4   danceability      170653 non-null  float64\n",
      " 5   duration_ms       170653 non-null  int64  \n",
      " 6   energy            170653 non-null  float64\n",
      " 7   explicit          170653 non-null  int64  \n",
      " 8   id                170653 non-null  object \n",
      " 9   instrumentalness  170653 non-null  float64\n",
      " 10  key               170653 non-null  int64  \n",
      " 11  liveness          170653 non-null  float64\n",
      " 12  loudness          170653 non-null  float64\n",
      " 13  mode              170653 non-null  int64  \n",
      " 14  name              170653 non-null  object \n",
      " 15  popularity        170653 non-null  int64  \n",
      " 16  release_date      170653 non-null  object \n",
      " 17  speechiness       170653 non-null  float64\n",
      " 18  tempo             170653 non-null  float64\n",
      "dtypes: float64(9), int64(6), object(4)\n",
      "memory usage: 24.7+ MB\n"
     ]
    }
   ],
   "source": [
    "# get info about DataFrame columns\n",
    "spotify_orig.info()"
   ],
   "metadata": {
    "collapsed": false,
    "pycharm": {
     "name": "#%%\n"
    }
   }
  },
  {
   "cell_type": "code",
   "execution_count": 5,
   "outputs": [
    {
     "data": {
      "text/plain": "        valence  year  acousticness  \\\n96559    0.6250  1959        0.6820   \n153920   0.5150  2012        0.0362   \n77383    0.0661  1945        0.9140   \n58470    0.0395  1933        0.9550   \n115209   0.8250  1971        0.1550   \n\n                                                  artists  danceability  \\\n96559                                    ['Martin Denny']         0.427   \n153920                         ['Rihanna', 'Chris Brown']         0.741   \n77383   ['Gustav Mahler', 'Bruno Walter', 'New York Ph...         0.261   \n58470      ['Johann Sebastian Bach', 'Albert Schweitzer']         0.174   \n115209                            ['Yusuf / Cat Stevens']         0.732   \n\n        duration_ms  energy  explicit                      id  \\\n96559        142400  0.4110         0  7niPihgrMNksket1T0ZbKa   \n153920       216293  0.6000         1  0qJWmTaT1qvCq0brgx8k2P   \n77383       1097547  0.2430         0  28sMV7kIkozKg1sc33Cvmf   \n58470        202503  0.0719         0  3uHoDBPDUYKDBv5lezfCxS   \n115209       212667  0.6530         0  5PUP1Qicfa9rMgxAkUahIC   \n\n        instrumentalness  ...  2  3  4  5  6  7  8  9  10  11  \n96559           0.410000  ...  0  0  0  0  0  0  0  0   0   0  \n153920          0.000000  ...  0  0  0  0  0  0  0  0   0   0  \n77383           0.917000  ...  0  0  0  0  0  0  0  0   0   0  \n58470           0.853000  ...  0  0  0  0  0  0  0  0   0   1  \n115209          0.000506  ...  0  0  0  0  0  0  0  0   0   0  \n\n[5 rows x 30 columns]",
      "text/html": "<div>\n<style scoped>\n    .dataframe tbody tr th:only-of-type {\n        vertical-align: middle;\n    }\n\n    .dataframe tbody tr th {\n        vertical-align: top;\n    }\n\n    .dataframe thead th {\n        text-align: right;\n    }\n</style>\n<table border=\"1\" class=\"dataframe\">\n  <thead>\n    <tr style=\"text-align: right;\">\n      <th></th>\n      <th>valence</th>\n      <th>year</th>\n      <th>acousticness</th>\n      <th>artists</th>\n      <th>danceability</th>\n      <th>duration_ms</th>\n      <th>energy</th>\n      <th>explicit</th>\n      <th>id</th>\n      <th>instrumentalness</th>\n      <th>...</th>\n      <th>2</th>\n      <th>3</th>\n      <th>4</th>\n      <th>5</th>\n      <th>6</th>\n      <th>7</th>\n      <th>8</th>\n      <th>9</th>\n      <th>10</th>\n      <th>11</th>\n    </tr>\n  </thead>\n  <tbody>\n    <tr>\n      <th>96559</th>\n      <td>0.6250</td>\n      <td>1959</td>\n      <td>0.6820</td>\n      <td>['Martin Denny']</td>\n      <td>0.427</td>\n      <td>142400</td>\n      <td>0.4110</td>\n      <td>0</td>\n      <td>7niPihgrMNksket1T0ZbKa</td>\n      <td>0.410000</td>\n      <td>...</td>\n      <td>0</td>\n      <td>0</td>\n      <td>0</td>\n      <td>0</td>\n      <td>0</td>\n      <td>0</td>\n      <td>0</td>\n      <td>0</td>\n      <td>0</td>\n      <td>0</td>\n    </tr>\n    <tr>\n      <th>153920</th>\n      <td>0.5150</td>\n      <td>2012</td>\n      <td>0.0362</td>\n      <td>['Rihanna', 'Chris Brown']</td>\n      <td>0.741</td>\n      <td>216293</td>\n      <td>0.6000</td>\n      <td>1</td>\n      <td>0qJWmTaT1qvCq0brgx8k2P</td>\n      <td>0.000000</td>\n      <td>...</td>\n      <td>0</td>\n      <td>0</td>\n      <td>0</td>\n      <td>0</td>\n      <td>0</td>\n      <td>0</td>\n      <td>0</td>\n      <td>0</td>\n      <td>0</td>\n      <td>0</td>\n    </tr>\n    <tr>\n      <th>77383</th>\n      <td>0.0661</td>\n      <td>1945</td>\n      <td>0.9140</td>\n      <td>['Gustav Mahler', 'Bruno Walter', 'New York Ph...</td>\n      <td>0.261</td>\n      <td>1097547</td>\n      <td>0.2430</td>\n      <td>0</td>\n      <td>28sMV7kIkozKg1sc33Cvmf</td>\n      <td>0.917000</td>\n      <td>...</td>\n      <td>0</td>\n      <td>0</td>\n      <td>0</td>\n      <td>0</td>\n      <td>0</td>\n      <td>0</td>\n      <td>0</td>\n      <td>0</td>\n      <td>0</td>\n      <td>0</td>\n    </tr>\n    <tr>\n      <th>58470</th>\n      <td>0.0395</td>\n      <td>1933</td>\n      <td>0.9550</td>\n      <td>['Johann Sebastian Bach', 'Albert Schweitzer']</td>\n      <td>0.174</td>\n      <td>202503</td>\n      <td>0.0719</td>\n      <td>0</td>\n      <td>3uHoDBPDUYKDBv5lezfCxS</td>\n      <td>0.853000</td>\n      <td>...</td>\n      <td>0</td>\n      <td>0</td>\n      <td>0</td>\n      <td>0</td>\n      <td>0</td>\n      <td>0</td>\n      <td>0</td>\n      <td>0</td>\n      <td>0</td>\n      <td>1</td>\n    </tr>\n    <tr>\n      <th>115209</th>\n      <td>0.8250</td>\n      <td>1971</td>\n      <td>0.1550</td>\n      <td>['Yusuf / Cat Stevens']</td>\n      <td>0.732</td>\n      <td>212667</td>\n      <td>0.6530</td>\n      <td>0</td>\n      <td>5PUP1Qicfa9rMgxAkUahIC</td>\n      <td>0.000506</td>\n      <td>...</td>\n      <td>0</td>\n      <td>0</td>\n      <td>0</td>\n      <td>0</td>\n      <td>0</td>\n      <td>0</td>\n      <td>0</td>\n      <td>0</td>\n      <td>0</td>\n      <td>0</td>\n    </tr>\n  </tbody>\n</table>\n<p>5 rows × 30 columns</p>\n</div>"
     },
     "execution_count": 5,
     "metadata": {},
     "output_type": "execute_result"
    }
   ],
   "source": [
    "# convert 'key' to one-hot-encoded\n",
    "lb_category = DataFrameLabelBinarizer(data_frame=spotify_orig, column_to_encode='key')\n",
    "spotify_orig = lb_category.encode()\n",
    "\n",
    "# look at a few rows of the spotify dataset file\n",
    "spotify_orig.sample(5)"
   ],
   "metadata": {
    "collapsed": false,
    "pycharm": {
     "name": "#%%\n"
    }
   }
  },
  {
   "cell_type": "code",
   "execution_count": 6,
   "outputs": [
    {
     "data": {
      "text/plain": "39904    -1.167610e+09\n143595   -4.102272e+08\n76669    -9.763200e+08\n141674   -7.258464e+08\n143153   -4.441824e+08\nName: release_date, dtype: float64"
     },
     "execution_count": 6,
     "metadata": {},
     "output_type": "execute_result"
    }
   ],
   "source": [
    "# convert release_date to milliseconds\n",
    "spotify_orig['release_date'] = pd.to_datetime(spotify_orig['release_date'], format = \"%Y-%m-%d\").astype(np.int64) / 10**9\n",
    "\n",
    "# look at a few rows of the ks_projects file\n",
    "spotify_orig['release_date'].sample(5)"
   ],
   "metadata": {
    "collapsed": false,
    "pycharm": {
     "name": "#%%\n"
    }
   }
  },
  {
   "cell_type": "code",
   "execution_count": 7,
   "outputs": [],
   "source": [
    "# convert 'name' to embedding (vector)\n",
    "names_w2v = gensim.models.KeyedVectors.load_word2vec_format(fname=\"./data/spotify_track_names_embedding.bin\", binary=True)\n",
    "embedding_vectorizer = MeanEmbeddingVectorizer(names_w2v)\n",
    "spotify_orig = embedding_vectorizer.transform(data_frame=spotify_orig, column_to_encode='name')"
   ],
   "metadata": {
    "collapsed": false,
    "pycharm": {
     "name": "#%%\n"
    }
   }
  },
  {
   "cell_type": "code",
   "execution_count": 8,
   "outputs": [
    {
     "data": {
      "text/plain": "    valence  year  acousticness  \\\n0    0.0594  1921        0.9820   \n1    0.9630  1921        0.7320   \n2    0.0394  1921        0.9610   \n3    0.1650  1921        0.9670   \n4    0.2530  1921        0.9570   \n5    0.1960  1921        0.5790   \n6    0.4060  1921        0.9960   \n7    0.0731  1921        0.9930   \n8    0.7210  1921        0.9960   \n9    0.7710  1921        0.9820   \n10   0.8260  1921        0.9950   \n11   0.5780  1921        0.9940   \n12   0.4930  1921        0.9900   \n13   0.2120  1921        0.9120   \n14   0.4930  1921        0.0175   \n15   0.2820  1921        0.9890   \n16   0.2180  1921        0.9570   \n17   0.6640  1921        0.9960   \n18   0.0778  1921        0.1480   \n19   0.5270  1921        0.9710   \n20   0.6720  1921        0.9940   \n21   0.2400  1921        0.9940   \n22   0.4220  1921        0.9950   \n23   0.3810  1921        0.9950   \n24   0.4100  1921        0.9700   \n25   0.0731  1921        0.9930   \n26   0.6780  1921        0.9960   \n27   0.7230  1921        0.3880   \n28   0.7920  1921        0.9900   \n29   0.4250  1921        0.9920   \n\n                                              artists  danceability  \\\n0   ['Sergei Rachmaninoff', 'James Levine', 'Berli...         0.279   \n1                                      ['Dennis Day']         0.819   \n2   ['KHP Kridhamardawa Karaton Ngayogyakarta Hadi...         0.328   \n3                                    ['Frank Parker']         0.275   \n4                                      ['Phil Regan']         0.418   \n5   ['KHP Kridhamardawa Karaton Ngayogyakarta Hadi...         0.697   \n6                                  ['John McCormack']         0.518   \n7                             ['Sergei Rachmaninoff']         0.389   \n8                                 ['Ignacio Corsini']         0.485   \n9                                         ['Fortugé']         0.684   \n10                              ['Maurice Chevalier']         0.463   \n11                                ['Ignacio Corsini']         0.378   \n12                                        ['Georgel']         0.315   \n13                                ['Mehmet Kemiksiz']         0.415   \n14                                     ['Zay Gatsby']         0.527   \n15             ['Sergei Rachmaninoff', 'Ruth Laredo']         0.384   \n16                                     ['Phil Regan']         0.259   \n17             ['Hector Berlioz', 'Arturo Toscanini']         0.541   \n18                                        ['THE GUY']         0.604   \n19                              ['Christopher Lynch']         0.540   \n20                                        ['Fortugé']         0.670   \n21              ['John McCormack', 'Edwin Schneider']         0.400   \n22                                ['Ignacio Corsini']         0.648   \n23                         ['Hanende İbrahim Efendi']         0.223   \n24                                ['Mehmet Kemiksiz']         0.269   \n25                            ['Sergei Rachmaninoff']         0.389   \n26                              ['Maurice Chevalier']         0.500   \n27                                ['Mehmet Kemiksiz']         0.685   \n28                                        ['Fortugé']         0.665   \n29                                ['Ignacio Corsini']         0.286   \n\n    duration_ms  energy  explicit                      id  instrumentalness  \\\n0        831667  0.2110         0  4BJqT0PrAfrxzMOxytFOIz          0.878000   \n1        180533  0.3410         0  7xPhfUan2yNtyFG0cUWkt8          0.000000   \n2        500062  0.1660         0  1o6I8BglA6ylDMrIELygv1          0.913000   \n3        210000  0.3090         0  3ftBPsC5vPBKxYSee08FDH          0.000028   \n4        166693  0.1930         0  4d6HGyGT8e121BsdKmw9v6          0.000002   \n5        395076  0.3460         0  4pyw9DVHGStUre4J6hPngr          0.168000   \n6        159507  0.2030         0  5uNZnElqOS3W4fRmRYPk4T          0.000000   \n7        218773  0.0880         0  02GDntOXexBFUvSgaXLPkd          0.527000   \n8        161520  0.1300         0  05xDjWH9ub67nJJk82yfGf          0.151000   \n9        196560  0.2570         0  08zfJvRLp7pjAb94MA9JmF          0.000000   \n10       147133  0.2600         0  0BMkRpQtDoKjcgzCpnqLNa          0.000000   \n11       155413  0.1150         0  0F30WM8qRpO8kdolepZqdM          0.906000   \n12       190800  0.3630         0  0H3k2CvJvHULnWChlbeFgx          0.000000   \n13       184973  0.4200         0  0LcXzABeA84EgudqpNUN1I          0.890000   \n14       205072  0.6910         1  0MJZ4hh60zwsYleWWxT5yW          0.384000   \n15       221013  0.1710         0  0NFeJgmTAV1kDfzSQNK41Z          0.820000   \n16       186467  0.2120         0  0Nk5f07H3JaEunGrYfbqHM          0.000222   \n17       250747  0.2830         0  0POO8XaUgW5Qjbv9sbDy8W          0.898000   \n18       204957  0.4180         1  0QQmUf4aPFaN9U2yRko595          0.038200   \n19       122000  0.0848         0  0QU5xT6Mik4vpyt1ItsRXK          0.001960   \n20       191333  0.1130         0  0QvUUTHYUQQhSXLwffzjL7          0.000000   \n21       187333  0.1550         0  0RPKAq5yhbom6hXQz5qo6L          0.000043   \n22       154240  0.0995         0  0SK1upzAP6NvIgF0uGh6z2          0.846000   \n23       158908  0.2450         0  0UqiUmGDlhL0A0pmLxafn4          0.876000   \n24        86988  0.1430         0  0VhIFYGSpY0Z8IAIA3C6bX          0.469000   \n25       218773  0.0880         0  0eQsdik7GTEy7M3UytCbSN          0.527000   \n26       181733  0.2740         0  0i7MdVu0tNEyUdgpCBilKe          0.000000   \n27       155063  0.6980         0  0osXBirvQzPRfKSUDzHPCv          0.000002   \n28       203800  0.2310         0  0qt9g8zf2ZiQhy3FIx89xA          0.000000   \n29       130200  0.1770         0  0sIGoVO1yuIfpikLaKqqVY          0.932000   \n\n    ...       290       291       292       293       294       295       296  \\\n0   ...  0.044609  0.002701  0.082216  0.066865  0.007549  0.057522  0.084335   \n1   ...  0.078323  0.075364  0.036391  0.035745  0.059904  0.150445  0.010158   \n2   ...  0.000000  0.000000  0.000000  0.000000  0.000000  0.000000  0.000000   \n3   ...  0.000000  0.000000  0.000000  0.000000  0.000000  0.000000  0.000000   \n4   ...  0.039865  0.064271 -0.030167  0.000964  0.057320  0.167101 -0.007649   \n5   ...  0.000000  0.000000  0.000000  0.000000  0.000000  0.000000  0.000000   \n6   ...  0.000000  0.000000  0.000000  0.000000  0.000000  0.000000  0.000000   \n7   ...  0.038651  0.016879  0.099215  0.036551  0.030900  0.036561  0.048462   \n8   ...  0.015453  0.011147  0.120185 -0.004982  0.058531  0.013018  0.006694   \n9   ... -0.006613 -0.026098  0.137225  0.080433  0.010241 -0.003989  0.035694   \n10  ...  0.032572  0.034674  0.131695 -0.000608  0.068036  0.028800  0.039537   \n11  ...  0.016447  0.060743  0.124270 -0.035152  0.054976  0.034730 -0.044183   \n12  ...  0.000000  0.000000  0.000000  0.000000  0.000000  0.000000  0.000000   \n13  ...  0.000000  0.000000  0.000000  0.000000  0.000000  0.000000  0.000000   \n14  ...  0.000000  0.000000  0.000000  0.000000  0.000000  0.000000  0.000000   \n15  ...  0.018388  0.014685  0.108914  0.062141  0.016773  0.053344  0.059375   \n16  ...  0.000000  0.000000  0.000000  0.000000  0.000000  0.000000  0.000000   \n17  ...  0.015104  0.003958  0.045540  0.019329  0.016595  0.032630  0.065237   \n18  ...  0.000000  0.000000  0.000000  0.000000  0.000000  0.000000  0.000000   \n19  ...  0.000000  0.000000  0.000000  0.000000  0.000000  0.000000  0.000000   \n20  ...  0.027184  0.029008  0.126625 -0.013234  0.065225  0.022984  0.006403   \n21  ...  0.000000  0.000000  0.000000  0.000000  0.000000  0.000000  0.000000   \n22  ...  0.010821  0.058054  0.119358 -0.027492  0.064751  0.035012 -0.044035   \n23  ...  0.019611 -0.041559  0.072576  0.025408  0.003370  0.003608  0.070250   \n24  ...  0.000000  0.000000  0.000000  0.000000  0.000000  0.000000  0.000000   \n25  ...  0.038651  0.016879  0.099215  0.036551  0.030900  0.036561  0.048462   \n26  ...  0.000000  0.000000  0.000000  0.000000  0.000000  0.000000  0.000000   \n27  ...  0.030428  0.043592  0.149969  0.034951  0.064859  0.006208 -0.040834   \n28  ...  0.023674  0.029983  0.138675 -0.008375  0.082932  0.013614  0.008880   \n29  ...  0.004551  0.047154  0.118895 -0.019974  0.046249  0.035422 -0.037773   \n\n         297       298       299  \n0   0.024367 -0.091546  0.055006  \n1   0.032958 -0.002272  0.111250  \n2   0.000000  0.000000  0.000000  \n3   0.000000  0.000000  0.000000  \n4  -0.022731 -0.009534  0.102913  \n5   0.000000  0.000000  0.000000  \n6   0.000000  0.000000  0.000000  \n7   0.009621 -0.089695  0.026516  \n8  -0.027594 -0.083273 -0.042136  \n9  -0.022774 -0.046326  0.012025  \n10 -0.046267 -0.104876 -0.027444  \n11  0.022757 -0.015422 -0.059048  \n12  0.000000  0.000000  0.000000  \n13  0.000000  0.000000  0.000000  \n14  0.000000  0.000000  0.000000  \n15  0.018617 -0.066329  0.018913  \n16  0.000000  0.000000  0.000000  \n17  0.017363 -0.072268  0.080270  \n18  0.000000  0.000000  0.000000  \n19  0.000000  0.000000  0.000000  \n20 -0.043628 -0.066502 -0.046958  \n21  0.000000  0.000000  0.000000  \n22  0.005966 -0.029386 -0.040933  \n23  0.024594 -0.069509  0.005879  \n24  0.000000  0.000000  0.000000  \n25  0.009621 -0.089695  0.026516  \n26  0.000000  0.000000  0.000000  \n27  0.038180 -0.005585  0.013587  \n28 -0.055083 -0.090865 -0.018869  \n29  0.020136 -0.011517 -0.047287  \n\n[30 rows x 329 columns]",
      "text/html": "<div>\n<style scoped>\n    .dataframe tbody tr th:only-of-type {\n        vertical-align: middle;\n    }\n\n    .dataframe tbody tr th {\n        vertical-align: top;\n    }\n\n    .dataframe thead th {\n        text-align: right;\n    }\n</style>\n<table border=\"1\" class=\"dataframe\">\n  <thead>\n    <tr style=\"text-align: right;\">\n      <th></th>\n      <th>valence</th>\n      <th>year</th>\n      <th>acousticness</th>\n      <th>artists</th>\n      <th>danceability</th>\n      <th>duration_ms</th>\n      <th>energy</th>\n      <th>explicit</th>\n      <th>id</th>\n      <th>instrumentalness</th>\n      <th>...</th>\n      <th>290</th>\n      <th>291</th>\n      <th>292</th>\n      <th>293</th>\n      <th>294</th>\n      <th>295</th>\n      <th>296</th>\n      <th>297</th>\n      <th>298</th>\n      <th>299</th>\n    </tr>\n  </thead>\n  <tbody>\n    <tr>\n      <th>0</th>\n      <td>0.0594</td>\n      <td>1921</td>\n      <td>0.9820</td>\n      <td>['Sergei Rachmaninoff', 'James Levine', 'Berli...</td>\n      <td>0.279</td>\n      <td>831667</td>\n      <td>0.2110</td>\n      <td>0</td>\n      <td>4BJqT0PrAfrxzMOxytFOIz</td>\n      <td>0.878000</td>\n      <td>...</td>\n      <td>0.044609</td>\n      <td>0.002701</td>\n      <td>0.082216</td>\n      <td>0.066865</td>\n      <td>0.007549</td>\n      <td>0.057522</td>\n      <td>0.084335</td>\n      <td>0.024367</td>\n      <td>-0.091546</td>\n      <td>0.055006</td>\n    </tr>\n    <tr>\n      <th>1</th>\n      <td>0.9630</td>\n      <td>1921</td>\n      <td>0.7320</td>\n      <td>['Dennis Day']</td>\n      <td>0.819</td>\n      <td>180533</td>\n      <td>0.3410</td>\n      <td>0</td>\n      <td>7xPhfUan2yNtyFG0cUWkt8</td>\n      <td>0.000000</td>\n      <td>...</td>\n      <td>0.078323</td>\n      <td>0.075364</td>\n      <td>0.036391</td>\n      <td>0.035745</td>\n      <td>0.059904</td>\n      <td>0.150445</td>\n      <td>0.010158</td>\n      <td>0.032958</td>\n      <td>-0.002272</td>\n      <td>0.111250</td>\n    </tr>\n    <tr>\n      <th>2</th>\n      <td>0.0394</td>\n      <td>1921</td>\n      <td>0.9610</td>\n      <td>['KHP Kridhamardawa Karaton Ngayogyakarta Hadi...</td>\n      <td>0.328</td>\n      <td>500062</td>\n      <td>0.1660</td>\n      <td>0</td>\n      <td>1o6I8BglA6ylDMrIELygv1</td>\n      <td>0.913000</td>\n      <td>...</td>\n      <td>0.000000</td>\n      <td>0.000000</td>\n      <td>0.000000</td>\n      <td>0.000000</td>\n      <td>0.000000</td>\n      <td>0.000000</td>\n      <td>0.000000</td>\n      <td>0.000000</td>\n      <td>0.000000</td>\n      <td>0.000000</td>\n    </tr>\n    <tr>\n      <th>3</th>\n      <td>0.1650</td>\n      <td>1921</td>\n      <td>0.9670</td>\n      <td>['Frank Parker']</td>\n      <td>0.275</td>\n      <td>210000</td>\n      <td>0.3090</td>\n      <td>0</td>\n      <td>3ftBPsC5vPBKxYSee08FDH</td>\n      <td>0.000028</td>\n      <td>...</td>\n      <td>0.000000</td>\n      <td>0.000000</td>\n      <td>0.000000</td>\n      <td>0.000000</td>\n      <td>0.000000</td>\n      <td>0.000000</td>\n      <td>0.000000</td>\n      <td>0.000000</td>\n      <td>0.000000</td>\n      <td>0.000000</td>\n    </tr>\n    <tr>\n      <th>4</th>\n      <td>0.2530</td>\n      <td>1921</td>\n      <td>0.9570</td>\n      <td>['Phil Regan']</td>\n      <td>0.418</td>\n      <td>166693</td>\n      <td>0.1930</td>\n      <td>0</td>\n      <td>4d6HGyGT8e121BsdKmw9v6</td>\n      <td>0.000002</td>\n      <td>...</td>\n      <td>0.039865</td>\n      <td>0.064271</td>\n      <td>-0.030167</td>\n      <td>0.000964</td>\n      <td>0.057320</td>\n      <td>0.167101</td>\n      <td>-0.007649</td>\n      <td>-0.022731</td>\n      <td>-0.009534</td>\n      <td>0.102913</td>\n    </tr>\n    <tr>\n      <th>5</th>\n      <td>0.1960</td>\n      <td>1921</td>\n      <td>0.5790</td>\n      <td>['KHP Kridhamardawa Karaton Ngayogyakarta Hadi...</td>\n      <td>0.697</td>\n      <td>395076</td>\n      <td>0.3460</td>\n      <td>0</td>\n      <td>4pyw9DVHGStUre4J6hPngr</td>\n      <td>0.168000</td>\n      <td>...</td>\n      <td>0.000000</td>\n      <td>0.000000</td>\n      <td>0.000000</td>\n      <td>0.000000</td>\n      <td>0.000000</td>\n      <td>0.000000</td>\n      <td>0.000000</td>\n      <td>0.000000</td>\n      <td>0.000000</td>\n      <td>0.000000</td>\n    </tr>\n    <tr>\n      <th>6</th>\n      <td>0.4060</td>\n      <td>1921</td>\n      <td>0.9960</td>\n      <td>['John McCormack']</td>\n      <td>0.518</td>\n      <td>159507</td>\n      <td>0.2030</td>\n      <td>0</td>\n      <td>5uNZnElqOS3W4fRmRYPk4T</td>\n      <td>0.000000</td>\n      <td>...</td>\n      <td>0.000000</td>\n      <td>0.000000</td>\n      <td>0.000000</td>\n      <td>0.000000</td>\n      <td>0.000000</td>\n      <td>0.000000</td>\n      <td>0.000000</td>\n      <td>0.000000</td>\n      <td>0.000000</td>\n      <td>0.000000</td>\n    </tr>\n    <tr>\n      <th>7</th>\n      <td>0.0731</td>\n      <td>1921</td>\n      <td>0.9930</td>\n      <td>['Sergei Rachmaninoff']</td>\n      <td>0.389</td>\n      <td>218773</td>\n      <td>0.0880</td>\n      <td>0</td>\n      <td>02GDntOXexBFUvSgaXLPkd</td>\n      <td>0.527000</td>\n      <td>...</td>\n      <td>0.038651</td>\n      <td>0.016879</td>\n      <td>0.099215</td>\n      <td>0.036551</td>\n      <td>0.030900</td>\n      <td>0.036561</td>\n      <td>0.048462</td>\n      <td>0.009621</td>\n      <td>-0.089695</td>\n      <td>0.026516</td>\n    </tr>\n    <tr>\n      <th>8</th>\n      <td>0.7210</td>\n      <td>1921</td>\n      <td>0.9960</td>\n      <td>['Ignacio Corsini']</td>\n      <td>0.485</td>\n      <td>161520</td>\n      <td>0.1300</td>\n      <td>0</td>\n      <td>05xDjWH9ub67nJJk82yfGf</td>\n      <td>0.151000</td>\n      <td>...</td>\n      <td>0.015453</td>\n      <td>0.011147</td>\n      <td>0.120185</td>\n      <td>-0.004982</td>\n      <td>0.058531</td>\n      <td>0.013018</td>\n      <td>0.006694</td>\n      <td>-0.027594</td>\n      <td>-0.083273</td>\n      <td>-0.042136</td>\n    </tr>\n    <tr>\n      <th>9</th>\n      <td>0.7710</td>\n      <td>1921</td>\n      <td>0.9820</td>\n      <td>['Fortugé']</td>\n      <td>0.684</td>\n      <td>196560</td>\n      <td>0.2570</td>\n      <td>0</td>\n      <td>08zfJvRLp7pjAb94MA9JmF</td>\n      <td>0.000000</td>\n      <td>...</td>\n      <td>-0.006613</td>\n      <td>-0.026098</td>\n      <td>0.137225</td>\n      <td>0.080433</td>\n      <td>0.010241</td>\n      <td>-0.003989</td>\n      <td>0.035694</td>\n      <td>-0.022774</td>\n      <td>-0.046326</td>\n      <td>0.012025</td>\n    </tr>\n    <tr>\n      <th>10</th>\n      <td>0.8260</td>\n      <td>1921</td>\n      <td>0.9950</td>\n      <td>['Maurice Chevalier']</td>\n      <td>0.463</td>\n      <td>147133</td>\n      <td>0.2600</td>\n      <td>0</td>\n      <td>0BMkRpQtDoKjcgzCpnqLNa</td>\n      <td>0.000000</td>\n      <td>...</td>\n      <td>0.032572</td>\n      <td>0.034674</td>\n      <td>0.131695</td>\n      <td>-0.000608</td>\n      <td>0.068036</td>\n      <td>0.028800</td>\n      <td>0.039537</td>\n      <td>-0.046267</td>\n      <td>-0.104876</td>\n      <td>-0.027444</td>\n    </tr>\n    <tr>\n      <th>11</th>\n      <td>0.5780</td>\n      <td>1921</td>\n      <td>0.9940</td>\n      <td>['Ignacio Corsini']</td>\n      <td>0.378</td>\n      <td>155413</td>\n      <td>0.1150</td>\n      <td>0</td>\n      <td>0F30WM8qRpO8kdolepZqdM</td>\n      <td>0.906000</td>\n      <td>...</td>\n      <td>0.016447</td>\n      <td>0.060743</td>\n      <td>0.124270</td>\n      <td>-0.035152</td>\n      <td>0.054976</td>\n      <td>0.034730</td>\n      <td>-0.044183</td>\n      <td>0.022757</td>\n      <td>-0.015422</td>\n      <td>-0.059048</td>\n    </tr>\n    <tr>\n      <th>12</th>\n      <td>0.4930</td>\n      <td>1921</td>\n      <td>0.9900</td>\n      <td>['Georgel']</td>\n      <td>0.315</td>\n      <td>190800</td>\n      <td>0.3630</td>\n      <td>0</td>\n      <td>0H3k2CvJvHULnWChlbeFgx</td>\n      <td>0.000000</td>\n      <td>...</td>\n      <td>0.000000</td>\n      <td>0.000000</td>\n      <td>0.000000</td>\n      <td>0.000000</td>\n      <td>0.000000</td>\n      <td>0.000000</td>\n      <td>0.000000</td>\n      <td>0.000000</td>\n      <td>0.000000</td>\n      <td>0.000000</td>\n    </tr>\n    <tr>\n      <th>13</th>\n      <td>0.2120</td>\n      <td>1921</td>\n      <td>0.9120</td>\n      <td>['Mehmet Kemiksiz']</td>\n      <td>0.415</td>\n      <td>184973</td>\n      <td>0.4200</td>\n      <td>0</td>\n      <td>0LcXzABeA84EgudqpNUN1I</td>\n      <td>0.890000</td>\n      <td>...</td>\n      <td>0.000000</td>\n      <td>0.000000</td>\n      <td>0.000000</td>\n      <td>0.000000</td>\n      <td>0.000000</td>\n      <td>0.000000</td>\n      <td>0.000000</td>\n      <td>0.000000</td>\n      <td>0.000000</td>\n      <td>0.000000</td>\n    </tr>\n    <tr>\n      <th>14</th>\n      <td>0.4930</td>\n      <td>1921</td>\n      <td>0.0175</td>\n      <td>['Zay Gatsby']</td>\n      <td>0.527</td>\n      <td>205072</td>\n      <td>0.6910</td>\n      <td>1</td>\n      <td>0MJZ4hh60zwsYleWWxT5yW</td>\n      <td>0.384000</td>\n      <td>...</td>\n      <td>0.000000</td>\n      <td>0.000000</td>\n      <td>0.000000</td>\n      <td>0.000000</td>\n      <td>0.000000</td>\n      <td>0.000000</td>\n      <td>0.000000</td>\n      <td>0.000000</td>\n      <td>0.000000</td>\n      <td>0.000000</td>\n    </tr>\n    <tr>\n      <th>15</th>\n      <td>0.2820</td>\n      <td>1921</td>\n      <td>0.9890</td>\n      <td>['Sergei Rachmaninoff', 'Ruth Laredo']</td>\n      <td>0.384</td>\n      <td>221013</td>\n      <td>0.1710</td>\n      <td>0</td>\n      <td>0NFeJgmTAV1kDfzSQNK41Z</td>\n      <td>0.820000</td>\n      <td>...</td>\n      <td>0.018388</td>\n      <td>0.014685</td>\n      <td>0.108914</td>\n      <td>0.062141</td>\n      <td>0.016773</td>\n      <td>0.053344</td>\n      <td>0.059375</td>\n      <td>0.018617</td>\n      <td>-0.066329</td>\n      <td>0.018913</td>\n    </tr>\n    <tr>\n      <th>16</th>\n      <td>0.2180</td>\n      <td>1921</td>\n      <td>0.9570</td>\n      <td>['Phil Regan']</td>\n      <td>0.259</td>\n      <td>186467</td>\n      <td>0.2120</td>\n      <td>0</td>\n      <td>0Nk5f07H3JaEunGrYfbqHM</td>\n      <td>0.000222</td>\n      <td>...</td>\n      <td>0.000000</td>\n      <td>0.000000</td>\n      <td>0.000000</td>\n      <td>0.000000</td>\n      <td>0.000000</td>\n      <td>0.000000</td>\n      <td>0.000000</td>\n      <td>0.000000</td>\n      <td>0.000000</td>\n      <td>0.000000</td>\n    </tr>\n    <tr>\n      <th>17</th>\n      <td>0.6640</td>\n      <td>1921</td>\n      <td>0.9960</td>\n      <td>['Hector Berlioz', 'Arturo Toscanini']</td>\n      <td>0.541</td>\n      <td>250747</td>\n      <td>0.2830</td>\n      <td>0</td>\n      <td>0POO8XaUgW5Qjbv9sbDy8W</td>\n      <td>0.898000</td>\n      <td>...</td>\n      <td>0.015104</td>\n      <td>0.003958</td>\n      <td>0.045540</td>\n      <td>0.019329</td>\n      <td>0.016595</td>\n      <td>0.032630</td>\n      <td>0.065237</td>\n      <td>0.017363</td>\n      <td>-0.072268</td>\n      <td>0.080270</td>\n    </tr>\n    <tr>\n      <th>18</th>\n      <td>0.0778</td>\n      <td>1921</td>\n      <td>0.1480</td>\n      <td>['THE GUY']</td>\n      <td>0.604</td>\n      <td>204957</td>\n      <td>0.4180</td>\n      <td>1</td>\n      <td>0QQmUf4aPFaN9U2yRko595</td>\n      <td>0.038200</td>\n      <td>...</td>\n      <td>0.000000</td>\n      <td>0.000000</td>\n      <td>0.000000</td>\n      <td>0.000000</td>\n      <td>0.000000</td>\n      <td>0.000000</td>\n      <td>0.000000</td>\n      <td>0.000000</td>\n      <td>0.000000</td>\n      <td>0.000000</td>\n    </tr>\n    <tr>\n      <th>19</th>\n      <td>0.5270</td>\n      <td>1921</td>\n      <td>0.9710</td>\n      <td>['Christopher Lynch']</td>\n      <td>0.540</td>\n      <td>122000</td>\n      <td>0.0848</td>\n      <td>0</td>\n      <td>0QU5xT6Mik4vpyt1ItsRXK</td>\n      <td>0.001960</td>\n      <td>...</td>\n      <td>0.000000</td>\n      <td>0.000000</td>\n      <td>0.000000</td>\n      <td>0.000000</td>\n      <td>0.000000</td>\n      <td>0.000000</td>\n      <td>0.000000</td>\n      <td>0.000000</td>\n      <td>0.000000</td>\n      <td>0.000000</td>\n    </tr>\n    <tr>\n      <th>20</th>\n      <td>0.6720</td>\n      <td>1921</td>\n      <td>0.9940</td>\n      <td>['Fortugé']</td>\n      <td>0.670</td>\n      <td>191333</td>\n      <td>0.1130</td>\n      <td>0</td>\n      <td>0QvUUTHYUQQhSXLwffzjL7</td>\n      <td>0.000000</td>\n      <td>...</td>\n      <td>0.027184</td>\n      <td>0.029008</td>\n      <td>0.126625</td>\n      <td>-0.013234</td>\n      <td>0.065225</td>\n      <td>0.022984</td>\n      <td>0.006403</td>\n      <td>-0.043628</td>\n      <td>-0.066502</td>\n      <td>-0.046958</td>\n    </tr>\n    <tr>\n      <th>21</th>\n      <td>0.2400</td>\n      <td>1921</td>\n      <td>0.9940</td>\n      <td>['John McCormack', 'Edwin Schneider']</td>\n      <td>0.400</td>\n      <td>187333</td>\n      <td>0.1550</td>\n      <td>0</td>\n      <td>0RPKAq5yhbom6hXQz5qo6L</td>\n      <td>0.000043</td>\n      <td>...</td>\n      <td>0.000000</td>\n      <td>0.000000</td>\n      <td>0.000000</td>\n      <td>0.000000</td>\n      <td>0.000000</td>\n      <td>0.000000</td>\n      <td>0.000000</td>\n      <td>0.000000</td>\n      <td>0.000000</td>\n      <td>0.000000</td>\n    </tr>\n    <tr>\n      <th>22</th>\n      <td>0.4220</td>\n      <td>1921</td>\n      <td>0.9950</td>\n      <td>['Ignacio Corsini']</td>\n      <td>0.648</td>\n      <td>154240</td>\n      <td>0.0995</td>\n      <td>0</td>\n      <td>0SK1upzAP6NvIgF0uGh6z2</td>\n      <td>0.846000</td>\n      <td>...</td>\n      <td>0.010821</td>\n      <td>0.058054</td>\n      <td>0.119358</td>\n      <td>-0.027492</td>\n      <td>0.064751</td>\n      <td>0.035012</td>\n      <td>-0.044035</td>\n      <td>0.005966</td>\n      <td>-0.029386</td>\n      <td>-0.040933</td>\n    </tr>\n    <tr>\n      <th>23</th>\n      <td>0.3810</td>\n      <td>1921</td>\n      <td>0.9950</td>\n      <td>['Hanende İbrahim Efendi']</td>\n      <td>0.223</td>\n      <td>158908</td>\n      <td>0.2450</td>\n      <td>0</td>\n      <td>0UqiUmGDlhL0A0pmLxafn4</td>\n      <td>0.876000</td>\n      <td>...</td>\n      <td>0.019611</td>\n      <td>-0.041559</td>\n      <td>0.072576</td>\n      <td>0.025408</td>\n      <td>0.003370</td>\n      <td>0.003608</td>\n      <td>0.070250</td>\n      <td>0.024594</td>\n      <td>-0.069509</td>\n      <td>0.005879</td>\n    </tr>\n    <tr>\n      <th>24</th>\n      <td>0.4100</td>\n      <td>1921</td>\n      <td>0.9700</td>\n      <td>['Mehmet Kemiksiz']</td>\n      <td>0.269</td>\n      <td>86988</td>\n      <td>0.1430</td>\n      <td>0</td>\n      <td>0VhIFYGSpY0Z8IAIA3C6bX</td>\n      <td>0.469000</td>\n      <td>...</td>\n      <td>0.000000</td>\n      <td>0.000000</td>\n      <td>0.000000</td>\n      <td>0.000000</td>\n      <td>0.000000</td>\n      <td>0.000000</td>\n      <td>0.000000</td>\n      <td>0.000000</td>\n      <td>0.000000</td>\n      <td>0.000000</td>\n    </tr>\n    <tr>\n      <th>25</th>\n      <td>0.0731</td>\n      <td>1921</td>\n      <td>0.9930</td>\n      <td>['Sergei Rachmaninoff']</td>\n      <td>0.389</td>\n      <td>218773</td>\n      <td>0.0880</td>\n      <td>0</td>\n      <td>0eQsdik7GTEy7M3UytCbSN</td>\n      <td>0.527000</td>\n      <td>...</td>\n      <td>0.038651</td>\n      <td>0.016879</td>\n      <td>0.099215</td>\n      <td>0.036551</td>\n      <td>0.030900</td>\n      <td>0.036561</td>\n      <td>0.048462</td>\n      <td>0.009621</td>\n      <td>-0.089695</td>\n      <td>0.026516</td>\n    </tr>\n    <tr>\n      <th>26</th>\n      <td>0.6780</td>\n      <td>1921</td>\n      <td>0.9960</td>\n      <td>['Maurice Chevalier']</td>\n      <td>0.500</td>\n      <td>181733</td>\n      <td>0.2740</td>\n      <td>0</td>\n      <td>0i7MdVu0tNEyUdgpCBilKe</td>\n      <td>0.000000</td>\n      <td>...</td>\n      <td>0.000000</td>\n      <td>0.000000</td>\n      <td>0.000000</td>\n      <td>0.000000</td>\n      <td>0.000000</td>\n      <td>0.000000</td>\n      <td>0.000000</td>\n      <td>0.000000</td>\n      <td>0.000000</td>\n      <td>0.000000</td>\n    </tr>\n    <tr>\n      <th>27</th>\n      <td>0.7230</td>\n      <td>1921</td>\n      <td>0.3880</td>\n      <td>['Mehmet Kemiksiz']</td>\n      <td>0.685</td>\n      <td>155063</td>\n      <td>0.6980</td>\n      <td>0</td>\n      <td>0osXBirvQzPRfKSUDzHPCv</td>\n      <td>0.000002</td>\n      <td>...</td>\n      <td>0.030428</td>\n      <td>0.043592</td>\n      <td>0.149969</td>\n      <td>0.034951</td>\n      <td>0.064859</td>\n      <td>0.006208</td>\n      <td>-0.040834</td>\n      <td>0.038180</td>\n      <td>-0.005585</td>\n      <td>0.013587</td>\n    </tr>\n    <tr>\n      <th>28</th>\n      <td>0.7920</td>\n      <td>1921</td>\n      <td>0.9900</td>\n      <td>['Fortugé']</td>\n      <td>0.665</td>\n      <td>203800</td>\n      <td>0.2310</td>\n      <td>0</td>\n      <td>0qt9g8zf2ZiQhy3FIx89xA</td>\n      <td>0.000000</td>\n      <td>...</td>\n      <td>0.023674</td>\n      <td>0.029983</td>\n      <td>0.138675</td>\n      <td>-0.008375</td>\n      <td>0.082932</td>\n      <td>0.013614</td>\n      <td>0.008880</td>\n      <td>-0.055083</td>\n      <td>-0.090865</td>\n      <td>-0.018869</td>\n    </tr>\n    <tr>\n      <th>29</th>\n      <td>0.4250</td>\n      <td>1921</td>\n      <td>0.9920</td>\n      <td>['Ignacio Corsini']</td>\n      <td>0.286</td>\n      <td>130200</td>\n      <td>0.1770</td>\n      <td>0</td>\n      <td>0sIGoVO1yuIfpikLaKqqVY</td>\n      <td>0.932000</td>\n      <td>...</td>\n      <td>0.004551</td>\n      <td>0.047154</td>\n      <td>0.118895</td>\n      <td>-0.019974</td>\n      <td>0.046249</td>\n      <td>0.035422</td>\n      <td>-0.037773</td>\n      <td>0.020136</td>\n      <td>-0.011517</td>\n      <td>-0.047287</td>\n    </tr>\n  </tbody>\n</table>\n<p>30 rows × 329 columns</p>\n</div>"
     },
     "execution_count": 8,
     "metadata": {},
     "output_type": "execute_result"
    }
   ],
   "source": [
    "# look at a few rows of the ks_projects file\n",
    "spotify_orig.head(30)\n"
   ],
   "metadata": {
    "collapsed": false,
    "pycharm": {
     "name": "#%%\n"
    }
   }
  }
 ],
 "metadata": {
  "kernelspec": {
   "name": "pycharm-da890fd0",
   "language": "python",
   "display_name": "PyCharm (kickstarter)"
  },
  "language_info": {
   "codemirror_mode": {
    "name": "ipython",
    "version": 2
   },
   "file_extension": ".py",
   "mimetype": "text/x-python",
   "name": "python",
   "nbconvert_exporter": "python",
   "pygments_lexer": "ipython2",
   "version": "2.7.6"
  }
 },
 "nbformat": 4,
 "nbformat_minor": 0
}