{
 "cells": [
  {
   "cell_type": "code",
   "execution_count": 21,
   "outputs": [],
   "source": [
    "# modules we'll use\n",
    "\n",
    "import os\n",
    "import re  # For preprocessing\n",
    "import pandas as pd  # For data handling\n",
    "import spacy\n",
    "import logging  # Setting up the loggings to monitor gensim\n",
    "import multiprocessing\n",
    "import gensim\n",
    "import seaborn as sns\n",
    "\n",
    "from time import time  # To time our operations\n",
    "from collections import defaultdict  # For word frequency\n",
    "from gensim.models.phrases import Phrases, Phraser\n",
    "from gensim.models import Word2Vec, KeyedVectors"
   ],
   "metadata": {
    "collapsed": false,
    "pycharm": {
     "name": "#%%\n"
    }
   }
  },
  {
   "cell_type": "code",
   "execution_count": 22,
   "outputs": [],
   "source": [
    "from plotting.t_sne_scatter_plotter import TSNEScatterPlotter\n",
    "logging.basicConfig(format=\"%(levelname)s - %(asctime)s: %(message)s\", datefmt= '%H:%M:%S', level=logging.INFO)"
   ],
   "metadata": {
    "collapsed": false,
    "pycharm": {
     "name": "#%%\n"
    }
   }
  },
  {
   "cell_type": "code",
   "execution_count": 23,
   "outputs": [],
   "source": [
    "#mount Google Drive\n",
    "#from google.colab import drive\n",
    "#drive.mount('/content/drive')"
   ],
   "metadata": {
    "collapsed": false,
    "pycharm": {
     "name": "#%%\n"
    }
   }
  },
  {
   "cell_type": "code",
   "execution_count": 24,
   "outputs": [],
   "source": [
    "# read in all our data\n",
    "# Google Drive's path: /content/drive/MyDrive/Praca Inżynierska/kickstarter/data/spotify.csv\n",
    "spotify_orig  = pd.read_csv(\"../data/spotify.csv\")"
   ],
   "metadata": {
    "collapsed": false,
    "pycharm": {
     "name": "#%%\n"
    }
   }
  },
  {
   "cell_type": "code",
   "execution_count": 25,
   "outputs": [
    {
     "data": {
      "text/plain": "        valence  year  acousticness  \\\n20364     0.559  1928         0.993   \n145290    0.823  1968         0.488   \n16232     0.807  2003         0.151   \n118459    0.195  1988         0.158   \n69739     0.685  1993         0.169   \n\n                                                 artists  danceability  \\\n20364   ['Wolfgang Amadeus Mozart', 'Vladimir Horowitz']         0.493   \n145290                                ['Vince Guaraldi']         0.403   \n16232                                ['The Proclaimers']         0.851   \n118459                                      ['Ministry']         0.716   \n69739                                     ['Liberación']         0.606   \n\n        duration_ms  energy  explicit                      id  \\\n20364        220173  0.0842         0  0Xu0gdLfgEiKXdpHcrYiRh   \n145290       160173  0.6180         0  2rSuv0WVuyJUI4fFXuSS19   \n16232        219467  0.5510         0  66S14BkJDxgkYxLl5DCqOz   \n118459       312307  0.9460         0  6W7ngPDxXx5fXrYwiKWN51   \n69739        177840  0.6280         0  2Fl2oyP6AiYriQfP9lcASP   \n\n        instrumentalness  key  liveness  loudness  mode  \\\n20364           0.879000    9    0.1120   -24.255     1   \n145290          0.000126   10    0.1570   -11.932     1   \n16232           0.000000    4    0.0827    -5.177     1   \n118459          0.002610    7    0.3330   -10.707     0   \n69739           0.000000    1    0.1190    -8.841     0   \n\n                                                     name  popularity  \\\n20364   Piano Sonata No. 11 in A Major, K. 331: III. R...           0   \n145290                                   Peppermint Patty          17   \n16232                            I'm Gonna Be (500 Miles)          74   \n118459                         The Land of Rape and Honey          32   \n69739                                               A Esa          42   \n\n       release_date  speechiness    tempo  \n20364          1928       0.0518  122.532  \n145290         1968       0.0299  137.739  \n16232    2003-09-01       0.0396  131.922  \n118459         1988       0.0383  105.415  \n69739    1993-01-01       0.0394   93.227  ",
      "text/html": "<div>\n<style scoped>\n    .dataframe tbody tr th:only-of-type {\n        vertical-align: middle;\n    }\n\n    .dataframe tbody tr th {\n        vertical-align: top;\n    }\n\n    .dataframe thead th {\n        text-align: right;\n    }\n</style>\n<table border=\"1\" class=\"dataframe\">\n  <thead>\n    <tr style=\"text-align: right;\">\n      <th></th>\n      <th>valence</th>\n      <th>year</th>\n      <th>acousticness</th>\n      <th>artists</th>\n      <th>danceability</th>\n      <th>duration_ms</th>\n      <th>energy</th>\n      <th>explicit</th>\n      <th>id</th>\n      <th>instrumentalness</th>\n      <th>key</th>\n      <th>liveness</th>\n      <th>loudness</th>\n      <th>mode</th>\n      <th>name</th>\n      <th>popularity</th>\n      <th>release_date</th>\n      <th>speechiness</th>\n      <th>tempo</th>\n    </tr>\n  </thead>\n  <tbody>\n    <tr>\n      <th>20364</th>\n      <td>0.559</td>\n      <td>1928</td>\n      <td>0.993</td>\n      <td>['Wolfgang Amadeus Mozart', 'Vladimir Horowitz']</td>\n      <td>0.493</td>\n      <td>220173</td>\n      <td>0.0842</td>\n      <td>0</td>\n      <td>0Xu0gdLfgEiKXdpHcrYiRh</td>\n      <td>0.879000</td>\n      <td>9</td>\n      <td>0.1120</td>\n      <td>-24.255</td>\n      <td>1</td>\n      <td>Piano Sonata No. 11 in A Major, K. 331: III. R...</td>\n      <td>0</td>\n      <td>1928</td>\n      <td>0.0518</td>\n      <td>122.532</td>\n    </tr>\n    <tr>\n      <th>145290</th>\n      <td>0.823</td>\n      <td>1968</td>\n      <td>0.488</td>\n      <td>['Vince Guaraldi']</td>\n      <td>0.403</td>\n      <td>160173</td>\n      <td>0.6180</td>\n      <td>0</td>\n      <td>2rSuv0WVuyJUI4fFXuSS19</td>\n      <td>0.000126</td>\n      <td>10</td>\n      <td>0.1570</td>\n      <td>-11.932</td>\n      <td>1</td>\n      <td>Peppermint Patty</td>\n      <td>17</td>\n      <td>1968</td>\n      <td>0.0299</td>\n      <td>137.739</td>\n    </tr>\n    <tr>\n      <th>16232</th>\n      <td>0.807</td>\n      <td>2003</td>\n      <td>0.151</td>\n      <td>['The Proclaimers']</td>\n      <td>0.851</td>\n      <td>219467</td>\n      <td>0.5510</td>\n      <td>0</td>\n      <td>66S14BkJDxgkYxLl5DCqOz</td>\n      <td>0.000000</td>\n      <td>4</td>\n      <td>0.0827</td>\n      <td>-5.177</td>\n      <td>1</td>\n      <td>I'm Gonna Be (500 Miles)</td>\n      <td>74</td>\n      <td>2003-09-01</td>\n      <td>0.0396</td>\n      <td>131.922</td>\n    </tr>\n    <tr>\n      <th>118459</th>\n      <td>0.195</td>\n      <td>1988</td>\n      <td>0.158</td>\n      <td>['Ministry']</td>\n      <td>0.716</td>\n      <td>312307</td>\n      <td>0.9460</td>\n      <td>0</td>\n      <td>6W7ngPDxXx5fXrYwiKWN51</td>\n      <td>0.002610</td>\n      <td>7</td>\n      <td>0.3330</td>\n      <td>-10.707</td>\n      <td>0</td>\n      <td>The Land of Rape and Honey</td>\n      <td>32</td>\n      <td>1988</td>\n      <td>0.0383</td>\n      <td>105.415</td>\n    </tr>\n    <tr>\n      <th>69739</th>\n      <td>0.685</td>\n      <td>1993</td>\n      <td>0.169</td>\n      <td>['Liberación']</td>\n      <td>0.606</td>\n      <td>177840</td>\n      <td>0.6280</td>\n      <td>0</td>\n      <td>2Fl2oyP6AiYriQfP9lcASP</td>\n      <td>0.000000</td>\n      <td>1</td>\n      <td>0.1190</td>\n      <td>-8.841</td>\n      <td>0</td>\n      <td>A Esa</td>\n      <td>42</td>\n      <td>1993-01-01</td>\n      <td>0.0394</td>\n      <td>93.227</td>\n    </tr>\n  </tbody>\n</table>\n</div>"
     },
     "execution_count": 25,
     "metadata": {},
     "output_type": "execute_result"
    }
   ],
   "source": [
    "# look at a few rows of the ks_projects file\n",
    "spotify_orig.sample(5)"
   ],
   "metadata": {
    "collapsed": false,
    "pycharm": {
     "name": "#%%\n"
    }
   }
  },
  {
   "cell_type": "code",
   "execution_count": 26,
   "outputs": [
    {
     "name": "stdout",
     "output_type": "stream",
     "text": [
      "<class 'pandas.core.frame.DataFrame'>\n",
      "RangeIndex: 170653 entries, 0 to 170652\n",
      "Data columns (total 19 columns):\n",
      " #   Column            Non-Null Count   Dtype  \n",
      "---  ------            --------------   -----  \n",
      " 0   valence           170653 non-null  float64\n",
      " 1   year              170653 non-null  int64  \n",
      " 2   acousticness      170653 non-null  float64\n",
      " 3   artists           170653 non-null  object \n",
      " 4   danceability      170653 non-null  float64\n",
      " 5   duration_ms       170653 non-null  int64  \n",
      " 6   energy            170653 non-null  float64\n",
      " 7   explicit          170653 non-null  int64  \n",
      " 8   id                170653 non-null  object \n",
      " 9   instrumentalness  170653 non-null  float64\n",
      " 10  key               170653 non-null  int64  \n",
      " 11  liveness          170653 non-null  float64\n",
      " 12  loudness          170653 non-null  float64\n",
      " 13  mode              170653 non-null  int64  \n",
      " 14  name              170653 non-null  object \n",
      " 15  popularity        170653 non-null  int64  \n",
      " 16  release_date      170653 non-null  object \n",
      " 17  speechiness       170653 non-null  float64\n",
      " 18  tempo             170653 non-null  float64\n",
      "dtypes: float64(9), int64(6), object(4)\n",
      "memory usage: 24.7+ MB\n"
     ]
    }
   ],
   "source": [
    "# get info about DataFrame columns\n",
    "spotify_orig.info()"
   ],
   "metadata": {
    "collapsed": false,
    "pycharm": {
     "name": "#%%\n"
    }
   }
  },
  {
   "cell_type": "code",
   "execution_count": 27,
   "outputs": [
    {
     "data": {
      "text/plain": "valence             0\nyear                0\nacousticness        0\nartists             0\ndanceability        0\nduration_ms         0\nenergy              0\nexplicit            0\nid                  0\ninstrumentalness    0\nkey                 0\nliveness            0\nloudness            0\nmode                0\nname                0\npopularity          0\nrelease_date        0\nspeechiness         0\ntempo               0\ndtype: int64"
     },
     "execution_count": 27,
     "metadata": {},
     "output_type": "execute_result"
    }
   ],
   "source": [
    "# count nullable words\n",
    "spotify_orig.isnull().sum()"
   ],
   "metadata": {
    "collapsed": false,
    "pycharm": {
     "name": "#%%\n"
    }
   }
  },
  {
   "cell_type": "code",
   "execution_count": 28,
   "outputs": [],
   "source": [
    "# Cleaning\n",
    "# We are lemmatizing and removing the stopwords and non-alphabetic characters for each line\n",
    "\n",
    "nlp = spacy.load('en_core_web_sm', disable=['ner', 'parser']) # disabling Named Entity Recognition for speed\n",
    "\n",
    "def cleaning(doc):\n",
    "    # Lemmatizes and removes stopwords\n",
    "    # doc needs to be a spacy Doc object\n",
    "    txt = [token.lemma_ for token in doc if not token.is_stop]\n",
    "    # Word2Vec uses context words to learn the vector representation of a target word,\n",
    "    # if a sentence is only one or two words long,\n",
    "    # the benefit for the training is very small\n",
    "    if len(txt) > 2:\n",
    "        return ' '.join(txt)\n",
    "\n",
    "# Removes non-alphabetic characters\n",
    "brief_cleaning = (re.sub(\"[^A-Za-z']+\", ' ', str(row)).lower() for row in spotify_orig['name'])"
   ],
   "metadata": {
    "collapsed": false,
    "pycharm": {
     "name": "#%%\n"
    }
   }
  },
  {
   "cell_type": "code",
   "execution_count": 29,
   "outputs": [
    {
     "name": "stdout",
     "output_type": "stream",
     "text": [
      "Time to clean up everything: 1.01 mins\n"
     ]
    }
   ],
   "source": [
    "# Taking advantage of spaCy .pipe() attribute to speed-up the cleaning process\n",
    "t = time()\n",
    "txt = [cleaning(doc) for doc in nlp.pipe(brief_cleaning, batch_size=5000, n_threads=-1)]\n",
    "print('Time to clean up everything: {} mins'.format(round((time() - t) / 60, 2)))"
   ],
   "metadata": {
    "collapsed": false,
    "pycharm": {
     "name": "#%%\n"
    }
   }
  },
  {
   "cell_type": "code",
   "execution_count": 30,
   "outputs": [
    {
     "data": {
      "text/plain": "(60810, 1)"
     },
     "execution_count": 30,
     "metadata": {},
     "output_type": "execute_result"
    }
   ],
   "source": [
    "# Put the results in a DataFrame to remove missing values and duplicates:\n",
    "\n",
    "df_clean = pd.DataFrame({'clean': txt})\n",
    "df_clean = df_clean.dropna().drop_duplicates()\n",
    "df_clean.shape"
   ],
   "metadata": {
    "collapsed": false,
    "pycharm": {
     "name": "#%%\n"
    }
   }
  },
  {
   "cell_type": "code",
   "execution_count": 31,
   "outputs": [
    {
     "data": {
      "text/plain": "                                               clean\n0    piano concerto d minor op iii finale alla breve\n1                                  clancy lower boom\n4                                    irish eye smile\n7  morceaux de fantaisie op pr lude c sharp minor...\n8                          la ma anita remasterizado",
      "text/html": "<div>\n<style scoped>\n    .dataframe tbody tr th:only-of-type {\n        vertical-align: middle;\n    }\n\n    .dataframe tbody tr th {\n        vertical-align: top;\n    }\n\n    .dataframe thead th {\n        text-align: right;\n    }\n</style>\n<table border=\"1\" class=\"dataframe\">\n  <thead>\n    <tr style=\"text-align: right;\">\n      <th></th>\n      <th>clean</th>\n    </tr>\n  </thead>\n  <tbody>\n    <tr>\n      <th>0</th>\n      <td>piano concerto d minor op iii finale alla breve</td>\n    </tr>\n    <tr>\n      <th>1</th>\n      <td>clancy lower boom</td>\n    </tr>\n    <tr>\n      <th>4</th>\n      <td>irish eye smile</td>\n    </tr>\n    <tr>\n      <th>7</th>\n      <td>morceaux de fantaisie op pr lude c sharp minor...</td>\n    </tr>\n    <tr>\n      <th>8</th>\n      <td>la ma anita remasterizado</td>\n    </tr>\n  </tbody>\n</table>\n</div>"
     },
     "execution_count": 31,
     "metadata": {},
     "output_type": "execute_result"
    }
   ],
   "source": [
    "df_clean.head()"
   ],
   "metadata": {
    "collapsed": false,
    "pycharm": {
     "name": "#%%\n"
    }
   }
  },
  {
   "cell_type": "code",
   "execution_count": 32,
   "outputs": [
    {
     "name": "stderr",
     "output_type": "stream",
     "text": [
      "INFO - 17:06:59: collecting all words and their counts\n",
      "INFO - 17:06:59: PROGRESS: at sentence #0, processed 0 words and 0 word types\n",
      "INFO - 17:06:59: PROGRESS: at sentence #10000, processed 45240 words and 35105 word types\n",
      "INFO - 17:06:59: PROGRESS: at sentence #20000, processed 91184 words and 61256 word types\n",
      "INFO - 17:06:59: PROGRESS: at sentence #30000, processed 141146 words and 88638 word types\n",
      "INFO - 17:06:59: PROGRESS: at sentence #40000, processed 187938 words and 111136 word types\n",
      "INFO - 17:06:59: PROGRESS: at sentence #50000, processed 237353 words and 133971 word types\n",
      "INFO - 17:06:59: PROGRESS: at sentence #60000, processed 285814 words and 155533 word types\n",
      "INFO - 17:06:59: collected 157230 word types from a corpus of 289358 words (unigram + bigrams) and 60810 sentences\n",
      "INFO - 17:06:59: using 157230 counts as vocab in Phrases<0 vocab, min_count=30, threshold=10.0, max_vocab_size=40000000>\n",
      "INFO - 17:06:59: source_vocab length 157230\n",
      "INFO - 17:07:01: Phraser built with 254 254 phrasegrams\n"
     ]
    }
   ],
   "source": [
    "# Bigrams:\n",
    "# We are using Gensim Phrases package to automatically detect common phrases (bigrams) from a list of sentences.\n",
    "# https://radimrehurek.com/gensim/models/phrases.html\n",
    "# The main reason we do this is to catch words like \"mr_burns\" or \"bart_simpson\" !\n",
    "\n",
    "# As Phrases() takes a list of list of words as input:\n",
    "sent = [row.split() for row in df_clean['clean']]\n",
    "# Creates the relevant phrases from the list of sentences:\n",
    "phrases = Phrases(sent, min_count=30, progress_per=10000)\n",
    "# The goal of Phraser() is to cut down memory consumption of Phrases(), by discarding model state not strictly needed\n",
    "# for the bigram detection task:\n",
    "bigram = Phraser(phrases)\n",
    "# Transform the corpus based on the bigrams detected:\n",
    "sentences = bigram[sent]"
   ],
   "metadata": {
    "collapsed": false,
    "pycharm": {
     "name": "#%%\n"
    }
   }
  },
  {
   "cell_type": "code",
   "execution_count": 33,
   "outputs": [
    {
     "data": {
      "text/plain": "['live',\n 'remastere',\n 'feat',\n \"'\",\n 'de',\n 'remaster',\n 'version',\n 'la',\n 'love',\n 'op']"
     },
     "execution_count": 33,
     "metadata": {},
     "output_type": "execute_result"
    }
   ],
   "source": [
    "# Most Frequent Words:\n",
    "# Mainly a sanity check of the effectiveness of the lemmatization, removal of stopwords, and addition of bigrams.\n",
    "word_freq = defaultdict(int)\n",
    "for sent in sentences:\n",
    "    for i in sent:\n",
    "        word_freq[i] += 1\n",
    "len(word_freq)\n",
    "sorted(word_freq, key=word_freq.get, reverse=True)[:10]"
   ],
   "metadata": {
    "collapsed": false,
    "pycharm": {
     "name": "#%%\n"
    }
   }
  },
  {
   "cell_type": "code",
   "execution_count": 34,
   "outputs": [],
   "source": [
    "# Training the model\n",
    "# Gensim Word2Vec Implementation:\n",
    "# We use Gensim implementation of word2vec: https://radimrehurek.com/gensim/models/word2vec.html\n",
    "\n",
    "# I prefer to separate the training in 3 distinctive steps for clarity and monitoring.\n",
    "#\n",
    "# Word2Vec():\n",
    "# In this first step, I set up the parameters of the model one-by-one.\n",
    "# I do not supply the parameter sentences, and therefore leave the model uninitialized, purposefully.\n",
    "#\n",
    "# .build_vocab():\n",
    "# Here it builds the vocabulary from a sequence of sentences and thus initialized the model.\n",
    "# With the loggings, I can follow the progress and even more important, the effect of min_count and sample on the word corpus.\n",
    "# I noticed that these two parameters, and in particular sample, have a great influence over the performance of a model.\n",
    "# Displaying both allows for a more accurate and an easier management of their influence.\n",
    "#\n",
    "# .train():\n",
    "# Finally, trains the model.\n",
    "# The loggings here are mainly useful for monitoring, making sure that no threads are executed instantaneously.\n",
    "\n",
    "cores = multiprocessing.cpu_count() # Count the number of cores in a computer"
   ],
   "metadata": {
    "collapsed": false,
    "pycharm": {
     "name": "#%%\n"
    }
   }
  },
  {
   "cell_type": "code",
   "execution_count": 35,
   "outputs": [],
   "source": [
    "# The parameters:\n",
    "# min_count = int - Ignores all words with total absolute frequency lower than this - (2, 100)\n",
    "# window = int - The maximum distance between the current and predicted word within a sentence.\n",
    "# E.g. window words on the left and window words on the left of our target - (2, 10)\n",
    "# size = int - Dimensionality of the feature vectors. - (50, 300)\n",
    "# sample = float - The threshold for configuring which higher-frequency words are randomly downsampled.\n",
    "# Highly influencial. - (0, 1e-5)\n",
    "# alpha = float - The initial learning rate - (0.01, 0.05)\n",
    "# min_alpha = float - Learning rate will linearly drop to min_alpha as training progresses.\n",
    "# To set it: alpha - (min_alpha * epochs) ~ 0.00\n",
    "# negative = int - If > 0, negative sampling will be used, the int for negative specifies how many \"noise words\"\n",
    "# should be drown. If set to 0, no negative sampling is used. - (5, 20)\n",
    "# workers = int - Use these many worker threads to train the model (=faster training with multicore machines)\n",
    "\n",
    "w2v_model = Word2Vec(min_count=20,\n",
    "                     window=2,\n",
    "                     size=300,\n",
    "                     sample=6e-5,\n",
    "                     alpha=0.03,\n",
    "                     min_alpha=0.0007,\n",
    "                     negative=20,\n",
    "                     workers=cores-1)"
   ],
   "metadata": {
    "collapsed": false,
    "pycharm": {
     "name": "#%%\n"
    }
   }
  },
  {
   "cell_type": "code",
   "execution_count": 36,
   "outputs": [
    {
     "name": "stderr",
     "output_type": "stream",
     "text": [
      "INFO - 17:07:02: collecting all words and their counts\n",
      "INFO - 17:07:02: PROGRESS: at sentence #0, processed 0 words, keeping 0 word types\n",
      "INFO - 17:07:02: PROGRESS: at sentence #10000, processed 42265 words, keeping 10912 word types\n",
      "INFO - 17:07:03: PROGRESS: at sentence #20000, processed 85033 words, keeping 16910 word types\n",
      "INFO - 17:07:03: PROGRESS: at sentence #30000, processed 131462 words, keeping 23061 word types\n",
      "INFO - 17:07:03: PROGRESS: at sentence #40000, processed 175354 words, keeping 27428 word types\n",
      "INFO - 17:07:03: PROGRESS: at sentence #50000, processed 221683 words, keeping 31802 word types\n",
      "INFO - 17:07:03: PROGRESS: at sentence #60000, processed 267465 words, keeping 35661 word types\n",
      "INFO - 17:07:03: collected 35962 word types from a corpus of 270875 raw words and 60810 sentences\n",
      "INFO - 17:07:03: Loading a fresh vocabulary\n",
      "INFO - 17:07:03: min_count=20 retains 2074 unique words (5% of original 35962, drops 33888)\n",
      "INFO - 17:07:03: min_count=20 leaves 184166 word corpus (67% of original 270875, drops 86709)\n",
      "INFO - 17:07:03: deleting the raw counts dictionary of 35962 items\n",
      "INFO - 17:07:03: sample=6e-05 downsamples 1432 most-common words\n",
      "INFO - 17:07:03: downsampling leaves estimated 75205 word corpus (40.8% of prior 184166)\n",
      "INFO - 17:07:03: estimated required memory for 2074 words and 300 dimensions: 6014600 bytes\n",
      "INFO - 17:07:03: resetting layer weights\n"
     ]
    },
    {
     "name": "stdout",
     "output_type": "stream",
     "text": [
      "Time to build vocab: 0.03 mins\n"
     ]
    }
   ],
   "source": [
    "# Building the Vocabulary Table:\n",
    "# Word2Vec requires us to build the vocabulary table (simply digesting all the words and filtering out the unique words,\n",
    "# and doing some basic counts on them):\n",
    "\n",
    "t = time()\n",
    "w2v_model.build_vocab(sentences, progress_per=10000)\n",
    "print('Time to build vocab: {} mins'.format(round((time() - t) / 60, 2)))"
   ],
   "metadata": {
    "collapsed": false,
    "pycharm": {
     "name": "#%%\n"
    }
   }
  },
  {
   "cell_type": "code",
   "execution_count": 37,
   "outputs": [
    {
     "name": "stderr",
     "output_type": "stream",
     "text": [
      "INFO - 17:07:04: training model with 7 workers on 2074 vocabulary and 300 features, using sg=0 hs=0 sample=6e-05 negative=20 window=2\n",
      "INFO - 17:07:05: worker thread finished; awaiting finish of 6 more threads\n",
      "INFO - 17:07:05: worker thread finished; awaiting finish of 5 more threads\n",
      "INFO - 17:07:05: worker thread finished; awaiting finish of 4 more threads\n",
      "INFO - 17:07:05: worker thread finished; awaiting finish of 3 more threads\n",
      "INFO - 17:07:05: worker thread finished; awaiting finish of 2 more threads\n",
      "INFO - 17:07:05: EPOCH 1 - PROGRESS: at 96.07% examples, 71382 words/s, in_qsize 1, out_qsize 1\n",
      "INFO - 17:07:05: worker thread finished; awaiting finish of 1 more threads\n",
      "INFO - 17:07:05: worker thread finished; awaiting finish of 0 more threads\n",
      "INFO - 17:07:05: EPOCH - 1 : training on 270875 raw words (75138 effective words) took 1.0s, 73331 effective words/s\n",
      "INFO - 17:07:06: EPOCH 2 - PROGRESS: at 92.44% examples, 67965 words/s, in_qsize 0, out_qsize 0\n",
      "INFO - 17:07:06: worker thread finished; awaiting finish of 6 more threads\n",
      "INFO - 17:07:06: worker thread finished; awaiting finish of 5 more threads\n",
      "INFO - 17:07:06: worker thread finished; awaiting finish of 4 more threads\n",
      "INFO - 17:07:06: worker thread finished; awaiting finish of 3 more threads\n",
      "INFO - 17:07:06: worker thread finished; awaiting finish of 2 more threads\n",
      "INFO - 17:07:06: worker thread finished; awaiting finish of 1 more threads\n",
      "INFO - 17:07:06: worker thread finished; awaiting finish of 0 more threads\n",
      "INFO - 17:07:06: EPOCH - 2 : training on 270875 raw words (75132 effective words) took 1.1s, 69281 effective words/s\n",
      "INFO - 17:07:07: EPOCH 3 - PROGRESS: at 92.44% examples, 68629 words/s, in_qsize 0, out_qsize 0\n",
      "INFO - 17:07:07: worker thread finished; awaiting finish of 6 more threads\n",
      "INFO - 17:07:07: worker thread finished; awaiting finish of 5 more threads\n",
      "INFO - 17:07:07: worker thread finished; awaiting finish of 4 more threads\n",
      "INFO - 17:07:07: worker thread finished; awaiting finish of 3 more threads\n",
      "INFO - 17:07:07: worker thread finished; awaiting finish of 2 more threads\n",
      "INFO - 17:07:07: worker thread finished; awaiting finish of 1 more threads\n",
      "INFO - 17:07:07: worker thread finished; awaiting finish of 0 more threads\n",
      "INFO - 17:07:07: EPOCH - 3 : training on 270875 raw words (75442 effective words) took 1.1s, 69354 effective words/s\n",
      "INFO - 17:07:08: worker thread finished; awaiting finish of 6 more threads\n",
      "INFO - 17:07:08: worker thread finished; awaiting finish of 5 more threads\n",
      "INFO - 17:07:08: worker thread finished; awaiting finish of 4 more threads\n",
      "INFO - 17:07:08: worker thread finished; awaiting finish of 3 more threads\n",
      "INFO - 17:07:08: worker thread finished; awaiting finish of 2 more threads\n",
      "INFO - 17:07:08: worker thread finished; awaiting finish of 1 more threads\n",
      "INFO - 17:07:08: EPOCH 4 - PROGRESS: at 100.00% examples, 75169 words/s, in_qsize 0, out_qsize 1\n",
      "INFO - 17:07:08: worker thread finished; awaiting finish of 0 more threads\n",
      "INFO - 17:07:08: EPOCH - 4 : training on 270875 raw words (75301 effective words) took 1.0s, 75035 effective words/s\n",
      "INFO - 17:07:09: EPOCH 5 - PROGRESS: at 92.44% examples, 67432 words/s, in_qsize 0, out_qsize 0\n",
      "INFO - 17:07:09: worker thread finished; awaiting finish of 6 more threads\n",
      "INFO - 17:07:09: worker thread finished; awaiting finish of 5 more threads\n",
      "INFO - 17:07:09: worker thread finished; awaiting finish of 4 more threads\n",
      "INFO - 17:07:09: worker thread finished; awaiting finish of 3 more threads\n",
      "INFO - 17:07:09: worker thread finished; awaiting finish of 2 more threads\n",
      "INFO - 17:07:09: worker thread finished; awaiting finish of 1 more threads\n",
      "INFO - 17:07:09: worker thread finished; awaiting finish of 0 more threads\n",
      "INFO - 17:07:09: EPOCH - 5 : training on 270875 raw words (75379 effective words) took 1.1s, 68628 effective words/s\n",
      "INFO - 17:07:10: worker thread finished; awaiting finish of 6 more threads\n",
      "INFO - 17:07:10: worker thread finished; awaiting finish of 5 more threads\n",
      "INFO - 17:07:10: worker thread finished; awaiting finish of 4 more threads\n",
      "INFO - 17:07:10: worker thread finished; awaiting finish of 3 more threads\n",
      "INFO - 17:07:10: worker thread finished; awaiting finish of 2 more threads\n",
      "INFO - 17:07:10: worker thread finished; awaiting finish of 1 more threads\n",
      "INFO - 17:07:10: EPOCH 6 - PROGRESS: at 100.00% examples, 74657 words/s, in_qsize 0, out_qsize 1\n",
      "INFO - 17:07:10: worker thread finished; awaiting finish of 0 more threads\n",
      "INFO - 17:07:10: EPOCH - 6 : training on 270875 raw words (75306 effective words) took 1.0s, 74554 effective words/s\n",
      "INFO - 17:07:11: EPOCH 7 - PROGRESS: at 92.44% examples, 67407 words/s, in_qsize 1, out_qsize 0\n",
      "INFO - 17:07:11: worker thread finished; awaiting finish of 6 more threads\n",
      "INFO - 17:07:11: worker thread finished; awaiting finish of 5 more threads\n",
      "INFO - 17:07:11: worker thread finished; awaiting finish of 4 more threads\n",
      "INFO - 17:07:11: worker thread finished; awaiting finish of 3 more threads\n",
      "INFO - 17:07:11: worker thread finished; awaiting finish of 2 more threads\n",
      "INFO - 17:07:11: worker thread finished; awaiting finish of 1 more threads\n",
      "INFO - 17:07:11: worker thread finished; awaiting finish of 0 more threads\n",
      "INFO - 17:07:11: EPOCH - 7 : training on 270875 raw words (75154 effective words) took 1.1s, 69201 effective words/s\n",
      "INFO - 17:07:12: EPOCH 8 - PROGRESS: at 95.70% examples, 71864 words/s, in_qsize 9, out_qsize 0\n",
      "INFO - 17:07:12: worker thread finished; awaiting finish of 6 more threads\n",
      "INFO - 17:07:12: worker thread finished; awaiting finish of 5 more threads\n",
      "INFO - 17:07:12: worker thread finished; awaiting finish of 4 more threads\n",
      "INFO - 17:07:12: worker thread finished; awaiting finish of 3 more threads\n",
      "INFO - 17:07:12: worker thread finished; awaiting finish of 2 more threads\n",
      "INFO - 17:07:12: worker thread finished; awaiting finish of 1 more threads\n",
      "INFO - 17:07:12: worker thread finished; awaiting finish of 0 more threads\n",
      "INFO - 17:07:12: EPOCH - 8 : training on 270875 raw words (75147 effective words) took 1.0s, 73219 effective words/s\n",
      "INFO - 17:07:13: EPOCH 9 - PROGRESS: at 92.44% examples, 69112 words/s, in_qsize 0, out_qsize 0\n",
      "INFO - 17:07:13: worker thread finished; awaiting finish of 6 more threads\n",
      "INFO - 17:07:13: worker thread finished; awaiting finish of 5 more threads\n",
      "INFO - 17:07:13: worker thread finished; awaiting finish of 4 more threads\n",
      "INFO - 17:07:13: worker thread finished; awaiting finish of 3 more threads\n",
      "INFO - 17:07:13: worker thread finished; awaiting finish of 2 more threads\n",
      "INFO - 17:07:14: worker thread finished; awaiting finish of 1 more threads\n",
      "INFO - 17:07:14: worker thread finished; awaiting finish of 0 more threads\n",
      "INFO - 17:07:14: EPOCH - 9 : training on 270875 raw words (75250 effective words) took 1.1s, 70645 effective words/s\n",
      "INFO - 17:07:15: EPOCH 10 - PROGRESS: at 88.55% examples, 66392 words/s, in_qsize 0, out_qsize 0\n",
      "INFO - 17:07:15: worker thread finished; awaiting finish of 6 more threads\n",
      "INFO - 17:07:15: worker thread finished; awaiting finish of 5 more threads\n",
      "INFO - 17:07:15: worker thread finished; awaiting finish of 4 more threads\n",
      "INFO - 17:07:15: worker thread finished; awaiting finish of 3 more threads\n",
      "INFO - 17:07:15: worker thread finished; awaiting finish of 2 more threads\n",
      "INFO - 17:07:15: worker thread finished; awaiting finish of 1 more threads\n",
      "INFO - 17:07:15: worker thread finished; awaiting finish of 0 more threads\n",
      "INFO - 17:07:15: EPOCH - 10 : training on 270875 raw words (75286 effective words) took 1.1s, 67060 effective words/s\n",
      "INFO - 17:07:16: worker thread finished; awaiting finish of 6 more threads\n",
      "INFO - 17:07:16: worker thread finished; awaiting finish of 5 more threads\n",
      "INFO - 17:07:16: worker thread finished; awaiting finish of 4 more threads\n",
      "INFO - 17:07:16: worker thread finished; awaiting finish of 3 more threads\n",
      "INFO - 17:07:16: worker thread finished; awaiting finish of 2 more threads\n",
      "INFO - 17:07:16: worker thread finished; awaiting finish of 1 more threads\n",
      "INFO - 17:07:16: worker thread finished; awaiting finish of 0 more threads\n",
      "INFO - 17:07:16: EPOCH - 11 : training on 270875 raw words (75083 effective words) took 1.0s, 77141 effective words/s\n",
      "INFO - 17:07:17: EPOCH 12 - PROGRESS: at 88.55% examples, 65528 words/s, in_qsize 0, out_qsize 0\n",
      "INFO - 17:07:17: worker thread finished; awaiting finish of 6 more threads\n",
      "INFO - 17:07:17: worker thread finished; awaiting finish of 5 more threads\n",
      "INFO - 17:07:17: worker thread finished; awaiting finish of 4 more threads\n",
      "INFO - 17:07:17: worker thread finished; awaiting finish of 3 more threads\n",
      "INFO - 17:07:17: worker thread finished; awaiting finish of 2 more threads\n",
      "INFO - 17:07:17: worker thread finished; awaiting finish of 1 more threads\n",
      "INFO - 17:07:17: worker thread finished; awaiting finish of 0 more threads\n",
      "INFO - 17:07:17: EPOCH - 12 : training on 270875 raw words (74896 effective words) took 1.1s, 68063 effective words/s\n",
      "INFO - 17:07:18: EPOCH 13 - PROGRESS: at 92.44% examples, 66264 words/s, in_qsize 1, out_qsize 0\n",
      "INFO - 17:07:18: worker thread finished; awaiting finish of 6 more threads\n",
      "INFO - 17:07:18: worker thread finished; awaiting finish of 5 more threads\n",
      "INFO - 17:07:18: worker thread finished; awaiting finish of 4 more threads\n",
      "INFO - 17:07:18: worker thread finished; awaiting finish of 3 more threads\n",
      "INFO - 17:07:18: worker thread finished; awaiting finish of 2 more threads\n",
      "INFO - 17:07:18: worker thread finished; awaiting finish of 1 more threads\n",
      "INFO - 17:07:18: worker thread finished; awaiting finish of 0 more threads\n",
      "INFO - 17:07:18: EPOCH - 13 : training on 270875 raw words (75107 effective words) took 1.1s, 67857 effective words/s\n",
      "INFO - 17:07:19: EPOCH 14 - PROGRESS: at 81.52% examples, 59776 words/s, in_qsize 1, out_qsize 0\n",
      "INFO - 17:07:19: worker thread finished; awaiting finish of 6 more threads\n",
      "INFO - 17:07:19: worker thread finished; awaiting finish of 5 more threads\n",
      "INFO - 17:07:19: worker thread finished; awaiting finish of 4 more threads\n",
      "INFO - 17:07:19: worker thread finished; awaiting finish of 3 more threads\n",
      "INFO - 17:07:19: worker thread finished; awaiting finish of 2 more threads\n",
      "INFO - 17:07:19: worker thread finished; awaiting finish of 1 more threads\n",
      "INFO - 17:07:19: worker thread finished; awaiting finish of 0 more threads\n",
      "INFO - 17:07:19: EPOCH - 14 : training on 270875 raw words (75264 effective words) took 1.2s, 62855 effective words/s\n",
      "INFO - 17:07:20: worker thread finished; awaiting finish of 6 more threads\n",
      "INFO - 17:07:20: worker thread finished; awaiting finish of 5 more threads\n",
      "INFO - 17:07:20: worker thread finished; awaiting finish of 4 more threads\n",
      "INFO - 17:07:20: worker thread finished; awaiting finish of 3 more threads\n",
      "INFO - 17:07:20: worker thread finished; awaiting finish of 2 more threads\n",
      "INFO - 17:07:20: worker thread finished; awaiting finish of 1 more threads\n",
      "INFO - 17:07:20: worker thread finished; awaiting finish of 0 more threads\n",
      "INFO - 17:07:20: EPOCH - 15 : training on 270875 raw words (75303 effective words) took 1.0s, 75385 effective words/s\n",
      "INFO - 17:07:21: EPOCH 16 - PROGRESS: at 95.70% examples, 68902 words/s, in_qsize 8, out_qsize 0\n",
      "INFO - 17:07:21: worker thread finished; awaiting finish of 6 more threads\n",
      "INFO - 17:07:21: worker thread finished; awaiting finish of 5 more threads\n",
      "INFO - 17:07:21: worker thread finished; awaiting finish of 4 more threads\n",
      "INFO - 17:07:21: worker thread finished; awaiting finish of 3 more threads\n",
      "INFO - 17:07:21: worker thread finished; awaiting finish of 2 more threads\n",
      "INFO - 17:07:21: worker thread finished; awaiting finish of 1 more threads\n",
      "INFO - 17:07:21: worker thread finished; awaiting finish of 0 more threads\n",
      "INFO - 17:07:21: EPOCH - 16 : training on 270875 raw words (75261 effective words) took 1.1s, 70082 effective words/s\n",
      "INFO - 17:07:22: EPOCH 17 - PROGRESS: at 88.55% examples, 66695 words/s, in_qsize 0, out_qsize 0\n",
      "INFO - 17:07:22: worker thread finished; awaiting finish of 6 more threads\n",
      "INFO - 17:07:22: worker thread finished; awaiting finish of 5 more threads\n",
      "INFO - 17:07:22: worker thread finished; awaiting finish of 4 more threads\n",
      "INFO - 17:07:22: worker thread finished; awaiting finish of 3 more threads\n",
      "INFO - 17:07:22: worker thread finished; awaiting finish of 2 more threads\n",
      "INFO - 17:07:22: worker thread finished; awaiting finish of 1 more threads\n",
      "INFO - 17:07:22: worker thread finished; awaiting finish of 0 more threads\n",
      "INFO - 17:07:22: EPOCH - 17 : training on 270875 raw words (75313 effective words) took 1.1s, 66534 effective words/s\n",
      "INFO - 17:07:23: worker thread finished; awaiting finish of 6 more threads\n",
      "INFO - 17:07:23: worker thread finished; awaiting finish of 5 more threads\n",
      "INFO - 17:07:23: worker thread finished; awaiting finish of 4 more threads\n",
      "INFO - 17:07:23: worker thread finished; awaiting finish of 3 more threads\n",
      "INFO - 17:07:23: worker thread finished; awaiting finish of 2 more threads\n",
      "INFO - 17:07:23: worker thread finished; awaiting finish of 1 more threads\n",
      "INFO - 17:07:23: EPOCH 18 - PROGRESS: at 100.00% examples, 74428 words/s, in_qsize 0, out_qsize 1\n",
      "INFO - 17:07:23: worker thread finished; awaiting finish of 0 more threads\n",
      "INFO - 17:07:23: EPOCH - 18 : training on 270875 raw words (74939 effective words) took 1.0s, 74325 effective words/s\n",
      "INFO - 17:07:24: EPOCH 19 - PROGRESS: at 88.55% examples, 63765 words/s, in_qsize 0, out_qsize 0\n",
      "INFO - 17:07:24: worker thread finished; awaiting finish of 6 more threads\n",
      "INFO - 17:07:24: worker thread finished; awaiting finish of 5 more threads\n",
      "INFO - 17:07:24: worker thread finished; awaiting finish of 4 more threads\n",
      "INFO - 17:07:24: worker thread finished; awaiting finish of 3 more threads\n",
      "INFO - 17:07:24: worker thread finished; awaiting finish of 2 more threads\n",
      "INFO - 17:07:24: worker thread finished; awaiting finish of 1 more threads\n",
      "INFO - 17:07:24: worker thread finished; awaiting finish of 0 more threads\n",
      "INFO - 17:07:24: EPOCH - 19 : training on 270875 raw words (75289 effective words) took 1.1s, 65546 effective words/s\n",
      "INFO - 17:07:26: EPOCH 20 - PROGRESS: at 95.70% examples, 70298 words/s, in_qsize 8, out_qsize 0\n",
      "INFO - 17:07:26: worker thread finished; awaiting finish of 6 more threads\n",
      "INFO - 17:07:26: worker thread finished; awaiting finish of 5 more threads\n",
      "INFO - 17:07:26: worker thread finished; awaiting finish of 4 more threads\n",
      "INFO - 17:07:26: worker thread finished; awaiting finish of 3 more threads\n",
      "INFO - 17:07:26: worker thread finished; awaiting finish of 2 more threads\n",
      "INFO - 17:07:26: worker thread finished; awaiting finish of 1 more threads\n",
      "INFO - 17:07:26: worker thread finished; awaiting finish of 0 more threads\n",
      "INFO - 17:07:26: EPOCH - 20 : training on 270875 raw words (75196 effective words) took 1.0s, 71795 effective words/s\n",
      "INFO - 17:07:27: EPOCH 21 - PROGRESS: at 92.44% examples, 66947 words/s, in_qsize 0, out_qsize 0\n",
      "INFO - 17:07:27: worker thread finished; awaiting finish of 6 more threads\n",
      "INFO - 17:07:27: worker thread finished; awaiting finish of 5 more threads\n",
      "INFO - 17:07:27: worker thread finished; awaiting finish of 4 more threads\n",
      "INFO - 17:07:27: worker thread finished; awaiting finish of 3 more threads\n",
      "INFO - 17:07:27: worker thread finished; awaiting finish of 2 more threads\n",
      "INFO - 17:07:27: worker thread finished; awaiting finish of 1 more threads\n",
      "INFO - 17:07:27: worker thread finished; awaiting finish of 0 more threads\n",
      "INFO - 17:07:27: EPOCH - 21 : training on 270875 raw words (75321 effective words) took 1.1s, 68600 effective words/s\n",
      "INFO - 17:07:28: EPOCH 22 - PROGRESS: at 95.70% examples, 66734 words/s, in_qsize 0, out_qsize 0\n",
      "INFO - 17:07:28: worker thread finished; awaiting finish of 6 more threads\n",
      "INFO - 17:07:28: worker thread finished; awaiting finish of 5 more threads\n",
      "INFO - 17:07:28: worker thread finished; awaiting finish of 4 more threads\n",
      "INFO - 17:07:28: worker thread finished; awaiting finish of 3 more threads\n",
      "INFO - 17:07:28: worker thread finished; awaiting finish of 2 more threads\n",
      "INFO - 17:07:28: worker thread finished; awaiting finish of 1 more threads\n",
      "INFO - 17:07:28: worker thread finished; awaiting finish of 0 more threads\n",
      "INFO - 17:07:28: EPOCH - 22 : training on 270875 raw words (75170 effective words) took 1.1s, 67409 effective words/s\n",
      "INFO - 17:07:29: worker thread finished; awaiting finish of 6 more threads\n",
      "INFO - 17:07:29: worker thread finished; awaiting finish of 5 more threads\n",
      "INFO - 17:07:29: worker thread finished; awaiting finish of 4 more threads\n",
      "INFO - 17:07:29: worker thread finished; awaiting finish of 3 more threads\n",
      "INFO - 17:07:29: worker thread finished; awaiting finish of 2 more threads\n",
      "INFO - 17:07:29: EPOCH 23 - PROGRESS: at 96.07% examples, 71519 words/s, in_qsize 1, out_qsize 1\n",
      "INFO - 17:07:29: worker thread finished; awaiting finish of 1 more threads\n",
      "INFO - 17:07:29: worker thread finished; awaiting finish of 0 more threads\n",
      "INFO - 17:07:29: EPOCH - 23 : training on 270875 raw words (74951 effective words) took 1.0s, 73120 effective words/s\n",
      "INFO - 17:07:30: EPOCH 24 - PROGRESS: at 88.55% examples, 65056 words/s, in_qsize 0, out_qsize 0\n",
      "INFO - 17:07:30: worker thread finished; awaiting finish of 6 more threads\n",
      "INFO - 17:07:30: worker thread finished; awaiting finish of 5 more threads\n",
      "INFO - 17:07:30: worker thread finished; awaiting finish of 4 more threads\n",
      "INFO - 17:07:30: worker thread finished; awaiting finish of 3 more threads\n",
      "INFO - 17:07:30: worker thread finished; awaiting finish of 2 more threads\n",
      "INFO - 17:07:30: worker thread finished; awaiting finish of 1 more threads\n",
      "INFO - 17:07:30: worker thread finished; awaiting finish of 0 more threads\n",
      "INFO - 17:07:30: EPOCH - 24 : training on 270875 raw words (75090 effective words) took 1.1s, 66544 effective words/s\n",
      "INFO - 17:07:31: worker thread finished; awaiting finish of 6 more threads\n",
      "INFO - 17:07:31: worker thread finished; awaiting finish of 5 more threads\n",
      "INFO - 17:07:31: worker thread finished; awaiting finish of 4 more threads\n",
      "INFO - 17:07:31: worker thread finished; awaiting finish of 3 more threads\n",
      "INFO - 17:07:31: worker thread finished; awaiting finish of 2 more threads\n",
      "INFO - 17:07:31: EPOCH 25 - PROGRESS: at 96.07% examples, 70760 words/s, in_qsize 1, out_qsize 1\n",
      "INFO - 17:07:31: worker thread finished; awaiting finish of 1 more threads\n",
      "INFO - 17:07:31: worker thread finished; awaiting finish of 0 more threads\n",
      "INFO - 17:07:31: EPOCH - 25 : training on 270875 raw words (75300 effective words) took 1.0s, 72656 effective words/s\n",
      "INFO - 17:07:32: EPOCH 26 - PROGRESS: at 92.44% examples, 67345 words/s, in_qsize 0, out_qsize 0\n",
      "INFO - 17:07:32: worker thread finished; awaiting finish of 6 more threads\n",
      "INFO - 17:07:32: worker thread finished; awaiting finish of 5 more threads\n",
      "INFO - 17:07:32: worker thread finished; awaiting finish of 4 more threads\n",
      "INFO - 17:07:32: worker thread finished; awaiting finish of 3 more threads\n",
      "INFO - 17:07:32: worker thread finished; awaiting finish of 2 more threads\n",
      "INFO - 17:07:32: worker thread finished; awaiting finish of 1 more threads\n",
      "INFO - 17:07:32: worker thread finished; awaiting finish of 0 more threads\n",
      "INFO - 17:07:32: EPOCH - 26 : training on 270875 raw words (75428 effective words) took 1.1s, 68273 effective words/s\n",
      "INFO - 17:07:33: EPOCH 27 - PROGRESS: at 95.70% examples, 71942 words/s, in_qsize 3, out_qsize 4\n",
      "INFO - 17:07:33: worker thread finished; awaiting finish of 6 more threads\n",
      "INFO - 17:07:33: worker thread finished; awaiting finish of 5 more threads\n",
      "INFO - 17:07:33: worker thread finished; awaiting finish of 4 more threads\n",
      "INFO - 17:07:33: worker thread finished; awaiting finish of 3 more threads\n",
      "INFO - 17:07:33: worker thread finished; awaiting finish of 2 more threads\n",
      "INFO - 17:07:33: worker thread finished; awaiting finish of 1 more threads\n",
      "INFO - 17:07:33: worker thread finished; awaiting finish of 0 more threads\n",
      "INFO - 17:07:33: EPOCH - 27 : training on 270875 raw words (75229 effective words) took 1.0s, 73755 effective words/s\n",
      "INFO - 17:07:34: EPOCH 28 - PROGRESS: at 92.44% examples, 67690 words/s, in_qsize 0, out_qsize 0\n",
      "INFO - 17:07:34: worker thread finished; awaiting finish of 6 more threads\n",
      "INFO - 17:07:34: worker thread finished; awaiting finish of 5 more threads\n",
      "INFO - 17:07:34: worker thread finished; awaiting finish of 4 more threads\n",
      "INFO - 17:07:34: worker thread finished; awaiting finish of 3 more threads\n",
      "INFO - 17:07:34: worker thread finished; awaiting finish of 2 more threads\n",
      "INFO - 17:07:34: worker thread finished; awaiting finish of 1 more threads\n",
      "INFO - 17:07:34: worker thread finished; awaiting finish of 0 more threads\n",
      "INFO - 17:07:34: EPOCH - 28 : training on 270875 raw words (75382 effective words) took 1.1s, 68416 effective words/s\n",
      "INFO - 17:07:35: EPOCH 29 - PROGRESS: at 88.55% examples, 64268 words/s, in_qsize 0, out_qsize 0\n",
      "INFO - 17:07:35: worker thread finished; awaiting finish of 6 more threads\n",
      "INFO - 17:07:35: worker thread finished; awaiting finish of 5 more threads\n",
      "INFO - 17:07:35: worker thread finished; awaiting finish of 4 more threads\n",
      "INFO - 17:07:35: worker thread finished; awaiting finish of 3 more threads\n",
      "INFO - 17:07:35: worker thread finished; awaiting finish of 2 more threads\n",
      "INFO - 17:07:35: worker thread finished; awaiting finish of 1 more threads\n",
      "INFO - 17:07:35: worker thread finished; awaiting finish of 0 more threads\n",
      "INFO - 17:07:35: EPOCH - 29 : training on 270875 raw words (75302 effective words) took 1.2s, 65152 effective words/s\n",
      "INFO - 17:07:36: EPOCH 30 - PROGRESS: at 95.70% examples, 71673 words/s, in_qsize 0, out_qsize 0\n",
      "INFO - 17:07:36: worker thread finished; awaiting finish of 6 more threads\n",
      "INFO - 17:07:36: worker thread finished; awaiting finish of 5 more threads\n",
      "INFO - 17:07:36: worker thread finished; awaiting finish of 4 more threads\n",
      "INFO - 17:07:36: worker thread finished; awaiting finish of 3 more threads\n",
      "INFO - 17:07:36: worker thread finished; awaiting finish of 2 more threads\n",
      "INFO - 17:07:36: worker thread finished; awaiting finish of 1 more threads\n",
      "INFO - 17:07:36: worker thread finished; awaiting finish of 0 more threads\n",
      "INFO - 17:07:36: EPOCH - 30 : training on 270875 raw words (74931 effective words) took 1.0s, 71566 effective words/s\n",
      "INFO - 17:07:36: training on a 8126250 raw words (2256290 effective words) took 32.5s, 69342 effective words/s\n"
     ]
    },
    {
     "name": "stdout",
     "output_type": "stream",
     "text": [
      "Time to train the model: 0.54 mins\n"
     ]
    }
   ],
   "source": [
    "# Training of the model:\n",
    "\n",
    "# Parameters of the training:\n",
    "# total_examples = int - Count of sentences;\n",
    "# epochs = int - Number of iterations (epochs) over the corpus - [10, 20, 30]\n",
    "\n",
    "t = time()\n",
    "w2v_model.train(sentences, total_examples=w2v_model.corpus_count, epochs=30, report_delay=1)\n",
    "print('Time to train the model: {} mins'.format(round((time() - t) / 60, 2)))"
   ],
   "metadata": {
    "collapsed": false,
    "pycharm": {
     "name": "#%%\n"
    }
   }
  },
  {
   "cell_type": "code",
   "execution_count": 38,
   "outputs": [
    {
     "name": "stderr",
     "output_type": "stream",
     "text": [
      "INFO - 17:07:36: precomputing L2-norms of word weight vectors\n"
     ]
    }
   ],
   "source": [
    "# As we do not plan to train the model any further, we are calling init_sims(),\n",
    "# which will make the model much more memory-efficient:\n",
    "w2v_model.init_sims(replace=True)"
   ],
   "metadata": {
    "collapsed": false,
    "pycharm": {
     "name": "#%%\n"
    }
   }
  },
  {
   "cell_type": "code",
   "execution_count": 39,
   "outputs": [
    {
     "name": "stderr",
     "output_type": "stream",
     "text": [
      "INFO - 17:07:37: storing 2074x300 projection weights into C:\\Users\\micha\\Praca inżynierska PJATK\\kickstarter\\notebooks\\data\\spotify_track_names_embedding.bin\n"
     ]
    }
   ],
   "source": [
    "# create file\n",
    "cwd = os.getcwd()\n",
    "filename = os.path.join(cwd, 'data\\\\spotify_track_names_embedding.bin')\n",
    "open(filename, 'w').close()\n",
    "\n",
    "# save model to binary file\n",
    "w2v_model.wv.save_word2vec_format(filename, binary=True)"
   ],
   "metadata": {
    "collapsed": false,
    "pycharm": {
     "name": "#%%\n"
    }
   }
  },
  {
   "cell_type": "code",
   "execution_count": 40,
   "outputs": [
    {
     "data": {
      "text/plain": "[('everybody', 0.9742722511291504),\n ('good', 0.9725136756896973),\n ('thing', 0.9722975492477417),\n ('like', 0.9711258411407471),\n ('wanna', 0.9698383212089539),\n ('laugh', 0.9686394929885864),\n ('know', 0.9676110744476318),\n ('need', 0.96620774269104),\n ('will', 0.9654269814491272),\n ('look', 0.964455783367157)]"
     },
     "execution_count": 40,
     "metadata": {},
     "output_type": "execute_result"
    }
   ],
   "source": [
    "# Exploring the model\n",
    "# Most similar to:\n",
    "# Here, we will ask our model to find the word most similar to 'love'\n",
    "\n",
    "w2v_model.wv.most_similar(positive=[\"love\"])"
   ],
   "metadata": {
    "collapsed": false,
    "pycharm": {
     "name": "#%%\n"
    }
   }
  },
  {
   "cell_type": "code",
   "execution_count": 41,
   "outputs": [
    {
     "data": {
      "text/plain": "0.9711258538572081"
     },
     "execution_count": 41,
     "metadata": {},
     "output_type": "execute_result"
    }
   ],
   "source": [
    "# Similarities:\n",
    "# Here, we will see how similar are two words to each other :\n",
    "\n",
    "w2v_model.wv.similarity('love', 'like')"
   ],
   "metadata": {
    "collapsed": false,
    "pycharm": {
     "name": "#%%\n"
    }
   }
  },
  {
   "cell_type": "code",
   "execution_count": 42,
   "outputs": [
    {
     "name": "stderr",
     "output_type": "stream",
     "text": [
      "C:\\Users\\micha\\Anaconda3\\envs\\kickstarter\\lib\\site-packages\\gensim\\models\\keyedvectors.py:730: FutureWarning: arrays to stack must be passed as a \"sequence\" type such as list or tuple. Support for non-sequence iterables such as generators is deprecated as of NumPy 1.16 and will raise an error in the future.\n",
      "  vectors = vstack(self.word_vec(word, use_norm=True) for word in used_words).astype(REAL)\n"
     ]
    },
    {
     "data": {
      "text/plain": "'tree'"
     },
     "execution_count": 42,
     "metadata": {},
     "output_type": "execute_result"
    }
   ],
   "source": [
    "w2v_model.wv.similarity('love', 'wood')\n",
    "\n",
    "# Odd-One-Out:\n",
    "# Here, we ask our model to give us the word that does not belong to the list!\n",
    "\n",
    "w2v_model.wv.doesnt_match(['love', 'like', 'tree'])"
   ],
   "metadata": {
    "collapsed": false,
    "pycharm": {
     "name": "#%%\n"
    }
   }
  },
  {
   "cell_type": "code",
   "execution_count": 43,
   "outputs": [
    {
     "name": "stderr",
     "output_type": "stream",
     "text": [
      "WARNING - 17:07:37: vectors for words {'plant'} are not present in the model, ignoring these words\n"
     ]
    },
    {
     "data": {
      "text/plain": "'moon'"
     },
     "execution_count": 43,
     "metadata": {},
     "output_type": "execute_result"
    }
   ],
   "source": [
    "w2v_model.wv.doesnt_match(['moon', 'plant', 'rose'])"
   ],
   "metadata": {
    "collapsed": false,
    "pycharm": {
     "name": "#%%\n"
    }
   }
  },
  {
   "cell_type": "code",
   "execution_count": 44,
   "outputs": [
    {
     "data": {
      "text/plain": "[('tune', 0.7786297798156738),\n ('gham', 0.7776765823364258),\n ('mor', 0.7746872901916504)]"
     },
     "execution_count": 44,
     "metadata": {},
     "output_type": "execute_result"
    }
   ],
   "source": [
    "# Analogy difference:\n",
    "\n",
    "# Which word is to woman as homer is to marge?\n",
    "\n",
    "w2v_model.wv.most_similar(positive=[\"cold\", \"hate\"], negative=[\"love\"], topn=3)\n",
    "w2v_model.wv.most_similar(positive=[\"joy\", \"door\"], negative=[\"house\"], topn=3)"
   ],
   "metadata": {
    "collapsed": false,
    "pycharm": {
     "name": "#%%\n"
    }
   }
  },
  {
   "cell_type": "code",
   "execution_count": 45,
   "outputs": [
    {
     "data": {
      "text/plain": "<Figure size 648x648 with 1 Axes>",
      "image/png": "[encoded data removed]"
     },
     "metadata": {},
     "output_type": "display_data"
    }
   ],
   "source": [
    "# 10 Most similar words vs. 8 Random words:\n",
    "# Let's compare where the vector representation of 'love', its 10 most similar words from the model, ' \\\n",
    "# 'as well as 8 random ones, lies in a 2D graph:\n",
    "\n",
    "%matplotlib inline\n",
    "\n",
    "plotter = TSNEScatterPlotter(w2v_model)\n",
    "\n",
    "plotter.plot('love', ['darling', 'hate', 'house', 'cat', 'butterfly', 'lion', 'big', 'doll'])"
   ],
   "metadata": {
    "collapsed": false,
    "pycharm": {
     "name": "#%%\n"
    }
   }
  },
  {
   "cell_type": "code",
   "execution_count": 46,
   "outputs": [
    {
     "data": {
      "text/plain": "<Figure size 648x648 with 1 Axes>",
      "image/png": "[encoded data removed]"
     },
     "metadata": {},
     "output_type": "display_data"
    }
   ],
   "source": [
    "# 10 Most similar words vs. 10 Most dissimilar\n",
    "# This time, let's compare where the vector representation of 'house' and her 10 most similar words from the model lies\n",
    "# compare to the vector representation of the 10 most dissimilar words to 'house':\n",
    "\n",
    "plotter.plot('house', [i[0] for i in w2v_model.wv.most_similar(negative=[\"house\"])])"
   ],
   "metadata": {
    "collapsed": false,
    "pycharm": {
     "name": "#%%\n"
    }
   }
  }
 ],
 "metadata": {
  "kernelspec": {
   "name": "pycharm-da890fd0",
   "language": "python",
   "display_name": "PyCharm (kickstarter)"
  },
  "language_info": {
   "codemirror_mode": {
    "name": "ipython",
    "version": 2
   },
   "file_extension": ".py",
   "mimetype": "text/x-python",
   "name": "python",
   "nbconvert_exporter": "python",
   "pygments_lexer": "ipython2",
   "version": "2.7.6"
  }
 },
 "nbformat": 4,
 "nbformat_minor": 0
}