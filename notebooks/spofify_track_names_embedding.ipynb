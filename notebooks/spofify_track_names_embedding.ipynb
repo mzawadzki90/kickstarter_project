{
 "cells": [
  {
   "cell_type": "code",
   "execution_count": 46,
   "outputs": [],
   "source": [
    "# modules we'll use\n",
    "\n",
    "import re  # For preprocessing\n",
    "import pandas as pd  # For data handling\n",
    "import spacy\n",
    "import logging  # Setting up the loggings to monitor gensim\n",
    "import multiprocessing\n",
    "import gensim\n",
    "import numpy as np\n",
    "import matplotlib.pyplot as plt\n",
    "import seaborn as sns\n",
    "\n",
    "from time import time  # To time our operations\n",
    "from collections import defaultdict  # For word frequency\n",
    "from gensim.models.phrases import Phrases, Phraser\n",
    "from gensim.models import Word2Vec\n",
    "from sklearn.decomposition import PCA\n",
    "from sklearn.manifold import TSNE"
   ],
   "metadata": {
    "collapsed": false,
    "pycharm": {
     "name": "#%%\n"
    }
   }
  },
  {
   "cell_type": "code",
   "execution_count": 3,
   "outputs": [],
   "source": [
    "logging.basicConfig(format=\"%(levelname)s - %(asctime)s: %(message)s\", datefmt= '%H:%M:%S', level=logging.INFO)"
   ],
   "metadata": {
    "collapsed": false,
    "pycharm": {
     "name": "#%%\n"
    }
   }
  },
  {
   "cell_type": "code",
   "execution_count": 4,
   "outputs": [],
   "source": [
    "#mount Google Drive\n",
    "#from google.colab import drive\n",
    "#drive.mount('/content/drive')"
   ],
   "metadata": {
    "collapsed": false,
    "pycharm": {
     "name": "#%%\n"
    }
   }
  },
  {
   "cell_type": "code",
   "execution_count": 5,
   "outputs": [],
   "source": [
    "# read in all our data\n",
    "# Google Drive's path: /content/drive/MyDrive/Praca Inżynierska/kickstarter/data/spotify.csv\n",
    "spotify_orig  = pd.read_csv(\"../data/spotify.csv\")"
   ],
   "metadata": {
    "collapsed": false,
    "pycharm": {
     "name": "#%%\n"
    }
   }
  },
  {
   "cell_type": "code",
   "execution_count": 6,
   "outputs": [
    {
     "data": {
      "text/plain": "        valence  year  acousticness                               artists  \\\n127976    0.212  1956        0.7370                       ['Miles Davis']   \n139260    0.970  2012        0.0273  ['Juan Magán', 'Pitbull', 'El Cata']   \n153166    0.721  2008        0.6550                         ['The Doors']   \n20445     0.875  1928        0.9900                   ['Ignacio Corsini']   \n136237    0.124  1997        0.1830                           ['Kenny G']   \n\n        danceability  duration_ms  energy  explicit                      id  \\\n127976         0.502       277067   0.222         0  3dUML7ng4ScVmf3jqpaWsb   \n139260         0.720       197240   0.822         0  4hLEorB47NotMkSLCWmh5e   \n153166         0.700       130747   0.418         0  6chyadaFmcdgpfSDW31KVj   \n20445          0.520       182840   0.128         0  18MKXumRZphEqOmNo2jEDa   \n136237         0.352       199640   0.338         0  0KH4lkNCzPACif93d7u7A9   \n\n        instrumentalness  key  liveness  loudness  mode  \\\n127976          0.000085    1    0.1170   -14.659     1   \n139260          0.000000    4    0.3080    -4.166     0   \n153166          0.000000    4    0.1950   -11.238     0   \n20445           0.918000    0    0.1110   -26.107     1   \n136237          0.772000    5    0.0876   -12.923     1   \n\n                                                    name  popularity  \\\n127976  In Your Own Sweet Way - Rudy Van Gelder Remaster          11   \n139260   Bailando por el Mundo (feat. Pitbull & El Cata)          48   \n153166               People Are Strange - New Stereo Mix          49   \n20445                           El Cisne - Remasterizado           0   \n136237                                 Loving You - Edit          37   \n\n       release_date  speechiness    tempo  \n127976         1956       0.0354  111.492  \n139260   2012-05-14       0.0464  129.988  \n153166   2008-01-28       0.0330  119.627  \n20445    1928-06-20       0.0498   97.814  \n136237   1997-11-08       0.0345  107.759  ",
      "text/html": "<div>\n<style scoped>\n    .dataframe tbody tr th:only-of-type {\n        vertical-align: middle;\n    }\n\n    .dataframe tbody tr th {\n        vertical-align: top;\n    }\n\n    .dataframe thead th {\n        text-align: right;\n    }\n</style>\n<table border=\"1\" class=\"dataframe\">\n  <thead>\n    <tr style=\"text-align: right;\">\n      <th></th>\n      <th>valence</th>\n      <th>year</th>\n      <th>acousticness</th>\n      <th>artists</th>\n      <th>danceability</th>\n      <th>duration_ms</th>\n      <th>energy</th>\n      <th>explicit</th>\n      <th>id</th>\n      <th>instrumentalness</th>\n      <th>key</th>\n      <th>liveness</th>\n      <th>loudness</th>\n      <th>mode</th>\n      <th>name</th>\n      <th>popularity</th>\n      <th>release_date</th>\n      <th>speechiness</th>\n      <th>tempo</th>\n    </tr>\n  </thead>\n  <tbody>\n    <tr>\n      <th>127976</th>\n      <td>0.212</td>\n      <td>1956</td>\n      <td>0.7370</td>\n      <td>['Miles Davis']</td>\n      <td>0.502</td>\n      <td>277067</td>\n      <td>0.222</td>\n      <td>0</td>\n      <td>3dUML7ng4ScVmf3jqpaWsb</td>\n      <td>0.000085</td>\n      <td>1</td>\n      <td>0.1170</td>\n      <td>-14.659</td>\n      <td>1</td>\n      <td>In Your Own Sweet Way - Rudy Van Gelder Remaster</td>\n      <td>11</td>\n      <td>1956</td>\n      <td>0.0354</td>\n      <td>111.492</td>\n    </tr>\n    <tr>\n      <th>139260</th>\n      <td>0.970</td>\n      <td>2012</td>\n      <td>0.0273</td>\n      <td>['Juan Magán', 'Pitbull', 'El Cata']</td>\n      <td>0.720</td>\n      <td>197240</td>\n      <td>0.822</td>\n      <td>0</td>\n      <td>4hLEorB47NotMkSLCWmh5e</td>\n      <td>0.000000</td>\n      <td>4</td>\n      <td>0.3080</td>\n      <td>-4.166</td>\n      <td>0</td>\n      <td>Bailando por el Mundo (feat. Pitbull &amp; El Cata)</td>\n      <td>48</td>\n      <td>2012-05-14</td>\n      <td>0.0464</td>\n      <td>129.988</td>\n    </tr>\n    <tr>\n      <th>153166</th>\n      <td>0.721</td>\n      <td>2008</td>\n      <td>0.6550</td>\n      <td>['The Doors']</td>\n      <td>0.700</td>\n      <td>130747</td>\n      <td>0.418</td>\n      <td>0</td>\n      <td>6chyadaFmcdgpfSDW31KVj</td>\n      <td>0.000000</td>\n      <td>4</td>\n      <td>0.1950</td>\n      <td>-11.238</td>\n      <td>0</td>\n      <td>People Are Strange - New Stereo Mix</td>\n      <td>49</td>\n      <td>2008-01-28</td>\n      <td>0.0330</td>\n      <td>119.627</td>\n    </tr>\n    <tr>\n      <th>20445</th>\n      <td>0.875</td>\n      <td>1928</td>\n      <td>0.9900</td>\n      <td>['Ignacio Corsini']</td>\n      <td>0.520</td>\n      <td>182840</td>\n      <td>0.128</td>\n      <td>0</td>\n      <td>18MKXumRZphEqOmNo2jEDa</td>\n      <td>0.918000</td>\n      <td>0</td>\n      <td>0.1110</td>\n      <td>-26.107</td>\n      <td>1</td>\n      <td>El Cisne - Remasterizado</td>\n      <td>0</td>\n      <td>1928-06-20</td>\n      <td>0.0498</td>\n      <td>97.814</td>\n    </tr>\n    <tr>\n      <th>136237</th>\n      <td>0.124</td>\n      <td>1997</td>\n      <td>0.1830</td>\n      <td>['Kenny G']</td>\n      <td>0.352</td>\n      <td>199640</td>\n      <td>0.338</td>\n      <td>0</td>\n      <td>0KH4lkNCzPACif93d7u7A9</td>\n      <td>0.772000</td>\n      <td>5</td>\n      <td>0.0876</td>\n      <td>-12.923</td>\n      <td>1</td>\n      <td>Loving You - Edit</td>\n      <td>37</td>\n      <td>1997-11-08</td>\n      <td>0.0345</td>\n      <td>107.759</td>\n    </tr>\n  </tbody>\n</table>\n</div>"
     },
     "execution_count": 6,
     "metadata": {},
     "output_type": "execute_result"
    }
   ],
   "source": [
    "# look at a few rows of the ks_projects file\n",
    "spotify_orig.sample(5)"
   ],
   "metadata": {
    "collapsed": false,
    "pycharm": {
     "name": "#%%\n"
    }
   }
  },
  {
   "cell_type": "code",
   "execution_count": 7,
   "outputs": [
    {
     "name": "stdout",
     "output_type": "stream",
     "text": [
      "<class 'pandas.core.frame.DataFrame'>\n",
      "RangeIndex: 170653 entries, 0 to 170652\n",
      "Data columns (total 19 columns):\n",
      " #   Column            Non-Null Count   Dtype  \n",
      "---  ------            --------------   -----  \n",
      " 0   valence           170653 non-null  float64\n",
      " 1   year              170653 non-null  int64  \n",
      " 2   acousticness      170653 non-null  float64\n",
      " 3   artists           170653 non-null  object \n",
      " 4   danceability      170653 non-null  float64\n",
      " 5   duration_ms       170653 non-null  int64  \n",
      " 6   energy            170653 non-null  float64\n",
      " 7   explicit          170653 non-null  int64  \n",
      " 8   id                170653 non-null  object \n",
      " 9   instrumentalness  170653 non-null  float64\n",
      " 10  key               170653 non-null  int64  \n",
      " 11  liveness          170653 non-null  float64\n",
      " 12  loudness          170653 non-null  float64\n",
      " 13  mode              170653 non-null  int64  \n",
      " 14  name              170653 non-null  object \n",
      " 15  popularity        170653 non-null  int64  \n",
      " 16  release_date      170653 non-null  object \n",
      " 17  speechiness       170653 non-null  float64\n",
      " 18  tempo             170653 non-null  float64\n",
      "dtypes: float64(9), int64(6), object(4)\n",
      "memory usage: 24.7+ MB\n"
     ]
    }
   ],
   "source": [
    "# get info about DataFrame columns\n",
    "spotify_orig.info()"
   ],
   "metadata": {
    "collapsed": false,
    "pycharm": {
     "name": "#%%\n"
    }
   }
  },
  {
   "cell_type": "code",
   "execution_count": 8,
   "outputs": [
    {
     "data": {
      "text/plain": "valence             0\nyear                0\nacousticness        0\nartists             0\ndanceability        0\nduration_ms         0\nenergy              0\nexplicit            0\nid                  0\ninstrumentalness    0\nkey                 0\nliveness            0\nloudness            0\nmode                0\nname                0\npopularity          0\nrelease_date        0\nspeechiness         0\ntempo               0\ndtype: int64"
     },
     "execution_count": 8,
     "metadata": {},
     "output_type": "execute_result"
    }
   ],
   "source": [
    "# count nullable words\n",
    "spotify_orig.isnull().sum()"
   ],
   "metadata": {
    "collapsed": false,
    "pycharm": {
     "name": "#%%\n"
    }
   }
  },
  {
   "cell_type": "code",
   "execution_count": 9,
   "outputs": [],
   "source": [
    "# Cleaning\n",
    "# We are lemmatizing and removing the stopwords and non-alphabetic characters for each line\n",
    "\n",
    "nlp = spacy.load('en_core_web_sm', disable=['ner', 'parser']) # disabling Named Entity Recognition for speed\n",
    "\n",
    "def cleaning(doc):\n",
    "    # Lemmatizes and removes stopwords\n",
    "    # doc needs to be a spacy Doc object\n",
    "    txt = [token.lemma_ for token in doc if not token.is_stop]\n",
    "    # Word2Vec uses context words to learn the vector representation of a target word,\n",
    "    # if a sentence is only one or two words long,\n",
    "    # the benefit for the training is very small\n",
    "    if len(txt) > 2:\n",
    "        return ' '.join(txt)\n",
    "\n",
    "# Removes non-alphabetic characters\n",
    "brief_cleaning = (re.sub(\"[^A-Za-z']+\", ' ', str(row)).lower() for row in spotify_orig['name'])"
   ],
   "metadata": {
    "collapsed": false,
    "pycharm": {
     "name": "#%%\n"
    }
   }
  },
  {
   "cell_type": "code",
   "execution_count": 10,
   "outputs": [
    {
     "name": "stdout",
     "output_type": "stream",
     "text": [
      "Time to clean up everything: 1.11 mins\n"
     ]
    }
   ],
   "source": [
    "# Taking advantage of spaCy .pipe() attribute to speed-up the cleaning process\n",
    "t = time()\n",
    "txt = [cleaning(doc) for doc in nlp.pipe(brief_cleaning, batch_size=5000, n_threads=-1)]\n",
    "print('Time to clean up everything: {} mins'.format(round((time() - t) / 60, 2)))"
   ],
   "metadata": {
    "collapsed": false,
    "pycharm": {
     "name": "#%%\n"
    }
   }
  },
  {
   "cell_type": "code",
   "execution_count": 11,
   "outputs": [
    {
     "data": {
      "text/plain": "(63686, 1)"
     },
     "execution_count": 11,
     "metadata": {},
     "output_type": "execute_result"
    }
   ],
   "source": [
    "# Put the results in a DataFrame to remove missing values and duplicates:\n",
    "\n",
    "df_clean = pd.DataFrame({'clean': txt})\n",
    "df_clean = df_clean.dropna().drop_duplicates()\n",
    "df_clean.shape"
   ],
   "metadata": {
    "collapsed": false,
    "pycharm": {
     "name": "#%%\n"
    }
   }
  },
  {
   "cell_type": "code",
   "execution_count": 14,
   "outputs": [
    {
     "name": "stderr",
     "output_type": "stream",
     "text": [
      "INFO - 14:09:59: collecting all words and their counts\n",
      "INFO - 14:09:59: PROGRESS: at sentence #0, processed 0 words and 0 word types\n",
      "INFO - 14:09:59: PROGRESS: at sentence #10000, processed 44856 words and 34048 word types\n",
      "INFO - 14:09:59: PROGRESS: at sentence #20000, processed 91743 words and 60057 word types\n",
      "INFO - 14:09:59: PROGRESS: at sentence #30000, processed 138773 words and 84833 word types\n",
      "INFO - 14:09:59: PROGRESS: at sentence #40000, processed 188044 words and 108179 word types\n",
      "INFO - 14:09:59: PROGRESS: at sentence #50000, processed 238046 words and 130876 word types\n",
      "INFO - 14:09:59: PROGRESS: at sentence #60000, processed 286467 words and 152150 word types\n",
      "INFO - 14:09:59: collected 158700 word types from a corpus of 302854 words (unigram + bigrams) and 63686 sentences\n",
      "INFO - 14:09:59: using 158700 counts as vocab in Phrases<0 vocab, min_count=30, threshold=10.0, max_vocab_size=40000000>\n",
      "INFO - 14:09:59: source_vocab length 158700\n",
      "INFO - 14:10:01: Phraser built with 256 256 phrasegrams\n"
     ]
    }
   ],
   "source": [
    "# Bigrams:\n",
    "# We are using Gensim Phrases package to automatically detect common phrases (bigrams) from a list of sentences.\n",
    "# https://radimrehurek.com/gensim/models/phrases.html\n",
    "# The main reason we do this is to catch words like \"mr_burns\" or \"bart_simpson\" !\n",
    "\n",
    "# As Phrases() takes a list of list of words as input:\n",
    "sent = [row.split() for row in df_clean['clean']]\n",
    "# Creates the relevant phrases from the list of sentences:\n",
    "phrases = Phrases(sent, min_count=30, progress_per=10000)\n",
    "# The goal of Phraser() is to cut down memory consumption of Phrases(), by discarding model state not strictly needed\n",
    "# for the bigram detection task:\n",
    "bigram = Phraser(phrases)\n",
    "# Transform the corpus based on the bigrams detected:\n",
    "sentences = bigram[sent]"
   ],
   "metadata": {
    "collapsed": false,
    "pycharm": {
     "name": "#%%\n"
    }
   }
  },
  {
   "cell_type": "code",
   "execution_count": 15,
   "outputs": [
    {
     "data": {
      "text/plain": "['remaster', 'live', 'feat', \"'\", 'be', 'de', 'love', 'op', \"'s\", 'la']"
     },
     "execution_count": 15,
     "metadata": {},
     "output_type": "execute_result"
    }
   ],
   "source": [
    "# Most Frequent Words:\n",
    "# Mainly a sanity check of the effectiveness of the lemmatization, removal of stopwords, and addition of bigrams.\n",
    "word_freq = defaultdict(int)\n",
    "for sent in sentences:\n",
    "    for i in sent:\n",
    "        word_freq[i] += 1\n",
    "len(word_freq)\n",
    "sorted(word_freq, key=word_freq.get, reverse=True)[:10]"
   ],
   "metadata": {
    "collapsed": false,
    "pycharm": {
     "name": "#%%\n"
    }
   }
  },
  {
   "cell_type": "code",
   "execution_count": 17,
   "outputs": [],
   "source": [
    "# Training the model\n",
    "# Gensim Word2Vec Implementation:\n",
    "# We use Gensim implementation of word2vec: https://radimrehurek.com/gensim/models/word2vec.html\n",
    "\n",
    "# I prefer to separate the training in 3 distinctive steps for clarity and monitoring.\n",
    "#\n",
    "# Word2Vec():\n",
    "# In this first step, I set up the parameters of the model one-by-one.\n",
    "# I do not supply the parameter sentences, and therefore leave the model uninitialized, purposefully.\n",
    "#\n",
    "# .build_vocab():\n",
    "# Here it builds the vocabulary from a sequence of sentences and thus initialized the model.\n",
    "# With the loggings, I can follow the progress and even more important, the effect of min_count and sample on the word corpus.\n",
    "# I noticed that these two parameters, and in particular sample, have a great influence over the performance of a model.\n",
    "# Displaying both allows for a more accurate and an easier management of their influence.\n",
    "#\n",
    "# .train():\n",
    "# Finally, trains the model.\n",
    "# The loggings here are mainly useful for monitoring, making sure that no threads are executed instantaneously.\n",
    "\n",
    "cores = multiprocessing.cpu_count() # Count the number of cores in a computer"
   ],
   "metadata": {
    "collapsed": false,
    "pycharm": {
     "name": "#%%\n"
    }
   }
  },
  {
   "cell_type": "code",
   "execution_count": 18,
   "outputs": [],
   "source": [
    "# The parameters:\n",
    "# min_count = int - Ignores all words with total absolute frequency lower than this - (2, 100)\n",
    "# window = int - The maximum distance between the current and predicted word within a sentence.\n",
    "# E.g. window words on the left and window words on the left of our target - (2, 10)\n",
    "# size = int - Dimensionality of the feature vectors. - (50, 300)\n",
    "# sample = float - The threshold for configuring which higher-frequency words are randomly downsampled.\n",
    "# Highly influencial. - (0, 1e-5)\n",
    "# alpha = float - The initial learning rate - (0.01, 0.05)\n",
    "# min_alpha = float - Learning rate will linearly drop to min_alpha as training progresses.\n",
    "# To set it: alpha - (min_alpha * epochs) ~ 0.00\n",
    "# negative = int - If > 0, negative sampling will be used, the int for negative specifies how many \"noise words\"\n",
    "# should be drown. If set to 0, no negative sampling is used. - (5, 20)\n",
    "# workers = int - Use these many worker threads to train the model (=faster training with multicore machines)\n",
    "\n",
    "w2v_model = Word2Vec(min_count=20,\n",
    "                     window=2,\n",
    "                     size=300,\n",
    "                     sample=6e-5,\n",
    "                     alpha=0.03,\n",
    "                     min_alpha=0.0007,\n",
    "                     negative=20,\n",
    "                     workers=cores-1)"
   ],
   "metadata": {
    "collapsed": false,
    "pycharm": {
     "name": "#%%\n"
    }
   }
  },
  {
   "cell_type": "code",
   "execution_count": 19,
   "outputs": [
    {
     "name": "stderr",
     "output_type": "stream",
     "text": [
      "INFO - 14:20:59: collecting all words and their counts\n",
      "INFO - 14:20:59: PROGRESS: at sentence #0, processed 0 words, keeping 0 word types\n",
      "INFO - 14:20:59: PROGRESS: at sentence #10000, processed 41941 words, keeping 10383 word types\n",
      "INFO - 14:20:59: PROGRESS: at sentence #20000, processed 85486 words, keeping 16279 word types\n",
      "INFO - 14:20:59: PROGRESS: at sentence #30000, processed 129453 words, keeping 21549 word types\n",
      "INFO - 14:21:00: PROGRESS: at sentence #40000, processed 175438 words, keeping 26140 word types\n",
      "INFO - 14:21:00: PROGRESS: at sentence #50000, processed 222104 words, keeping 30538 word types\n",
      "INFO - 14:21:00: PROGRESS: at sentence #60000, processed 267925 words, keeping 34292 word types\n",
      "INFO - 14:21:00: collected 35270 word types from a corpus of 283552 raw words and 63686 sentences\n",
      "INFO - 14:21:00: Loading a fresh vocabulary\n",
      "INFO - 14:21:00: min_count=20 retains 2135 unique words (6% of original 35270, drops 33135)\n",
      "INFO - 14:21:00: min_count=20 leaves 197899 word corpus (69% of original 283552, drops 85653)\n",
      "INFO - 14:21:00: deleting the raw counts dictionary of 35270 items\n",
      "INFO - 14:21:00: sample=6e-05 downsamples 1352 most-common words\n",
      "INFO - 14:21:00: downsampling leaves estimated 80879 word corpus (40.9% of prior 197899)\n",
      "INFO - 14:21:00: estimated required memory for 2135 words and 300 dimensions: 6191500 bytes\n",
      "INFO - 14:21:00: resetting layer weights\n"
     ]
    },
    {
     "name": "stdout",
     "output_type": "stream",
     "text": [
      "Time to build vocab: 0.03 mins\n"
     ]
    }
   ],
   "source": [
    "# Building the Vocabulary Table:\n",
    "# Word2Vec requires us to build the vocabulary table (simply digesting all the words and filtering out the unique words,\n",
    "# and doing some basic counts on them):\n",
    "\n",
    "t = time()\n",
    "w2v_model.build_vocab(sentences, progress_per=10000)\n",
    "print('Time to build vocab: {} mins'.format(round((time() - t) / 60, 2)))"
   ],
   "metadata": {
    "collapsed": false,
    "pycharm": {
     "name": "#%%\n"
    }
   }
  },
  {
   "cell_type": "code",
   "execution_count": 20,
   "outputs": [
    {
     "name": "stderr",
     "output_type": "stream",
     "text": [
      "INFO - 14:22:53: training model with 7 workers on 2135 vocabulary and 300 features, using sg=0 hs=0 sample=6e-05 negative=20 window=2\n",
      "INFO - 14:22:54: EPOCH 1 - PROGRESS: at 64.54% examples, 51079 words/s, in_qsize 0, out_qsize 0\n",
      "INFO - 14:22:55: worker thread finished; awaiting finish of 6 more threads\n",
      "INFO - 14:22:55: worker thread finished; awaiting finish of 5 more threads\n",
      "INFO - 14:22:55: worker thread finished; awaiting finish of 4 more threads\n",
      "INFO - 14:22:55: worker thread finished; awaiting finish of 3 more threads\n",
      "INFO - 14:22:55: worker thread finished; awaiting finish of 2 more threads\n",
      "INFO - 14:22:55: worker thread finished; awaiting finish of 1 more threads\n",
      "INFO - 14:22:55: worker thread finished; awaiting finish of 0 more threads\n",
      "INFO - 14:22:55: EPOCH - 1 : training on 283552 raw words (80770 effective words) took 1.4s, 56239 effective words/s\n",
      "INFO - 14:22:56: EPOCH 2 - PROGRESS: at 81.42% examples, 64705 words/s, in_qsize 0, out_qsize 0\n",
      "INFO - 14:22:56: worker thread finished; awaiting finish of 6 more threads\n",
      "INFO - 14:22:56: worker thread finished; awaiting finish of 5 more threads\n",
      "INFO - 14:22:56: worker thread finished; awaiting finish of 4 more threads\n",
      "INFO - 14:22:56: worker thread finished; awaiting finish of 3 more threads\n",
      "INFO - 14:22:56: worker thread finished; awaiting finish of 2 more threads\n",
      "INFO - 14:22:56: worker thread finished; awaiting finish of 1 more threads\n",
      "INFO - 14:22:56: worker thread finished; awaiting finish of 0 more threads\n",
      "INFO - 14:22:56: EPOCH - 2 : training on 283552 raw words (80819 effective words) took 1.2s, 65759 effective words/s\n",
      "INFO - 14:22:57: EPOCH 3 - PROGRESS: at 94.94% examples, 75369 words/s, in_qsize 1, out_qsize 0\n",
      "INFO - 14:22:57: worker thread finished; awaiting finish of 6 more threads\n",
      "INFO - 14:22:57: worker thread finished; awaiting finish of 5 more threads\n",
      "INFO - 14:22:57: worker thread finished; awaiting finish of 4 more threads\n",
      "INFO - 14:22:57: worker thread finished; awaiting finish of 3 more threads\n",
      "INFO - 14:22:57: worker thread finished; awaiting finish of 2 more threads\n",
      "INFO - 14:22:57: worker thread finished; awaiting finish of 1 more threads\n",
      "INFO - 14:22:57: worker thread finished; awaiting finish of 0 more threads\n",
      "INFO - 14:22:57: EPOCH - 3 : training on 283552 raw words (80844 effective words) took 1.1s, 76840 effective words/s\n",
      "INFO - 14:22:58: EPOCH 4 - PROGRESS: at 91.84% examples, 73803 words/s, in_qsize 1, out_qsize 0\n",
      "INFO - 14:22:58: worker thread finished; awaiting finish of 6 more threads\n",
      "INFO - 14:22:58: worker thread finished; awaiting finish of 5 more threads\n",
      "INFO - 14:22:58: worker thread finished; awaiting finish of 4 more threads\n",
      "INFO - 14:22:58: worker thread finished; awaiting finish of 3 more threads\n",
      "INFO - 14:22:58: worker thread finished; awaiting finish of 2 more threads\n",
      "INFO - 14:22:58: worker thread finished; awaiting finish of 1 more threads\n",
      "INFO - 14:22:58: worker thread finished; awaiting finish of 0 more threads\n",
      "INFO - 14:22:58: EPOCH - 4 : training on 283552 raw words (80942 effective words) took 1.1s, 75910 effective words/s\n",
      "INFO - 14:22:59: worker thread finished; awaiting finish of 6 more threads\n",
      "INFO - 14:22:59: worker thread finished; awaiting finish of 5 more threads\n",
      "INFO - 14:22:59: worker thread finished; awaiting finish of 4 more threads\n",
      "INFO - 14:22:59: worker thread finished; awaiting finish of 3 more threads\n",
      "INFO - 14:22:59: worker thread finished; awaiting finish of 2 more threads\n",
      "INFO - 14:22:59: worker thread finished; awaiting finish of 1 more threads\n",
      "INFO - 14:22:59: EPOCH 5 - PROGRESS: at 100.00% examples, 80364 words/s, in_qsize 0, out_qsize 1\n",
      "INFO - 14:22:59: worker thread finished; awaiting finish of 0 more threads\n",
      "INFO - 14:22:59: EPOCH - 5 : training on 283552 raw words (80605 effective words) took 1.0s, 80251 effective words/s\n",
      "INFO - 14:23:00: EPOCH 6 - PROGRESS: at 91.84% examples, 73007 words/s, in_qsize 1, out_qsize 0\n",
      "INFO - 14:23:00: worker thread finished; awaiting finish of 6 more threads\n",
      "INFO - 14:23:00: worker thread finished; awaiting finish of 5 more threads\n",
      "INFO - 14:23:00: worker thread finished; awaiting finish of 4 more threads\n",
      "INFO - 14:23:00: worker thread finished; awaiting finish of 3 more threads\n",
      "INFO - 14:23:00: worker thread finished; awaiting finish of 2 more threads\n",
      "INFO - 14:23:00: worker thread finished; awaiting finish of 1 more threads\n",
      "INFO - 14:23:00: worker thread finished; awaiting finish of 0 more threads\n",
      "INFO - 14:23:00: EPOCH - 6 : training on 283552 raw words (80788 effective words) took 1.1s, 75251 effective words/s\n",
      "INFO - 14:23:01: EPOCH 7 - PROGRESS: at 91.84% examples, 72535 words/s, in_qsize 1, out_qsize 0\n",
      "INFO - 14:23:01: worker thread finished; awaiting finish of 6 more threads\n",
      "INFO - 14:23:01: worker thread finished; awaiting finish of 5 more threads\n",
      "INFO - 14:23:01: worker thread finished; awaiting finish of 4 more threads\n",
      "INFO - 14:23:01: worker thread finished; awaiting finish of 3 more threads\n",
      "INFO - 14:23:01: worker thread finished; awaiting finish of 2 more threads\n",
      "INFO - 14:23:01: worker thread finished; awaiting finish of 1 more threads\n",
      "INFO - 14:23:01: worker thread finished; awaiting finish of 0 more threads\n",
      "INFO - 14:23:01: EPOCH - 7 : training on 283552 raw words (81105 effective words) took 1.2s, 70126 effective words/s\n",
      "INFO - 14:23:02: EPOCH 8 - PROGRESS: at 91.84% examples, 71558 words/s, in_qsize 0, out_qsize 0\n",
      "INFO - 14:23:02: worker thread finished; awaiting finish of 6 more threads\n",
      "INFO - 14:23:02: worker thread finished; awaiting finish of 5 more threads\n",
      "INFO - 14:23:02: worker thread finished; awaiting finish of 4 more threads\n",
      "INFO - 14:23:02: worker thread finished; awaiting finish of 3 more threads\n",
      "INFO - 14:23:02: worker thread finished; awaiting finish of 2 more threads\n",
      "INFO - 14:23:02: worker thread finished; awaiting finish of 1 more threads\n",
      "INFO - 14:23:02: worker thread finished; awaiting finish of 0 more threads\n",
      "INFO - 14:23:02: EPOCH - 8 : training on 283552 raw words (80804 effective words) took 1.1s, 72704 effective words/s\n",
      "INFO - 14:23:03: EPOCH 9 - PROGRESS: at 81.42% examples, 65246 words/s, in_qsize 0, out_qsize 0\n",
      "INFO - 14:23:04: worker thread finished; awaiting finish of 6 more threads\n",
      "INFO - 14:23:04: worker thread finished; awaiting finish of 5 more threads\n",
      "INFO - 14:23:04: worker thread finished; awaiting finish of 4 more threads\n",
      "INFO - 14:23:04: worker thread finished; awaiting finish of 3 more threads\n",
      "INFO - 14:23:04: worker thread finished; awaiting finish of 2 more threads\n",
      "INFO - 14:23:04: worker thread finished; awaiting finish of 1 more threads\n",
      "INFO - 14:23:04: worker thread finished; awaiting finish of 0 more threads\n",
      "INFO - 14:23:04: EPOCH - 9 : training on 283552 raw words (80960 effective words) took 1.2s, 68806 effective words/s\n",
      "INFO - 14:23:05: EPOCH 10 - PROGRESS: at 88.08% examples, 68792 words/s, in_qsize 0, out_qsize 0\n",
      "INFO - 14:23:05: worker thread finished; awaiting finish of 6 more threads\n",
      "INFO - 14:23:05: worker thread finished; awaiting finish of 5 more threads\n",
      "INFO - 14:23:05: worker thread finished; awaiting finish of 4 more threads\n",
      "INFO - 14:23:05: worker thread finished; awaiting finish of 3 more threads\n",
      "INFO - 14:23:05: worker thread finished; awaiting finish of 2 more threads\n",
      "INFO - 14:23:05: worker thread finished; awaiting finish of 1 more threads\n",
      "INFO - 14:23:05: worker thread finished; awaiting finish of 0 more threads\n",
      "INFO - 14:23:05: EPOCH - 10 : training on 283552 raw words (80735 effective words) took 1.1s, 71340 effective words/s\n",
      "INFO - 14:23:06: EPOCH 11 - PROGRESS: at 88.08% examples, 70435 words/s, in_qsize 0, out_qsize 0\n",
      "INFO - 14:23:06: worker thread finished; awaiting finish of 6 more threads\n",
      "INFO - 14:23:06: worker thread finished; awaiting finish of 5 more threads\n",
      "INFO - 14:23:06: worker thread finished; awaiting finish of 4 more threads\n",
      "INFO - 14:23:06: worker thread finished; awaiting finish of 3 more threads\n",
      "INFO - 14:23:06: worker thread finished; awaiting finish of 2 more threads\n",
      "INFO - 14:23:06: worker thread finished; awaiting finish of 1 more threads\n",
      "INFO - 14:23:06: worker thread finished; awaiting finish of 0 more threads\n",
      "INFO - 14:23:06: EPOCH - 11 : training on 283552 raw words (80864 effective words) took 1.1s, 72318 effective words/s\n",
      "INFO - 14:23:07: worker thread finished; awaiting finish of 6 more threads\n",
      "INFO - 14:23:07: worker thread finished; awaiting finish of 5 more threads\n",
      "INFO - 14:23:07: worker thread finished; awaiting finish of 4 more threads\n",
      "INFO - 14:23:07: worker thread finished; awaiting finish of 3 more threads\n",
      "INFO - 14:23:07: worker thread finished; awaiting finish of 2 more threads\n",
      "INFO - 14:23:07: worker thread finished; awaiting finish of 1 more threads\n",
      "INFO - 14:23:07: worker thread finished; awaiting finish of 0 more threads\n",
      "INFO - 14:23:07: EPOCH - 12 : training on 283552 raw words (81203 effective words) took 1.0s, 82951 effective words/s\n",
      "INFO - 14:23:08: EPOCH 13 - PROGRESS: at 94.94% examples, 73758 words/s, in_qsize 0, out_qsize 0\n",
      "INFO - 14:23:08: worker thread finished; awaiting finish of 6 more threads\n",
      "INFO - 14:23:08: worker thread finished; awaiting finish of 5 more threads\n",
      "INFO - 14:23:08: worker thread finished; awaiting finish of 4 more threads\n",
      "INFO - 14:23:08: worker thread finished; awaiting finish of 3 more threads\n",
      "INFO - 14:23:08: worker thread finished; awaiting finish of 2 more threads\n",
      "INFO - 14:23:08: worker thread finished; awaiting finish of 1 more threads\n",
      "INFO - 14:23:08: worker thread finished; awaiting finish of 0 more threads\n",
      "INFO - 14:23:08: EPOCH - 13 : training on 283552 raw words (81191 effective words) took 1.1s, 75358 effective words/s\n",
      "INFO - 14:23:09: EPOCH 14 - PROGRESS: at 88.08% examples, 70952 words/s, in_qsize 0, out_qsize 0\n",
      "INFO - 14:23:09: worker thread finished; awaiting finish of 6 more threads\n",
      "INFO - 14:23:09: worker thread finished; awaiting finish of 5 more threads\n",
      "INFO - 14:23:09: worker thread finished; awaiting finish of 4 more threads\n",
      "INFO - 14:23:09: worker thread finished; awaiting finish of 3 more threads\n",
      "INFO - 14:23:09: worker thread finished; awaiting finish of 2 more threads\n",
      "INFO - 14:23:09: worker thread finished; awaiting finish of 1 more threads\n",
      "INFO - 14:23:09: worker thread finished; awaiting finish of 0 more threads\n",
      "INFO - 14:23:09: EPOCH - 14 : training on 283552 raw words (80998 effective words) took 1.1s, 72708 effective words/s\n",
      "INFO - 14:23:10: worker thread finished; awaiting finish of 6 more threads\n",
      "INFO - 14:23:10: worker thread finished; awaiting finish of 5 more threads\n",
      "INFO - 14:23:10: worker thread finished; awaiting finish of 4 more threads\n",
      "INFO - 14:23:10: worker thread finished; awaiting finish of 3 more threads\n",
      "INFO - 14:23:10: worker thread finished; awaiting finish of 2 more threads\n",
      "INFO - 14:23:10: worker thread finished; awaiting finish of 1 more threads\n",
      "INFO - 14:23:10: worker thread finished; awaiting finish of 0 more threads\n",
      "INFO - 14:23:10: EPOCH - 15 : training on 283552 raw words (80929 effective words) took 1.0s, 81381 effective words/s\n",
      "INFO - 14:23:11: EPOCH 16 - PROGRESS: at 91.84% examples, 72073 words/s, in_qsize 1, out_qsize 0\n",
      "INFO - 14:23:11: worker thread finished; awaiting finish of 6 more threads\n",
      "INFO - 14:23:11: worker thread finished; awaiting finish of 5 more threads\n",
      "INFO - 14:23:11: worker thread finished; awaiting finish of 4 more threads\n",
      "INFO - 14:23:11: worker thread finished; awaiting finish of 3 more threads\n",
      "INFO - 14:23:11: worker thread finished; awaiting finish of 2 more threads\n",
      "INFO - 14:23:11: worker thread finished; awaiting finish of 1 more threads\n",
      "INFO - 14:23:11: worker thread finished; awaiting finish of 0 more threads\n",
      "INFO - 14:23:11: EPOCH - 16 : training on 283552 raw words (80809 effective words) took 1.1s, 74484 effective words/s\n",
      "INFO - 14:23:12: worker thread finished; awaiting finish of 6 more threads\n",
      "INFO - 14:23:12: worker thread finished; awaiting finish of 5 more threads\n",
      "INFO - 14:23:12: worker thread finished; awaiting finish of 4 more threads\n",
      "INFO - 14:23:12: worker thread finished; awaiting finish of 3 more threads\n",
      "INFO - 14:23:12: worker thread finished; awaiting finish of 2 more threads\n",
      "INFO - 14:23:12: worker thread finished; awaiting finish of 1 more threads\n",
      "INFO - 14:23:12: worker thread finished; awaiting finish of 0 more threads\n",
      "INFO - 14:23:12: EPOCH - 17 : training on 283552 raw words (81022 effective words) took 1.0s, 80945 effective words/s\n",
      "INFO - 14:23:13: EPOCH 18 - PROGRESS: at 84.84% examples, 68178 words/s, in_qsize 0, out_qsize 0\n",
      "INFO - 14:23:13: worker thread finished; awaiting finish of 6 more threads\n",
      "INFO - 14:23:13: worker thread finished; awaiting finish of 5 more threads\n",
      "INFO - 14:23:13: worker thread finished; awaiting finish of 4 more threads\n",
      "INFO - 14:23:13: worker thread finished; awaiting finish of 3 more threads\n",
      "INFO - 14:23:13: worker thread finished; awaiting finish of 2 more threads\n",
      "INFO - 14:23:13: worker thread finished; awaiting finish of 1 more threads\n",
      "INFO - 14:23:13: worker thread finished; awaiting finish of 0 more threads\n",
      "INFO - 14:23:13: EPOCH - 18 : training on 283552 raw words (80693 effective words) took 1.1s, 70683 effective words/s\n",
      "INFO - 14:23:14: EPOCH 19 - PROGRESS: at 94.94% examples, 74856 words/s, in_qsize 0, out_qsize 0\n",
      "INFO - 14:23:14: worker thread finished; awaiting finish of 6 more threads\n",
      "INFO - 14:23:14: worker thread finished; awaiting finish of 5 more threads\n",
      "INFO - 14:23:14: worker thread finished; awaiting finish of 4 more threads\n",
      "INFO - 14:23:14: worker thread finished; awaiting finish of 3 more threads\n",
      "INFO - 14:23:14: worker thread finished; awaiting finish of 2 more threads\n",
      "INFO - 14:23:14: worker thread finished; awaiting finish of 1 more threads\n",
      "INFO - 14:23:14: worker thread finished; awaiting finish of 0 more threads\n",
      "INFO - 14:23:14: EPOCH - 19 : training on 283552 raw words (80943 effective words) took 1.1s, 75629 effective words/s\n",
      "INFO - 14:23:15: worker thread finished; awaiting finish of 6 more threads\n",
      "INFO - 14:23:15: worker thread finished; awaiting finish of 5 more threads\n",
      "INFO - 14:23:15: worker thread finished; awaiting finish of 4 more threads\n",
      "INFO - 14:23:15: worker thread finished; awaiting finish of 3 more threads\n",
      "INFO - 14:23:15: worker thread finished; awaiting finish of 2 more threads\n",
      "INFO - 14:23:15: worker thread finished; awaiting finish of 1 more threads\n",
      "INFO - 14:23:15: worker thread finished; awaiting finish of 0 more threads\n",
      "INFO - 14:23:15: EPOCH - 20 : training on 283552 raw words (80842 effective words) took 1.0s, 82906 effective words/s\n",
      "INFO - 14:23:16: EPOCH 21 - PROGRESS: at 84.84% examples, 68010 words/s, in_qsize 0, out_qsize 0\n",
      "INFO - 14:23:17: worker thread finished; awaiting finish of 6 more threads\n",
      "INFO - 14:23:17: worker thread finished; awaiting finish of 5 more threads\n",
      "INFO - 14:23:17: worker thread finished; awaiting finish of 4 more threads\n",
      "INFO - 14:23:17: worker thread finished; awaiting finish of 3 more threads\n",
      "INFO - 14:23:17: worker thread finished; awaiting finish of 2 more threads\n",
      "INFO - 14:23:17: worker thread finished; awaiting finish of 1 more threads\n",
      "INFO - 14:23:17: worker thread finished; awaiting finish of 0 more threads\n",
      "INFO - 14:23:17: EPOCH - 21 : training on 283552 raw words (81086 effective words) took 1.2s, 69120 effective words/s\n",
      "INFO - 14:23:18: EPOCH 22 - PROGRESS: at 88.08% examples, 70172 words/s, in_qsize 0, out_qsize 0\n",
      "INFO - 14:23:18: worker thread finished; awaiting finish of 6 more threads\n",
      "INFO - 14:23:18: worker thread finished; awaiting finish of 5 more threads\n",
      "INFO - 14:23:18: worker thread finished; awaiting finish of 4 more threads\n",
      "INFO - 14:23:18: worker thread finished; awaiting finish of 3 more threads\n",
      "INFO - 14:23:18: worker thread finished; awaiting finish of 2 more threads\n",
      "INFO - 14:23:18: worker thread finished; awaiting finish of 1 more threads\n",
      "INFO - 14:23:18: worker thread finished; awaiting finish of 0 more threads\n",
      "INFO - 14:23:18: EPOCH - 22 : training on 283552 raw words (81096 effective words) took 1.1s, 71944 effective words/s\n",
      "INFO - 14:23:19: EPOCH 23 - PROGRESS: at 94.94% examples, 76753 words/s, in_qsize 0, out_qsize 0\n",
      "INFO - 14:23:19: worker thread finished; awaiting finish of 6 more threads\n",
      "INFO - 14:23:19: worker thread finished; awaiting finish of 5 more threads\n",
      "INFO - 14:23:19: worker thread finished; awaiting finish of 4 more threads\n",
      "INFO - 14:23:19: worker thread finished; awaiting finish of 3 more threads\n",
      "INFO - 14:23:19: worker thread finished; awaiting finish of 2 more threads\n",
      "INFO - 14:23:19: worker thread finished; awaiting finish of 1 more threads\n",
      "INFO - 14:23:19: worker thread finished; awaiting finish of 0 more threads\n",
      "INFO - 14:23:19: EPOCH - 23 : training on 283552 raw words (80693 effective words) took 1.0s, 77594 effective words/s\n",
      "INFO - 14:23:20: EPOCH 24 - PROGRESS: at 88.08% examples, 69734 words/s, in_qsize 0, out_qsize 0\n",
      "INFO - 14:23:20: worker thread finished; awaiting finish of 6 more threads\n",
      "INFO - 14:23:20: worker thread finished; awaiting finish of 5 more threads\n",
      "INFO - 14:23:20: worker thread finished; awaiting finish of 4 more threads\n",
      "INFO - 14:23:20: worker thread finished; awaiting finish of 3 more threads\n",
      "INFO - 14:23:20: worker thread finished; awaiting finish of 2 more threads\n",
      "INFO - 14:23:20: worker thread finished; awaiting finish of 1 more threads\n",
      "INFO - 14:23:20: worker thread finished; awaiting finish of 0 more threads\n",
      "INFO - 14:23:20: EPOCH - 24 : training on 283552 raw words (80916 effective words) took 1.1s, 71930 effective words/s\n",
      "INFO - 14:23:21: worker thread finished; awaiting finish of 6 more threads\n",
      "INFO - 14:23:21: worker thread finished; awaiting finish of 5 more threads\n",
      "INFO - 14:23:21: worker thread finished; awaiting finish of 4 more threads\n",
      "INFO - 14:23:21: worker thread finished; awaiting finish of 3 more threads\n",
      "INFO - 14:23:21: worker thread finished; awaiting finish of 2 more threads\n",
      "INFO - 14:23:21: worker thread finished; awaiting finish of 1 more threads\n",
      "INFO - 14:23:21: worker thread finished; awaiting finish of 0 more threads\n",
      "INFO - 14:23:21: EPOCH - 25 : training on 283552 raw words (80809 effective words) took 1.0s, 82381 effective words/s\n",
      "INFO - 14:23:22: EPOCH 26 - PROGRESS: at 94.94% examples, 76166 words/s, in_qsize 3, out_qsize 4\n",
      "INFO - 14:23:22: worker thread finished; awaiting finish of 6 more threads\n",
      "INFO - 14:23:22: worker thread finished; awaiting finish of 5 more threads\n",
      "INFO - 14:23:22: worker thread finished; awaiting finish of 4 more threads\n",
      "INFO - 14:23:22: worker thread finished; awaiting finish of 3 more threads\n",
      "INFO - 14:23:22: worker thread finished; awaiting finish of 2 more threads\n",
      "INFO - 14:23:22: worker thread finished; awaiting finish of 1 more threads\n",
      "INFO - 14:23:22: worker thread finished; awaiting finish of 0 more threads\n",
      "INFO - 14:23:22: EPOCH - 26 : training on 283552 raw words (81088 effective words) took 1.0s, 79330 effective words/s\n",
      "INFO - 14:23:23: worker thread finished; awaiting finish of 6 more threads\n",
      "INFO - 14:23:23: worker thread finished; awaiting finish of 5 more threads\n",
      "INFO - 14:23:23: worker thread finished; awaiting finish of 4 more threads\n",
      "INFO - 14:23:23: worker thread finished; awaiting finish of 3 more threads\n",
      "INFO - 14:23:23: worker thread finished; awaiting finish of 2 more threads\n",
      "INFO - 14:23:23: worker thread finished; awaiting finish of 1 more threads\n",
      "INFO - 14:23:23: worker thread finished; awaiting finish of 0 more threads\n",
      "INFO - 14:23:23: EPOCH - 27 : training on 283552 raw words (81016 effective words) took 1.0s, 84888 effective words/s\n",
      "INFO - 14:23:24: EPOCH 28 - PROGRESS: at 91.84% examples, 69319 words/s, in_qsize 0, out_qsize 1\n",
      "INFO - 14:23:24: worker thread finished; awaiting finish of 6 more threads\n",
      "INFO - 14:23:24: worker thread finished; awaiting finish of 5 more threads\n",
      "INFO - 14:23:24: worker thread finished; awaiting finish of 4 more threads\n",
      "INFO - 14:23:24: worker thread finished; awaiting finish of 3 more threads\n",
      "INFO - 14:23:24: worker thread finished; awaiting finish of 2 more threads\n",
      "INFO - 14:23:24: worker thread finished; awaiting finish of 1 more threads\n",
      "INFO - 14:23:24: worker thread finished; awaiting finish of 0 more threads\n",
      "INFO - 14:23:24: EPOCH - 28 : training on 283552 raw words (80779 effective words) took 1.1s, 73201 effective words/s\n",
      "INFO - 14:23:25: EPOCH 29 - PROGRESS: at 94.94% examples, 76443 words/s, in_qsize 0, out_qsize 0\n",
      "INFO - 14:23:25: worker thread finished; awaiting finish of 6 more threads\n",
      "INFO - 14:23:25: worker thread finished; awaiting finish of 5 more threads\n",
      "INFO - 14:23:25: worker thread finished; awaiting finish of 4 more threads\n",
      "INFO - 14:23:25: worker thread finished; awaiting finish of 3 more threads\n",
      "INFO - 14:23:25: worker thread finished; awaiting finish of 2 more threads\n",
      "INFO - 14:23:25: worker thread finished; awaiting finish of 1 more threads\n",
      "INFO - 14:23:25: worker thread finished; awaiting finish of 0 more threads\n",
      "INFO - 14:23:25: EPOCH - 29 : training on 283552 raw words (80932 effective words) took 1.0s, 78265 effective words/s\n",
      "INFO - 14:23:26: worker thread finished; awaiting finish of 6 more threads\n",
      "INFO - 14:23:26: worker thread finished; awaiting finish of 5 more threads\n",
      "INFO - 14:23:26: worker thread finished; awaiting finish of 4 more threads\n",
      "INFO - 14:23:26: worker thread finished; awaiting finish of 3 more threads\n",
      "INFO - 14:23:26: worker thread finished; awaiting finish of 2 more threads\n",
      "INFO - 14:23:26: worker thread finished; awaiting finish of 1 more threads\n",
      "INFO - 14:23:26: worker thread finished; awaiting finish of 0 more threads\n",
      "INFO - 14:23:26: EPOCH - 30 : training on 283552 raw words (80748 effective words) took 1.0s, 83854 effective words/s\n",
      "INFO - 14:23:26: training on a 8506560 raw words (2427029 effective words) took 32.8s, 73920 effective words/s\n"
     ]
    },
    {
     "name": "stdout",
     "output_type": "stream",
     "text": [
      "Time to train the model: 0.55 mins\n"
     ]
    }
   ],
   "source": [
    "# Training of the model:\n",
    "\n",
    "# Parameters of the training:\n",
    "# total_examples = int - Count of sentences;\n",
    "# epochs = int - Number of iterations (epochs) over the corpus - [10, 20, 30]\n",
    "\n",
    "t = time()\n",
    "w2v_model.train(sentences, total_examples=w2v_model.corpus_count, epochs=30, report_delay=1)\n",
    "print('Time to train the model: {} mins'.format(round((time() - t) / 60, 2)))"
   ],
   "metadata": {
    "collapsed": false,
    "pycharm": {
     "name": "#%%\n"
    }
   }
  },
  {
   "cell_type": "code",
   "execution_count": 21,
   "outputs": [
    {
     "name": "stderr",
     "output_type": "stream",
     "text": [
      "INFO - 14:24:37: precomputing L2-norms of word weight vectors\n"
     ]
    }
   ],
   "source": [
    "# As we do not plan to train the model any further, we are calling init_sims(),\n",
    "# which will make the model much more memory-efficient:\n",
    "w2v_model.init_sims(replace=True)"
   ],
   "metadata": {
    "collapsed": false,
    "pycharm": {
     "name": "#%%\n"
    }
   }
  },
  {
   "cell_type": "code",
   "execution_count": 22,
   "outputs": [
    {
     "data": {
      "text/plain": "[('everybody', 0.972824215888977),\n ('look', 0.968979001045227),\n ('will_not', 0.9680449962615967),\n ('believe', 0.96721351146698),\n ('anymore', 0.9659347534179688),\n ('help', 0.9656952619552612),\n ('good', 0.9648260474205017),\n ('let', 0.9637019634246826),\n ('not', 0.9636774063110352),\n ('know', 0.9620110988616943)]"
     },
     "execution_count": 22,
     "metadata": {},
     "output_type": "execute_result"
    }
   ],
   "source": [
    "# Exploring the model\n",
    "# Most similar to:\n",
    "# Here, we will ask our model to find the word most similar to 'love'\n",
    "\n",
    "w2v_model.wv.most_similar(positive=[\"love\"])"
   ],
   "metadata": {
    "collapsed": false,
    "pycharm": {
     "name": "#%%\n"
    }
   }
  },
  {
   "cell_type": "code",
   "execution_count": 26,
   "outputs": [
    {
     "data": {
      "text/plain": "0.94195759708451"
     },
     "execution_count": 26,
     "metadata": {},
     "output_type": "execute_result"
    }
   ],
   "source": [
    "# Similarities:\n",
    "# Here, we will see how similar are two words to each other :\n",
    "\n",
    "w2v_model.wv.similarity('love', 'like')"
   ],
   "metadata": {
    "collapsed": false,
    "pycharm": {
     "name": "#%%\n"
    }
   }
  },
  {
   "cell_type": "code",
   "execution_count": 32,
   "outputs": [
    {
     "name": "stderr",
     "output_type": "stream",
     "text": [
      "C:\\Users\\micha\\Anaconda3\\envs\\kickstarter\\lib\\site-packages\\gensim\\models\\keyedvectors.py:730: FutureWarning: arrays to stack must be passed as a \"sequence\" type such as list or tuple. Support for non-sequence iterables such as generators is deprecated as of NumPy 1.16 and will raise an error in the future.\n",
      "  vectors = vstack(self.word_vec(word, use_norm=True) for word in used_words).astype(REAL)\n"
     ]
    },
    {
     "data": {
      "text/plain": "'tree'"
     },
     "execution_count": 32,
     "metadata": {},
     "output_type": "execute_result"
    }
   ],
   "source": [
    "w2v_model.wv.similarity('love', 'wood')\n",
    "\n",
    "# Odd-One-Out:\n",
    "# Here, we ask our model to give us the word that does not belong to the list!\n",
    "\n",
    "w2v_model.wv.doesnt_match(['love', 'like', 'tree'])"
   ],
   "metadata": {
    "collapsed": false,
    "pycharm": {
     "name": "#%%\n"
    }
   }
  },
  {
   "cell_type": "code",
   "execution_count": 36,
   "outputs": [
    {
     "name": "stderr",
     "output_type": "stream",
     "text": [
      "WARNING - 14:34:49: vectors for words {'plant'} are not present in the model, ignoring these words\n",
      "C:\\Users\\micha\\Anaconda3\\envs\\kickstarter\\lib\\site-packages\\gensim\\models\\keyedvectors.py:730: FutureWarning: arrays to stack must be passed as a \"sequence\" type such as list or tuple. Support for non-sequence iterables such as generators is deprecated as of NumPy 1.16 and will raise an error in the future.\n",
      "  vectors = vstack(self.word_vec(word, use_norm=True) for word in used_words).astype(REAL)\n"
     ]
    },
    {
     "data": {
      "text/plain": "'moon'"
     },
     "execution_count": 36,
     "metadata": {},
     "output_type": "execute_result"
    }
   ],
   "source": [
    "w2v_model.wv.doesnt_match(['moon', 'plant', 'rose'])"
   ],
   "metadata": {
    "collapsed": false,
    "pycharm": {
     "name": "#%%\n"
    }
   }
  },
  {
   "cell_type": "code",
   "execution_count": 45,
   "outputs": [
    {
     "data": {
      "text/plain": "[('tune', 0.7672429084777832),\n ('bol', 0.7661900520324707),\n ('gham', 0.7498449087142944)]"
     },
     "execution_count": 45,
     "metadata": {},
     "output_type": "execute_result"
    }
   ],
   "source": [
    "# Analogy difference:\n",
    "\n",
    "# Which word is to woman as homer is to marge?\n",
    "\n",
    "w2v_model.wv.most_similar(positive=[\"cold\", \"hate\"], negative=[\"love\"], topn=3)\n",
    "w2v_model.wv.most_similar(positive=[\"joy\", \"door\"], negative=[\"house\"], topn=3)"
   ],
   "metadata": {
    "collapsed": false,
    "pycharm": {
     "name": "#%%\n"
    }
   }
  },
  {
   "cell_type": "code",
   "execution_count": 47,
   "outputs": [],
   "source": [
    "# t-SNE visualizations:\n",
    "# t-SNE is a non-linear dimensionality reduction algorithm that attempts to represent high-dimensional data and the\n",
    "# underlying relationships between vectors in a lower-dimensional space.\n",
    "# Here is a good tutorial on it: https://medium.com/@luckylwk/visualising-high-dimensional-datasets-using-pca-and-t-sne-in-python-8ef87e7915b\n",
    "\n",
    "sns.set_style(\"darkgrid\")\n",
    "%matplotlib inline"
   ],
   "metadata": {
    "collapsed": false,
    "pycharm": {
     "name": "#%%\n"
    }
   }
  },
  {
   "cell_type": "code",
   "execution_count": 54,
   "outputs": [],
   "source": [
    "# Our goal in this section is to plot our 300 dimensions vectors into 2 dimensional graphs, and see if we can spot\n",
    "# interesting patterns.\n",
    "# For that we are going to use t-SNE implementation from scikit-learn.\n",
    "# To make the visualizations more relevant, we will look at the relationships between a query word (in red),\n",
    "# its most similar words in the model (in blue), and other words from the vocabulary (in green).\n",
    "\n",
    "def tsnescatterplot(model, word, list_names):\n",
    "    \"\"\" Plot in seaborn the results from the t-SNE dimensionality reduction algorithm of the vectors of a query word,\n",
    "    its list of most similar words, and a list of words.\n",
    "    \"\"\"\n",
    "    arrays = np.empty((0, 300), dtype='f')\n",
    "    word_labels = [word]\n",
    "    color_list  = ['red']\n",
    "\n",
    "    # adds the vector of the query word\n",
    "    arrays = np.append(arrays, model.wv.__getitem__([word]), axis=0)\n",
    "\n",
    "    # gets list of most similar words\n",
    "    close_words = model.wv.most_similar([word])\n",
    "\n",
    "    # adds the vector for each of the closest words to the array\n",
    "    for wrd_score in close_words:\n",
    "        wrd_vector = model.wv.__getitem__([wrd_score[0]])\n",
    "        word_labels.append(wrd_score[0])\n",
    "        color_list.append('blue')\n",
    "        arrays = np.append(arrays, wrd_vector, axis=0)\n",
    "\n",
    "    # adds the vector for each of the words from list_names to the array\n",
    "    for wrd in list_names:\n",
    "        wrd_vector = model.wv.__getitem__([wrd])\n",
    "        word_labels.append(wrd)\n",
    "        color_list.append('green')\n",
    "        arrays = np.append(arrays, wrd_vector, axis=0)\n",
    "\n",
    "    # Reduces the dimensionality from 300 to 50 dimensions with PCA\n",
    "    reduc = PCA(n_components=19).fit_transform(arrays)\n",
    "\n",
    "    # Finds t-SNE coordinates for 2 dimensions\n",
    "    np.set_printoptions(suppress=True)\n",
    "\n",
    "    Y = TSNE(n_components=2, random_state=0, perplexity=15).fit_transform(reduc)\n",
    "\n",
    "    # Sets everything up to plot\n",
    "    df = pd.DataFrame({'x': [x for x in Y[:, 0]],\n",
    "                       'y': [y for y in Y[:, 1]],\n",
    "                       'words': word_labels,\n",
    "                       'color': color_list})\n",
    "\n",
    "    fig, _ = plt.subplots()\n",
    "    fig.set_size_inches(9, 9)\n",
    "\n",
    "    # Basic plot\n",
    "    p1 = sns.regplot(data=df,\n",
    "                     x=\"x\",\n",
    "                     y=\"y\",\n",
    "                     fit_reg=False,\n",
    "                     marker=\"o\",\n",
    "                     scatter_kws={'s': 40,\n",
    "                                  'facecolors': df['color']\n",
    "                                 }\n",
    "                    )\n",
    "\n",
    "    # Adds annotations one by one with a loop\n",
    "    for line in range(0, df.shape[0]):\n",
    "         p1.text(df[\"x\"][line],\n",
    "                 df['y'][line],\n",
    "                 '  ' + df[\"words\"][line].title(),\n",
    "                 horizontalalignment='left',\n",
    "                 verticalalignment='bottom', size='medium',\n",
    "                 color=df['color'][line],\n",
    "                 weight='normal'\n",
    "                ).set_size(15)\n",
    "\n",
    "\n",
    "    plt.xlim(Y[:, 0].min()-50, Y[:, 0].max()+50)\n",
    "    plt.ylim(Y[:, 1].min()-50, Y[:, 1].max()+50)\n",
    "\n",
    "    plt.title('t-SNE visualization for {}'.format(word.title()))"
   ],
   "metadata": {
    "collapsed": false,
    "pycharm": {
     "name": "#%%\n"
    }
   }
  },
  {
   "cell_type": "code",
   "execution_count": 55,
   "outputs": [
    {
     "data": {
      "text/plain": "<Figure size 648x648 with 1 Axes>",
      "image/png": "[encoded data removed]"
     },
     "metadata": {
      "needs_background": "light"
     },
     "output_type": "display_data"
    }
   ],
   "source": [
    "# 10 Most similar words vs. 8 Random words:\n",
    "# Let's compare where the vector representation of 'love', its 10 most similar words from the model, ' \\\n",
    "# 'as well as 8 random ones, lies in a 2D graph:\n",
    "\n",
    "tsnescatterplot(w2v_model, 'love', ['darling', 'hate', 'house', 'cat', 'butterfly', 'lion', 'big', 'doll'])"
   ],
   "metadata": {
    "collapsed": false,
    "pycharm": {
     "name": "#%%\n"
    }
   }
  },
  {
   "cell_type": "code",
   "execution_count": 56,
   "outputs": [
    {
     "data": {
      "text/plain": "<Figure size 648x648 with 1 Axes>",
      "image/png": "[encoded data removed]"
     },
     "metadata": {
      "needs_background": "light"
     },
     "output_type": "display_data"
    }
   ],
   "source": [
    "# 10 Most similar words vs. 10 Most dissimilar\n",
    "# This time, let's compare where the vector representation of 'house' and her 10 most similar words from the model lies\n",
    "# compare to the vector representation of the 10 most dissimilar words to 'house':\n",
    "\n",
    "tsnescatterplot(w2v_model, 'house', [i[0] for i in w2v_model.wv.most_similar(negative=[\"house\"])])\n"
   ],
   "metadata": {
    "collapsed": false,
    "pycharm": {
     "name": "#%%\n"
    }
   }
  }
 ],
 "metadata": {
  "kernelspec": {
   "name": "pycharm-da890fd0",
   "language": "python",
   "display_name": "PyCharm (kickstarter)"
  },
  "language_info": {
   "codemirror_mode": {
    "name": "ipython",
    "version": 2
   },
   "file_extension": ".py",
   "mimetype": "text/x-python",
   "name": "python",
   "nbconvert_exporter": "python",
   "pygments_lexer": "ipython2",
   "version": "2.7.6"
  }
 },
 "nbformat": 4,
 "nbformat_minor": 0
}