{
 "cells": [
  {
   "cell_type": "code",
   "execution_count": 1,
   "metadata": {
    "collapsed": true
   },
   "outputs": [
    {
     "name": "stderr",
     "output_type": "stream",
     "text": [
      "C:\\Users\\micha\\Anaconda3\\envs\\kickstarter\\lib\\site-packages\\ipykernel_launcher.py:2: DeprecationWarning: Using or importing the ABCs from 'collections' instead of from 'collections.abc' is deprecated since Python 3.3,and in 3.9 it will stop working\n",
      "  \n",
      "C:\\Users\\micha\\Anaconda3\\envs\\kickstarter\\lib\\site-packages\\gensim\\utils.py:1197: UserWarning: detected Windows; aliasing chunkize to chunkize_serial\n",
      "  warnings.warn(\"detected Windows; aliasing chunkize to chunkize_serial\")\n",
      "Using TensorFlow backend.\n"
     ]
    }
   ],
   "source": [
    "# modules we'll use\n",
    "from collections import Callable\n",
    "\n",
    "import numpy as np\n",
    "import pandas as pd\n",
    "import gensim\n",
    "import tensorflow as tf\n",
    "import sys\n",
    "\n",
    "from sklearn.model_selection import train_test_split\n",
    "from tensorflow import keras\n",
    "from tensorflow.keras import layers\n",
    "\n",
    "#mount Google Drive\n",
    "#from google.colab import drive\n",
    "#drive.mount('/content/drive', force_remount=True)\n",
    "#sys.path.insert(0,'/content/drive/MyDrive/Praca_Inżynierska/kickstarter/code')\n",
    "from genetic_algorithm.crossover import OnePointCrossover\n",
    "from genetic_algorithm.gene import FloatGene, Gene, IntegerGene\n",
    "from genetic_algorithm.genetic_algorithm import GeneticAlgorithm\n",
    "from genetic_algorithm.genome import Genome, LabeledSequence\n",
    "from genetic_algorithm.initialization import RandomInitialization\n",
    "from genetic_algorithm.mutation import RandomMutation\n",
    "from genetic_algorithm.parent_selection import TournamentSelection\n",
    "\n",
    "from preprocessing.label_binarizer import DataFrameLabelBinarizer\n",
    "from plotting.loss_plotter import LossPlotter\n",
    "from plotting.real_multi_pred_plotter import RealMultiPredPlotter"
   ]
  },
  {
   "cell_type": "code",
   "execution_count": 2,
   "outputs": [],
   "source": [
    "# read in all our data\n",
    "# Google Drive's path: /content/drive/MyDrive/Praca_Inżynierska/kickstarter/data/spotify.csv\n",
    "spotify_orig  = pd.read_csv(\"../data/spotify.csv\")\n",
    "# set seed for reproducibility\n",
    "np.random.seed(0)"
   ],
   "metadata": {
    "collapsed": false,
    "pycharm": {
     "name": "#%%\n"
    }
   }
  },
  {
   "cell_type": "code",
   "execution_count": 3,
   "outputs": [
    {
     "data": {
      "text/plain": "        valence  year  acousticness  \\\n107349    0.817  2013      0.015800   \n16271     0.548  2003      0.006610   \n90972     0.732  2014      0.047700   \n84553     0.475  1981      0.000473   \n75895     0.550  1930      0.994000   \n\n                                                artists  danceability  \\\n107349                                     ['Parmalee']         0.551   \n16271                                         ['JAY-Z']         0.494   \n90972                                      ['Sam Hunt']         0.590   \n84553                                   ['Iron Maiden']         0.340   \n75895   ['Markos Vamvakaris', 'Apostolos Xatzixristos']         0.410   \n\n        duration_ms  energy  explicit                      id  \\\n107349       214933   0.863         0  3Bdqlr7jQLNhITAgcBGQBG   \n16271        234627   0.887         1  7sLpSWxQazJzDVG6YGzlVs   \n90972        235507   0.940         0  3BuPop8SzLG2Q88TJcFAjp   \n84553        288947   0.974         0  7EvjTEzuv7TWaIaWY63sWV   \n75895        197653   0.169         0  38PozVGXXoeO8dTEVzy74Y   \n\n        instrumentalness  key  liveness  loudness  mode  \\\n107349            0.0000   11    0.0843    -3.506     1   \n16271             0.0000    6    0.1030    -4.297     0   \n90972             0.0000    9    0.3790    -4.124     1   \n84553             0.0928    0    0.3730    -5.114     1   \n75895             0.9010    2    0.1130   -18.862     1   \n\n                           name  popularity release_date  speechiness    tempo  \n107349          Close Your Eyes          50   2013-12-10       0.0322  143.952  \n16271               99 Problems          61   2003-11-14       0.3980   89.554  \n90972              Raised On It          54   2014-10-27       0.0409   94.020  \n84553   Drifter - 2015 Remaster          29   1981-02-02       0.1060  101.276  \n75895        Soultana maurofora           0   1930-01-01       0.0391   93.890  ",
      "text/html": "<div>\n<style scoped>\n    .dataframe tbody tr th:only-of-type {\n        vertical-align: middle;\n    }\n\n    .dataframe tbody tr th {\n        vertical-align: top;\n    }\n\n    .dataframe thead th {\n        text-align: right;\n    }\n</style>\n<table border=\"1\" class=\"dataframe\">\n  <thead>\n    <tr style=\"text-align: right;\">\n      <th></th>\n      <th>valence</th>\n      <th>year</th>\n      <th>acousticness</th>\n      <th>artists</th>\n      <th>danceability</th>\n      <th>duration_ms</th>\n      <th>energy</th>\n      <th>explicit</th>\n      <th>id</th>\n      <th>instrumentalness</th>\n      <th>key</th>\n      <th>liveness</th>\n      <th>loudness</th>\n      <th>mode</th>\n      <th>name</th>\n      <th>popularity</th>\n      <th>release_date</th>\n      <th>speechiness</th>\n      <th>tempo</th>\n    </tr>\n  </thead>\n  <tbody>\n    <tr>\n      <th>107349</th>\n      <td>0.817</td>\n      <td>2013</td>\n      <td>0.015800</td>\n      <td>['Parmalee']</td>\n      <td>0.551</td>\n      <td>214933</td>\n      <td>0.863</td>\n      <td>0</td>\n      <td>3Bdqlr7jQLNhITAgcBGQBG</td>\n      <td>0.0000</td>\n      <td>11</td>\n      <td>0.0843</td>\n      <td>-3.506</td>\n      <td>1</td>\n      <td>Close Your Eyes</td>\n      <td>50</td>\n      <td>2013-12-10</td>\n      <td>0.0322</td>\n      <td>143.952</td>\n    </tr>\n    <tr>\n      <th>16271</th>\n      <td>0.548</td>\n      <td>2003</td>\n      <td>0.006610</td>\n      <td>['JAY-Z']</td>\n      <td>0.494</td>\n      <td>234627</td>\n      <td>0.887</td>\n      <td>1</td>\n      <td>7sLpSWxQazJzDVG6YGzlVs</td>\n      <td>0.0000</td>\n      <td>6</td>\n      <td>0.1030</td>\n      <td>-4.297</td>\n      <td>0</td>\n      <td>99 Problems</td>\n      <td>61</td>\n      <td>2003-11-14</td>\n      <td>0.3980</td>\n      <td>89.554</td>\n    </tr>\n    <tr>\n      <th>90972</th>\n      <td>0.732</td>\n      <td>2014</td>\n      <td>0.047700</td>\n      <td>['Sam Hunt']</td>\n      <td>0.590</td>\n      <td>235507</td>\n      <td>0.940</td>\n      <td>0</td>\n      <td>3BuPop8SzLG2Q88TJcFAjp</td>\n      <td>0.0000</td>\n      <td>9</td>\n      <td>0.3790</td>\n      <td>-4.124</td>\n      <td>1</td>\n      <td>Raised On It</td>\n      <td>54</td>\n      <td>2014-10-27</td>\n      <td>0.0409</td>\n      <td>94.020</td>\n    </tr>\n    <tr>\n      <th>84553</th>\n      <td>0.475</td>\n      <td>1981</td>\n      <td>0.000473</td>\n      <td>['Iron Maiden']</td>\n      <td>0.340</td>\n      <td>288947</td>\n      <td>0.974</td>\n      <td>0</td>\n      <td>7EvjTEzuv7TWaIaWY63sWV</td>\n      <td>0.0928</td>\n      <td>0</td>\n      <td>0.3730</td>\n      <td>-5.114</td>\n      <td>1</td>\n      <td>Drifter - 2015 Remaster</td>\n      <td>29</td>\n      <td>1981-02-02</td>\n      <td>0.1060</td>\n      <td>101.276</td>\n    </tr>\n    <tr>\n      <th>75895</th>\n      <td>0.550</td>\n      <td>1930</td>\n      <td>0.994000</td>\n      <td>['Markos Vamvakaris', 'Apostolos Xatzixristos']</td>\n      <td>0.410</td>\n      <td>197653</td>\n      <td>0.169</td>\n      <td>0</td>\n      <td>38PozVGXXoeO8dTEVzy74Y</td>\n      <td>0.9010</td>\n      <td>2</td>\n      <td>0.1130</td>\n      <td>-18.862</td>\n      <td>1</td>\n      <td>Soultana maurofora</td>\n      <td>0</td>\n      <td>1930-01-01</td>\n      <td>0.0391</td>\n      <td>93.890</td>\n    </tr>\n  </tbody>\n</table>\n</div>"
     },
     "execution_count": 3,
     "metadata": {},
     "output_type": "execute_result"
    }
   ],
   "source": [
    "# look at a few rows of the Spotify dataset file\n",
    "spotify_orig.sample(5)"
   ],
   "metadata": {
    "collapsed": false,
    "pycharm": {
     "name": "#%%\n"
    }
   }
  },
  {
   "cell_type": "code",
   "execution_count": 4,
   "outputs": [
    {
     "name": "stdout",
     "output_type": "stream",
     "text": [
      "<class 'pandas.core.frame.DataFrame'>\n",
      "RangeIndex: 170653 entries, 0 to 170652\n",
      "Data columns (total 19 columns):\n",
      " #   Column            Non-Null Count   Dtype  \n",
      "---  ------            --------------   -----  \n",
      " 0   valence           170653 non-null  float64\n",
      " 1   year              170653 non-null  int64  \n",
      " 2   acousticness      170653 non-null  float64\n",
      " 3   artists           170653 non-null  object \n",
      " 4   danceability      170653 non-null  float64\n",
      " 5   duration_ms       170653 non-null  int64  \n",
      " 6   energy            170653 non-null  float64\n",
      " 7   explicit          170653 non-null  int64  \n",
      " 8   id                170653 non-null  object \n",
      " 9   instrumentalness  170653 non-null  float64\n",
      " 10  key               170653 non-null  int64  \n",
      " 11  liveness          170653 non-null  float64\n",
      " 12  loudness          170653 non-null  float64\n",
      " 13  mode              170653 non-null  int64  \n",
      " 14  name              170653 non-null  object \n",
      " 15  popularity        170653 non-null  int64  \n",
      " 16  release_date      170653 non-null  object \n",
      " 17  speechiness       170653 non-null  float64\n",
      " 18  tempo             170653 non-null  float64\n",
      "dtypes: float64(9), int64(6), object(4)\n",
      "memory usage: 24.7+ MB\n"
     ]
    }
   ],
   "source": [
    "# get info about DataFrame columns\n",
    "spotify_orig.info()"
   ],
   "metadata": {
    "collapsed": false,
    "pycharm": {
     "name": "#%%\n"
    }
   }
  },
  {
   "cell_type": "code",
   "execution_count": 5,
   "outputs": [],
   "source": [
    "# convert 'key' to one-hot-encoded\n",
    "lb_category = DataFrameLabelBinarizer(data_frame=spotify_orig, column_to_encode='key')\n",
    "spotify_converted = lb_category.encode()"
   ],
   "metadata": {
    "collapsed": false,
    "pycharm": {
     "name": "#%%\n"
    }
   }
  },
  {
   "cell_type": "code",
   "execution_count": 6,
   "outputs": [],
   "source": [
    "# convert release_date to milliseconds\n",
    "spotify_converted['release_date'] = pd.to_datetime(spotify_converted['release_date'], format = \"%Y-%m-%d\")\\\n",
    "                                        .astype(np.int64) / 10**9"
   ],
   "metadata": {
    "collapsed": false,
    "pycharm": {
     "name": "#%%\n"
    }
   }
  },
  {
   "cell_type": "code",
   "execution_count": 7,
   "outputs": [],
   "source": [
    "# drop redundant columns\n",
    "spotify_reduced = spotify_converted.drop(['artists', 'name', 'year', 'id'], axis=1)"
   ],
   "metadata": {
    "collapsed": false,
    "pycharm": {
     "name": "#%%\n"
    }
   }
  },
  {
   "cell_type": "code",
   "execution_count": 8,
   "outputs": [
    {
     "name": "stdout",
     "output_type": "stream",
     "text": [
      "<class 'pandas.core.frame.DataFrame'>\n",
      "RangeIndex: 170653 entries, 0 to 170652\n",
      "Data columns (total 26 columns):\n",
      " #   Column            Non-Null Count   Dtype  \n",
      "---  ------            --------------   -----  \n",
      " 0   valence           170653 non-null  float64\n",
      " 1   acousticness      170653 non-null  float64\n",
      " 2   danceability      170653 non-null  float64\n",
      " 3   duration_ms       170653 non-null  int64  \n",
      " 4   energy            170653 non-null  float64\n",
      " 5   explicit          170653 non-null  int64  \n",
      " 6   instrumentalness  170653 non-null  float64\n",
      " 7   liveness          170653 non-null  float64\n",
      " 8   loudness          170653 non-null  float64\n",
      " 9   mode              170653 non-null  int64  \n",
      " 10  popularity        170653 non-null  int64  \n",
      " 11  release_date      170653 non-null  float64\n",
      " 12  speechiness       170653 non-null  float64\n",
      " 13  tempo             170653 non-null  float64\n",
      " 14  0                 170653 non-null  int32  \n",
      " 15  1                 170653 non-null  int32  \n",
      " 16  2                 170653 non-null  int32  \n",
      " 17  3                 170653 non-null  int32  \n",
      " 18  4                 170653 non-null  int32  \n",
      " 19  5                 170653 non-null  int32  \n",
      " 20  6                 170653 non-null  int32  \n",
      " 21  7                 170653 non-null  int32  \n",
      " 22  8                 170653 non-null  int32  \n",
      " 23  9                 170653 non-null  int32  \n",
      " 24  10                170653 non-null  int32  \n",
      " 25  11                170653 non-null  int32  \n",
      "dtypes: float64(10), int32(12), int64(4)\n",
      "memory usage: 26.0 MB\n"
     ]
    }
   ],
   "source": [
    "# get info about DataFrame columns\n",
    "spotify_reduced.info()"
   ],
   "metadata": {
    "collapsed": false,
    "pycharm": {
     "name": "#%%\n"
    }
   }
  },
  {
   "cell_type": "code",
   "execution_count": 9,
   "outputs": [
    {
     "data": {
      "text/plain": "        valence  year  acousticness  \\\n96559    0.6250  1959        0.6820   \n153920   0.5150  2012        0.0362   \n77383    0.0661  1945        0.9140   \n58470    0.0395  1933        0.9550   \n115209   0.8250  1971        0.1550   \n\n                                                  artists  danceability  \\\n96559                                    ['Martin Denny']         0.427   \n153920                         ['Rihanna', 'Chris Brown']         0.741   \n77383   ['Gustav Mahler', 'Bruno Walter', 'New York Ph...         0.261   \n58470      ['Johann Sebastian Bach', 'Albert Schweitzer']         0.174   \n115209                            ['Yusuf / Cat Stevens']         0.732   \n\n        duration_ms  energy  explicit                      id  \\\n96559        142400  0.4110         0  7niPihgrMNksket1T0ZbKa   \n153920       216293  0.6000         1  0qJWmTaT1qvCq0brgx8k2P   \n77383       1097547  0.2430         0  28sMV7kIkozKg1sc33Cvmf   \n58470        202503  0.0719         0  3uHoDBPDUYKDBv5lezfCxS   \n115209       212667  0.6530         0  5PUP1Qicfa9rMgxAkUahIC   \n\n        instrumentalness  ...  2  3  4  5  6  7  8  9  10  11  \n96559           0.410000  ...  0  0  0  0  0  0  0  0   0   0  \n153920          0.000000  ...  0  0  0  0  0  0  0  0   0   0  \n77383           0.917000  ...  0  0  0  0  0  0  0  0   0   0  \n58470           0.853000  ...  0  0  0  0  0  0  0  0   0   1  \n115209          0.000506  ...  0  0  0  0  0  0  0  0   0   0  \n\n[5 rows x 30 columns]",
      "text/html": "<div>\n<style scoped>\n    .dataframe tbody tr th:only-of-type {\n        vertical-align: middle;\n    }\n\n    .dataframe tbody tr th {\n        vertical-align: top;\n    }\n\n    .dataframe thead th {\n        text-align: right;\n    }\n</style>\n<table border=\"1\" class=\"dataframe\">\n  <thead>\n    <tr style=\"text-align: right;\">\n      <th></th>\n      <th>valence</th>\n      <th>year</th>\n      <th>acousticness</th>\n      <th>artists</th>\n      <th>danceability</th>\n      <th>duration_ms</th>\n      <th>energy</th>\n      <th>explicit</th>\n      <th>id</th>\n      <th>instrumentalness</th>\n      <th>...</th>\n      <th>2</th>\n      <th>3</th>\n      <th>4</th>\n      <th>5</th>\n      <th>6</th>\n      <th>7</th>\n      <th>8</th>\n      <th>9</th>\n      <th>10</th>\n      <th>11</th>\n    </tr>\n  </thead>\n  <tbody>\n    <tr>\n      <th>96559</th>\n      <td>0.6250</td>\n      <td>1959</td>\n      <td>0.6820</td>\n      <td>['Martin Denny']</td>\n      <td>0.427</td>\n      <td>142400</td>\n      <td>0.4110</td>\n      <td>0</td>\n      <td>7niPihgrMNksket1T0ZbKa</td>\n      <td>0.410000</td>\n      <td>...</td>\n      <td>0</td>\n      <td>0</td>\n      <td>0</td>\n      <td>0</td>\n      <td>0</td>\n      <td>0</td>\n      <td>0</td>\n      <td>0</td>\n      <td>0</td>\n      <td>0</td>\n    </tr>\n    <tr>\n      <th>153920</th>\n      <td>0.5150</td>\n      <td>2012</td>\n      <td>0.0362</td>\n      <td>['Rihanna', 'Chris Brown']</td>\n      <td>0.741</td>\n      <td>216293</td>\n      <td>0.6000</td>\n      <td>1</td>\n      <td>0qJWmTaT1qvCq0brgx8k2P</td>\n      <td>0.000000</td>\n      <td>...</td>\n      <td>0</td>\n      <td>0</td>\n      <td>0</td>\n      <td>0</td>\n      <td>0</td>\n      <td>0</td>\n      <td>0</td>\n      <td>0</td>\n      <td>0</td>\n      <td>0</td>\n    </tr>\n    <tr>\n      <th>77383</th>\n      <td>0.0661</td>\n      <td>1945</td>\n      <td>0.9140</td>\n      <td>['Gustav Mahler', 'Bruno Walter', 'New York Ph...</td>\n      <td>0.261</td>\n      <td>1097547</td>\n      <td>0.2430</td>\n      <td>0</td>\n      <td>28sMV7kIkozKg1sc33Cvmf</td>\n      <td>0.917000</td>\n      <td>...</td>\n      <td>0</td>\n      <td>0</td>\n      <td>0</td>\n      <td>0</td>\n      <td>0</td>\n      <td>0</td>\n      <td>0</td>\n      <td>0</td>\n      <td>0</td>\n      <td>0</td>\n    </tr>\n    <tr>\n      <th>58470</th>\n      <td>0.0395</td>\n      <td>1933</td>\n      <td>0.9550</td>\n      <td>['Johann Sebastian Bach', 'Albert Schweitzer']</td>\n      <td>0.174</td>\n      <td>202503</td>\n      <td>0.0719</td>\n      <td>0</td>\n      <td>3uHoDBPDUYKDBv5lezfCxS</td>\n      <td>0.853000</td>\n      <td>...</td>\n      <td>0</td>\n      <td>0</td>\n      <td>0</td>\n      <td>0</td>\n      <td>0</td>\n      <td>0</td>\n      <td>0</td>\n      <td>0</td>\n      <td>0</td>\n      <td>1</td>\n    </tr>\n    <tr>\n      <th>115209</th>\n      <td>0.8250</td>\n      <td>1971</td>\n      <td>0.1550</td>\n      <td>['Yusuf / Cat Stevens']</td>\n      <td>0.732</td>\n      <td>212667</td>\n      <td>0.6530</td>\n      <td>0</td>\n      <td>5PUP1Qicfa9rMgxAkUahIC</td>\n      <td>0.000506</td>\n      <td>...</td>\n      <td>0</td>\n      <td>0</td>\n      <td>0</td>\n      <td>0</td>\n      <td>0</td>\n      <td>0</td>\n      <td>0</td>\n      <td>0</td>\n      <td>0</td>\n      <td>0</td>\n    </tr>\n  </tbody>\n</table>\n<p>5 rows × 30 columns</p>\n</div>"
     },
     "execution_count": 9,
     "metadata": {},
     "output_type": "execute_result"
    }
   ],
   "source": [
    "# look at a few rows of the Spotify dataset\n",
    "spotify_converted.sample(5)"
   ],
   "metadata": {
    "collapsed": false,
    "pycharm": {
     "name": "#%%\n"
    }
   }
  },
  {
   "cell_type": "code",
   "execution_count": 10,
   "outputs": [],
   "source": [
    "# get index of 'popularity' column\n",
    "popularity_index = spotify_reduced.columns.get_loc(\"popularity\")"
   ],
   "metadata": {
    "collapsed": false,
    "pycharm": {
     "name": "#%%\n"
    }
   }
  },
  {
   "cell_type": "code",
   "execution_count": 11,
   "outputs": [],
   "source": [
    "# convert to numpy_array\n",
    "spotify_numpy = spotify_reduced.to_numpy()"
   ],
   "metadata": {
    "collapsed": false,
    "pycharm": {
     "name": "#%%\n"
    }
   }
  },
  {
   "cell_type": "code",
   "execution_count": 12,
   "outputs": [],
   "source": [
    "# get X and y from numpy array\n",
    "X = np.delete(arr=spotify_numpy, obj=popularity_index, axis=1)\n",
    "y = spotify_numpy[:, popularity_index]"
   ],
   "metadata": {
    "collapsed": false,
    "pycharm": {
     "name": "#%%\n"
    }
   }
  },
  {
   "cell_type": "code",
   "execution_count": 13,
   "outputs": [
    {
     "data": {
      "text/plain": "0.8365572243089778"
     },
     "execution_count": 13,
     "metadata": {},
     "output_type": "execute_result"
    }
   ],
   "source": [
    "# count percent of y values above 0.5\n",
    "np.count_nonzero(y > 0.5) / y.shape[0]"
   ],
   "metadata": {
    "collapsed": false,
    "pycharm": {
     "name": "#%%\n"
    }
   }
  },
  {
   "cell_type": "code",
   "execution_count": 14,
   "outputs": [],
   "source": [
    "# get train and test data\n",
    "X_train, X_test, y_train, y_test = train_test_split(X, y, test_size=0.3, random_state=42, shuffle=True)"
   ],
   "metadata": {
    "collapsed": false,
    "pycharm": {
     "name": "#%%\n"
    }
   }
  },
  {
   "cell_type": "code",
   "execution_count": 15,
   "outputs": [
    {
     "data": {
      "text/plain": "119457"
     },
     "execution_count": 15,
     "metadata": {},
     "output_type": "execute_result"
    }
   ],
   "source": [
    "# train set size (train + valid)\n",
    "X_train.shape[0]"
   ],
   "metadata": {
    "collapsed": false,
    "pycharm": {
     "name": "#%%\n"
    }
   }
  },
  {
   "cell_type": "code",
   "execution_count": 16,
   "outputs": [
    {
     "data": {
      "text/plain": "51196"
     },
     "execution_count": 16,
     "metadata": {},
     "output_type": "execute_result"
    }
   ],
   "source": [
    "# test set size\n",
    "X_test.shape[0]"
   ],
   "metadata": {
    "collapsed": false,
    "pycharm": {
     "name": "#%%\n"
    }
   }
  },
  {
   "cell_type": "code",
   "execution_count": 17,
   "outputs": [
    {
     "data": {
      "text/plain": "0.8375482391153302"
     },
     "execution_count": 17,
     "metadata": {},
     "output_type": "execute_result"
    }
   ],
   "source": [
    "# count percent of y_train values above 0.5\n",
    "np.count_nonzero(y_train > 0.5) / y_train.shape[0]"
   ],
   "metadata": {
    "collapsed": false,
    "pycharm": {
     "name": "#%%\n"
    }
   }
  },
  {
   "cell_type": "code",
   "execution_count": 18,
   "outputs": [
    {
     "data": {
      "text/plain": "0.8342448628799125"
     },
     "execution_count": 18,
     "metadata": {},
     "output_type": "execute_result"
    }
   ],
   "source": [
    "# count percent of y_test values above 0.5\n",
    "np.count_nonzero(y_test > 0.5) / y_test.shape[0]"
   ],
   "metadata": {
    "collapsed": false,
    "pycharm": {
     "name": "#%%\n"
    }
   }
  },
  {
   "cell_type": "code",
   "execution_count": 19,
   "outputs": [],
   "source": [
    "# create model function\n",
    "\n",
    "def get_model(params: LabeledSequence[Gene]) -> keras.Sequential:\n",
    "    model = keras.models.Sequential()\n",
    "\n",
    "    model.add(layers.Input(shape=(X_train.shape[1],), name='inputs'))\n",
    "\n",
    "    model.add(layers.Dense(units=params.get_by_label('hidden_1_units').value, kernel_initializer=keras.initializers.he_normal(),\n",
    "                           bias_initializer=keras.initializers.he_normal(),\n",
    "                           activation=keras.activations.elu, name='hidden_1'))\n",
    "    model.add(layers.BatchNormalization(momentum=0.99))\n",
    "    model.add(layers.Dropout(rate=params.get_by_label('hidden_1_dropout_rate').value))\n",
    "\n",
    "    model.add(layers.Dense(units=params.get_by_label('hidden_2_units').value, kernel_initializer=keras.initializers.he_normal(),\n",
    "                           bias_initializer=keras.initializers.he_normal(),\n",
    "                           activation=keras.activations.elu, name='hidden_2'))\n",
    "    model.add(layers.BatchNormalization(momentum=0.99))\n",
    "    model.add(layers.Dropout(rate=params.get_by_label('hidden_2_dropout_rate').value))\n",
    "\n",
    "    model.add(layers.Dense(units=1, activation=keras.activations.linear, name=\"outputs\"))\n",
    "    model.add(layers.BatchNormalization(momentum=0.99))\n",
    "\n",
    "    return model"
   ],
   "metadata": {
    "collapsed": false,
    "pycharm": {
     "name": "#%%\n"
    }
   }
  },
  {
   "cell_type": "code",
   "execution_count": 20,
   "outputs": [],
   "source": [
    "# train model\n",
    "# optimizer = tf.keras.optimizers.Adam(learning_rate=0.05)\n",
    "# model.compile(optimizer=optimizer, loss=keras.losses.mse, metrics=[keras.metrics.mse, keras.metrics.mae,\n",
    "#                                                                    keras.metrics.RootMeanSquaredError(name='rmse')])\n",
    "# history=model.fit(X_train, y_train, epochs=10, batch_size=170, verbose=1, validation_split=0.2)"
   ],
   "metadata": {
    "collapsed": false,
    "pycharm": {
     "name": "#%%\n"
    }
   }
  },
  {
   "cell_type": "code",
   "execution_count": 21,
   "outputs": [
    {
     "data": {
      "text/plain": "95565"
     },
     "execution_count": 21,
     "metadata": {},
     "output_type": "execute_result"
    }
   ],
   "source": [
    "# train set size\n",
    "int(X_train.shape[0]*0.8)"
   ],
   "metadata": {
    "collapsed": false,
    "pycharm": {
     "name": "#%%\n"
    }
   }
  },
  {
   "cell_type": "code",
   "execution_count": 22,
   "outputs": [
    {
     "data": {
      "text/plain": "23891"
     },
     "execution_count": 22,
     "metadata": {},
     "output_type": "execute_result"
    }
   ],
   "source": [
    "# validation set size\n",
    "int(X_train.shape[0]*0.2)"
   ],
   "metadata": {
    "collapsed": false,
    "pycharm": {
     "name": "#%%\n"
    }
   }
  },
  {
   "cell_type": "code",
   "execution_count": 23,
   "outputs": [],
   "source": [
    "class GeneticAlgorithmImpl(GeneticAlgorithm):\n",
    "\n",
    "    def init_population(self, ):\n",
    "        return RandomInitialization(self.population_size, self.genome).init_population()\n",
    "\n",
    "    def select_parents(self, fitness):\n",
    "        return TournamentSelection().select_parents(self.population, fitness)\n",
    "\n",
    "    def crossover(self, parents):\n",
    "        return OnePointCrossover().crossover(parents)\n",
    "\n",
    "    def mutate(self, crossovers):\n",
    "        return RandomMutation().mutate(crossovers)"
   ],
   "metadata": {
    "collapsed": false,
    "pycharm": {
     "name": "#%%\n"
    }
   }
  },
  {
   "cell_type": "code",
   "execution_count": 24,
   "outputs": [],
   "source": [
    "labeled_sequence = LabeledSequence()\n",
    "labeled_sequence.append(IntegerGene(label='hidden_1_units', minimum=20, maximum=200))\n",
    "labeled_sequence.append(FloatGene(label='hidden_1_dropout_rate', minimum=0.1, maximum=0.5))\n",
    "labeled_sequence.append(IntegerGene(label='hidden_2_units', minimum=10, maximum=100))\n",
    "labeled_sequence.append(FloatGene(label='hidden_2_dropout_rate', minimum=0.1, maximum=0.5))\n",
    "labeled_sequence.append(FloatGene(label='learning_rate', minimum=0.01, maximum=0.2))\n",
    "labeled_sequence.append(IntegerGene(label='batch_size', minimum=100, maximum=200))"
   ],
   "metadata": {
    "collapsed": false,
    "pycharm": {
     "name": "#%%\n"
    }
   }
  },
  {
   "cell_type": "code",
   "execution_count": 25,
   "outputs": [],
   "source": [
    "def rank(params: LabeledSequence[Gene]) -> float:\n",
    "    optimizer = tf.keras.optimizers.Adam(learning_rate=params.get_by_label('learning_rate').value)\n",
    "    model = get_model(params)\n",
    "    model.compile(optimizer=optimizer, loss=keras.losses.mse, metrics=[keras.metrics.mse, keras.metrics.mae,\n",
    "                                                                   keras.metrics.RootMeanSquaredError(name='rmse')])\n",
    "    history=model.fit(X_train, y_train, epochs=5, batch_size=params.get_by_label('batch_size').value, verbose=1,\n",
    "                      validation_split=0.2)\n",
    "    return float(list(history.history.items())[5][1][4])"
   ],
   "metadata": {
    "collapsed": false,
    "pycharm": {
     "name": "#%%\n"
    }
   }
  },
  {
   "cell_type": "code",
   "execution_count": 26,
   "outputs": [],
   "source": [
    "# genome = Genome(genes=labeled_sequence, rank_funk=rank)\n",
    "# algorithm_impl = GeneticAlgorithmImpl(genome=genome, population_size=5, generation_count=1,\n",
    "#                                         best_last_generations_size=5)\n",
    "# algorithm_impl.calculate()"
   ],
   "metadata": {
    "collapsed": false,
    "pycharm": {
     "name": "#%%\n"
    }
   }
  },
  {
   "cell_type": "code",
   "execution_count": 27,
   "outputs": [],
   "source": [
    "# save model\n",
    "# model.save('models/spotify_v2_he_elu_adam_30_15')"
   ],
   "metadata": {
    "collapsed": false,
    "pycharm": {
     "name": "#%%\n"
    }
   }
  },
  {
   "cell_type": "code",
   "execution_count": 28,
   "outputs": [],
   "source": [
    "# print history keys\n",
    "# print(history.history.keys())\n",
    "\n",
    "# print mse value from last epoch\n",
    "# print(list(history.history.items())[1][1][9])"
   ],
   "metadata": {
    "collapsed": false,
    "pycharm": {
     "name": "#%%\n"
    }
   }
  },
  {
   "cell_type": "code",
   "execution_count": 29,
   "outputs": [],
   "source": [
    "# loss_plotter = LossPlotter(history)\n",
    "# loss_plotter.plot()"
   ],
   "metadata": {
    "collapsed": false,
    "pycharm": {
     "name": "#%%\n"
    }
   }
  },
  {
   "cell_type": "code",
   "execution_count": 30,
   "outputs": [
    {
     "name": "stdout",
     "output_type": "stream",
     "text": [
      "302/302 [==============================] - 0s 1ms/step - loss: 120.3485 - mean_squared_error: 120.3485 - mean_absolute_error: 8.3943 - rmse: 10.9703\b\b\b\b\b\b\b\b\b\b\b\b\b\b\b\b\b\b\b\b\b\b\b\b\b\b\b\b\b\b\b\b\b\b\b\b\b\b\b\b\b\b\b\b\b\b\b\b\b\b\b\b\b\b\b\b\b\b\b\b\b\b\b\b\b\b\b\b\b\b\b\b\b\b\b\b\b\b\b\b\b\b\b\b\b\b\b\b\b\b\b\b\b\b\b\b\b\b\b\b\b\b\b\b\b\b\b\b\b\b\b\b\b\b\b\b\b\b\b\b\b\b\b\b\b\b\b\b\b\b\b\b\b\b\b\b\b\b\b\b\b\b\b\b\b\b\b\b\b\b\b\b\b\b\b\b\b\b\b\b\b\b\b\b\b\b\b\b\b\b\b\b\b\b\b\b\b\b\b\b\b\b\b\b\b\b\b\b\b\b\b\b\b\b\b\b\b\b\b\b\b\b\b\b\b\b\b\b\b\b\b\b\b\b\b\b\b\b\b\b\b\b\b\b\b\b\b\b\b\b\b\b\b\b\b\b\b\b\b\b\b\b\b\b\b\b\b\b\b\b\b\b\b\b\b\b\b\b\b\b\b\b\b\b\b\b\b\b\b\b\b\b\b\b\b\b\b\b\b\b\b\b\b\b\b\b\b\b\b\b\b\b\b\b\b\b\b\b\b\b\b\b\b\b\b\b\b\b\b\b\b\b\b\b\b\b\b\b\b\b\b\b\b\b\b\b\b\b\b\b\b\b\b\b\b\b\b\b\b\b\b\b\b\b\b\b\b\b\b\b\b\b\b\b\b\b\b\b\b\b\b\b\b\b\b\b\b\b\b\b\b\b\b\b\b\b\b\b\b\b\b\b\b\b\b\b\b\b\b\b\b\b\b\b\b\b\b\b\b\b\b\b\b\b\b\b\b\b\b\b\b\b\b\b\b\b\b\b\b\b\b\b\b\b\b\b\b\b\b\b\b\b\b\b\b\b\b\b\b\b\b\b\b\b\b\b\b\b\b\b\b\b\b\b\b\b\b\b\b\b\b\b\b\b\b\b\b\b\b\b\b\b\b\b\b\b\b\b\b\b\b\b\b\b\b\b\b\b\b\b\b\b\b\b\b\b\b\b\b\b\b\b\b\b\b\b\b\b\b\b\b\b\b\b\b\b\b\b\b\b\b\b\b\b\b\b\b\b\b\b\b\b\b\b\b\b\b\b\b\b\b\b\b\b\b\b\b\b\b\b\b\b\b\b\b\b\b\b\b\b\b\b\b\b\b\b\b\b\b\b\b\b\b\b\b\b\b\b\b\b\b\b\b\b\b\b\b\b\b\b\b\b\b\b\b\b\b\b\b\b\b\b\b\b\b\b\b\b\b\b\b\b\b\b\b\b\b\b\b\b\b\b\b\b\b\b\b\b\b\b\b\b\b\b\b\b\b\b\b\b\b\b\b\b\b\b\b\b\b\b\b\b\b\b\b\b\b\b\b\b\b\b\b\b\b\b\b\b\b\b\b\b\b\b\b\b\b\b\b\b\b\b\b\b\b\b\b\b\b\b\b\b\b\b\b\b\b\b\b\b\b\b\b\b\b\b\b\b\b\b\b\b\b\b\b\b\b\b\b\b\b\b\b\b\b\b\b\b\b\b\b\b\b\b\b\b\b\b\b\b\b\b\b\b\b\b\b\b\b\b\b\b\b\b\b\b\b\b\b\b\b\b\b\b\b\b\b\b\b\b\b\b\b\b\b\b\b\b\b\b\b\b\b\b\b\b\b\b\b\b\b\b\b\b\b\b\b\b\b\b\b\b\b\b\b\b\b\b\b\b\b\b\b\b\b\b\b\b\b\b\b\b\b\b\b\b\b\b\b\b\b\b\b\b\b\b\b\b\b\b\b\b\b\b\b\b\b\b\b\b\b\b\b\b\b\b\b\b\b\b\b\b\b\b\b\b\b\b\b\b\b\b\b\b\b\b\b\b\b\b\b\b\b\b\b\b\b\b\b\b\b\b\b\b\b\b\b\b\b\b\b\b\b\b\b\b\b\b\b\b\b\b\b\b\b\b\b\b\b\b\b\b\b\b\b\b\b\b\b\b\b\b\b\b\b\b\b\b\b\b\b\b\b\b\b\b\b\b\b\b\b\b\b\b\b\b\b\b\b\b\b\b\b\b\b\b\b\b\b\b\b\b\b\b\b\b\b\b\b\b\b\b\b\b\b\b\b\b\b\b\b\b\b\b\b\b\b\b\b\b\b\b\b\b\n",
      "spotify_v2_he_elu_adam_20_10 results:\n",
      "[120.34845733642578, 120.34845733642578, 8.394326210021973, 10.970344543457031]\n",
      "302/302 [==============================] - 0s 1ms/step - loss: 113.4939 - mean_squared_error: 113.4939 - mean_absolute_error: 7.5589 - rmse: 10.6533\b\b\b\b\b\b\b\b\b\b\b\b\b\b\b\b\b\b\b\b\b\b\b\b\b\b\b\b\b\b\b\b\b\b\b\b\b\b\b\b\b\b\b\b\b\b\b\b\b\b\b\b\b\b\b\b\b\b\b\b\b\b\b\b\b\b\b\b\b\b\b\b\b\b\b\b\b\b\b\b\b\b\b\b\b\b\b\b\b\b\b\b\b\b\b\b\b\b\b\b\b\b\b\b\b\b\b\b\b\b\b\b\b\b\b\b\b\b\b\b\b\b\b\b\b\b\b\b\b\b\b\b\b\b\b\b\b\b\b\b\b\b\b\b\b\b\b\b\b\b\b\b\b\b\b\b\b\b\b\b\b\b\b\b\b\b\b\b\b\b\b\b\b\b\b\b\b\b\b\b\b\b\b\b\b\b\b\b\b\b\b\b\b\b\b\b\b\b\b\b\b\b\b\b\b\b\b\b\b\b\b\b\b\b\b\b\b\b\b\b\b\b\b\b\b\b\b\b\b\b\b\b\b\b\b\b\b\b\b\b\b\b\b\b\b\b\b\b\b\b\b\b\b\b\b\b\b\b\b\b\b\b\b\b\b\b\b\b\b\b\b\b\b\b\b\b\b\b\b\b\b\b\b\b\b\b\b\b\b\b\b\b\b\b\b\b\b\b\b\b\b\b\b\b\b\b\b\b\b\b\b\b\b\b\b\b\b\b\b\b\b\b\b\b\b\b\b\b\b\b\b\b\b\b\b\b\b\b\b\b\b\b\b\b\b\b\b\b\b\b\b\b\b\b\b\b\b\b\b\b\b\b\b\b\b\b\b\b\b\b\b\b\b\b\b\b\b\b\b\b\b\b\b\b\b\b\b\b\b\b\b\b\b\b\b\b\b\b\b\b\b\b\b\b\b\b\b\b\b\b\b\b\b\b\b\b\b\b\b\b\b\b\b\b\b\b\b\b\b\b\b\b\b\b\b\b\b\b\b\b\b\b\b\b\b\b\b\b\b\b\b\b\b\b\b\b\b\b\b\b\b\b\b\b\b\b\b\b\b\b\b\b\b\b\b\b\b\b\b\b\b\b\b\b\b\b\b\b\b\b\b\b\b\b\b\b\b\b\b\b\b\b\b\b\b\b\b\b\b\b\b\b\b\b\b\b\b\b\b\b\b\b\b\b\b\b\b\b\b\b\b\b\b\b\b\b\b\b\b\b\b\b\b\b\b\b\b\b\b\b\b\b\b\b\b\b\b\b\b\b\b\b\b\b\b\b\b\b\b\b\b\b\b\b\b\b\b\b\b\b\b\b\b\b\b\b\b\b\b\b\b\b\b\b\b\b\b\b\b\b\b\b\b\b\b\b\b\b\b\b\b\b\b\b\b\b\b\b\b\b\b\b\b\b\b\b\b\b\b\b\b\b\b\b\b\b\b\b\b\b\b\b\b\b\b\b\b\b\b\b\b\b\b\b\b\b\b\b\b\b\b\b\b\b\b\b\b\b\b\b\b\b\b\b\b\b\b\b\b\b\b\b\b\b\b\b\b\b\b\b\b\b\b\b\b\b\b\b\b\b\b\b\b\b\b\b\b\b\b\b\b\b\b\b\b\b\b\b\b\b\b\b\b\b\b\b\b\b\b\b\b\b\b\b\b\b\b\b\b\b\b\b\b\b\b\b\b\b\b\b\b\b\b\b\b\b\b\b\b\b\b\b\b\b\b\b\b\b\b\b\b\b\b\b\b\b\b\b\b\b\b\b\b\b\b\b\b\b\b\b\b\b\b\b\b\b\b\b\b\b\b\b\b\b\b\b\b\b\b\b\b\b\b\b\b\b\b\b\b\b\b\b\b\b\b\b\b\b\b\b\b\b\b\b\b\b\b\b\b\b\b\b\b\b\b\b\b\b\b\b\b\b\b\b\b\b\b\b\b\b\b\b\b\b\b\b\b\b\b\b\b\b\b\b\b\b\b\b\b\b\b\b\b\b\b\b\b\b\b\b\b\b\b\b\b\b\b\b\b\b\b\b\b\b\b\b\b\b\b\b\b\b\b\b\b\b\b\b\b\b\b\b\b\b\b\b\b\b\b\b\b\b\b\b\b\b\b\b\b\b\b\b\b\b\b\b\b\b\b\b\b\b\b\b\b\b\b\b\b\b\b\b\b\b\b\b\b\b\b\b\b\b\b\b\b\b\b\b\b\b\b\b\b\b\b\b\b\b\b\b\b\b\b\b\b\b\b\b\b\b\b\b\b\b\n",
      "spotify_v2_he_elu_adam_30_15 results:\n",
      "[113.49385833740234, 113.49385070800781, 7.558873653411865, 10.653348922729492]\n",
      "302/302 [==============================] - 0s 1ms/step - loss: 113.0072 - mean_squared_error: 113.0072 - mean_absolute_error: 7.8726 - rmse: 10.6305\b\b\b\b\b\b\b\b\b\b\b\b\b\b\b\b\b\b\b\b\b\b\b\b\b\b\b\b\b\b\b\b\b\b\b\b\b\b\b\b\b\b\b\b\b\b\b\b\b\b\b\b\b\b\b\b\b\b\b\b\b\b\b\b\b\b\b\b\b\b\b\b\b\b\b\b\b\b\b\b\b\b\b\b\b\b\b\b\b\b\b\b\b\b\b\b\b\b\b\b\b\b\b\b\b\b\b\b\b\b\b\b\b\b\b\b\b\b\b\b\b\b\b\b\b\b\b\b\b\b\b\b\b\b\b\b\b\b\b\b\b\b\b\b\b\b\b\b\b\b\b\b\b\b\b\b\b\b\b\b\b\b\b\b\b\b\b\b\b\b\b\b\b\b\b\b\b\b\b\b\b\b\b\b\b\b\b\b\b\b\b\b\b\b\b\b\b\b\b\b\b\b\b\b\b\b\b\b\b\b\b\b\b\b\b\b\b\b\b\b\b\b\b\b\b\b\b\b\b\b\b\b\b\b\b\b\b\b\b\b\b\b\b\b\b\b\b\b\b\b\b\b\b\b\b\b\b\b\b\b\b\b\b\b\b\b\b\b\b\b\b\b\b\b\b\b\b\b\b\b\b\b\b\b\b\b\b\b\b\b\b\b\b\b\b\b\b\b\b\b\b\b\b\b\b\b\b\b\b\b\b\b\b\b\b\b\b\b\b\b\b\b\b\b\b\b\b\b\b\b\b\b\b\b\b\b\b\b\b\b\b\b\b\b\b\b\b\b\b\b\b\b\b\b\b\b\b\b\b\b\b\b\b\b\b\b\b\b\b\b\b\b\b\b\b\b\b\b\b\b\b\b\b\b\b\b\b\b\b\b\b\b\b\b\b\b\b\b\b\b\b\b\b\b\b\b\b\b\b\b\b\b\b\b\b\b\b\b\b\b\b\b\b\b\b\b\b\b\b\b\b\b\b\b\b\b\b\b\b\b\b\b\b\b\b\b\b\b\b\b\b\b\b\b\b\b\b\b\b\b\b\b\b\b\b\b\b\b\b\b\b\b\b\b\b\b\b\b\b\b\b\b\b\b\b\b\b\b\b\b\b\b\b\b\b\b\b\b\b\b\b\b\b\b\b\b\b\b\b\b\b\b\b\b\b\b\b\b\b\b\b\b\b\b\b\b\b\b\b\b\b\b\b\b\b\b\b\b\b\b\b\b\b\b\b\b\b\b\b\b\b\b\b\b\b\b\b\b\b\b\b\b\b\b\b\b\b\b\b\b\b\b\b\b\b\b\b\b\b\b\b\b\b\b\b\b\b\b\b\b\b\b\b\b\b\b\b\b\b\b\b\b\b\b\b\b\b\b\b\b\b\b\b\b\b\b\b\b\b\b\b\b\b\b\b\b\b\b\b\b\b\b\b\b\b\b\b\b\b\b\b\b\b\b\b\b\b\b\b\b\b\b\b\b\b\b\b\b\b\b\b\b\b\b\b\b\b\b\b\b\b\b\b\b\b\b\b\b\b\b\b\b\b\b\b\b\b\b\b\b\b\b\b\b\b\b\b\b\b\b\b\b\b\b\b\b\b\b\b\b\b\b\b\b\b\b\b\b\b\b\b\b\b\b\b\b\b\b\b\b\b\b\b\b\b\b\b\b\b\b\b\b\b\b\b\b\b\b\b\b\b\b\b\b\b\b\b\b\b\b\b\b\b\b\b\b\b\b\b\b\b\b\b\b\b\b\b\b\b\b\b\b\b\b\b\b\b\b\b\b\b\b\b\b\b\b\b\b\b\b\b\b\b\b\b\b\b\b\b\b\b\b\b\b\b\b\b\b\b\b\b\b\b\b\b\b\b\b\b\b\b\b\b\b\b\b\b\b\b\b\b\b\b\b\b\b\b\b\b\b\b\b\b\b\b\b\b\b\b\b\b\b\b\b\b\b\b\b\b\b\b\b\b\b\b\b\b\b\b\b\b\b\b\b\b\b\b\b\b\b\b\b\b\b\b\b\b\b\b\b\b\b\b\b\b\b\b\b\b\b\b\b\b\b\b\b\b\b\b\b\b\b\b\b\b\b\b\b\b\b\b\b\b\b\b\b\b\b\b\b\b\b\b\b\b\b\b\b\b\b\b\b\b\b\b\b\b\b\b\b\b\b\b\b\b\b\b\b\b\b\b\b\b\b\b\b\b\b\b\b\b\b\b\b\b\b\b\b\b\b\b\b\b\b\b\b\b\b\b\b\b\b\b\b\b\b\b\b\b\b\b\b\b\b\b\b\b\b\b\b\b\b\b\b\b\b\b\b\b\b\b\b\b\b\b\b\b\b\b\b\b\b\b\b\b\b\b\b\b\b\b\b\b\b\b\b\b\b\b\b\b\b\b\b\b\b\b\b\b\b\b\b\b\b\b\b\b\b\b\b\b\b\b\b\b\b\b\b\b\b\b\b\b\b\b\b\b\b\b\b\b\b\b\b\b\b\b\b\b\b\b\b\b\b\b\b\b\b\b\b\b\b\b\b\b\b\b\b\b\b\b\b\b\b\b\b\b\b\b\b\b\b\b\b\b\b\b\b\n",
      "spotify_v2_he_elu_adam_40_20_10 results:\n",
      "[113.0071792602539, 113.0071792602539, 7.872584819793701, 10.630483627319336]\n",
      "302/302 [==============================] - 0s 1ms/step - loss: 128.6252 - mean_squared_error: 128.6252 - mean_absolute_error: 8.9475 - rmse: 11.3413\b\b\b\b\b\b\b\b\b\b\b\b\b\b\b\b\b\b\b\b\b\b\b\b\b\b\b\b\b\b\b\b\b\b\b\b\b\b\b\b\b\b\b\b\b\b\b\b\b\b\b\b\b\b\b\b\b\b\b\b\b\b\b\b\b\b\b\b\b\b\b\b\b\b\b\b\b\b\b\b\b\b\b\b\b\b\b\b\b\b\b\b\b\b\b\b\b\b\b\b\b\b\b\b\b\b\b\b\b\b\b\b\b\b\b\b\b\b\b\b\b\b\b\b\b\b\b\b\b\b\b\b\b\b\b\b\b\b\b\b\b\b\b\b\b\b\b\b\b\b\b\b\b\b\b\b\b\b\b\b\b\b\b\b\b\b\b\b\b\b\b\b\b\b\b\b\b\b\b\b\b\b\b\b\b\b\b\b\b\b\b\b\b\b\b\b\b\b\b\b\b\b\b\b\b\b\b\b\b\b\b\b\b\b\b\b\b\b\b\b\b\b\b\b\b\b\b\b\b\b\b\b\b\b\b\b\b\b\b\b\b\b\b\b\b\b\b\b\b\b\b\b\b\b\b\b\b\b\b\b\b\b\b\b\b\b\b\b\b\b\b\b\b\b\b\b\b\b\b\b\b\b\b\b\b\b\b\b\b\b\b\b\b\b\b\b\b\b\b\b\b\b\b\b\b\b\b\b\b\b\b\b\b\b\b\b\b\b\b\b\b\b\b\b\b\b\b\b\b\b\b\b\b\b\b\b\b\b\b\b\b\b\b\b\b\b\b\b\b\b\b\b\b\b\b\b\b\b\b\b\b\b\b\b\b\b\b\b\b\b\b\b\b\b\b\b\b\b\b\b\b\b\b\b\b\b\b\b\b\b\b\b\b\b\b\b\b\b\b\b\b\b\b\b\b\b\b\b\b\b\b\b\b\b\b\b\b\b\b\b\b\b\b\b\b\b\b\b\b\b\b\b\b\b\b\b\b\b\b\b\b\b\b\b\b\b\b\b\b\b\b\b\b\b\b\b\b\b\b\b\b\b\b\b\b\b\b\b\b\b\b\b\b\b\b\b\b\b\b\b\b\b\b\b\b\b\b\b\b\b\b\b\b\b\b\b\b\b\b\b\b\b\b\b\b\b\b\b\b\b\b\b\b\b\b\b\b\b\b\b\b\b\b\b\b\b\b\b\b\b\b\b\b\b\b\b\b\b\b\b\b\b\b\b\b\b\b\b\b\b\b\b\b\b\b\b\b\b\b\b\b\b\b\b\b\b\b\b\b\b\b\b\b\b\b\b\b\b\b\b\b\b\b\b\b\b\b\b\b\b\b\b\b\b\b\b\b\b\b\b\b\b\b\b\b\b\b\b\b\b\b\b\b\b\b\b\b\b\b\b\b\b\b\b\b\b\b\b\b\b\b\b\b\b\b\b\b\b\b\b\b\b\b\b\b\b\b\b\b\b\b\b\b\b\b\b\b\b\b\b\b\b\b\b\b\b\b\b\b\b\b\b\b\b\b\b\b\b\b\b\b\b\b\b\b\b\b\b\b\b\b\b\b\b\b\b\b\b\b\b\b\b\b\b\b\b\b\b\b\b\b\b\b\b\b\b\b\b\b\b\b\b\b\b\b\b\b\b\b\b\b\b\b\b\b\b\b\b\b\b\b\b\b\b\b\b\b\b\b\b\b\b\b\b\b\b\b\b\b\b\b\b\b\b\b\b\b\b\b\b\b\b\b\b\b\b\b\b\b\b\b\b\b\b\b\b\b\b\b\b\b\b\b\b\b\b\b\b\b\b\b\b\b\b\b\b\b\b\b\b\b\b\b\b\b\b\b\b\b\b\b\b\b\b\b\b\b\b\b\b\b\b\b\b\b\b\b\b\b\b\b\b\b\b\b\b\b\b\b\b\b\b\b\b\b\b\b\b\b\b\b\b\b\b\b\b\b\b\b\b\b\b\b\b\b\b\b\b\b\b\b\b\b\b\b\b\b\b\b\b\b\b\b\b\b\b\b\b\b\b\b\b\b\b\b\b\b\b\b\b\b\b\b\b\b\b\b\b\b\b\b\b\b\b\b\b\b\b\b\b\b\b\b\b\b\b\b\b\b\b\b\b\b\b\b\b\b\b\b\b\b\b\b\b\b\b\b\b\b\b\b\b\b\b\b\b\b\b\b\b\b\b\b\b\b\b\b\b\b\b\b\b\b\b\b\b\b\b\b\b\b\b\b\b\b\b\b\b\b\b\b\b\b\b\b\b\b\b\b\b\b\b\b\b\b\b\b\b\b\b\b\b\b\b\b\b\b\b\b\b\b\b\b\b\b\b\b\b\b\b\b\b\b\b\b\b\b\b\b\b\b\b\b\b\b\b\b\b\b\b\b\b\b\b\b\b\b\b\b\b\b\b\b\b\b\b\b\b\b\b\b\b\b\b\b\b\b\b\b\b\b\b\b\b\b\b\b\b\b\b\b\b\b\b\b\b\b\b\b\b\b\b\b\b\b\b\b\b\b\b\b\b\b\b\b\b\b\b\b\b\b\b\b\b\b\b\b\b\b\b\b\b\b\b\b\b\b\b\n",
      "spotify_v2_he_elu_adam_40_20_10_5 results:\n",
      "[128.62522888183594, 128.62522888183594, 8.947484970092773, 11.341306686401367]\n"
     ]
    }
   ],
   "source": [
    "# Evaluate the model on the test data using `evaluate`\n",
    "\n",
    "spotify_v2_he_elu_adam_20_10 = tf.keras.models.load_model('models/spotify_v2_he_elu_adam_20_10')\n",
    "spotify_v2_he_elu_adam_20_10_results = spotify_v2_he_elu_adam_20_10.evaluate(X_test, y_test, batch_size=170)\n",
    "print(\"spotify_v2_he_elu_adam_20_10 results:\")\n",
    "print(spotify_v2_he_elu_adam_20_10_results)\n",
    "\n",
    "spotify_v2_he_elu_adam_30_15 = tf.keras.models.load_model('models/spotify_v2_he_elu_adam_30_15')\n",
    "spotify_v2_he_elu_adam_30_15_results = spotify_v2_he_elu_adam_30_15.evaluate(X_test, y_test, batch_size=170)\n",
    "print(\"spotify_v2_he_elu_adam_30_15 results:\")\n",
    "print(spotify_v2_he_elu_adam_30_15_results)\n",
    "\n",
    "spotify_v2_he_elu_adam_40_20_10 = tf.keras.models.load_model('models/spotify_v2_he_elu_adam_40_20_10')\n",
    "spotify_v2_he_elu_adam_40_20_10_results = spotify_v2_he_elu_adam_40_20_10.evaluate(X_test, y_test, batch_size=170)\n",
    "print(\"spotify_v2_he_elu_adam_40_20_10 results:\")\n",
    "print(spotify_v2_he_elu_adam_40_20_10_results)\n",
    "\n",
    "spotify_v2_he_elu_adam_40_20_10_5 = tf.keras.models.load_model('models/spotify_v2_he_elu_adam_40_20_10_5')\n",
    "spotify_v2_he_elu_adam_40_20_10_5_results = spotify_v2_he_elu_adam_40_20_10_5.evaluate(X_test, y_test, batch_size=170)\n",
    "print(\"spotify_v2_he_elu_adam_40_20_10_5 results:\")\n",
    "print(spotify_v2_he_elu_adam_40_20_10_5_results)"
   ],
   "metadata": {
    "collapsed": false,
    "pycharm": {
     "name": "#%%\n"
    }
   }
  },
  {
   "cell_type": "code",
   "execution_count": 31,
   "outputs": [
    {
     "name": "stdout",
     "output_type": "stream",
     "text": [
      "Generate predictions for 10 samples\n",
      "real/predictions\n",
      "[[34.         34.30431366 32.37383652 33.82660675 34.63568878]\n",
      " [26.         33.69857025 31.76878166 33.62429428 34.47409058]\n",
      " [38.         44.48814011 43.01674652 41.983078   41.34169006]\n",
      " [13.         17.53893661 12.99765587 12.79258537 15.05064964]\n",
      " [ 0.         -3.36442757 -2.62895012  1.83578682  6.55724144]\n",
      " [62.         55.43231583 56.09494781 53.36143494 50.41916656]\n",
      " [23.         31.33094597 29.33649826 32.82164764 33.76216507]\n",
      " [ 0.         13.51893806  7.62867355  7.45229912 11.36655235]\n",
      " [25.         26.36386299 23.38104057 29.2466507  30.41977692]\n",
      " [25.         39.20363617 37.51699448 35.79531479 35.82710266]]\n"
     ]
    }
   ],
   "source": [
    "# Generate predictions (probabilities -- the output of the last layer)\n",
    "# on new data using `predict`\n",
    "print(\"Generate predictions for 10 samples\")\n",
    "\n",
    "spotify_v2_he_elu_adam_20_10_predictions = spotify_v2_he_elu_adam_20_10.predict(X_test[:10])\n",
    "spotify_v2_he_elu_adam_30_15_predictions = spotify_v2_he_elu_adam_30_15.predict(X_test[:10])\n",
    "spotify_v2_he_elu_adam_40_20_10_predictions = spotify_v2_he_elu_adam_40_20_10.predict(X_test[:10])\n",
    "spotify_v2_he_elu_adam_40_20_10_5_predictions = spotify_v2_he_elu_adam_40_20_10_5.predict(X_test[:10])\n",
    "\n",
    "real = np.reshape(y_test[:10], (-1, 1))\n",
    "real_pred = np.append(real, spotify_v2_he_elu_adam_20_10_predictions, axis=1)\n",
    "real_pred = np.append(real_pred, spotify_v2_he_elu_adam_30_15_predictions, axis=1)\n",
    "real_pred = np.append(real_pred, spotify_v2_he_elu_adam_40_20_10_predictions, axis=1)\n",
    "real_pred = np.append(real_pred, spotify_v2_he_elu_adam_40_20_10_5_predictions, axis=1)\n",
    "print(\"real/predictions\")\n",
    "print(real_pred)"
   ],
   "metadata": {
    "collapsed": false,
    "pycharm": {
     "name": "#%%\n"
    }
   }
  },
  {
   "cell_type": "code",
   "execution_count": 32,
   "outputs": [
    {
     "data": {
      "text/plain": "<Figure size 800x800 with 1 Axes>",
      "image/png": "[encoded data removed]"
     },
     "metadata": {
      "needs_background": "light"
     },
     "output_type": "display_data"
    }
   ],
   "source": [
    "# plot real/pred chart\n",
    "pred_dict = {\"spotify_v2_he_elu_adam_20_10\":spotify_v2_he_elu_adam_20_10_predictions,\n",
    "             \"spotify_v2_he_elu_adam_30_15\":spotify_v2_he_elu_adam_30_15_predictions,\n",
    "             \"spotify_v2_he_elu_adam_40_20_10\":spotify_v2_he_elu_adam_40_20_10_predictions,\n",
    "             \"spotify_v2_he_elu_adam_40_20_10_5\":spotify_v2_he_elu_adam_40_20_10_5_predictions}\n",
    "real_pred_plot = RealMultiPredPlotter(real=real, pred_dict=pred_dict)\n",
    "real_pred_plot.plot()\n"
   ],
   "metadata": {
    "collapsed": false,
    "pycharm": {
     "name": "#%%\n"
    }
   }
  }
 ],
 "metadata": {
  "kernelspec": {
   "name": "pycharm-da890fd0",
   "language": "python",
   "display_name": "PyCharm (kickstarter)"
  },
  "language_info": {
   "codemirror_mode": {
    "name": "ipython",
    "version": 2
   },
   "file_extension": ".py",
   "mimetype": "text/x-python",
   "name": "python",
   "nbconvert_exporter": "python",
   "pygments_lexer": "ipython2",
   "version": "2.7.6"
  }
 },
 "nbformat": 4,
 "nbformat_minor": 0
}