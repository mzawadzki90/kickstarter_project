{
 "cells": [
  {
   "cell_type": "code",
   "execution_count": 3,
   "metadata": {
    "collapsed": true
   },
   "outputs": [
    {
     "ename": "TypeError",
     "evalue": "<class 'genetic_algorithm.genome.LabeledSequence'> is not a generic class",
     "output_type": "error",
     "traceback": [
      "\u001B[1;31m---------------------------------------------------------------------------\u001B[0m",
      "\u001B[1;31mTypeError\u001B[0m                                 Traceback (most recent call last)",
      "\u001B[1;32m<ipython-input-3-633ecb0bfb19>\u001B[0m in \u001B[0;36m<module>\u001B[1;34m\u001B[0m\n\u001B[0;32m     16\u001B[0m \u001B[1;31m#drive.mount('/content/drive', force_remount=True)\u001B[0m\u001B[1;33m\u001B[0m\u001B[1;33m\u001B[0m\u001B[1;33m\u001B[0m\u001B[0m\n\u001B[0;32m     17\u001B[0m \u001B[1;31m#sys.path.insert(0,'/content/drive/MyDrive/Praca_Inżynierska/kickstarter/code')\u001B[0m\u001B[1;33m\u001B[0m\u001B[1;33m\u001B[0m\u001B[1;33m\u001B[0m\u001B[0m\n\u001B[1;32m---> 18\u001B[1;33m \u001B[1;32mfrom\u001B[0m \u001B[0mgenetic_algorithm\u001B[0m\u001B[1;33m.\u001B[0m\u001B[0mcrossover\u001B[0m \u001B[1;32mimport\u001B[0m \u001B[0mOnePointCrossover\u001B[0m\u001B[1;33m\u001B[0m\u001B[1;33m\u001B[0m\u001B[0m\n\u001B[0m\u001B[0;32m     19\u001B[0m \u001B[1;32mfrom\u001B[0m \u001B[0mgenetic_algorithm\u001B[0m\u001B[1;33m.\u001B[0m\u001B[0mgene\u001B[0m \u001B[1;32mimport\u001B[0m \u001B[0mFloatGene\u001B[0m\u001B[1;33m,\u001B[0m \u001B[0mGene\u001B[0m\u001B[1;33m,\u001B[0m \u001B[0mIntegerGene\u001B[0m\u001B[1;33m\u001B[0m\u001B[1;33m\u001B[0m\u001B[0m\n\u001B[0;32m     20\u001B[0m \u001B[1;32mfrom\u001B[0m \u001B[0mgenetic_algorithm\u001B[0m\u001B[1;33m.\u001B[0m\u001B[0mgenetic_algorithm\u001B[0m \u001B[1;32mimport\u001B[0m \u001B[0mGeneticAlgorithm\u001B[0m\u001B[1;33m\u001B[0m\u001B[1;33m\u001B[0m\u001B[0m\n",
      "\u001B[1;32m~\\Praca inżynierska PJATK\\kickstarter\\genetic_algorithm\\crossover.py\u001B[0m in \u001B[0;36m<module>\u001B[1;34m\u001B[0m\n\u001B[0;32m      2\u001B[0m \u001B[1;32mfrom\u001B[0m \u001B[0mcollections\u001B[0m \u001B[1;32mimport\u001B[0m \u001B[0mSequence\u001B[0m\u001B[1;33m\u001B[0m\u001B[1;33m\u001B[0m\u001B[0m\n\u001B[0;32m      3\u001B[0m \u001B[1;33m\u001B[0m\u001B[0m\n\u001B[1;32m----> 4\u001B[1;33m \u001B[1;32mfrom\u001B[0m \u001B[0mgenetic_algorithm\u001B[0m\u001B[1;33m.\u001B[0m\u001B[0mgenome\u001B[0m \u001B[1;32mimport\u001B[0m \u001B[0mGenome\u001B[0m\u001B[1;33m\u001B[0m\u001B[1;33m\u001B[0m\u001B[0m\n\u001B[0m\u001B[0;32m      5\u001B[0m \u001B[1;33m\u001B[0m\u001B[0m\n\u001B[0;32m      6\u001B[0m \u001B[1;33m\u001B[0m\u001B[0m\n",
      "\u001B[1;32m~\\Praca inżynierska PJATK\\kickstarter\\genetic_algorithm\\genome.py\u001B[0m in \u001B[0;36m<module>\u001B[1;34m\u001B[0m\n\u001B[0;32m     11\u001B[0m \u001B[1;33m\u001B[0m\u001B[0m\n\u001B[0;32m     12\u001B[0m \u001B[1;33m\u001B[0m\u001B[0m\n\u001B[1;32m---> 13\u001B[1;33m \u001B[1;32mclass\u001B[0m \u001B[0mGenome\u001B[0m\u001B[1;33m:\u001B[0m\u001B[1;33m\u001B[0m\u001B[1;33m\u001B[0m\u001B[0m\n\u001B[0m\u001B[0;32m     14\u001B[0m     \u001B[0mgenes\u001B[0m\u001B[1;33m:\u001B[0m \u001B[0mLabeledSequence\u001B[0m\u001B[1;33m[\u001B[0m\u001B[0mGene\u001B[0m\u001B[1;33m]\u001B[0m\u001B[1;33m\u001B[0m\u001B[1;33m\u001B[0m\u001B[0m\n\u001B[0;32m     15\u001B[0m     \u001B[0mrank_func\u001B[0m\u001B[1;33m:\u001B[0m \u001B[0mCallable\u001B[0m\u001B[1;33m[\u001B[0m\u001B[1;33m[\u001B[0m\u001B[0mLabeledSequence\u001B[0m\u001B[1;33m[\u001B[0m\u001B[0mGene\u001B[0m\u001B[1;33m]\u001B[0m\u001B[1;33m]\u001B[0m\u001B[1;33m,\u001B[0m \u001B[0mfloat\u001B[0m\u001B[1;33m]\u001B[0m\u001B[1;33m\u001B[0m\u001B[1;33m\u001B[0m\u001B[0m\n",
      "\u001B[1;32m~\\Praca inżynierska PJATK\\kickstarter\\genetic_algorithm\\genome.py\u001B[0m in \u001B[0;36mGenome\u001B[1;34m()\u001B[0m\n\u001B[0;32m     12\u001B[0m \u001B[1;33m\u001B[0m\u001B[0m\n\u001B[0;32m     13\u001B[0m \u001B[1;32mclass\u001B[0m \u001B[0mGenome\u001B[0m\u001B[1;33m:\u001B[0m\u001B[1;33m\u001B[0m\u001B[1;33m\u001B[0m\u001B[0m\n\u001B[1;32m---> 14\u001B[1;33m     \u001B[0mgenes\u001B[0m\u001B[1;33m:\u001B[0m \u001B[0mLabeledSequence\u001B[0m\u001B[1;33m[\u001B[0m\u001B[0mGene\u001B[0m\u001B[1;33m]\u001B[0m\u001B[1;33m\u001B[0m\u001B[1;33m\u001B[0m\u001B[0m\n\u001B[0m\u001B[0;32m     15\u001B[0m     \u001B[0mrank_func\u001B[0m\u001B[1;33m:\u001B[0m \u001B[0mCallable\u001B[0m\u001B[1;33m[\u001B[0m\u001B[1;33m[\u001B[0m\u001B[0mLabeledSequence\u001B[0m\u001B[1;33m[\u001B[0m\u001B[0mGene\u001B[0m\u001B[1;33m]\u001B[0m\u001B[1;33m]\u001B[0m\u001B[1;33m,\u001B[0m \u001B[0mfloat\u001B[0m\u001B[1;33m]\u001B[0m\u001B[1;33m\u001B[0m\u001B[1;33m\u001B[0m\u001B[0m\n\u001B[0;32m     16\u001B[0m \u001B[1;33m\u001B[0m\u001B[0m\n",
      "\u001B[1;32m~\\Anaconda3\\envs\\kickstarter\\lib\\typing.py\u001B[0m in \u001B[0;36minner\u001B[1;34m(*args, **kwds)\u001B[0m\n\u001B[0;32m    252\u001B[0m         \u001B[1;32mexcept\u001B[0m \u001B[0mTypeError\u001B[0m\u001B[1;33m:\u001B[0m\u001B[1;33m\u001B[0m\u001B[1;33m\u001B[0m\u001B[0m\n\u001B[0;32m    253\u001B[0m             \u001B[1;32mpass\u001B[0m  \u001B[1;31m# All real errors (not unhashable args) are raised below.\u001B[0m\u001B[1;33m\u001B[0m\u001B[1;33m\u001B[0m\u001B[0m\n\u001B[1;32m--> 254\u001B[1;33m         \u001B[1;32mreturn\u001B[0m \u001B[0mfunc\u001B[0m\u001B[1;33m(\u001B[0m\u001B[1;33m*\u001B[0m\u001B[0margs\u001B[0m\u001B[1;33m,\u001B[0m \u001B[1;33m**\u001B[0m\u001B[0mkwds\u001B[0m\u001B[1;33m)\u001B[0m\u001B[1;33m\u001B[0m\u001B[1;33m\u001B[0m\u001B[0m\n\u001B[0m\u001B[0;32m    255\u001B[0m     \u001B[1;32mreturn\u001B[0m \u001B[0minner\u001B[0m\u001B[1;33m\u001B[0m\u001B[1;33m\u001B[0m\u001B[0m\n\u001B[0;32m    256\u001B[0m \u001B[1;33m\u001B[0m\u001B[0m\n",
      "\u001B[1;32m~\\Anaconda3\\envs\\kickstarter\\lib\\typing.py\u001B[0m in \u001B[0;36m__class_getitem__\u001B[1;34m(cls, params)\u001B[0m\n\u001B[0;32m    844\u001B[0m         \u001B[1;32melse\u001B[0m\u001B[1;33m:\u001B[0m\u001B[1;33m\u001B[0m\u001B[1;33m\u001B[0m\u001B[0m\n\u001B[0;32m    845\u001B[0m             \u001B[1;31m# Subscripting a regular Generic subclass.\u001B[0m\u001B[1;33m\u001B[0m\u001B[1;33m\u001B[0m\u001B[1;33m\u001B[0m\u001B[0m\n\u001B[1;32m--> 846\u001B[1;33m             \u001B[0m_check_generic\u001B[0m\u001B[1;33m(\u001B[0m\u001B[0mcls\u001B[0m\u001B[1;33m,\u001B[0m \u001B[0mparams\u001B[0m\u001B[1;33m)\u001B[0m\u001B[1;33m\u001B[0m\u001B[1;33m\u001B[0m\u001B[0m\n\u001B[0m\u001B[0;32m    847\u001B[0m         \u001B[1;32mreturn\u001B[0m \u001B[0m_GenericAlias\u001B[0m\u001B[1;33m(\u001B[0m\u001B[0mcls\u001B[0m\u001B[1;33m,\u001B[0m \u001B[0mparams\u001B[0m\u001B[1;33m)\u001B[0m\u001B[1;33m\u001B[0m\u001B[1;33m\u001B[0m\u001B[0m\n\u001B[0;32m    848\u001B[0m \u001B[1;33m\u001B[0m\u001B[0m\n",
      "\u001B[1;32m~\\Anaconda3\\envs\\kickstarter\\lib\\typing.py\u001B[0m in \u001B[0;36m_check_generic\u001B[1;34m(cls, parameters)\u001B[0m\n\u001B[0;32m    202\u001B[0m     \"\"\"\n\u001B[0;32m    203\u001B[0m     \u001B[1;32mif\u001B[0m \u001B[1;32mnot\u001B[0m \u001B[0mcls\u001B[0m\u001B[1;33m.\u001B[0m\u001B[0m__parameters__\u001B[0m\u001B[1;33m:\u001B[0m\u001B[1;33m\u001B[0m\u001B[1;33m\u001B[0m\u001B[0m\n\u001B[1;32m--> 204\u001B[1;33m         \u001B[1;32mraise\u001B[0m \u001B[0mTypeError\u001B[0m\u001B[1;33m(\u001B[0m\u001B[1;34mf\"{cls} is not a generic class\"\u001B[0m\u001B[1;33m)\u001B[0m\u001B[1;33m\u001B[0m\u001B[1;33m\u001B[0m\u001B[0m\n\u001B[0m\u001B[0;32m    205\u001B[0m     \u001B[0malen\u001B[0m \u001B[1;33m=\u001B[0m \u001B[0mlen\u001B[0m\u001B[1;33m(\u001B[0m\u001B[0mparameters\u001B[0m\u001B[1;33m)\u001B[0m\u001B[1;33m\u001B[0m\u001B[1;33m\u001B[0m\u001B[0m\n\u001B[0;32m    206\u001B[0m     \u001B[0melen\u001B[0m \u001B[1;33m=\u001B[0m \u001B[0mlen\u001B[0m\u001B[1;33m(\u001B[0m\u001B[0mcls\u001B[0m\u001B[1;33m.\u001B[0m\u001B[0m__parameters__\u001B[0m\u001B[1;33m)\u001B[0m\u001B[1;33m\u001B[0m\u001B[1;33m\u001B[0m\u001B[0m\n",
      "\u001B[1;31mTypeError\u001B[0m: <class 'genetic_algorithm.genome.LabeledSequence'> is not a generic class"
     ]
    }
   ],
   "source": [
    "# modules we'll use\n",
    "from collections import Callable\n",
    "\n",
    "import numpy as np\n",
    "import pandas as pd\n",
    "import gensim\n",
    "import tensorflow as tf\n",
    "import sys\n",
    "\n",
    "from sklearn.model_selection import train_test_split\n",
    "from tensorflow import keras\n",
    "from tensorflow.keras import layers\n",
    "\n",
    "#mount Google Drive\n",
    "#from google.colab import drive\n",
    "#drive.mount('/content/drive', force_remount=True)\n",
    "#sys.path.insert(0,'/content/drive/MyDrive/Praca_Inżynierska/kickstarter/code')\n",
    "from genetic_algorithm.crossover import OnePointCrossover\n",
    "from genetic_algorithm.gene import FloatGene, Gene, IntegerGene\n",
    "from genetic_algorithm.genetic_algorithm import GeneticAlgorithm\n",
    "from genetic_algorithm.genome import Genome, LabeledSequence\n",
    "from genetic_algorithm.initialization import RandomInitialization\n",
    "from genetic_algorithm.mutation import RandomMutation\n",
    "from genetic_algorithm.parent_selection import TournamentSelection\n",
    "\n",
    "from preprocessing.label_binarizer import DataFrameLabelBinarizer\n",
    "from plotting.loss_plotter import LossPlotter\n",
    "from plotting.real_multi_pred_plotter import RealMultiPredPlotter"
   ]
  },
  {
   "cell_type": "code",
   "execution_count": null,
   "outputs": [],
   "source": [
    "# read in all our data\n",
    "# Google Drive's path: /content/drive/MyDrive/Praca_Inżynierska/kickstarter/data/spotify.csv\n",
    "spotify_orig  = pd.read_csv(\"../data/spotify.csv\")\n",
    "# set seed for reproducibility\n",
    "np.random.seed(0)"
   ],
   "metadata": {
    "collapsed": false,
    "pycharm": {
     "name": "#%%\n"
    }
   }
  },
  {
   "cell_type": "code",
   "execution_count": null,
   "outputs": [],
   "source": [
    "# look at a few rows of the Spotify dataset file\n",
    "spotify_orig.sample(5)"
   ],
   "metadata": {
    "collapsed": false,
    "pycharm": {
     "name": "#%%\n"
    }
   }
  },
  {
   "cell_type": "code",
   "execution_count": null,
   "outputs": [],
   "source": [
    "# get info about DataFrame columns\n",
    "spotify_orig.info()"
   ],
   "metadata": {
    "collapsed": false,
    "pycharm": {
     "name": "#%%\n"
    }
   }
  },
  {
   "cell_type": "code",
   "execution_count": null,
   "outputs": [],
   "source": [
    "# convert 'key' to one-hot-encoded\n",
    "lb_category = DataFrameLabelBinarizer(data_frame=spotify_orig, column_to_encode='key')\n",
    "spotify_converted = lb_category.encode()"
   ],
   "metadata": {
    "collapsed": false,
    "pycharm": {
     "name": "#%%\n"
    }
   }
  },
  {
   "cell_type": "code",
   "execution_count": null,
   "outputs": [],
   "source": [
    "# convert release_date to milliseconds\n",
    "spotify_converted['release_date'] = pd.to_datetime(spotify_converted['release_date'], format = \"%Y-%m-%d\")\\\n",
    "                                        .astype(np.int64) / 10**9"
   ],
   "metadata": {
    "collapsed": false,
    "pycharm": {
     "name": "#%%\n"
    }
   }
  },
  {
   "cell_type": "code",
   "execution_count": null,
   "outputs": [],
   "source": [
    "# drop redundant columns\n",
    "spotify_reduced = spotify_converted.drop(['artists', 'name', 'year', 'id'], axis=1)"
   ],
   "metadata": {
    "collapsed": false,
    "pycharm": {
     "name": "#%%\n"
    }
   }
  },
  {
   "cell_type": "code",
   "execution_count": null,
   "outputs": [],
   "source": [
    "# get info about DataFrame columns\n",
    "spotify_reduced.info()"
   ],
   "metadata": {
    "collapsed": false,
    "pycharm": {
     "name": "#%%\n"
    }
   }
  },
  {
   "cell_type": "code",
   "execution_count": null,
   "outputs": [],
   "source": [
    "# look at a few rows of the Spotify dataset\n",
    "spotify_converted.sample(5)"
   ],
   "metadata": {
    "collapsed": false,
    "pycharm": {
     "name": "#%%\n"
    }
   }
  },
  {
   "cell_type": "code",
   "execution_count": null,
   "outputs": [],
   "source": [
    "# get index of 'popularity' column\n",
    "popularity_index = spotify_reduced.columns.get_loc(\"popularity\")"
   ],
   "metadata": {
    "collapsed": false,
    "pycharm": {
     "name": "#%%\n"
    }
   }
  },
  {
   "cell_type": "code",
   "execution_count": null,
   "outputs": [],
   "source": [
    "# convert to numpy_array\n",
    "spotify_numpy = spotify_reduced.to_numpy()"
   ],
   "metadata": {
    "collapsed": false,
    "pycharm": {
     "name": "#%%\n"
    }
   }
  },
  {
   "cell_type": "code",
   "execution_count": null,
   "outputs": [],
   "source": [
    "# get X and y from numpy array\n",
    "X = np.delete(arr=spotify_numpy, obj=popularity_index, axis=1)\n",
    "y = spotify_numpy[:, popularity_index]"
   ],
   "metadata": {
    "collapsed": false,
    "pycharm": {
     "name": "#%%\n"
    }
   }
  },
  {
   "cell_type": "code",
   "execution_count": null,
   "outputs": [],
   "source": [
    "# count percent of y values above 0.5\n",
    "np.count_nonzero(y > 0.5) / y.shape[0]"
   ],
   "metadata": {
    "collapsed": false,
    "pycharm": {
     "name": "#%%\n"
    }
   }
  },
  {
   "cell_type": "code",
   "execution_count": null,
   "outputs": [],
   "source": [
    "# get train and test data\n",
    "X_train, X_test, y_train, y_test = train_test_split(X, y, test_size=0.3, random_state=42, shuffle=True)"
   ],
   "metadata": {
    "collapsed": false,
    "pycharm": {
     "name": "#%%\n"
    }
   }
  },
  {
   "cell_type": "code",
   "execution_count": null,
   "outputs": [],
   "source": [
    "# train set size (train + valid)\n",
    "X_train.shape[0]"
   ],
   "metadata": {
    "collapsed": false,
    "pycharm": {
     "name": "#%%\n"
    }
   }
  },
  {
   "cell_type": "code",
   "execution_count": null,
   "outputs": [],
   "source": [
    "# test set size\n",
    "X_test.shape[0]"
   ],
   "metadata": {
    "collapsed": false,
    "pycharm": {
     "name": "#%%\n"
    }
   }
  },
  {
   "cell_type": "code",
   "execution_count": null,
   "outputs": [],
   "source": [
    "# count percent of y_train values above 0.5\n",
    "np.count_nonzero(y_train > 0.5) / y_train.shape[0]"
   ],
   "metadata": {
    "collapsed": false,
    "pycharm": {
     "name": "#%%\n"
    }
   }
  },
  {
   "cell_type": "code",
   "execution_count": null,
   "outputs": [],
   "source": [
    "# count percent of y_test values above 0.5\n",
    "np.count_nonzero(y_test > 0.5) / y_test.shape[0]"
   ],
   "metadata": {
    "collapsed": false,
    "pycharm": {
     "name": "#%%\n"
    }
   }
  },
  {
   "cell_type": "code",
   "execution_count": null,
   "outputs": [],
   "source": [
    "# create model\n",
    "\n",
    "model = keras.models.Sequential()\n",
    "\n",
    "model.add(layers.Input(shape=(X_train.shape[1],), name='inputs'))\n",
    "\n",
    "model.add(layers.Dense(units=30, kernel_initializer=keras.initializers.he_normal(),\n",
    "                       bias_initializer=keras.initializers.he_normal(),\n",
    "                       activation=keras.activations.elu, name='hidden1'))\n",
    "model.add(layers.BatchNormalization(momentum=0.99))\n",
    "model.add(layers.Dropout(rate=0.5))\n",
    "\n",
    "model.add(layers.Dense(units=15, kernel_initializer=keras.initializers.he_normal(),\n",
    "                       bias_initializer=keras.initializers.he_normal(),\n",
    "                       activation=keras.activations.elu, name='hidden2'))\n",
    "model.add(layers.BatchNormalization(momentum=0.99))\n",
    "model.add(layers.Dropout(rate=0.5))\n",
    "\n",
    "model.add(layers.Dense(units=1, activation=keras.activations.linear, name=\"outputs\"))\n",
    "model.add(layers.BatchNormalization(momentum=0.99))\n",
    "\n",
    "#print model details\n",
    "model.summary()"
   ],
   "metadata": {
    "collapsed": false,
    "pycharm": {
     "name": "#%%\n"
    }
   }
  },
  {
   "cell_type": "code",
   "execution_count": null,
   "outputs": [],
   "source": [
    "# train model\n",
    "# optimizer = tf.keras.optimizers.Adam(learning_rate=0.05)\n",
    "# model.compile(optimizer=optimizer, loss=keras.losses.mse, metrics=[keras.metrics.mse, keras.metrics.mae,\n",
    "#                                                                    keras.metrics.RootMeanSquaredError(name='rmse')])\n",
    "# history=model.fit(X_train, y_train, epochs=10, batch_size=170, verbose=1, validation_split=0.2)"
   ],
   "metadata": {
    "collapsed": false,
    "pycharm": {
     "name": "#%%\n"
    }
   }
  },
  {
   "cell_type": "code",
   "execution_count": null,
   "outputs": [],
   "source": [
    "# train set size\n",
    "int(X_train.shape[0]*0.8)"
   ],
   "metadata": {
    "collapsed": false,
    "pycharm": {
     "name": "#%%\n"
    }
   }
  },
  {
   "cell_type": "code",
   "execution_count": null,
   "outputs": [],
   "source": [
    "# validation set size\n",
    "int(X_train.shape[0]*0.2)"
   ],
   "metadata": {
    "collapsed": false,
    "pycharm": {
     "name": "#%%\n"
    }
   }
  },
  {
   "cell_type": "code",
   "execution_count": null,
   "outputs": [],
   "source": [
    "class GeneticAlgorithmImpl(GeneticAlgorithm):\n",
    "\n",
    "    def init_population(self, ):\n",
    "        return RandomInitialization(self.population_size, self.genome).init_population()\n",
    "\n",
    "    def select_parents(self, fitness):\n",
    "        return TournamentSelection().select_parents(self.population, fitness)\n",
    "\n",
    "    def crossover(self, parents):\n",
    "        return OnePointCrossover().crossover(parents)\n",
    "\n",
    "    def mutate(self, crossovers):\n",
    "        return RandomMutation().mutate(crossovers)"
   ],
   "metadata": {
    "collapsed": false,
    "pycharm": {
     "name": "#%%\n"
    }
   }
  },
  {
   "cell_type": "code",
   "execution_count": null,
   "outputs": [],
   "source": [
    "labeled_sequence = LabeledSequence()\n",
    "labeled_sequence.append(FloatGene(label='learning_rate', minimum=0.01, maximum=0.2))\n",
    "labeled_sequence.append(IntegerGene(label='batch_size', minimum=100, maximum=200))"
   ],
   "metadata": {
    "collapsed": false,
    "pycharm": {
     "name": "#%%\n"
    }
   }
  },
  {
   "cell_type": "code",
   "execution_count": null,
   "outputs": [],
   "source": [
    "def rank(params: LabeledSequence[Gene]) -> float:\n",
    "    optimizer = tf.keras.optimizers.Adam(learning_rate=params.get_by_label('learning_rate').value)\n",
    "    model.compile(optimizer=optimizer, loss=keras.losses.mse, metrics=[keras.metrics.mse, keras.metrics.mae,\n",
    "                                                                   keras.metrics.RootMeanSquaredError(name='rmse')])\n",
    "    history=model.fit(X_train, y_train, epochs=10, batch_size=params.get_by_label('batch_size').value, verbose=1,\n",
    "                      validation_split=0.2)\n",
    "    return float(list(history.history.items())[1][1][9])"
   ],
   "metadata": {
    "collapsed": false,
    "pycharm": {
     "name": "#%%\n"
    }
   }
  },
  {
   "cell_type": "code",
   "execution_count": null,
   "outputs": [],
   "source": [
    "genome = Genome(genes=labeled_sequence, rank_funk=rank)\n",
    "algorithm_impl = GeneticAlgorithmImpl(genome=genome, population_size=3, generation_count=3,\n",
    "                                        best_last_generations_size=3)\n",
    "algorithm_impl.calculate()"
   ],
   "metadata": {
    "collapsed": false,
    "pycharm": {
     "name": "#%%\n"
    }
   }
  },
  {
   "cell_type": "code",
   "execution_count": null,
   "outputs": [],
   "source": [
    "# save model\n",
    "# model.save('models/spotify_v2_he_elu_adam_30_15')"
   ],
   "metadata": {
    "collapsed": false,
    "pycharm": {
     "name": "#%%\n"
    }
   }
  },
  {
   "cell_type": "code",
   "execution_count": null,
   "outputs": [],
   "source": [
    "# print history keys\n",
    "# print(history.history.keys())\n",
    "\n",
    "# print mse value from last epoch\n",
    "# print(list(history.history.items())[1][1][9])"
   ],
   "metadata": {
    "collapsed": false,
    "pycharm": {
     "name": "#%%\n"
    }
   }
  },
  {
   "cell_type": "code",
   "execution_count": null,
   "outputs": [],
   "source": [
    "# loss_plotter = LossPlotter(history)\n",
    "# loss_plotter.plot()"
   ],
   "metadata": {
    "collapsed": false,
    "pycharm": {
     "name": "#%%\n"
    }
   }
  },
  {
   "cell_type": "code",
   "execution_count": null,
   "outputs": [],
   "source": [
    "# Evaluate the model on the test data using `evaluate`\n",
    "\n",
    "spotify_v2_he_elu_adam_20_10 = tf.keras.models.load_model('models/spotify_v2_he_elu_adam_20_10')\n",
    "spotify_v2_he_elu_adam_20_10_results = spotify_v2_he_elu_adam_20_10.evaluate(X_test, y_test, batch_size=170)\n",
    "print(\"spotify_v2_he_elu_adam_20_10 results:\")\n",
    "print(spotify_v2_he_elu_adam_20_10_results)\n",
    "\n",
    "spotify_v2_he_elu_adam_30_15 = tf.keras.models.load_model('models/spotify_v2_he_elu_adam_30_15')\n",
    "spotify_v2_he_elu_adam_30_15_results = spotify_v2_he_elu_adam_30_15.evaluate(X_test, y_test, batch_size=170)\n",
    "print(\"spotify_v2_he_elu_adam_30_15 results:\")\n",
    "print(spotify_v2_he_elu_adam_30_15_results)\n",
    "\n",
    "spotify_v2_he_elu_adam_40_20_10 = tf.keras.models.load_model('models/spotify_v2_he_elu_adam_40_20_10')\n",
    "spotify_v2_he_elu_adam_40_20_10_results = spotify_v2_he_elu_adam_40_20_10.evaluate(X_test, y_test, batch_size=170)\n",
    "print(\"spotify_v2_he_elu_adam_40_20_10 results:\")\n",
    "print(spotify_v2_he_elu_adam_40_20_10_results)\n",
    "\n",
    "spotify_v2_he_elu_adam_40_20_10_5 = tf.keras.models.load_model('models/spotify_v2_he_elu_adam_40_20_10_5')\n",
    "spotify_v2_he_elu_adam_40_20_10_5_results = spotify_v2_he_elu_adam_40_20_10_5.evaluate(X_test, y_test, batch_size=170)\n",
    "print(\"spotify_v2_he_elu_adam_40_20_10_5 results:\")\n",
    "print(spotify_v2_he_elu_adam_40_20_10_5_results)"
   ],
   "metadata": {
    "collapsed": false,
    "pycharm": {
     "name": "#%%\n"
    }
   }
  },
  {
   "cell_type": "code",
   "execution_count": null,
   "outputs": [],
   "source": [
    "# Generate predictions (probabilities -- the output of the last layer)\n",
    "# on new data using `predict`\n",
    "print(\"Generate predictions for 10 samples\")\n",
    "\n",
    "spotify_v2_he_elu_adam_20_10_predictions = spotify_v2_he_elu_adam_20_10.predict(X_test[:10])\n",
    "spotify_v2_he_elu_adam_30_15_predictions = spotify_v2_he_elu_adam_30_15.predict(X_test[:10])\n",
    "spotify_v2_he_elu_adam_40_20_10_predictions = spotify_v2_he_elu_adam_40_20_10.predict(X_test[:10])\n",
    "spotify_v2_he_elu_adam_40_20_10_5_predictions = spotify_v2_he_elu_adam_40_20_10_5.predict(X_test[:10])\n",
    "\n",
    "real = np.reshape(y_test[:10], (-1, 1))\n",
    "real_pred = np.append(real, spotify_v2_he_elu_adam_20_10_predictions, axis=1)\n",
    "real_pred = np.append(real_pred, spotify_v2_he_elu_adam_30_15_predictions, axis=1)\n",
    "real_pred = np.append(real_pred, spotify_v2_he_elu_adam_40_20_10_predictions, axis=1)\n",
    "real_pred = np.append(real_pred, spotify_v2_he_elu_adam_40_20_10_5_predictions, axis=1)\n",
    "print(\"real/predictions\")\n",
    "print(real_pred)"
   ],
   "metadata": {
    "collapsed": false,
    "pycharm": {
     "name": "#%%\n"
    }
   }
  },
  {
   "cell_type": "code",
   "execution_count": null,
   "outputs": [],
   "source": [
    "# plot real/pred chart\n",
    "pred_dict = {\"spotify_v2_he_elu_adam_20_10\":spotify_v2_he_elu_adam_20_10_predictions,\n",
    "             \"spotify_v2_he_elu_adam_30_15\":spotify_v2_he_elu_adam_30_15_predictions,\n",
    "             \"spotify_v2_he_elu_adam_40_20_10\":spotify_v2_he_elu_adam_40_20_10_predictions,\n",
    "             \"spotify_v2_he_elu_adam_40_20_10_5\":spotify_v2_he_elu_adam_40_20_10_5_predictions}\n",
    "real_pred_plot = RealMultiPredPlotter(real=real, pred_dict=pred_dict)\n",
    "real_pred_plot.plot()\n"
   ],
   "metadata": {
    "collapsed": false,
    "pycharm": {
     "name": "#%%\n"
    }
   }
  }
 ],
 "metadata": {
  "kernelspec": {
   "name": "pycharm-da890fd0",
   "language": "python",
   "display_name": "PyCharm (kickstarter)"
  },
  "language_info": {
   "codemirror_mode": {
    "name": "ipython",
    "version": 2
   },
   "file_extension": ".py",
   "mimetype": "text/x-python",
   "name": "python",
   "nbconvert_exporter": "python",
   "pygments_lexer": "ipython2",
   "version": "2.7.6"
  }
 },
 "nbformat": 4,
 "nbformat_minor": 0
}